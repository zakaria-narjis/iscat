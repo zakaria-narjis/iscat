{
 "cells": [
  {
   "cell_type": "code",
   "execution_count": null,
   "metadata": {},
   "outputs": [],
   "source": [
    "import matplotlib.pyplot as plt\n",
    "from PIL import Image\n",
    "import nd2\n",
    "import numpy as np\n",
    "import os"
   ]
  },
  {
   "cell_type": "code",
   "execution_count": 14,
   "metadata": {},
   "outputs": [],
   "source": [
    "path = '..\\data\\iScat\\Data\\\\2024_11_11\\\\Metasurface\\\\Chip_02\\\\Metasurface 01\\\\Brightfield'\n",
    "z_stack_path = path+'\\\\02_01_BF.nd2'\n",
    "f1_path = path+'\\\\Captured Cy5.tif'\n",
    "f2_path = path+'\\\\Captured FITC.tif'\n",
    "f3_path = path+'\\\\Captured TRITC.tif'\n",
    "f1_results = path+\"\\\\Results.csv\"\n",
    "my_array = nd2.imread(z_stack_path)\n",
    "f1_img =  Image.open(f1_path)\n",
    "f2_img =  Image.open(f2_path)\n",
    "f3_img =  Image.open(f3_path)"
   ]
  },
  {
   "cell_type": "code",
   "execution_count": null,
   "metadata": {},
   "outputs": [],
   "source": [
    "import pandas as pd\n",
    "import matplotlib.pyplot as plt\n",
    "import matplotlib.patches as patches\n",
    "\n",
    "# Load the CSV file\n",
    "csv_file = f1_results\n",
    "data = pd.read_csv(csv_file)\n",
    "\n",
    "# Load your image\n",
    "image_path = f1_path  # Replace with your image path\n",
    "image = plt.imread(image_path)\n",
    "\n",
    "# Create a plot\n",
    "fig, ax = plt.subplots(figsize=(10, 10))\n",
    "ax.imshow(image)\n",
    "\n",
    "# Iterate over rows in the CSV and draw rectangles\n",
    "for index, row in data.iterrows():\n",
    "    x_min, y_min, x_max, y_max = row['xMin'], row['yMin'], row['xMax'], row['yMax']\n",
    "    width = x_max - x_min\n",
    "    height = y_max - y_min\n",
    "    rect = patches.Rectangle((x_min, y_min), width, height, linewidth=2, edgecolor='r', facecolor='none')\n",
    "    ax.add_patch(rect)\n",
    "\n",
    "# Show the plot\n",
    "plt.show()\n"
   ]
  }
 ],
 "metadata": {
  "kernelspec": {
   "display_name": "venv",
   "language": "python",
   "name": "python3"
  },
  "language_info": {
   "codemirror_mode": {
    "name": "ipython",
    "version": 3
   },
   "file_extension": ".py",
   "mimetype": "text/x-python",
   "name": "python",
   "nbconvert_exporter": "python",
   "pygments_lexer": "ipython3",
   "version": "3.11.5"
  }
 },
 "nbformat": 4,
 "nbformat_minor": 2
}
