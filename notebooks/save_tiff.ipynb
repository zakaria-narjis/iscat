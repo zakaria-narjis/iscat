{
 "cells": [
  {
   "cell_type": "code",
   "execution_count": 1,
   "metadata": {},
   "outputs": [
    {
     "name": "stdout",
     "output_type": "stream",
     "text": [
      "Current Directory: d:\\workspace\\iscat\n"
     ]
    }
   ],
   "source": [
    "import os\n",
    "os.chdir(\"..\")\n",
    "print(\"Current Directory:\", os.getcwd())"
   ]
  },
  {
   "cell_type": "code",
   "execution_count": 2,
   "metadata": {},
   "outputs": [],
   "source": [
    "from src.data_processing.utils import Utils\n",
    "data_path = os.path.join('data', 'iScat', 'Data', '2024_11_11', 'Metasurface', 'Chip_02')\n",
    "image_paths,target_paths = Utils.get_data_paths(data_path)"
   ]
  },
  {
   "cell_type": "code",
   "execution_count": 3,
   "metadata": {},
   "outputs": [
    {
     "data": {
      "text/plain": [
       "['data\\\\iScat\\\\Data\\\\2024_11_11\\\\Metasurface\\\\Chip_02\\\\Metasurface 01\\\\Brightfield\\\\02_01_BF.nd2',\n",
       " 'data\\\\iScat\\\\Data\\\\2024_11_11\\\\Metasurface\\\\Chip_02\\\\Metasurface 02\\\\Brightfield\\\\02_02_BF.nd2',\n",
       " 'data\\\\iScat\\\\Data\\\\2024_11_11\\\\Metasurface\\\\Chip_02\\\\Metasurface 03\\\\Brightfield\\\\02_03_BF.nd2',\n",
       " 'data\\\\iScat\\\\Data\\\\2024_11_11\\\\Metasurface\\\\Chip_02\\\\Metasurface 04\\\\Brightfield\\\\02_04_BF.nd2',\n",
       " 'data\\\\iScat\\\\Data\\\\2024_11_11\\\\Metasurface\\\\Chip_02\\\\Metasurface 05\\\\Brightfield\\\\02_05_BF.nd2']"
      ]
     },
     "execution_count": 3,
     "metadata": {},
     "output_type": "execute_result"
    }
   ],
   "source": [
    "image_paths"
   ]
  },
  {
   "cell_type": "code",
   "execution_count": 4,
   "metadata": {},
   "outputs": [],
   "source": [
    "import os\n",
    "import nd2  # Install via `pip install nd2reader`\n",
    "from tifffile import imwrite  # Install via `pip install tifffile`\n",
    "\n",
    "def process_nd2_file(file_path):\n",
    "    # Open the .nd2 file\n",
    "    with nd2.ND2File(file_path) as f:\n",
    "        array = f.asarray()  # Load the entire stack as a NumPy array\n",
    "        num_frames = array.shape[0]  # Number of frames\n",
    "\n",
    "        # Indices to save\n",
    "        indices = [0, num_frames // 2, num_frames - 1]\n",
    "\n",
    "        # Save each specified frame as a 16-bit TIFF\n",
    "        for idx in indices:\n",
    "            if 0 <= idx < num_frames:\n",
    "                frame = array[idx]\n",
    "                # Generate the output path\n",
    "                output_path = os.path.join(\n",
    "                    os.path.dirname(file_path), \n",
    "                    f\"{os.path.splitext(os.path.basename(file_path))[0]}_frame_{idx:03d}.tiff\"\n",
    "                )\n",
    "                # Save the frame as a 16-bit TIFF\n",
    "                imwrite(output_path, frame, dtype='uint16')\n",
    "                print(f\"Saved: {output_path}\")\n",
    " "
   ]
  },
  {
   "cell_type": "code",
   "execution_count": 7,
   "metadata": {},
   "outputs": [],
   "source": [
    "with nd2.ND2File(image_paths[0]) as f:\n",
    "    array = f.asarray() "
   ]
  },
  {
   "cell_type": "code",
   "execution_count": 10,
   "metadata": {},
   "outputs": [
    {
     "data": {
      "text/plain": [
       "(201, 2160, 2560)"
      ]
     },
     "execution_count": 10,
     "metadata": {},
     "output_type": "execute_result"
    }
   ],
   "source": [
    "array.shape"
   ]
  },
  {
   "cell_type": "code",
   "execution_count": 11,
   "metadata": {},
   "outputs": [
    {
     "name": "stdout",
     "output_type": "stream",
     "text": [
      "Saved: data\\iScat\\Data\\2024_11_11\\Metasurface\\Chip_02\\Metasurface 01\\Brightfield\\02_01_BF_frame_000.tiff\n",
      "Saved: data\\iScat\\Data\\2024_11_11\\Metasurface\\Chip_02\\Metasurface 01\\Brightfield\\02_01_BF_frame_100.tiff\n",
      "Saved: data\\iScat\\Data\\2024_11_11\\Metasurface\\Chip_02\\Metasurface 01\\Brightfield\\02_01_BF_frame_200.tiff\n",
      "Saved: data\\iScat\\Data\\2024_11_11\\Metasurface\\Chip_02\\Metasurface 02\\Brightfield\\02_02_BF_frame_000.tiff\n",
      "Saved: data\\iScat\\Data\\2024_11_11\\Metasurface\\Chip_02\\Metasurface 02\\Brightfield\\02_02_BF_frame_100.tiff\n",
      "Saved: data\\iScat\\Data\\2024_11_11\\Metasurface\\Chip_02\\Metasurface 02\\Brightfield\\02_02_BF_frame_200.tiff\n",
      "Saved: data\\iScat\\Data\\2024_11_11\\Metasurface\\Chip_02\\Metasurface 03\\Brightfield\\02_03_BF_frame_000.tiff\n",
      "Saved: data\\iScat\\Data\\2024_11_11\\Metasurface\\Chip_02\\Metasurface 03\\Brightfield\\02_03_BF_frame_100.tiff\n",
      "Saved: data\\iScat\\Data\\2024_11_11\\Metasurface\\Chip_02\\Metasurface 03\\Brightfield\\02_03_BF_frame_200.tiff\n",
      "Saved: data\\iScat\\Data\\2024_11_11\\Metasurface\\Chip_02\\Metasurface 04\\Brightfield\\02_04_BF_frame_000.tiff\n",
      "Saved: data\\iScat\\Data\\2024_11_11\\Metasurface\\Chip_02\\Metasurface 04\\Brightfield\\02_04_BF_frame_100.tiff\n",
      "Saved: data\\iScat\\Data\\2024_11_11\\Metasurface\\Chip_02\\Metasurface 04\\Brightfield\\02_04_BF_frame_200.tiff\n",
      "Saved: data\\iScat\\Data\\2024_11_11\\Metasurface\\Chip_02\\Metasurface 05\\Brightfield\\02_05_BF_frame_000.tiff\n",
      "Saved: data\\iScat\\Data\\2024_11_11\\Metasurface\\Chip_02\\Metasurface 05\\Brightfield\\02_05_BF_frame_100.tiff\n",
      "Saved: data\\iScat\\Data\\2024_11_11\\Metasurface\\Chip_02\\Metasurface 05\\Brightfield\\02_05_BF_frame_200.tiff\n"
     ]
    }
   ],
   "source": [
    "for file in image_paths:\n",
    "    process_nd2_file(file)"
   ]
  }
 ],
 "metadata": {
  "kernelspec": {
   "display_name": "iscat",
   "language": "python",
   "name": "python3"
  },
  "language_info": {
   "codemirror_mode": {
    "name": "ipython",
    "version": 3
   },
   "file_extension": ".py",
   "mimetype": "text/x-python",
   "name": "python",
   "nbconvert_exporter": "python",
   "pygments_lexer": "ipython3",
   "version": "3.11.10"
  }
 },
 "nbformat": 4,
 "nbformat_minor": 2
}
