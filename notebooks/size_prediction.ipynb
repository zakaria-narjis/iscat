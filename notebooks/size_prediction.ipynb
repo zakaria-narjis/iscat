{
 "cells": [
  {
   "cell_type": "code",
   "execution_count": 1,
   "id": "304c408e-95ce-4060-b991-b680dbc05be3",
   "metadata": {},
   "outputs": [
    {
     "name": "stdout",
     "output_type": "stream",
     "text": [
      "Current Directory: /workspace/iscat\n"
     ]
    }
   ],
   "source": [
    "import os\n",
    "os.chdir(\"..\")\n",
    "print(\"Current Directory:\", os.getcwd())"
   ]
  },
  {
   "cell_type": "code",
   "execution_count": 2,
   "id": "393fd44e-e38b-48b8-8d3a-f5c2ce4b18e6",
   "metadata": {},
   "outputs": [
    {
     "name": "stdout",
     "output_type": "stream",
     "text": [
      "(27282, 16, 201)\n",
      "(array([0, 1, 2]), array([22076,  5146,    60]))\n"
     ]
    }
   ],
   "source": [
    "import h5py\n",
    "import numpy as np\n",
    "particle_data_path ='dataset/brightfield_particles.hdf5'\n",
    "with h5py.File(particle_data_path , 'r') as f:\n",
    "    print(f['data'].shape)\n",
    "    print(np.unique(f['labels'],return_counts=True))"
   ]
  },
  {
   "cell_type": "code",
   "execution_count": 3,
   "id": "2ca1abc1-24c3-49d5-9039-c2086ff68d98",
   "metadata": {},
   "outputs": [],
   "source": [
    "weights = 1/np.array([22076,  5146])"
   ]
  },
  {
   "cell_type": "code",
   "execution_count": 10,
   "id": "2a691a19-8abd-42e4-b8b7-cfdb6e49d290",
   "metadata": {},
   "outputs": [],
   "source": [
    "import torch\n",
    "import torch.nn as nn\n",
    "import torch.optim as optim\n",
    "from torch.utils.data import Dataset, DataLoader\n",
    "import h5py\n",
    "import numpy as np\n",
    "# from torchvision.models import vit_b_16\n",
    "import matplotlib.pyplot as plt\n",
    "from sklearn.metrics import confusion_matrix\n",
    "from tqdm import tqdm\n",
    "from torchvision.models.vision_transformer import VisionTransformer\n",
    "import torch\n",
    "import torch.nn as nn\n",
    "import torch.optim as optim\n",
    "from torch.utils.data import DataLoader\n",
    "from sklearn.metrics import confusion_matrix, f1_score, balanced_accuracy_score\n",
    "import matplotlib.pyplot as plt\n",
    "\n",
    "def compute_normalization_stats(h5_path, classes=None):\n",
    "    \"\"\"\n",
    "    Compute mean and standard deviation for z-score normalization.\n",
    "    \n",
    "    Args:\n",
    "        h5_path (str): Path to HDF5 file\n",
    "        classes (list, optional): List of classes to include in computation\n",
    "        \n",
    "    Returns:\n",
    "        tuple: (mean, std) computed across all data points\n",
    "    \"\"\"\n",
    "    with h5py.File(h5_path, 'r') as h5_file:\n",
    "        data = h5_file['data'][:]\n",
    "        labels = h5_file['labels'][:]\n",
    "        \n",
    "        if classes is not None:\n",
    "            # Filter data for selected classes\n",
    "            mask = np.isin(labels, classes)\n",
    "            data = data[mask]\n",
    "        \n",
    "        # Compute statistics across all dimensions\n",
    "        mean = np.mean(data)\n",
    "        std = np.std(data)\n",
    "        \n",
    "        print(f\"Computed statistics: mean = {mean:.4f}, std = {std:.4f}\")\n",
    "        \n",
    "        return mean, std\n",
    "        \n",
    "class ParticleDataset(Dataset):\n",
    "    \"\"\"Custom Dataset for particle data with flexible class selection and normalization.\"\"\"\n",
    "    def __init__(self, h5_path, classes=[0, 1], transform=None, mean=None, std=None,padding=False):\n",
    "        self.h5_file = h5py.File(h5_path, 'r')\n",
    "        data = self.h5_file['data'][:]\n",
    "        labels = self.h5_file['labels'][:]\n",
    "        self.padding = padding\n",
    "        # Filter data for selected classes\n",
    "        mask = np.isin(labels, classes)\n",
    "        self.data = data[mask]\n",
    "        self.labels = labels[mask]\n",
    "        \n",
    "        # Create class mapping to handle non-consecutive class indices\n",
    "        self.class_to_idx = {c: i for i, c in enumerate(classes)}\n",
    "        self.num_classes = len(classes)\n",
    "        \n",
    "        # Map original labels to new consecutive indices\n",
    "        self.labels = np.array([self.class_to_idx[label] for label in self.labels])\n",
    "        \n",
    "        self.transform = transform\n",
    "        self.mean = mean\n",
    "        self.std = std\n",
    "        \n",
    "    def __len__(self):\n",
    "        return len(self.labels)\n",
    "    \n",
    "    def __getitem__(self, idx):\n",
    "        # Get particle data\n",
    "        particle = self.data[idx]  # Shape: (16, 201)\n",
    "        \n",
    "        # Apply normalization if mean and std are provided\n",
    "        if self.mean is not None and self.std is not None:\n",
    "            particle = (particle - self.mean) / self.std\n",
    "        \n",
    "        # First resize to (16, 192) using cubic interpolation\n",
    "        # Convert to torch tensor for better interpolation\n",
    "        particle_tensor = torch.FloatTensor(particle).unsqueeze(0)  # Add channel dim\n",
    "        resized = torch.nn.functional.interpolate(\n",
    "            particle_tensor.unsqueeze(0),  # Add batch dim\n",
    "            size=(16, 192),\n",
    "            mode='bicubic',\n",
    "            align_corners=True\n",
    "        ).squeeze(0).squeeze(0)  # Remove batch and channel dims\n",
    "        if self.padding:\n",
    "            # Create square tensor with symmetric padding\n",
    "            target_size = 224\n",
    "            current_height = resized.shape[0]\n",
    "            current_width = resized.shape[1]\n",
    "        \n",
    "            # Calculate padding for height and width\n",
    "            padding_height = target_size - current_height\n",
    "            padding_width = target_size - current_width\n",
    "        \n",
    "            # Calculate symmetric padding for height\n",
    "            padding_top = padding_height // 2\n",
    "            padding_bottom = padding_height - padding_top\n",
    "        \n",
    "            # Calculate symmetric padding for width\n",
    "            padding_left = padding_width // 2\n",
    "            padding_right = padding_width - padding_left\n",
    "        \n",
    "            # Use torch's pad function for symmetric padding\n",
    "            padded = torch.nn.functional.pad(\n",
    "                resized,\n",
    "                (padding_left, padding_right,  # Padding in width dimension\n",
    "                 padding_top, padding_bottom),  # Padding in height dimension\n",
    "                mode='constant',\n",
    "                value=0\n",
    "            )\n",
    "            # Add single channel dimension\n",
    "            final_tensor = padded.unsqueeze(0)\n",
    "        else:\n",
    "            final_tensor = resized.unsqueeze(0)\n",
    "        final_tensor = final_tensor.repeat(3, 1, 1)\n",
    "        if self.transform:\n",
    "            final_tensor = self.transform(final_tensor)\n",
    "        \n",
    "        # Create one-hot encoded label\n",
    "        label_idx = self.labels[idx]\n",
    "        label_onehot = torch.zeros(self.num_classes)\n",
    "        label_onehot[label_idx] = 1\n",
    "        \n",
    "        return final_tensor, label_onehot\n",
    "\n",
    "    def close(self):\n",
    "        self.h5_file.close()\n",
    "        \n",
    "class ModifiedViT(nn.Module):\n",
    "    def __init__(self, num_classes=2,patch_size=16,num_layers=12,num_heads=12,hidden_dim =768,mlp_dim=3072):\n",
    "        super().__init__()\n",
    "        # Load pretrained ViT\n",
    "        self.vit = VisionTransformer(image_size=192,\n",
    "        patch_size=16,\n",
    "        num_classes = num_classes,\n",
    "        num_layers=12,\n",
    "        num_heads=12,\n",
    "        hidden_dim=768,\n",
    "        mlp_dim=3072,\n",
    "    )\n",
    "        \n",
    "        self.vit.conv_proj = nn.Conv2d(\n",
    "                    in_channels=1, out_channels=hidden_dim, kernel_size=patch_size, stride=patch_size\n",
    "                ) \n",
    "    def forward(self, x):\n",
    "        return self.vit(x)\n",
    "        \n",
    "def train_model(model, train_loader, val_loader, device, num_epochs=50, weights=None, patience=20):\n",
    "    criterion = nn.CrossEntropyLoss(weight=torch.Tensor(weights).to(device)) if weights is not None else nn.CrossEntropyLoss()\n",
    "    optimizer = optim.AdamW(model.parameters(), lr=1e-4, weight_decay=0.05)\n",
    "    scheduler = optim.lr_scheduler.CosineAnnealingLR(optimizer, T_max=num_epochs)\n",
    "    \n",
    "    best_val_acc = 0.0\n",
    "    best_val_loss = float('inf')\n",
    "    train_losses = []\n",
    "    val_losses = []\n",
    "    val_accuracies = []\n",
    "    val_f1_scores = []\n",
    "    val_bal_accs = []\n",
    "    \n",
    "    early_stopping_counter = 0\n",
    "    \n",
    "    for epoch in range(num_epochs):\n",
    "        # Training Phase\n",
    "        model.train()\n",
    "        total_train_loss = 0\n",
    "        \n",
    "        for inputs, labels in tqdm(train_loader, desc=f'Epoch {epoch+1}/{num_epochs} Training'):\n",
    "            inputs, labels = inputs.to(device), labels.to(device)\n",
    "            optimizer.zero_grad()\n",
    "            outputs = model(inputs)\n",
    "            loss = criterion(outputs, labels)\n",
    "            loss.backward()\n",
    "            optimizer.step()\n",
    "            total_train_loss += loss.item()\n",
    "        \n",
    "        avg_train_loss = total_train_loss / len(train_loader)\n",
    "        train_losses.append(avg_train_loss)\n",
    "        \n",
    "        # Validation Phase\n",
    "        model.eval()\n",
    "        val_preds = []\n",
    "        val_true = []\n",
    "        total_val_loss = 0\n",
    "        \n",
    "        with torch.no_grad():\n",
    "            for inputs, labels in val_loader:\n",
    "                inputs, labels = inputs.to(device), labels.to(device)\n",
    "                outputs = model(inputs)\n",
    "                val_loss = criterion(outputs, labels)\n",
    "                total_val_loss += val_loss.item()\n",
    "                \n",
    "                predicted = torch.argmax(outputs, 1)\n",
    "                labels = torch.argmax(labels, 1)\n",
    "                val_preds.extend(predicted.cpu().numpy())\n",
    "                val_true.extend(labels.cpu().numpy())\n",
    "        \n",
    "        avg_val_loss = total_val_loss / len(val_loader)\n",
    "        val_losses.append(avg_val_loss)\n",
    "        \n",
    "        # Calculate metrics\n",
    "        val_acc = 100 * (sum([p == t for p, t in zip(val_preds, val_true)]) / len(val_true))\n",
    "        f1 = f1_score(val_true, val_preds, average='weighted')\n",
    "        bal_acc = balanced_accuracy_score(val_true, val_preds)\n",
    "        \n",
    "        # Confusion matrix metrics for class 0\n",
    "        tp = sum((np.array(val_preds) == 0) & (np.array(val_true) == 0))\n",
    "        tn = sum((np.array(val_preds) == 1) & (np.array(val_true) == 1))\n",
    "        fp = sum((np.array(val_preds) == 0) & (np.array(val_true) == 1))\n",
    "        fn = sum((np.array(val_preds) == 1) & (np.array(val_true) == 0))\n",
    "        \n",
    "        val_accuracies.append(val_acc)\n",
    "        val_f1_scores.append(f1)\n",
    "        val_bal_accs.append(bal_acc)\n",
    "        \n",
    "        # Print epoch details\n",
    "        print(f'Epoch {epoch+1}:')\n",
    "        print(f'  Train Loss = {avg_train_loss:.4f}, Val Loss = {avg_val_loss:.4f}')\n",
    "        print(f'  Val Accuracy = {val_acc:.2f}%, F1-Score = {f1:.4f}, Balanced Acc = {bal_acc:.4f}')\n",
    "        print(f'  Class 0 Metrics:')\n",
    "        print(f'    True Positives: {tp}')\n",
    "        print(f'    True Negatives: {tn}')\n",
    "        print(f'    False Positives: {fp}')\n",
    "        print(f'    False Negatives: {fn}')\n",
    "        print(f'    Precision: {tp/(tp+fp) if (tp+fp) > 0 else 0:.4f}')\n",
    "        print(f'    Recall: {tp/(tp+fn) if (tp+fn) > 0 else 0:.4f}')\n",
    "        \n",
    "        # Early Stopping and Model Saving\n",
    "        if val_acc > best_val_acc:\n",
    "            best_val_acc = val_acc\n",
    "            early_stopping_counter = 0\n",
    "            torch.save(model.state_dict(), 'best_particle_vit.pth')\n",
    "        \n",
    "        # Check for improvement in validation loss\n",
    "        if avg_val_loss < best_val_loss:\n",
    "            best_val_loss = avg_val_loss\n",
    "            early_stopping_counter = 0\n",
    "        else:\n",
    "            early_stopping_counter += 1\n",
    "        \n",
    "        # Early stopping\n",
    "        if early_stopping_counter >= patience:\n",
    "            print(f'Early stopping triggered after {epoch+1} epochs')\n",
    "            break\n",
    "        \n",
    "        scheduler.step()\n",
    "    \n",
    "    return (train_losses, val_losses, val_accuracies, \n",
    "            val_f1_scores, val_bal_accs, val_preds, val_true)\n",
    "\n",
    "def plot_training_results(train_losses, val_accuracies, val_f1_scores, val_bal_accs, val_preds, val_true):\n",
    "    fig, (ax1, ax2, ax3) = plt.subplots(1, 3, figsize=(18, 5))\n",
    "    \n",
    "    ax1.plot(train_losses, label='Loss')\n",
    "    ax1.set_title('Training Loss')\n",
    "    ax1.set_xlabel('Epoch')\n",
    "    ax1.set_ylabel('Loss')\n",
    "    ax1.legend()\n",
    "    \n",
    "    ax2.plot(val_accuracies, label='Accuracy')\n",
    "    ax2.set_title('Validation Accuracy')\n",
    "    ax2.set_xlabel('Epoch')\n",
    "    ax2.set_ylabel('Accuracy (%)')\n",
    "    ax2.legend()\n",
    "    \n",
    "    ax3.plot(val_f1_scores, label='F1-Score')\n",
    "    ax3.plot(val_bal_accs, label='Balanced Accuracy')\n",
    "    ax3.set_title('Validation Metrics')\n",
    "    ax3.set_xlabel('Epoch')\n",
    "    ax3.legend()\n",
    "    \n",
    "    plt.tight_layout()\n",
    "    plt.savefig('training_plots.png')\n",
    "    \n",
    "    cm = confusion_matrix(val_true, val_preds)\n",
    "    plt.figure(figsize=(8, 6))\n",
    "    sns.heatmap(cm, annot=True, fmt='d', cmap='Blues')\n",
    "    plt.title('Confusion Matrix')\n",
    "    plt.ylabel('True Label')\n",
    "    plt.xlabel('Predicted Label')\n",
    "    plt.savefig('confusion_matrix.png')\n"
   ]
  },
  {
   "cell_type": "code",
   "execution_count": 6,
   "id": "72570529-4229-4e7d-a3bb-8e9e577e34eb",
   "metadata": {},
   "outputs": [],
   "source": [
    "import torch\n",
    "import torch.nn as nn\n",
    "import math\n",
    "from typing import Optional, Callable, List, OrderedDict\n",
    "from functools import partial\n",
    "from torchvision.models.vision_transformer import Encoder, ConvStemConfig\n",
    "\n",
    "class ModifiedVisionTransformer(nn.Module):\n",
    "    \"\"\"Modified Vision Transformer to support rectangular images and single-channel inputs.\"\"\"\n",
    "\n",
    "    def __init__(\n",
    "        self,\n",
    "        image_height: int,\n",
    "        image_width: int,\n",
    "        patch_height: int,\n",
    "        patch_width: int,\n",
    "        num_layers: int,\n",
    "        num_heads: int,\n",
    "        hidden_dim: int,\n",
    "        mlp_dim: int,\n",
    "        in_channels: int = 1,  # Support single-channel by default\n",
    "        dropout: float = 0.0,\n",
    "        attention_dropout: float = 0.0,\n",
    "        num_classes: int = 1000,\n",
    "        representation_size: Optional[int] = None,\n",
    "        norm_layer: Callable[..., torch.nn.Module] = partial(nn.LayerNorm, eps=1e-6),\n",
    "        conv_stem_configs: Optional[List[ConvStemConfig]] = None,\n",
    "    ):\n",
    "        super().__init__()\n",
    "        \n",
    "        # Remove square image assertion\n",
    "        self.image_height = image_height\n",
    "        self.image_width = image_width\n",
    "        self.patch_height = patch_height\n",
    "        self.patch_width = patch_width\n",
    "        self.hidden_dim = hidden_dim\n",
    "        self.mlp_dim = mlp_dim\n",
    "        self.attention_dropout = attention_dropout\n",
    "        self.dropout = dropout\n",
    "        self.num_classes = num_classes\n",
    "        self.representation_size = representation_size\n",
    "        self.norm_layer = norm_layer\n",
    "\n",
    "        # Modify conv_proj to handle single channel and rectangular images\n",
    "        if conv_stem_configs is not None:\n",
    "            seq_proj = nn.Sequential()\n",
    "            prev_channels = in_channels\n",
    "            for i, conv_stem_layer_config in enumerate(conv_stem_configs):\n",
    "                seq_proj.add_module(\n",
    "                    f\"conv_bn_relu_{i}\",\n",
    "                    Conv2dNormActivation(\n",
    "                        in_channels=prev_channels,\n",
    "                        out_channels=conv_stem_layer_config.out_channels,\n",
    "                        kernel_size=conv_stem_layer_config.kernel_size,\n",
    "                        stride=conv_stem_layer_config.stride,\n",
    "                        norm_layer=conv_stem_layer_config.norm_layer,\n",
    "                        activation_layer=conv_stem_layer_config.activation_layer,\n",
    "                    ),\n",
    "                )\n",
    "                prev_channels = conv_stem_layer_config.out_channels\n",
    "            seq_proj.add_module(\n",
    "                \"conv_last\", nn.Conv2d(in_channels=prev_channels, out_channels=hidden_dim, kernel_size=1)\n",
    "            )\n",
    "            self.conv_proj: nn.Module = seq_proj\n",
    "        else:\n",
    "            self.conv_proj = nn.Conv2d(\n",
    "                in_channels=in_channels, \n",
    "                out_channels=hidden_dim, \n",
    "                kernel_size=(patch_height, patch_width), \n",
    "                stride=(patch_height, patch_width)\n",
    "            )\n",
    "\n",
    "        # Calculate sequence length for rectangular images\n",
    "        seq_length = (image_height // patch_height) * (image_width // patch_width)\n",
    "\n",
    "        # Add a class token\n",
    "        self.class_token = nn.Parameter(torch.zeros(1, 1, hidden_dim))\n",
    "        seq_length += 1\n",
    "\n",
    "        self.encoder = Encoder(\n",
    "            seq_length,\n",
    "            num_layers,\n",
    "            num_heads,\n",
    "            hidden_dim,\n",
    "            mlp_dim,\n",
    "            dropout,\n",
    "            attention_dropout,\n",
    "            norm_layer,\n",
    "        )\n",
    "        self.seq_length = seq_length\n",
    "\n",
    "        # Rest of the initialization remains the same as the original implementation\n",
    "        heads_layers: OrderedDict[str, nn.Module] = OrderedDict()\n",
    "        if representation_size is None:\n",
    "            heads_layers[\"head\"] = nn.Linear(hidden_dim, num_classes)\n",
    "        else:\n",
    "            heads_layers[\"pre_logits\"] = nn.Linear(hidden_dim, representation_size)\n",
    "            heads_layers[\"act\"] = nn.Tanh()\n",
    "            heads_layers[\"head\"] = nn.Linear(representation_size, num_classes)\n",
    "\n",
    "        self.heads = nn.Sequential(heads_layers)\n",
    "\n",
    "        # Weight initialization (similar to original)\n",
    "        if isinstance(self.conv_proj, nn.Conv2d):\n",
    "            fan_in = self.conv_proj.in_channels * self.conv_proj.kernel_size[0] * self.conv_proj.kernel_size[1]\n",
    "            nn.init.trunc_normal_(self.conv_proj.weight, std=math.sqrt(1 / fan_in))\n",
    "            if self.conv_proj.bias is not None:\n",
    "                nn.init.zeros_(self.conv_proj.bias)\n",
    "\n",
    "        # Other initializations remain the same...\n",
    "\n",
    "    def _process_input(self, x: torch.Tensor) -> torch.Tensor:\n",
    "        n, c, h, w = x.shape\n",
    "        \n",
    "        # Remove assertions for square images\n",
    "        n_h = h // self.patch_height\n",
    "        n_w = w // self.patch_width\n",
    "\n",
    "        # (n, c, h, w) -> (n, hidden_dim, n_h, n_w)\n",
    "        x = self.conv_proj(x)\n",
    "        # (n, hidden_dim, n_h, n_w) -> (n, hidden_dim, (n_h * n_w))\n",
    "        x = x.reshape(n, self.hidden_dim, n_h * n_w)\n",
    "\n",
    "        # Permute to self-attention expected format\n",
    "        x = x.permute(0, 2, 1)\n",
    "\n",
    "        return x\n",
    "    def forward(self, x: torch.Tensor):\n",
    "        # Reshape and permute the input tensor\n",
    "        x = self._process_input(x)\n",
    "        n = x.shape[0]\n",
    "\n",
    "        # Expand the class token to the full batch\n",
    "        batch_class_token = self.class_token.expand(n, -1, -1)\n",
    "        x = torch.cat([batch_class_token, x], dim=1)\n",
    "\n",
    "        x = self.encoder(x)\n",
    "\n",
    "        # Classifier \"token\" as used by standard language architectures\n",
    "        x = x[:, 0]\n",
    "\n",
    "        x = self.heads(x)\n",
    "\n",
    "        return x"
   ]
  },
  {
   "cell_type": "code",
   "execution_count": 7,
   "id": "3c414325-5837-4117-b88c-84a77ea45615",
   "metadata": {},
   "outputs": [
    {
     "name": "stderr",
     "output_type": "stream",
     "text": [
      "Using cache found in /root/.cache/torch/hub/pytorch_vision_v0.10.0\n",
      "/root/miniconda3/envs/iscat/lib/python3.11/site-packages/torchvision/models/_utils.py:208: UserWarning: The parameter 'pretrained' is deprecated since 0.13 and may be removed in the future, please use 'weights' instead.\n",
      "  warnings.warn(\n",
      "/root/miniconda3/envs/iscat/lib/python3.11/site-packages/torchvision/models/_utils.py:223: UserWarning: Arguments other than a weight enum or `None` for 'weights' are deprecated since 0.13 and may be removed in the future. The current behavior is equivalent to passing `weights=None`.\n",
      "  warnings.warn(msg)\n"
     ]
    }
   ],
   "source": [
    "resnet = torch.hub.load('pytorch/vision:v0.10.0', 'resnet18', pretrained=False)\n",
    "\n",
    "# Modify the final fully connected layer (classifier head)\n",
    "resnet .fc = nn.Linear(resnet.fc.in_features, 2)"
   ]
  },
  {
   "cell_type": "code",
   "execution_count": 9,
   "id": "169f6d6e-ebf8-435a-b140-d782fa016478",
   "metadata": {},
   "outputs": [
    {
     "data": {
      "text/plain": [
       "torch.Size([1, 3, 224, 224])"
      ]
     },
     "execution_count": 9,
     "metadata": {},
     "output_type": "execute_result"
    }
   ],
   "source": [
    "dataset[0][0].shape"
   ]
  },
  {
   "cell_type": "code",
   "execution_count": 11,
   "id": "ca7c0ccc-ecbb-4835-9d3b-9e5266dba96e",
   "metadata": {},
   "outputs": [
    {
     "name": "stdout",
     "output_type": "stream",
     "text": [
      "Using device: cuda:6\n",
      "Computed statistics: mean = 7077.7081, std = 1176.7393\n",
      "0.1875832300133168\n",
      "0.1948576675849403\n"
     ]
    },
    {
     "name": "stderr",
     "output_type": "stream",
     "text": [
      "Epoch 1/50 Training: 100%|██████████████████████████████████████████████████████████████████████████████████████████████████████████████████| 681/681 [00:34<00:00, 19.90it/s]\n"
     ]
    },
    {
     "name": "stdout",
     "output_type": "stream",
     "text": [
      "Epoch 1:\n",
      "  Train Loss = 0.1683, Val Loss = 0.1493\n",
      "  Val Accuracy = 94.55%, F1-Score = 0.9438, Balanced Acc = 0.8854\n",
      "  Class 0 Metrics:\n",
      "    True Positives: 4313\n",
      "    True Negatives: 835\n",
      "    False Positives: 226\n",
      "    False Negatives: 71\n",
      "    Precision: 0.9502\n",
      "    Recall: 0.9838\n"
     ]
    },
    {
     "name": "stderr",
     "output_type": "stream",
     "text": [
      "Epoch 2/50 Training: 100%|██████████████████████████████████████████████████████████████████████████████████████████████████████████████████| 681/681 [00:34<00:00, 19.89it/s]\n"
     ]
    },
    {
     "name": "stdout",
     "output_type": "stream",
     "text": [
      "Epoch 2:\n",
      "  Train Loss = 0.1030, Val Loss = 0.0755\n",
      "  Val Accuracy = 97.39%, F1-Score = 0.9736, Balanced Acc = 0.9456\n",
      "  Class 0 Metrics:\n",
      "    True Positives: 4349\n",
      "    True Negatives: 954\n",
      "    False Positives: 107\n",
      "    False Negatives: 35\n",
      "    Precision: 0.9760\n",
      "    Recall: 0.9920\n"
     ]
    },
    {
     "name": "stderr",
     "output_type": "stream",
     "text": [
      "Epoch 3/50 Training: 100%|██████████████████████████████████████████████████████████████████████████████████████████████████████████████████| 681/681 [00:33<00:00, 20.25it/s]\n"
     ]
    },
    {
     "name": "stdout",
     "output_type": "stream",
     "text": [
      "Epoch 3:\n",
      "  Train Loss = 0.0840, Val Loss = 0.1164\n",
      "  Val Accuracy = 97.12%, F1-Score = 0.9708, Balanced Acc = 0.9421\n",
      "  Class 0 Metrics:\n",
      "    True Positives: 4339\n",
      "    True Negatives: 949\n",
      "    False Positives: 112\n",
      "    False Negatives: 45\n",
      "    Precision: 0.9748\n",
      "    Recall: 0.9897\n"
     ]
    },
    {
     "name": "stderr",
     "output_type": "stream",
     "text": [
      "Epoch 4/50 Training: 100%|██████████████████████████████████████████████████████████████████████████████████████████████████████████████████| 681/681 [00:33<00:00, 20.22it/s]\n"
     ]
    },
    {
     "name": "stdout",
     "output_type": "stream",
     "text": [
      "Epoch 4:\n",
      "  Train Loss = 0.0757, Val Loss = 0.1276\n",
      "  Val Accuracy = 96.38%, F1-Score = 0.9627, Balanced Acc = 0.9154\n",
      "  Class 0 Metrics:\n",
      "    True Positives: 4361\n",
      "    True Negatives: 887\n",
      "    False Positives: 174\n",
      "    False Negatives: 23\n",
      "    Precision: 0.9616\n",
      "    Recall: 0.9948\n"
     ]
    },
    {
     "name": "stderr",
     "output_type": "stream",
     "text": [
      "Epoch 5/50 Training: 100%|██████████████████████████████████████████████████████████████████████████████████████████████████████████████████| 681/681 [00:33<00:00, 20.13it/s]\n"
     ]
    },
    {
     "name": "stdout",
     "output_type": "stream",
     "text": [
      "Epoch 5:\n",
      "  Train Loss = 0.0695, Val Loss = 0.0704\n",
      "  Val Accuracy = 97.76%, F1-Score = 0.9775, Balanced Acc = 0.9593\n",
      "  Class 0 Metrics:\n",
      "    True Positives: 4337\n",
      "    True Negatives: 986\n",
      "    False Positives: 75\n",
      "    False Negatives: 47\n",
      "    Precision: 0.9830\n",
      "    Recall: 0.9893\n"
     ]
    },
    {
     "name": "stderr",
     "output_type": "stream",
     "text": [
      "Epoch 6/50 Training: 100%|██████████████████████████████████████████████████████████████████████████████████████████████████████████████████| 681/681 [00:33<00:00, 20.31it/s]\n"
     ]
    },
    {
     "name": "stdout",
     "output_type": "stream",
     "text": [
      "Epoch 6:\n",
      "  Train Loss = 0.0629, Val Loss = 0.1454\n",
      "  Val Accuracy = 94.42%, F1-Score = 0.9461, Balanced Acc = 0.9500\n",
      "  Class 0 Metrics:\n",
      "    True Positives: 4123\n",
      "    True Negatives: 1018\n",
      "    False Positives: 43\n",
      "    False Negatives: 261\n",
      "    Precision: 0.9897\n",
      "    Recall: 0.9405\n"
     ]
    },
    {
     "name": "stderr",
     "output_type": "stream",
     "text": [
      "Epoch 7/50 Training: 100%|██████████████████████████████████████████████████████████████████████████████████████████████████████████████████| 681/681 [00:34<00:00, 20.03it/s]\n"
     ]
    },
    {
     "name": "stdout",
     "output_type": "stream",
     "text": [
      "Epoch 7:\n",
      "  Train Loss = 0.0616, Val Loss = 0.0721\n",
      "  Val Accuracy = 98.00%, F1-Score = 0.9799, Balanced Acc = 0.9654\n",
      "  Class 0 Metrics:\n",
      "    True Positives: 4337\n",
      "    True Negatives: 999\n",
      "    False Positives: 62\n",
      "    False Negatives: 47\n",
      "    Precision: 0.9859\n",
      "    Recall: 0.9893\n"
     ]
    },
    {
     "name": "stderr",
     "output_type": "stream",
     "text": [
      "Epoch 8/50 Training: 100%|██████████████████████████████████████████████████████████████████████████████████████████████████████████████████| 681/681 [00:38<00:00, 17.89it/s]\n"
     ]
    },
    {
     "name": "stdout",
     "output_type": "stream",
     "text": [
      "Epoch 8:\n",
      "  Train Loss = 0.0569, Val Loss = 0.0845\n",
      "  Val Accuracy = 97.43%, F1-Score = 0.9744, Balanced Acc = 0.9644\n",
      "  Class 0 Metrics:\n",
      "    True Positives: 4299\n",
      "    True Negatives: 1006\n",
      "    False Positives: 55\n",
      "    False Negatives: 85\n",
      "    Precision: 0.9874\n",
      "    Recall: 0.9806\n"
     ]
    },
    {
     "name": "stderr",
     "output_type": "stream",
     "text": [
      "Epoch 9/50 Training: 100%|██████████████████████████████████████████████████████████████████████████████████████████████████████████████████| 681/681 [00:40<00:00, 16.89it/s]\n"
     ]
    },
    {
     "name": "stdout",
     "output_type": "stream",
     "text": [
      "Epoch 9:\n",
      "  Train Loss = 0.0534, Val Loss = 0.0914\n",
      "  Val Accuracy = 96.97%, F1-Score = 0.9690, Balanced Acc = 0.9308\n",
      "  Class 0 Metrics:\n",
      "    True Positives: 4360\n",
      "    True Negatives: 920\n",
      "    False Positives: 141\n",
      "    False Negatives: 24\n",
      "    Precision: 0.9687\n",
      "    Recall: 0.9945\n"
     ]
    },
    {
     "name": "stderr",
     "output_type": "stream",
     "text": [
      "Epoch 10/50 Training: 100%|█████████████████████████████████████████████████████████████████████████████████████████████████████████████████| 681/681 [00:44<00:00, 15.32it/s]\n"
     ]
    },
    {
     "name": "stdout",
     "output_type": "stream",
     "text": [
      "Epoch 10:\n",
      "  Train Loss = 0.0500, Val Loss = 0.0566\n",
      "  Val Accuracy = 98.11%, F1-Score = 0.9809, Balanced Acc = 0.9625\n",
      "  Class 0 Metrics:\n",
      "    True Positives: 4353\n",
      "    True Negatives: 989\n",
      "    False Positives: 72\n",
      "    False Negatives: 31\n",
      "    Precision: 0.9837\n",
      "    Recall: 0.9929\n"
     ]
    },
    {
     "name": "stderr",
     "output_type": "stream",
     "text": [
      "Epoch 11/50 Training: 100%|█████████████████████████████████████████████████████████████████████████████████████████████████████████████████| 681/681 [00:45<00:00, 14.84it/s]\n"
     ]
    },
    {
     "name": "stdout",
     "output_type": "stream",
     "text": [
      "Epoch 11:\n",
      "  Train Loss = 0.0462, Val Loss = 0.0649\n",
      "  Val Accuracy = 97.69%, F1-Score = 0.9766, Balanced Acc = 0.9513\n",
      "  Class 0 Metrics:\n",
      "    True Positives: 4354\n",
      "    True Negatives: 965\n",
      "    False Positives: 96\n",
      "    False Negatives: 30\n",
      "    Precision: 0.9784\n",
      "    Recall: 0.9932\n"
     ]
    },
    {
     "name": "stderr",
     "output_type": "stream",
     "text": [
      "Epoch 12/50 Training: 100%|█████████████████████████████████████████████████████████████████████████████████████████████████████████████████| 681/681 [00:45<00:00, 15.08it/s]\n"
     ]
    },
    {
     "name": "stdout",
     "output_type": "stream",
     "text": [
      "Epoch 12:\n",
      "  Train Loss = 0.0435, Val Loss = 0.0955\n",
      "  Val Accuracy = 97.32%, F1-Score = 0.9727, Balanced Acc = 0.9387\n",
      "  Class 0 Metrics:\n",
      "    True Positives: 4363\n",
      "    True Negatives: 936\n",
      "    False Positives: 125\n",
      "    False Negatives: 21\n",
      "    Precision: 0.9721\n",
      "    Recall: 0.9952\n"
     ]
    },
    {
     "name": "stderr",
     "output_type": "stream",
     "text": [
      "Epoch 13/50 Training: 100%|█████████████████████████████████████████████████████████████████████████████████████████████████████████████████| 681/681 [00:40<00:00, 16.63it/s]\n"
     ]
    },
    {
     "name": "stdout",
     "output_type": "stream",
     "text": [
      "Epoch 13:\n",
      "  Train Loss = 0.0413, Val Loss = 0.1277\n",
      "  Val Accuracy = 96.47%, F1-Score = 0.9645, Balanced Acc = 0.9377\n",
      "  Class 0 Metrics:\n",
      "    True Positives: 4305\n",
      "    True Negatives: 948\n",
      "    False Positives: 113\n",
      "    False Negatives: 79\n",
      "    Precision: 0.9744\n",
      "    Recall: 0.9820\n"
     ]
    },
    {
     "name": "stderr",
     "output_type": "stream",
     "text": [
      "Epoch 14/50 Training: 100%|█████████████████████████████████████████████████████████████████████████████████████████████████████████████████| 681/681 [00:43<00:00, 15.61it/s]\n"
     ]
    },
    {
     "name": "stdout",
     "output_type": "stream",
     "text": [
      "Epoch 14:\n",
      "  Train Loss = 0.0393, Val Loss = 0.0657\n",
      "  Val Accuracy = 98.00%, F1-Score = 0.9801, Balanced Acc = 0.9729\n",
      "  Class 0 Metrics:\n",
      "    True Positives: 4316\n",
      "    True Negatives: 1020\n",
      "    False Positives: 41\n",
      "    False Negatives: 68\n",
      "    Precision: 0.9906\n",
      "    Recall: 0.9845\n"
     ]
    },
    {
     "name": "stderr",
     "output_type": "stream",
     "text": [
      "Epoch 15/50 Training: 100%|█████████████████████████████████████████████████████████████████████████████████████████████████████████████████| 681/681 [00:40<00:00, 16.66it/s]\n"
     ]
    },
    {
     "name": "stdout",
     "output_type": "stream",
     "text": [
      "Epoch 15:\n",
      "  Train Loss = 0.0384, Val Loss = 0.1320\n",
      "  Val Accuracy = 94.21%, F1-Score = 0.9444, Balanced Acc = 0.9537\n",
      "  Class 0 Metrics:\n",
      "    True Positives: 4098\n",
      "    True Negatives: 1032\n",
      "    False Positives: 29\n",
      "    False Negatives: 286\n",
      "    Precision: 0.9930\n",
      "    Recall: 0.9348\n"
     ]
    },
    {
     "name": "stderr",
     "output_type": "stream",
     "text": [
      "Epoch 16/50 Training: 100%|█████████████████████████████████████████████████████████████████████████████████████████████████████████████████| 681/681 [00:43<00:00, 15.51it/s]\n"
     ]
    },
    {
     "name": "stdout",
     "output_type": "stream",
     "text": [
      "Epoch 16:\n",
      "  Train Loss = 0.0349, Val Loss = 0.0696\n",
      "  Val Accuracy = 97.59%, F1-Score = 0.9755, Balanced Acc = 0.9447\n",
      "  Class 0 Metrics:\n",
      "    True Positives: 4366\n",
      "    True Negatives: 948\n",
      "    False Positives: 113\n",
      "    False Negatives: 18\n",
      "    Precision: 0.9748\n",
      "    Recall: 0.9959\n"
     ]
    },
    {
     "name": "stderr",
     "output_type": "stream",
     "text": [
      "Epoch 17/50 Training: 100%|█████████████████████████████████████████████████████████████████████████████████████████████████████████████████| 681/681 [00:40<00:00, 16.92it/s]\n"
     ]
    },
    {
     "name": "stdout",
     "output_type": "stream",
     "text": [
      "Epoch 17:\n",
      "  Train Loss = 0.0344, Val Loss = 0.0799\n",
      "  Val Accuracy = 97.61%, F1-Score = 0.9758, Balanced Acc = 0.9505\n",
      "  Class 0 Metrics:\n",
      "    True Positives: 4351\n",
      "    True Negatives: 964\n",
      "    False Positives: 97\n",
      "    False Negatives: 33\n",
      "    Precision: 0.9782\n",
      "    Recall: 0.9925\n"
     ]
    },
    {
     "name": "stderr",
     "output_type": "stream",
     "text": [
      "Epoch 18/50 Training: 100%|█████████████████████████████████████████████████████████████████████████████████████████████████████████████████| 681/681 [00:41<00:00, 16.47it/s]\n"
     ]
    },
    {
     "name": "stdout",
     "output_type": "stream",
     "text": [
      "Epoch 18:\n",
      "  Train Loss = 0.0307, Val Loss = 0.2432\n",
      "  Val Accuracy = 94.12%, F1-Score = 0.9379, Balanced Acc = 0.8592\n",
      "  Class 0 Metrics:\n",
      "    True Positives: 4356\n",
      "    True Negatives: 769\n",
      "    False Positives: 292\n",
      "    False Negatives: 28\n",
      "    Precision: 0.9372\n",
      "    Recall: 0.9936\n"
     ]
    },
    {
     "name": "stderr",
     "output_type": "stream",
     "text": [
      "Epoch 19/50 Training: 100%|█████████████████████████████████████████████████████████████████████████████████████████████████████████████████| 681/681 [00:44<00:00, 15.17it/s]\n"
     ]
    },
    {
     "name": "stdout",
     "output_type": "stream",
     "text": [
      "Epoch 19:\n",
      "  Train Loss = 0.0295, Val Loss = 0.4019\n",
      "  Val Accuracy = 93.72%, F1-Score = 0.9330, Balanced Acc = 0.8460\n",
      "  Class 0 Metrics:\n",
      "    True Positives: 4364\n",
      "    True Negatives: 739\n",
      "    False Positives: 322\n",
      "    False Negatives: 20\n",
      "    Precision: 0.9313\n",
      "    Recall: 0.9954\n"
     ]
    },
    {
     "name": "stderr",
     "output_type": "stream",
     "text": [
      "Epoch 20/50 Training: 100%|█████████████████████████████████████████████████████████████████████████████████████████████████████████████████| 681/681 [00:42<00:00, 15.86it/s]\n"
     ]
    },
    {
     "name": "stdout",
     "output_type": "stream",
     "text": [
      "Epoch 20:\n",
      "  Train Loss = 0.0310, Val Loss = 0.0552\n",
      "  Val Accuracy = 98.44%, F1-Score = 0.9843, Balanced Acc = 0.9724\n",
      "  Class 0 Metrics:\n",
      "    True Positives: 4349\n",
      "    True Negatives: 1011\n",
      "    False Positives: 50\n",
      "    False Negatives: 35\n",
      "    Precision: 0.9886\n",
      "    Recall: 0.9920\n"
     ]
    },
    {
     "name": "stderr",
     "output_type": "stream",
     "text": [
      "Epoch 21/50 Training: 100%|█████████████████████████████████████████████████████████████████████████████████████████████████████████████████| 681/681 [00:41<00:00, 16.24it/s]\n"
     ]
    },
    {
     "name": "stdout",
     "output_type": "stream",
     "text": [
      "Epoch 21:\n",
      "  Train Loss = 0.0262, Val Loss = 0.0532\n",
      "  Val Accuracy = 98.48%, F1-Score = 0.9847, Balanced Acc = 0.9723\n",
      "  Class 0 Metrics:\n",
      "    True Positives: 4352\n",
      "    True Negatives: 1010\n",
      "    False Positives: 51\n",
      "    False Negatives: 32\n",
      "    Precision: 0.9884\n",
      "    Recall: 0.9927\n"
     ]
    },
    {
     "name": "stderr",
     "output_type": "stream",
     "text": [
      "Epoch 22/50 Training: 100%|█████████████████████████████████████████████████████████████████████████████████████████████████████████████████| 681/681 [00:45<00:00, 14.87it/s]\n"
     ]
    },
    {
     "name": "stdout",
     "output_type": "stream",
     "text": [
      "Epoch 22:\n",
      "  Train Loss = 0.0245, Val Loss = 0.0688\n",
      "  Val Accuracy = 97.54%, F1-Score = 0.9749, Balanced Acc = 0.9429\n",
      "  Class 0 Metrics:\n",
      "    True Positives: 4367\n",
      "    True Negatives: 944\n",
      "    False Positives: 117\n",
      "    False Negatives: 17\n",
      "    Precision: 0.9739\n",
      "    Recall: 0.9961\n"
     ]
    },
    {
     "name": "stderr",
     "output_type": "stream",
     "text": [
      "Epoch 23/50 Training: 100%|█████████████████████████████████████████████████████████████████████████████████████████████████████████████████| 681/681 [00:41<00:00, 16.57it/s]\n"
     ]
    },
    {
     "name": "stdout",
     "output_type": "stream",
     "text": [
      "Epoch 23:\n",
      "  Train Loss = 0.0244, Val Loss = 0.0606\n",
      "  Val Accuracy = 98.33%, F1-Score = 0.9831, Balanced Acc = 0.9653\n",
      "  Class 0 Metrics:\n",
      "    True Positives: 4361\n",
      "    True Negatives: 993\n",
      "    False Positives: 68\n",
      "    False Negatives: 23\n",
      "    Precision: 0.9846\n",
      "    Recall: 0.9948\n"
     ]
    },
    {
     "name": "stderr",
     "output_type": "stream",
     "text": [
      "Epoch 24/50 Training: 100%|█████████████████████████████████████████████████████████████████████████████████████████████████████████████████| 681/681 [00:46<00:00, 14.50it/s]\n"
     ]
    },
    {
     "name": "stdout",
     "output_type": "stream",
     "text": [
      "Epoch 24:\n",
      "  Train Loss = 0.0248, Val Loss = 0.0434\n",
      "  Val Accuracy = 98.68%, F1-Score = 0.9867, Balanced Acc = 0.9746\n",
      "  Class 0 Metrics:\n",
      "    True Positives: 4360\n",
      "    True Negatives: 1013\n",
      "    False Positives: 48\n",
      "    False Negatives: 24\n",
      "    Precision: 0.9891\n",
      "    Recall: 0.9945\n"
     ]
    },
    {
     "name": "stderr",
     "output_type": "stream",
     "text": [
      "Epoch 25/50 Training: 100%|█████████████████████████████████████████████████████████████████████████████████████████████████████████████████| 681/681 [00:42<00:00, 16.15it/s]\n"
     ]
    },
    {
     "name": "stdout",
     "output_type": "stream",
     "text": [
      "Epoch 25:\n",
      "  Train Loss = 0.0213, Val Loss = 0.1008\n",
      "  Val Accuracy = 95.79%, F1-Score = 0.9592, Balanced Acc = 0.9671\n",
      "  Class 0 Metrics:\n",
      "    True Positives: 4174\n",
      "    True Negatives: 1042\n",
      "    False Positives: 19\n",
      "    False Negatives: 210\n",
      "    Precision: 0.9955\n",
      "    Recall: 0.9521\n"
     ]
    },
    {
     "name": "stderr",
     "output_type": "stream",
     "text": [
      "Epoch 26/50 Training: 100%|█████████████████████████████████████████████████████████████████████████████████████████████████████████████████| 681/681 [00:45<00:00, 15.04it/s]\n"
     ]
    },
    {
     "name": "stdout",
     "output_type": "stream",
     "text": [
      "Epoch 26:\n",
      "  Train Loss = 0.0203, Val Loss = 0.0437\n",
      "  Val Accuracy = 98.81%, F1-Score = 0.9881, Balanced Acc = 0.9812\n",
      "  Class 0 Metrics:\n",
      "    True Positives: 4351\n",
      "    True Negatives: 1029\n",
      "    False Positives: 32\n",
      "    False Negatives: 33\n",
      "    Precision: 0.9927\n",
      "    Recall: 0.9925\n"
     ]
    },
    {
     "name": "stderr",
     "output_type": "stream",
     "text": [
      "Epoch 27/50 Training: 100%|█████████████████████████████████████████████████████████████████████████████████████████████████████████████████| 681/681 [00:38<00:00, 17.54it/s]\n"
     ]
    },
    {
     "name": "stdout",
     "output_type": "stream",
     "text": [
      "Epoch 27:\n",
      "  Train Loss = 0.0172, Val Loss = 0.0510\n",
      "  Val Accuracy = 98.71%, F1-Score = 0.9872, Balanced Acc = 0.9827\n",
      "  Class 0 Metrics:\n",
      "    True Positives: 4340\n",
      "    True Negatives: 1035\n",
      "    False Positives: 26\n",
      "    False Negatives: 44\n",
      "    Precision: 0.9940\n",
      "    Recall: 0.9900\n"
     ]
    },
    {
     "name": "stderr",
     "output_type": "stream",
     "text": [
      "Epoch 28/50 Training: 100%|█████████████████████████████████████████████████████████████████████████████████████████████████████████████████| 681/681 [00:39<00:00, 17.44it/s]\n"
     ]
    },
    {
     "name": "stdout",
     "output_type": "stream",
     "text": [
      "Epoch 28:\n",
      "  Train Loss = 0.0168, Val Loss = 0.1568\n",
      "  Val Accuracy = 96.53%, F1-Score = 0.9643, Balanced Acc = 0.9181\n",
      "  Class 0 Metrics:\n",
      "    True Positives: 4364\n",
      "    True Negatives: 892\n",
      "    False Positives: 169\n",
      "    False Negatives: 20\n",
      "    Precision: 0.9627\n",
      "    Recall: 0.9954\n"
     ]
    },
    {
     "name": "stderr",
     "output_type": "stream",
     "text": [
      "Epoch 29/50 Training: 100%|█████████████████████████████████████████████████████████████████████████████████████████████████████████████████| 681/681 [00:44<00:00, 15.44it/s]\n"
     ]
    },
    {
     "name": "stdout",
     "output_type": "stream",
     "text": [
      "Epoch 29:\n",
      "  Train Loss = 0.0150, Val Loss = 0.1928\n",
      "  Val Accuracy = 92.69%, F1-Score = 0.9306, Balanced Acc = 0.9478\n",
      "  Class 0 Metrics:\n",
      "    True Positives: 4005\n",
      "    True Negatives: 1042\n",
      "    False Positives: 19\n",
      "    False Negatives: 379\n",
      "    Precision: 0.9953\n",
      "    Recall: 0.9135\n"
     ]
    },
    {
     "name": "stderr",
     "output_type": "stream",
     "text": [
      "Epoch 30/50 Training: 100%|█████████████████████████████████████████████████████████████████████████████████████████████████████████████████| 681/681 [00:44<00:00, 15.38it/s]\n"
     ]
    },
    {
     "name": "stdout",
     "output_type": "stream",
     "text": [
      "Epoch 30:\n",
      "  Train Loss = 0.0134, Val Loss = 0.0609\n",
      "  Val Accuracy = 98.38%, F1-Score = 0.9837, Balanced Acc = 0.9660\n",
      "  Class 0 Metrics:\n",
      "    True Positives: 4363\n",
      "    True Negatives: 994\n",
      "    False Positives: 67\n",
      "    False Negatives: 21\n",
      "    Precision: 0.9849\n",
      "    Recall: 0.9952\n"
     ]
    },
    {
     "name": "stderr",
     "output_type": "stream",
     "text": [
      "Epoch 31/50 Training: 100%|█████████████████████████████████████████████████████████████████████████████████████████████████████████████████| 681/681 [00:43<00:00, 15.48it/s]\n"
     ]
    },
    {
     "name": "stdout",
     "output_type": "stream",
     "text": [
      "Epoch 31:\n",
      "  Train Loss = 0.0127, Val Loss = 0.1043\n",
      "  Val Accuracy = 96.14%, F1-Score = 0.9625, Balanced Acc = 0.9682\n",
      "  Class 0 Metrics:\n",
      "    True Positives: 4196\n",
      "    True Negatives: 1039\n",
      "    False Positives: 22\n",
      "    False Negatives: 188\n",
      "    Precision: 0.9948\n",
      "    Recall: 0.9571\n"
     ]
    },
    {
     "name": "stderr",
     "output_type": "stream",
     "text": [
      "Epoch 32/50 Training: 100%|█████████████████████████████████████████████████████████████████████████████████████████████████████████████████| 681/681 [00:42<00:00, 15.84it/s]\n"
     ]
    },
    {
     "name": "stdout",
     "output_type": "stream",
     "text": [
      "Epoch 32:\n",
      "  Train Loss = 0.0121, Val Loss = 0.0529\n",
      "  Val Accuracy = 98.64%, F1-Score = 0.9863, Balanced Acc = 0.9737\n",
      "  Class 0 Metrics:\n",
      "    True Positives: 4360\n",
      "    True Negatives: 1011\n",
      "    False Positives: 50\n",
      "    False Negatives: 24\n",
      "    Precision: 0.9887\n",
      "    Recall: 0.9945\n"
     ]
    },
    {
     "name": "stderr",
     "output_type": "stream",
     "text": [
      "Epoch 33/50 Training: 100%|█████████████████████████████████████████████████████████████████████████████████████████████████████████████████| 681/681 [00:43<00:00, 15.50it/s]\n"
     ]
    },
    {
     "name": "stdout",
     "output_type": "stream",
     "text": [
      "Epoch 33:\n",
      "  Train Loss = 0.0101, Val Loss = 0.0521\n",
      "  Val Accuracy = 98.60%, F1-Score = 0.9861, Balanced Acc = 0.9795\n",
      "  Class 0 Metrics:\n",
      "    True Positives: 4341\n",
      "    True Negatives: 1028\n",
      "    False Positives: 33\n",
      "    False Negatives: 43\n",
      "    Precision: 0.9925\n",
      "    Recall: 0.9902\n"
     ]
    },
    {
     "name": "stderr",
     "output_type": "stream",
     "text": [
      "Epoch 34/50 Training: 100%|█████████████████████████████████████████████████████████████████████████████████████████████████████████████████| 681/681 [00:39<00:00, 17.42it/s]\n"
     ]
    },
    {
     "name": "stdout",
     "output_type": "stream",
     "text": [
      "Epoch 34:\n",
      "  Train Loss = 0.0112, Val Loss = 0.0488\n",
      "  Val Accuracy = 98.70%, F1-Score = 0.9870, Balanced Acc = 0.9790\n",
      "  Class 0 Metrics:\n",
      "    True Positives: 4349\n",
      "    True Negatives: 1025\n",
      "    False Positives: 36\n",
      "    False Negatives: 35\n",
      "    Precision: 0.9918\n",
      "    Recall: 0.9920\n"
     ]
    },
    {
     "name": "stderr",
     "output_type": "stream",
     "text": [
      "Epoch 35/50 Training: 100%|█████████████████████████████████████████████████████████████████████████████████████████████████████████████████| 681/681 [00:45<00:00, 14.82it/s]\n"
     ]
    },
    {
     "name": "stdout",
     "output_type": "stream",
     "text": [
      "Epoch 35:\n",
      "  Train Loss = 0.0094, Val Loss = 0.0556\n",
      "  Val Accuracy = 98.75%, F1-Score = 0.9875, Balanced Acc = 0.9790\n",
      "  Class 0 Metrics:\n",
      "    True Positives: 4353\n",
      "    True Negatives: 1024\n",
      "    False Positives: 37\n",
      "    False Negatives: 31\n",
      "    Precision: 0.9916\n",
      "    Recall: 0.9929\n"
     ]
    },
    {
     "name": "stderr",
     "output_type": "stream",
     "text": [
      "Epoch 36/50 Training: 100%|█████████████████████████████████████████████████████████████████████████████████████████████████████████████████| 681/681 [00:39<00:00, 17.14it/s]\n"
     ]
    },
    {
     "name": "stdout",
     "output_type": "stream",
     "text": [
      "Epoch 36:\n",
      "  Train Loss = 0.0087, Val Loss = 0.0478\n",
      "  Val Accuracy = 98.81%, F1-Score = 0.9881, Balanced Acc = 0.9826\n",
      "  Class 0 Metrics:\n",
      "    True Positives: 4347\n",
      "    True Negatives: 1033\n",
      "    False Positives: 28\n",
      "    False Negatives: 37\n",
      "    Precision: 0.9936\n",
      "    Recall: 0.9916\n"
     ]
    },
    {
     "name": "stderr",
     "output_type": "stream",
     "text": [
      "Epoch 37/50 Training: 100%|█████████████████████████████████████████████████████████████████████████████████████████████████████████████████| 681/681 [00:44<00:00, 15.20it/s]\n"
     ]
    },
    {
     "name": "stdout",
     "output_type": "stream",
     "text": [
      "Epoch 37:\n",
      "  Train Loss = 0.0074, Val Loss = 0.0534\n",
      "  Val Accuracy = 98.86%, F1-Score = 0.9886, Balanced Acc = 0.9797\n",
      "  Class 0 Metrics:\n",
      "    True Positives: 4359\n",
      "    True Negatives: 1024\n",
      "    False Positives: 37\n",
      "    False Negatives: 25\n",
      "    Precision: 0.9916\n",
      "    Recall: 0.9943\n"
     ]
    },
    {
     "name": "stderr",
     "output_type": "stream",
     "text": [
      "Epoch 38/50 Training: 100%|█████████████████████████████████████████████████████████████████████████████████████████████████████████████████| 681/681 [00:39<00:00, 17.44it/s]\n"
     ]
    },
    {
     "name": "stdout",
     "output_type": "stream",
     "text": [
      "Epoch 38:\n",
      "  Train Loss = 0.0067, Val Loss = 0.0707\n",
      "  Val Accuracy = 98.11%, F1-Score = 0.9813, Balanced Acc = 0.9804\n",
      "  Class 0 Metrics:\n",
      "    True Positives: 4303\n",
      "    True Negatives: 1039\n",
      "    False Positives: 22\n",
      "    False Negatives: 81\n",
      "    Precision: 0.9949\n",
      "    Recall: 0.9815\n"
     ]
    },
    {
     "name": "stderr",
     "output_type": "stream",
     "text": [
      "Epoch 39/50 Training: 100%|█████████████████████████████████████████████████████████████████████████████████████████████████████████████████| 681/681 [00:47<00:00, 14.45it/s]\n"
     ]
    },
    {
     "name": "stdout",
     "output_type": "stream",
     "text": [
      "Epoch 39:\n",
      "  Train Loss = 0.0053, Val Loss = 0.0516\n",
      "  Val Accuracy = 98.79%, F1-Score = 0.9878, Balanced Acc = 0.9778\n",
      "  Class 0 Metrics:\n",
      "    True Positives: 4359\n",
      "    True Negatives: 1020\n",
      "    False Positives: 41\n",
      "    False Negatives: 25\n",
      "    Precision: 0.9907\n",
      "    Recall: 0.9943\n"
     ]
    },
    {
     "name": "stderr",
     "output_type": "stream",
     "text": [
      "Epoch 40/50 Training: 100%|█████████████████████████████████████████████████████████████████████████████████████████████████████████████████| 681/681 [00:38<00:00, 17.69it/s]\n"
     ]
    },
    {
     "name": "stdout",
     "output_type": "stream",
     "text": [
      "Epoch 40:\n",
      "  Train Loss = 0.0060, Val Loss = 0.0575\n",
      "  Val Accuracy = 98.40%, F1-Score = 0.9841, Balanced Acc = 0.9786\n",
      "  Class 0 Metrics:\n",
      "    True Positives: 4329\n",
      "    True Negatives: 1029\n",
      "    False Positives: 32\n",
      "    False Negatives: 55\n",
      "    Precision: 0.9927\n",
      "    Recall: 0.9875\n"
     ]
    },
    {
     "name": "stderr",
     "output_type": "stream",
     "text": [
      "Epoch 41/50 Training: 100%|█████████████████████████████████████████████████████████████████████████████████████████████████████████████████| 681/681 [00:52<00:00, 13.00it/s]\n"
     ]
    },
    {
     "name": "stdout",
     "output_type": "stream",
     "text": [
      "Epoch 41:\n",
      "  Train Loss = 0.0043, Val Loss = 0.0517\n",
      "  Val Accuracy = 98.93%, F1-Score = 0.9894, Balanced Acc = 0.9845\n",
      "  Class 0 Metrics:\n",
      "    True Positives: 4351\n",
      "    True Negatives: 1036\n",
      "    False Positives: 25\n",
      "    False Negatives: 33\n",
      "    Precision: 0.9943\n",
      "    Recall: 0.9925\n"
     ]
    },
    {
     "name": "stderr",
     "output_type": "stream",
     "text": [
      "Epoch 42/50 Training: 100%|█████████████████████████████████████████████████████████████████████████████████████████████████████████████████| 681/681 [00:48<00:00, 14.11it/s]\n"
     ]
    },
    {
     "name": "stdout",
     "output_type": "stream",
     "text": [
      "Epoch 42:\n",
      "  Train Loss = 0.0038, Val Loss = 0.0549\n",
      "  Val Accuracy = 98.90%, F1-Score = 0.9890, Balanced Acc = 0.9817\n",
      "  Class 0 Metrics:\n",
      "    True Positives: 4356\n",
      "    True Negatives: 1029\n",
      "    False Positives: 32\n",
      "    False Negatives: 28\n",
      "    Precision: 0.9927\n",
      "    Recall: 0.9936\n"
     ]
    },
    {
     "name": "stderr",
     "output_type": "stream",
     "text": [
      "Epoch 43/50 Training: 100%|█████████████████████████████████████████████████████████████████████████████████████████████████████████████████| 681/681 [00:40<00:00, 16.69it/s]\n"
     ]
    },
    {
     "name": "stdout",
     "output_type": "stream",
     "text": [
      "Epoch 43:\n",
      "  Train Loss = 0.0032, Val Loss = 0.0550\n",
      "  Val Accuracy = 98.86%, F1-Score = 0.9886, Balanced Acc = 0.9804\n",
      "  Class 0 Metrics:\n",
      "    True Positives: 4357\n",
      "    True Negatives: 1026\n",
      "    False Positives: 35\n",
      "    False Negatives: 27\n",
      "    Precision: 0.9920\n",
      "    Recall: 0.9938\n"
     ]
    },
    {
     "name": "stderr",
     "output_type": "stream",
     "text": [
      "Epoch 44/50 Training: 100%|█████████████████████████████████████████████████████████████████████████████████████████████████████████████████| 681/681 [00:43<00:00, 15.52it/s]\n"
     ]
    },
    {
     "name": "stdout",
     "output_type": "stream",
     "text": [
      "Epoch 44:\n",
      "  Train Loss = 0.0032, Val Loss = 0.0561\n",
      "  Val Accuracy = 98.90%, F1-Score = 0.9890, Balanced Acc = 0.9835\n",
      "  Class 0 Metrics:\n",
      "    True Positives: 4351\n",
      "    True Negatives: 1034\n",
      "    False Positives: 27\n",
      "    False Negatives: 33\n",
      "    Precision: 0.9938\n",
      "    Recall: 0.9925\n"
     ]
    },
    {
     "name": "stderr",
     "output_type": "stream",
     "text": [
      "Epoch 45/50 Training: 100%|█████████████████████████████████████████████████████████████████████████████████████████████████████████████████| 681/681 [00:43<00:00, 15.48it/s]\n"
     ]
    },
    {
     "name": "stdout",
     "output_type": "stream",
     "text": [
      "Epoch 45:\n",
      "  Train Loss = 0.0026, Val Loss = 0.0542\n",
      "  Val Accuracy = 98.90%, F1-Score = 0.9890, Balanced Acc = 0.9828\n",
      "  Class 0 Metrics:\n",
      "    True Positives: 4353\n",
      "    True Negatives: 1032\n",
      "    False Positives: 29\n",
      "    False Negatives: 31\n",
      "    Precision: 0.9934\n",
      "    Recall: 0.9929\n"
     ]
    },
    {
     "name": "stderr",
     "output_type": "stream",
     "text": [
      "Epoch 46/50 Training: 100%|█████████████████████████████████████████████████████████████████████████████████████████████████████████████████| 681/681 [00:44<00:00, 15.25it/s]\n"
     ]
    },
    {
     "name": "stdout",
     "output_type": "stream",
     "text": [
      "Epoch 46:\n",
      "  Train Loss = 0.0032, Val Loss = 0.0543\n",
      "  Val Accuracy = 98.88%, F1-Score = 0.9888, Balanced Acc = 0.9823\n",
      "  Class 0 Metrics:\n",
      "    True Positives: 4353\n",
      "    True Negatives: 1031\n",
      "    False Positives: 30\n",
      "    False Negatives: 31\n",
      "    Precision: 0.9932\n",
      "    Recall: 0.9929\n"
     ]
    },
    {
     "name": "stderr",
     "output_type": "stream",
     "text": [
      "Epoch 47/50 Training: 100%|█████████████████████████████████████████████████████████████████████████████████████████████████████████████████| 681/681 [00:52<00:00, 12.95it/s]\n"
     ]
    },
    {
     "name": "stdout",
     "output_type": "stream",
     "text": [
      "Epoch 47:\n",
      "  Train Loss = 0.0030, Val Loss = 0.0569\n",
      "  Val Accuracy = 98.86%, F1-Score = 0.9886, Balanced Acc = 0.9822\n",
      "  Class 0 Metrics:\n",
      "    True Positives: 4352\n",
      "    True Negatives: 1031\n",
      "    False Positives: 30\n",
      "    False Negatives: 32\n",
      "    Precision: 0.9932\n",
      "    Recall: 0.9927\n"
     ]
    },
    {
     "name": "stderr",
     "output_type": "stream",
     "text": [
      "Epoch 48/50 Training: 100%|█████████████████████████████████████████████████████████████████████████████████████████████████████████████████| 681/681 [00:45<00:00, 15.09it/s]\n"
     ]
    },
    {
     "name": "stdout",
     "output_type": "stream",
     "text": [
      "Epoch 48:\n",
      "  Train Loss = 0.0023, Val Loss = 0.0581\n",
      "  Val Accuracy = 98.84%, F1-Score = 0.9884, Balanced Acc = 0.9821\n",
      "  Class 0 Metrics:\n",
      "    True Positives: 4351\n",
      "    True Negatives: 1031\n",
      "    False Positives: 30\n",
      "    False Negatives: 33\n",
      "    Precision: 0.9932\n",
      "    Recall: 0.9925\n"
     ]
    },
    {
     "name": "stderr",
     "output_type": "stream",
     "text": [
      "Epoch 49/50 Training: 100%|█████████████████████████████████████████████████████████████████████████████████████████████████████████████████| 681/681 [00:47<00:00, 14.26it/s]\n"
     ]
    },
    {
     "name": "stdout",
     "output_type": "stream",
     "text": [
      "Epoch 49:\n",
      "  Train Loss = 0.0021, Val Loss = 0.0557\n",
      "  Val Accuracy = 98.88%, F1-Score = 0.9888, Balanced Acc = 0.9820\n",
      "  Class 0 Metrics:\n",
      "    True Positives: 4354\n",
      "    True Negatives: 1030\n",
      "    False Positives: 31\n",
      "    False Negatives: 30\n",
      "    Precision: 0.9929\n",
      "    Recall: 0.9932\n"
     ]
    },
    {
     "name": "stderr",
     "output_type": "stream",
     "text": [
      "Epoch 50/50 Training: 100%|█████████████████████████████████████████████████████████████████████████████████████████████████████████████████| 681/681 [00:51<00:00, 13.28it/s]\n"
     ]
    },
    {
     "name": "stdout",
     "output_type": "stream",
     "text": [
      "Epoch 50:\n",
      "  Train Loss = 0.0023, Val Loss = 0.0563\n",
      "  Val Accuracy = 98.88%, F1-Score = 0.9888, Balanced Acc = 0.9823\n",
      "  Class 0 Metrics:\n",
      "    True Positives: 4353\n",
      "    True Negatives: 1031\n",
      "    False Positives: 30\n",
      "    False Negatives: 31\n",
      "    Precision: 0.9932\n",
      "    Recall: 0.9929\n"
     ]
    },
    {
     "ename": "ValueError",
     "evalue": "too many values to unpack (expected 4)",
     "output_type": "error",
     "traceback": [
      "\u001b[0;31m---------------------------------------------------------------------------\u001b[0m",
      "\u001b[0;31mValueError\u001b[0m                                Traceback (most recent call last)",
      "Cell \u001b[0;32mIn[11], line 61\u001b[0m\n\u001b[1;32m     58\u001b[0m model \u001b[38;5;241m=\u001b[39m model\u001b[38;5;241m.\u001b[39mto(device)\n\u001b[1;32m     60\u001b[0m \u001b[38;5;66;03m# Train model\u001b[39;00m\n\u001b[0;32m---> 61\u001b[0m train_losses, val_accuracies, val_preds, val_true \u001b[38;5;241m=\u001b[39m train_model(\n\u001b[1;32m     62\u001b[0m     model, train_loader, val_loader, device\n\u001b[1;32m     63\u001b[0m )\n",
      "\u001b[0;31mValueError\u001b[0m: too many values to unpack (expected 4)"
     ]
    }
   ],
   "source": [
    "# Set random seed for reproducibility\n",
    "torch.manual_seed(42)\n",
    "DEVICE = \"cuda:6\"\n",
    "# Device configuration\n",
    "device = torch.device(DEVICE if torch.cuda.is_available() else 'cpu')\n",
    "print(f\"Using device: {device}\")\n",
    "classes = [0, 1]\n",
    "mean, std = compute_normalization_stats('dataset/brightfield_particles.hdf5', classes=classes)\n",
    "# Load and split dataset\n",
    "dataset = ParticleDataset(h5_path='dataset/brightfield_particles.hdf5',\n",
    "                          classes=classes,\n",
    "                          mean=mean,\n",
    "                          std=std,\n",
    "                          padding=True\n",
    "                         )\n",
    "train_size = int(0.8 * len(dataset))\n",
    "val_size = len(dataset) - train_size\n",
    "train_dataset, val_dataset = torch.utils.data.random_split(\n",
    "    dataset, [train_size, val_size]\n",
    ")\n",
    "_,c=np.unique(dataset.labels[train_dataset.indices],return_counts=True)\n",
    "print(c[1]/(c[0]+c[1]))\n",
    "_,c=np.unique(dataset.labels[val_dataset.indices],return_counts=True)\n",
    "print(c[1]/(c[0]+c[1]))\n",
    "# Create data loaders\n",
    "train_loader = DataLoader(\n",
    "    train_dataset, \n",
    "    batch_size=32,\n",
    "    shuffle=True,\n",
    "    # num_workers=6,\n",
    "    pin_memory=True\n",
    ")\n",
    "\n",
    "val_loader = DataLoader(\n",
    "    val_dataset,\n",
    "    batch_size=32,\n",
    "    shuffle=False,\n",
    "    # num_workers=6,\n",
    "    pin_memory=True\n",
    ")\n",
    "\n",
    "# Initialize model\n",
    "# model = ModifiedViT(num_classes=len(classes))\n",
    "# model = model.to(device)\n",
    "# model = ModifiedVisionTransformer(\n",
    "#     image_height=16,  # can be different from width\n",
    "#     image_width=192,   # rectangular image\n",
    "#     patch_height=16,   # patch can also be rectangular\n",
    "#     patch_width=12,\n",
    "#     num_layers=12,\n",
    "#     num_heads=12,\n",
    "#     hidden_dim=768,\n",
    "#     mlp_dim=3072,\n",
    "#     num_classes=2,\n",
    "#     in_channels=1  # for single-channel images\n",
    "# )\n",
    "model = resnet \n",
    "model = model.to(device)\n",
    "\n",
    "# Train model\n",
    "train_losses, val_accuracies, val_preds, val_true = train_model(\n",
    "    model, train_loader, val_loader, device\n",
    ")\n"
   ]
  },
  {
   "cell_type": "code",
   "execution_count": null,
   "id": "8e8fd466-a9f6-461f-8520-680b2df9ef94",
   "metadata": {},
   "outputs": [],
   "source": [
    "train_losses, val_accuracies, val_preds, val_true"
   ]
  },
  {
   "cell_type": "code",
   "execution_count": 51,
   "id": "875950e8-432c-4829-9437-092f028a6c4f",
   "metadata": {},
   "outputs": [
    {
     "data": {
      "text/plain": [
       "torch.Size([32, 13, 16, 16])"
      ]
     },
     "execution_count": 51,
     "metadata": {},
     "output_type": "execute_result"
    }
   ],
   "source": [
    "a=nn.Conv2d(\n",
    "                in_channels=1, \n",
    "                out_channels=13, \n",
    "                kernel_size=(1,12), \n",
    "                stride=(1,12)\n",
    "            )\n",
    "a(torch.rand((32,1,16,192))).shape"
   ]
  },
  {
   "cell_type": "code",
   "execution_count": 52,
   "id": "225decf9-edf9-4cfe-9cf5-862d0d044c3d",
   "metadata": {},
   "outputs": [
    {
     "data": {
      "text/plain": [
       "torch.Size([32, 13, 16, 16])"
      ]
     },
     "execution_count": 52,
     "metadata": {},
     "output_type": "execute_result"
    }
   ],
   "source": [
    "a=nn.Conv2d(\n",
    "                in_channels=1, \n",
    "                out_channels=13, \n",
    "                kernel_size=16, \n",
    "                stride=16\n",
    "            )\n",
    "a(torch.rand((32,1,256,256))).shape"
   ]
  },
  {
   "cell_type": "code",
   "execution_count": null,
   "id": "bd493701-4eab-4800-a4c4-35911da61ef2",
   "metadata": {},
   "outputs": [],
   "source": [
    "# Plot results\n",
    "plot_training_results(train_losses, val_accuracies, val_preds, val_true)\n",
    "\n",
    "# Close HDF5 file\n",
    "dataset.close()"
   ]
  },
  {
   "cell_type": "code",
   "execution_count": null,
   "id": "d2df6bd1-2bba-449c-8968-77d7136e0bf1",
   "metadata": {},
   "outputs": [],
   "source": [
    "dataset = ParticleDataset('dataset/brightfield_particles.hdf5')"
   ]
  },
  {
   "cell_type": "code",
   "execution_count": null,
   "id": "44b83901-db74-4e9e-bd36-464ba6c04b75",
   "metadata": {},
   "outputs": [],
   "source": [
    "from torchvision.transforms import Resize\n",
    "import torch\n",
    "import matplotlib.pyplot as plt\n",
    "with h5py.File('dataset/brightfield_particles.hdf5', 'r') as f:\n",
    "    particle_1 = f['data'][f['labels'][:]==0,:][4]\n",
    "    particle_2 = f['data'][f['labels'][:]==1,:][20]\n",
    "img = torch.Tensor(particle_1)\n",
    "print(img.shape)\n",
    "img = Resize((16,192))(img.unsqueeze(0))\n",
    "img = img.squeeze(0)\n",
    "fig, ax = plt.subplots(1, 1, figsize=(30, 5), dpi=300) \n",
    "plt.axis('off')\n",
    "plt.imshow(img,cmap='gray')\n",
    "plt.show()"
   ]
  },
  {
   "cell_type": "code",
   "execution_count": null,
   "id": "c274daeb-3f3b-40e6-8307-c5eaf209aede",
   "metadata": {},
   "outputs": [],
   "source": [
    "img = torch.Tensor(particle_2)\n",
    "img = Resize((16,192))(img.unsqueeze(0))\n",
    "img = img.squeeze(0)\n",
    "fig, ax = plt.subplots(1, 1, figsize=(30, 5), dpi=300) \n",
    "plt.imshow(img, cmap='gray')\n",
    "plt.axis('off')\n",
    "plt.show()"
   ]
  }
 ],
 "metadata": {
  "kernelspec": {
   "display_name": "iscat",
   "language": "python",
   "name": "iscat"
  },
  "language_info": {
   "codemirror_mode": {
    "name": "ipython",
    "version": 3
   },
   "file_extension": ".py",
   "mimetype": "text/x-python",
   "name": "python",
   "nbconvert_exporter": "python",
   "pygments_lexer": "ipython3",
   "version": "3.11.11"
  }
 },
 "nbformat": 4,
 "nbformat_minor": 5
}
