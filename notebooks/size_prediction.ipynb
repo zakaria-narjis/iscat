{
 "cells": [
  {
   "cell_type": "code",
   "execution_count": 1,
   "id": "304c408e-95ce-4060-b991-b680dbc05be3",
   "metadata": {},
   "outputs": [
    {
     "name": "stdout",
     "output_type": "stream",
     "text": [
      "Current Directory: /workspace/iscat\n"
     ]
    }
   ],
   "source": [
    "import os\n",
    "os.chdir(\"..\")\n",
    "print(\"Current Directory:\", os.getcwd())"
   ]
  },
  {
   "cell_type": "code",
   "execution_count": 2,
   "id": "393fd44e-e38b-48b8-8d3a-f5c2ce4b18e6",
   "metadata": {},
   "outputs": [
    {
     "name": "stdout",
     "output_type": "stream",
     "text": [
      "(27282, 16, 201)\n",
      "(array([0, 1, 2]), array([22076,  5146,    60]))\n"
     ]
    }
   ],
   "source": [
    "import h5py\n",
    "import numpy as np\n",
    "particle_data_path ='dataset/brightfield_particles.hdf5'\n",
    "with h5py.File(particle_data_path , 'r') as f:\n",
    "    print(f['data'].shape)\n",
    "    print(np.unique(f['labels'],return_counts=True))"
   ]
  },
  {
   "cell_type": "code",
   "execution_count": 3,
   "id": "2ca1abc1-24c3-49d5-9039-c2086ff68d98",
   "metadata": {},
   "outputs": [],
   "source": [
    "weights = 1/np.array([22076,  5146])"
   ]
  },
  {
   "cell_type": "code",
   "execution_count": 12,
   "id": "2a691a19-8abd-42e4-b8b7-cfdb6e49d290",
   "metadata": {},
   "outputs": [],
   "source": [
    "import torch\n",
    "import torch.nn as nn\n",
    "import torch.optim as optim\n",
    "from torch.utils.data import Dataset, DataLoader\n",
    "import h5py\n",
    "import numpy as np\n",
    "# from torchvision.models import vit_b_16\n",
    "import matplotlib.pyplot as plt\n",
    "from sklearn.metrics import confusion_matrix\n",
    "from tqdm import tqdm\n",
    "from torchvision.models.vision_transformer import VisionTransformer\n",
    "import torch\n",
    "import torch.nn as nn\n",
    "import torch.optim as optim\n",
    "from torch.utils.data import DataLoader\n",
    "from sklearn.metrics import confusion_matrix, f1_score, balanced_accuracy_score\n",
    "import matplotlib.pyplot as plt\n",
    "\n",
    "def compute_normalization_stats(h5_path, classes=None):\n",
    "    \"\"\"\n",
    "    Compute mean and standard deviation for z-score normalization.\n",
    "    \n",
    "    Args:\n",
    "        h5_path (str): Path to HDF5 file\n",
    "        classes (list, optional): List of classes to include in computation\n",
    "        \n",
    "    Returns:\n",
    "        tuple: (mean, std) computed across all data points\n",
    "    \"\"\"\n",
    "    with h5py.File(h5_path, 'r') as h5_file:\n",
    "        data = h5_file['data'][:]\n",
    "        labels = h5_file['labels'][:]\n",
    "        \n",
    "        if classes is not None:\n",
    "            # Filter data for selected classes\n",
    "            mask = np.isin(labels, classes)\n",
    "            data = data[mask]\n",
    "        \n",
    "        # Compute statistics across all dimensions\n",
    "        mean = np.mean(data)\n",
    "        std = np.std(data)\n",
    "        \n",
    "        print(f\"Computed statistics: mean = {mean:.4f}, std = {std:.4f}\")\n",
    "        \n",
    "        return mean, std\n",
    "        \n",
    "class ParticleDataset(Dataset):\n",
    "    \"\"\"Custom Dataset for particle data with flexible class selection and normalization.\"\"\"\n",
    "    def __init__(self, h5_path, classes=[0, 1], transform=None, mean=None, std=None,padding=False):\n",
    "        self.h5_file = h5py.File(h5_path, 'r')\n",
    "        data = self.h5_file['data'][:]\n",
    "        labels = self.h5_file['labels'][:]\n",
    "        self.padding = padding\n",
    "        # Filter data for selected classes\n",
    "        mask = np.isin(labels, classes)\n",
    "        self.data = data[mask]\n",
    "        self.labels = labels[mask]\n",
    "        \n",
    "        # Create class mapping to handle non-consecutive class indices\n",
    "        self.class_to_idx = {c: i for i, c in enumerate(classes)}\n",
    "        self.num_classes = len(classes)\n",
    "        \n",
    "        # Map original labels to new consecutive indices\n",
    "        self.labels = np.array([self.class_to_idx[label] for label in self.labels])\n",
    "        \n",
    "        self.transform = transform\n",
    "        self.mean = mean\n",
    "        self.std = std\n",
    "        \n",
    "    def __len__(self):\n",
    "        return len(self.labels)\n",
    "    \n",
    "    def __getitem__(self, idx):\n",
    "        # Get particle data\n",
    "        particle = self.data[idx]  # Shape: (16, 201)\n",
    "        \n",
    "        # Apply normalization if mean and std are provided\n",
    "        if self.mean is not None and self.std is not None:\n",
    "            particle = (particle - self.mean) / self.std\n",
    "        \n",
    "        # First resize to (16, 192) using cubic interpolation\n",
    "        # Convert to torch tensor for better interpolation\n",
    "        particle_tensor = torch.FloatTensor(particle).unsqueeze(0)  # Add channel dim\n",
    "        resized = torch.nn.functional.interpolate(\n",
    "            particle_tensor.unsqueeze(0),  # Add batch dim\n",
    "            size=(16, 192),\n",
    "            mode='bicubic',\n",
    "            align_corners=True\n",
    "        ).squeeze(0).squeeze(0)  # Remove batch and channel dims\n",
    "        if self.padding:\n",
    "            # Create square tensor with symmetric padding\n",
    "            target_size = 192\n",
    "            current_height = resized.shape[0]  # 16\n",
    "            padding_height = target_size - current_height\n",
    "            padding_top = padding_height // 2\n",
    "            padding_bottom = padding_height - padding_top\n",
    "            \n",
    "            # Use torch's pad function for symmetric padding\n",
    "            padded = torch.nn.functional.pad(\n",
    "                resized,\n",
    "                (0, 0,                # No padding in width dimension\n",
    "                 padding_top, padding_bottom),  # Padding in height dimension\n",
    "                mode='constant',\n",
    "                value=0\n",
    "            )\n",
    "            \n",
    "            # Add single channel dimension\n",
    "            final_tensor = padded.unsqueeze(0)\n",
    "        else:\n",
    "            final_tensor = resized.unsqueeze(0)\n",
    "        \n",
    "        if self.transform:\n",
    "            final_tensor = self.transform(final_tensor)\n",
    "        \n",
    "        # Create one-hot encoded label\n",
    "        label_idx = self.labels[idx]\n",
    "        label_onehot = torch.zeros(self.num_classes)\n",
    "        label_onehot[label_idx] = 1\n",
    "        \n",
    "        return final_tensor, label_onehot\n",
    "\n",
    "    def close(self):\n",
    "        self.h5_file.close()\n",
    "        \n",
    "class ModifiedViT(nn.Module):\n",
    "    def __init__(self, num_classes=2,patch_size=16,num_layers=12,num_heads=12,hidden_dim =768,mlp_dim=3072):\n",
    "        super().__init__()\n",
    "        # Load pretrained ViT\n",
    "        self.vit = VisionTransformer(image_size=192,\n",
    "        patch_size=16,\n",
    "        num_classes = num_classes,\n",
    "        num_layers=12,\n",
    "        num_heads=12,\n",
    "        hidden_dim=768,\n",
    "        mlp_dim=3072,\n",
    "    )\n",
    "        \n",
    "        self.vit.conv_proj = nn.Conv2d(\n",
    "                    in_channels=1, out_channels=hidden_dim, kernel_size=patch_size, stride=patch_size\n",
    "                ) \n",
    "    def forward(self, x):\n",
    "        return self.vit(x)\n",
    "        \n",
    "def train_model(model, train_loader, val_loader, device, num_epochs=50, weights=None, patience=20):\n",
    "    criterion = nn.CrossEntropyLoss(weight=torch.Tensor(weights).to(device)) if weights is not None else nn.CrossEntropyLoss()\n",
    "    optimizer = optim.AdamW(model.parameters(), lr=1e-4, weight_decay=0.05)\n",
    "    scheduler = optim.lr_scheduler.CosineAnnealingLR(optimizer, T_max=num_epochs)\n",
    "    \n",
    "    best_val_acc = 0.0\n",
    "    best_val_loss = float('inf')\n",
    "    train_losses = []\n",
    "    val_losses = []\n",
    "    val_accuracies = []\n",
    "    val_f1_scores = []\n",
    "    val_bal_accs = []\n",
    "    \n",
    "    early_stopping_counter = 0\n",
    "    \n",
    "    for epoch in range(num_epochs):\n",
    "        # Training Phase\n",
    "        model.train()\n",
    "        total_train_loss = 0\n",
    "        \n",
    "        for inputs, labels in tqdm(train_loader, desc=f'Epoch {epoch+1}/{num_epochs} Training'):\n",
    "            inputs, labels = inputs.to(device), labels.to(device)\n",
    "            optimizer.zero_grad()\n",
    "            outputs = model(inputs)\n",
    "            loss = criterion(outputs, labels)\n",
    "            loss.backward()\n",
    "            optimizer.step()\n",
    "            total_train_loss += loss.item()\n",
    "        \n",
    "        avg_train_loss = total_train_loss / len(train_loader)\n",
    "        train_losses.append(avg_train_loss)\n",
    "        \n",
    "        # Validation Phase\n",
    "        model.eval()\n",
    "        val_preds = []\n",
    "        val_true = []\n",
    "        total_val_loss = 0\n",
    "        \n",
    "        with torch.no_grad():\n",
    "            for inputs, labels in val_loader:\n",
    "                inputs, labels = inputs.to(device), labels.to(device)\n",
    "                outputs = model(inputs)\n",
    "                val_loss = criterion(outputs, labels)\n",
    "                total_val_loss += val_loss.item()\n",
    "                \n",
    "                predicted = torch.argmax(outputs, 1)\n",
    "                labels = torch.argmax(labels, 1)\n",
    "                val_preds.extend(predicted.cpu().numpy())\n",
    "                val_true.extend(labels.cpu().numpy())\n",
    "        \n",
    "        avg_val_loss = total_val_loss / len(val_loader)\n",
    "        val_losses.append(avg_val_loss)\n",
    "        \n",
    "        # Calculate metrics\n",
    "        val_acc = 100 * (sum([p == t for p, t in zip(val_preds, val_true)]) / len(val_true))\n",
    "        f1 = f1_score(val_true, val_preds, average='weighted')\n",
    "        bal_acc = balanced_accuracy_score(val_true, val_preds)\n",
    "        \n",
    "        # Confusion matrix metrics for class 0\n",
    "        tp = sum((np.array(val_preds) == 0) & (np.array(val_true) == 0))\n",
    "        tn = sum((np.array(val_preds) == 1) & (np.array(val_true) == 1))\n",
    "        fp = sum((np.array(val_preds) == 0) & (np.array(val_true) == 1))\n",
    "        fn = sum((np.array(val_preds) == 1) & (np.array(val_true) == 0))\n",
    "        \n",
    "        val_accuracies.append(val_acc)\n",
    "        val_f1_scores.append(f1)\n",
    "        val_bal_accs.append(bal_acc)\n",
    "        \n",
    "        # Print epoch details\n",
    "        print(f'Epoch {epoch+1}:')\n",
    "        print(f'  Train Loss = {avg_train_loss:.4f}, Val Loss = {avg_val_loss:.4f}')\n",
    "        print(f'  Val Accuracy = {val_acc:.2f}%, F1-Score = {f1:.4f}, Balanced Acc = {bal_acc:.4f}')\n",
    "        print(f'  Class 0 Metrics:')\n",
    "        print(f'    True Positives: {tp}')\n",
    "        print(f'    True Negatives: {tn}')\n",
    "        print(f'    False Positives: {fp}')\n",
    "        print(f'    False Negatives: {fn}')\n",
    "        print(f'    Precision: {tp/(tp+fp) if (tp+fp) > 0 else 0:.4f}')\n",
    "        print(f'    Recall: {tp/(tp+fn) if (tp+fn) > 0 else 0:.4f}')\n",
    "        \n",
    "        # Early Stopping and Model Saving\n",
    "        if val_acc > best_val_acc:\n",
    "            best_val_acc = val_acc\n",
    "            early_stopping_counter = 0\n",
    "            torch.save(model.state_dict(), 'best_particle_vit.pth')\n",
    "        \n",
    "        # Check for improvement in validation loss\n",
    "        if avg_val_loss < best_val_loss:\n",
    "            best_val_loss = avg_val_loss\n",
    "            early_stopping_counter = 0\n",
    "        else:\n",
    "            early_stopping_counter += 1\n",
    "        \n",
    "        # Early stopping\n",
    "        if early_stopping_counter >= patience:\n",
    "            print(f'Early stopping triggered after {epoch+1} epochs')\n",
    "            break\n",
    "        \n",
    "        scheduler.step()\n",
    "    \n",
    "    return (train_losses, val_losses, val_accuracies, \n",
    "            val_f1_scores, val_bal_accs, val_preds, val_true)\n",
    "\n",
    "def plot_training_results(train_losses, val_accuracies, val_f1_scores, val_bal_accs, val_preds, val_true):\n",
    "    fig, (ax1, ax2, ax3) = plt.subplots(1, 3, figsize=(18, 5))\n",
    "    \n",
    "    ax1.plot(train_losses, label='Loss')\n",
    "    ax1.set_title('Training Loss')\n",
    "    ax1.set_xlabel('Epoch')\n",
    "    ax1.set_ylabel('Loss')\n",
    "    ax1.legend()\n",
    "    \n",
    "    ax2.plot(val_accuracies, label='Accuracy')\n",
    "    ax2.set_title('Validation Accuracy')\n",
    "    ax2.set_xlabel('Epoch')\n",
    "    ax2.set_ylabel('Accuracy (%)')\n",
    "    ax2.legend()\n",
    "    \n",
    "    ax3.plot(val_f1_scores, label='F1-Score')\n",
    "    ax3.plot(val_bal_accs, label='Balanced Accuracy')\n",
    "    ax3.set_title('Validation Metrics')\n",
    "    ax3.set_xlabel('Epoch')\n",
    "    ax3.legend()\n",
    "    \n",
    "    plt.tight_layout()\n",
    "    plt.savefig('training_plots.png')\n",
    "    \n",
    "    cm = confusion_matrix(val_true, val_preds)\n",
    "    plt.figure(figsize=(8, 6))\n",
    "    sns.heatmap(cm, annot=True, fmt='d', cmap='Blues')\n",
    "    plt.title('Confusion Matrix')\n",
    "    plt.ylabel('True Label')\n",
    "    plt.xlabel('Predicted Label')\n",
    "    plt.savefig('confusion_matrix.png')\n"
   ]
  },
  {
   "cell_type": "code",
   "execution_count": 15,
   "id": "72570529-4229-4e7d-a3bb-8e9e577e34eb",
   "metadata": {},
   "outputs": [],
   "source": [
    "import torch\n",
    "import torch.nn as nn\n",
    "import math\n",
    "from typing import Optional, Callable, List, OrderedDict\n",
    "from functools import partial\n",
    "from torchvision.models.vision_transformer import Encoder, ConvStemConfig\n",
    "\n",
    "class ModifiedVisionTransformer(nn.Module):\n",
    "    \"\"\"Modified Vision Transformer to support rectangular images and single-channel inputs.\"\"\"\n",
    "\n",
    "    def __init__(\n",
    "        self,\n",
    "        image_height: int,\n",
    "        image_width: int,\n",
    "        patch_height: int,\n",
    "        patch_width: int,\n",
    "        num_layers: int,\n",
    "        num_heads: int,\n",
    "        hidden_dim: int,\n",
    "        mlp_dim: int,\n",
    "        in_channels: int = 1,  # Support single-channel by default\n",
    "        dropout: float = 0.0,\n",
    "        attention_dropout: float = 0.0,\n",
    "        num_classes: int = 1000,\n",
    "        representation_size: Optional[int] = None,\n",
    "        norm_layer: Callable[..., torch.nn.Module] = partial(nn.LayerNorm, eps=1e-6),\n",
    "        conv_stem_configs: Optional[List[ConvStemConfig]] = None,\n",
    "    ):\n",
    "        super().__init__()\n",
    "        \n",
    "        # Remove square image assertion\n",
    "        self.image_height = image_height\n",
    "        self.image_width = image_width\n",
    "        self.patch_height = patch_height\n",
    "        self.patch_width = patch_width\n",
    "        self.hidden_dim = hidden_dim\n",
    "        self.mlp_dim = mlp_dim\n",
    "        self.attention_dropout = attention_dropout\n",
    "        self.dropout = dropout\n",
    "        self.num_classes = num_classes\n",
    "        self.representation_size = representation_size\n",
    "        self.norm_layer = norm_layer\n",
    "\n",
    "        # Modify conv_proj to handle single channel and rectangular images\n",
    "        if conv_stem_configs is not None:\n",
    "            seq_proj = nn.Sequential()\n",
    "            prev_channels = in_channels\n",
    "            for i, conv_stem_layer_config in enumerate(conv_stem_configs):\n",
    "                seq_proj.add_module(\n",
    "                    f\"conv_bn_relu_{i}\",\n",
    "                    Conv2dNormActivation(\n",
    "                        in_channels=prev_channels,\n",
    "                        out_channels=conv_stem_layer_config.out_channels,\n",
    "                        kernel_size=conv_stem_layer_config.kernel_size,\n",
    "                        stride=conv_stem_layer_config.stride,\n",
    "                        norm_layer=conv_stem_layer_config.norm_layer,\n",
    "                        activation_layer=conv_stem_layer_config.activation_layer,\n",
    "                    ),\n",
    "                )\n",
    "                prev_channels = conv_stem_layer_config.out_channels\n",
    "            seq_proj.add_module(\n",
    "                \"conv_last\", nn.Conv2d(in_channels=prev_channels, out_channels=hidden_dim, kernel_size=1)\n",
    "            )\n",
    "            self.conv_proj: nn.Module = seq_proj\n",
    "        else:\n",
    "            self.conv_proj = nn.Conv2d(\n",
    "                in_channels=in_channels, \n",
    "                out_channels=hidden_dim, \n",
    "                kernel_size=(patch_height, patch_width), \n",
    "                stride=(patch_height, patch_width)\n",
    "            )\n",
    "\n",
    "        # Calculate sequence length for rectangular images\n",
    "        seq_length = (image_height // patch_height) * (image_width // patch_width)\n",
    "\n",
    "        # Add a class token\n",
    "        self.class_token = nn.Parameter(torch.zeros(1, 1, hidden_dim))\n",
    "        seq_length += 1\n",
    "\n",
    "        self.encoder = Encoder(\n",
    "            seq_length,\n",
    "            num_layers,\n",
    "            num_heads,\n",
    "            hidden_dim,\n",
    "            mlp_dim,\n",
    "            dropout,\n",
    "            attention_dropout,\n",
    "            norm_layer,\n",
    "        )\n",
    "        self.seq_length = seq_length\n",
    "\n",
    "        # Rest of the initialization remains the same as the original implementation\n",
    "        heads_layers: OrderedDict[str, nn.Module] = OrderedDict()\n",
    "        if representation_size is None:\n",
    "            heads_layers[\"head\"] = nn.Linear(hidden_dim, num_classes)\n",
    "        else:\n",
    "            heads_layers[\"pre_logits\"] = nn.Linear(hidden_dim, representation_size)\n",
    "            heads_layers[\"act\"] = nn.Tanh()\n",
    "            heads_layers[\"head\"] = nn.Linear(representation_size, num_classes)\n",
    "\n",
    "        self.heads = nn.Sequential(heads_layers)\n",
    "\n",
    "        # Weight initialization (similar to original)\n",
    "        if isinstance(self.conv_proj, nn.Conv2d):\n",
    "            fan_in = self.conv_proj.in_channels * self.conv_proj.kernel_size[0] * self.conv_proj.kernel_size[1]\n",
    "            nn.init.trunc_normal_(self.conv_proj.weight, std=math.sqrt(1 / fan_in))\n",
    "            if self.conv_proj.bias is not None:\n",
    "                nn.init.zeros_(self.conv_proj.bias)\n",
    "\n",
    "        # Other initializations remain the same...\n",
    "\n",
    "    def _process_input(self, x: torch.Tensor) -> torch.Tensor:\n",
    "        n, c, h, w = x.shape\n",
    "        \n",
    "        # Remove assertions for square images\n",
    "        n_h = h // self.patch_height\n",
    "        n_w = w // self.patch_width\n",
    "\n",
    "        # (n, c, h, w) -> (n, hidden_dim, n_h, n_w)\n",
    "        x = self.conv_proj(x)\n",
    "        # (n, hidden_dim, n_h, n_w) -> (n, hidden_dim, (n_h * n_w))\n",
    "        x = x.reshape(n, self.hidden_dim, n_h * n_w)\n",
    "\n",
    "        # Permute to self-attention expected format\n",
    "        x = x.permute(0, 2, 1)\n",
    "\n",
    "        return x\n",
    "    def forward(self, x: torch.Tensor):\n",
    "        # Reshape and permute the input tensor\n",
    "        x = self._process_input(x)\n",
    "        n = x.shape[0]\n",
    "\n",
    "        # Expand the class token to the full batch\n",
    "        batch_class_token = self.class_token.expand(n, -1, -1)\n",
    "        x = torch.cat([batch_class_token, x], dim=1)\n",
    "\n",
    "        x = self.encoder(x)\n",
    "\n",
    "        # Classifier \"token\" as used by standard language architectures\n",
    "        x = x[:, 0]\n",
    "\n",
    "        x = self.heads(x)\n",
    "\n",
    "        return x"
   ]
  },
  {
   "cell_type": "code",
   "execution_count": 16,
   "id": "ca7c0ccc-ecbb-4835-9d3b-9e5266dba96e",
   "metadata": {},
   "outputs": [
    {
     "name": "stdout",
     "output_type": "stream",
     "text": [
      "Using device: cuda:7\n",
      "Computed statistics: mean = 7077.7081, std = 1176.7393\n",
      "0.1875832300133168\n",
      "0.1948576675849403\n"
     ]
    },
    {
     "name": "stderr",
     "output_type": "stream",
     "text": [
      "Epoch 1/50 Training: 100%|██████████████████████████████████████████████████████████████████████████████████████████████████████████████████| 681/681 [00:28<00:00, 23.95it/s]\n"
     ]
    },
    {
     "name": "stdout",
     "output_type": "stream",
     "text": [
      "Epoch 1:\n",
      "  Train Loss = 0.2769, Val Loss = 0.1518\n",
      "  Val Accuracy = 94.71%, F1-Score = 0.9455, Balanced Acc = 0.8882\n",
      "  Class 0 Metrics:\n",
      "    True Positives: 4317\n",
      "    True Negatives: 840\n",
      "    False Positives: 221\n",
      "    False Negatives: 67\n",
      "    Precision: 0.9513\n",
      "    Recall: 0.9847\n"
     ]
    },
    {
     "name": "stderr",
     "output_type": "stream",
     "text": [
      "Epoch 2/50 Training: 100%|██████████████████████████████████████████████████████████████████████████████████████████████████████████████████| 681/681 [00:27<00:00, 24.54it/s]\n"
     ]
    },
    {
     "name": "stdout",
     "output_type": "stream",
     "text": [
      "Epoch 2:\n",
      "  Train Loss = 0.1359, Val Loss = 0.1404\n",
      "  Val Accuracy = 94.73%, F1-Score = 0.9459, Balanced Acc = 0.8919\n",
      "  Class 0 Metrics:\n",
      "    True Positives: 4308\n",
      "    True Negatives: 850\n",
      "    False Positives: 211\n",
      "    False Negatives: 76\n",
      "    Precision: 0.9533\n",
      "    Recall: 0.9827\n"
     ]
    },
    {
     "name": "stderr",
     "output_type": "stream",
     "text": [
      "Epoch 3/50 Training: 100%|██████████████████████████████████████████████████████████████████████████████████████████████████████████████████| 681/681 [00:27<00:00, 24.38it/s]\n"
     ]
    },
    {
     "name": "stdout",
     "output_type": "stream",
     "text": [
      "Epoch 3:\n",
      "  Train Loss = 0.1136, Val Loss = 0.1144\n",
      "  Val Accuracy = 96.05%, F1-Score = 0.9605, Balanced Acc = 0.9373\n",
      "  Class 0 Metrics:\n",
      "    True Positives: 4276\n",
      "    True Negatives: 954\n",
      "    False Positives: 107\n",
      "    False Negatives: 108\n",
      "    Precision: 0.9756\n",
      "    Recall: 0.9754\n"
     ]
    },
    {
     "name": "stderr",
     "output_type": "stream",
     "text": [
      "Epoch 4/50 Training: 100%|██████████████████████████████████████████████████████████████████████████████████████████████████████████████████| 681/681 [00:28<00:00, 23.76it/s]\n"
     ]
    },
    {
     "name": "stdout",
     "output_type": "stream",
     "text": [
      "Epoch 4:\n",
      "  Train Loss = 0.1125, Val Loss = 0.1024\n",
      "  Val Accuracy = 96.69%, F1-Score = 0.9670, Balanced Acc = 0.9477\n",
      "  Class 0 Metrics:\n",
      "    True Positives: 4293\n",
      "    True Negatives: 972\n",
      "    False Positives: 89\n",
      "    False Negatives: 91\n",
      "    Precision: 0.9797\n",
      "    Recall: 0.9792\n"
     ]
    },
    {
     "name": "stderr",
     "output_type": "stream",
     "text": [
      "Epoch 5/50 Training: 100%|██████████████████████████████████████████████████████████████████████████████████████████████████████████████████| 681/681 [00:28<00:00, 23.93it/s]\n"
     ]
    },
    {
     "name": "stdout",
     "output_type": "stream",
     "text": [
      "Epoch 5:\n",
      "  Train Loss = 0.1035, Val Loss = 0.1022\n",
      "  Val Accuracy = 96.24%, F1-Score = 0.9625, Balanced Acc = 0.9434\n",
      "  Class 0 Metrics:\n",
      "    True Positives: 4272\n",
      "    True Negatives: 968\n",
      "    False Positives: 93\n",
      "    False Negatives: 112\n",
      "    Precision: 0.9787\n",
      "    Recall: 0.9745\n"
     ]
    },
    {
     "name": "stderr",
     "output_type": "stream",
     "text": [
      "Epoch 6/50 Training: 100%|██████████████████████████████████████████████████████████████████████████████████████████████████████████████████| 681/681 [00:28<00:00, 24.05it/s]\n"
     ]
    },
    {
     "name": "stdout",
     "output_type": "stream",
     "text": [
      "Epoch 6:\n",
      "  Train Loss = 0.0981, Val Loss = 0.0967\n",
      "  Val Accuracy = 96.79%, F1-Score = 0.9680, Balanced Acc = 0.9547\n",
      "  Class 0 Metrics:\n",
      "    True Positives: 4280\n",
      "    True Negatives: 990\n",
      "    False Positives: 71\n",
      "    False Negatives: 104\n",
      "    Precision: 0.9837\n",
      "    Recall: 0.9763\n"
     ]
    },
    {
     "name": "stderr",
     "output_type": "stream",
     "text": [
      "Epoch 7/50 Training: 100%|██████████████████████████████████████████████████████████████████████████████████████████████████████████████████| 681/681 [00:28<00:00, 24.11it/s]\n"
     ]
    },
    {
     "name": "stdout",
     "output_type": "stream",
     "text": [
      "Epoch 7:\n",
      "  Train Loss = 0.0899, Val Loss = 0.1287\n",
      "  Val Accuracy = 95.54%, F1-Score = 0.9545, Balanced Acc = 0.9105\n",
      "  Class 0 Metrics:\n",
      "    True Positives: 4314\n",
      "    True Negatives: 888\n",
      "    False Positives: 173\n",
      "    False Negatives: 70\n",
      "    Precision: 0.9614\n",
      "    Recall: 0.9840\n"
     ]
    },
    {
     "name": "stderr",
     "output_type": "stream",
     "text": [
      "Epoch 8/50 Training: 100%|██████████████████████████████████████████████████████████████████████████████████████████████████████████████████| 681/681 [00:28<00:00, 24.29it/s]\n"
     ]
    },
    {
     "name": "stdout",
     "output_type": "stream",
     "text": [
      "Epoch 8:\n",
      "  Train Loss = 0.1045, Val Loss = 0.1218\n",
      "  Val Accuracy = 96.00%, F1-Score = 0.9599, Balanced Acc = 0.9358\n",
      "  Class 0 Metrics:\n",
      "    True Positives: 4276\n",
      "    True Negatives: 951\n",
      "    False Positives: 110\n",
      "    False Negatives: 108\n",
      "    Precision: 0.9749\n",
      "    Recall: 0.9754\n"
     ]
    },
    {
     "name": "stderr",
     "output_type": "stream",
     "text": [
      "Epoch 9/50 Training: 100%|██████████████████████████████████████████████████████████████████████████████████████████████████████████████████| 681/681 [00:28<00:00, 23.66it/s]\n"
     ]
    },
    {
     "name": "stdout",
     "output_type": "stream",
     "text": [
      "Epoch 9:\n",
      "  Train Loss = 0.0884, Val Loss = 0.0987\n",
      "  Val Accuracy = 96.62%, F1-Score = 0.9664, Balanced Acc = 0.9533\n",
      "  Class 0 Metrics:\n",
      "    True Positives: 4272\n",
      "    True Negatives: 989\n",
      "    False Positives: 72\n",
      "    False Negatives: 112\n",
      "    Precision: 0.9834\n",
      "    Recall: 0.9745\n"
     ]
    },
    {
     "name": "stderr",
     "output_type": "stream",
     "text": [
      "Epoch 10/50 Training: 100%|█████████████████████████████████████████████████████████████████████████████████████████████████████████████████| 681/681 [00:28<00:00, 24.05it/s]\n"
     ]
    },
    {
     "name": "stdout",
     "output_type": "stream",
     "text": [
      "Epoch 10:\n",
      "  Train Loss = 0.1054, Val Loss = 0.1085\n",
      "  Val Accuracy = 96.29%, F1-Score = 0.9631, Balanced Acc = 0.9452\n",
      "  Class 0 Metrics:\n",
      "    True Positives: 4271\n",
      "    True Negatives: 972\n",
      "    False Positives: 89\n",
      "    False Negatives: 113\n",
      "    Precision: 0.9796\n",
      "    Recall: 0.9742\n"
     ]
    },
    {
     "name": "stderr",
     "output_type": "stream",
     "text": [
      "Epoch 11/50 Training: 100%|█████████████████████████████████████████████████████████████████████████████████████████████████████████████████| 681/681 [00:28<00:00, 24.28it/s]\n"
     ]
    },
    {
     "name": "stdout",
     "output_type": "stream",
     "text": [
      "Epoch 11:\n",
      "  Train Loss = 0.0948, Val Loss = 0.1120\n",
      "  Val Accuracy = 96.09%, F1-Score = 0.9604, Balanced Acc = 0.9268\n",
      "  Class 0 Metrics:\n",
      "    True Positives: 4308\n",
      "    True Negatives: 924\n",
      "    False Positives: 137\n",
      "    False Negatives: 76\n",
      "    Precision: 0.9692\n",
      "    Recall: 0.9827\n"
     ]
    },
    {
     "name": "stderr",
     "output_type": "stream",
     "text": [
      "Epoch 12/50 Training: 100%|█████████████████████████████████████████████████████████████████████████████████████████████████████████████████| 681/681 [00:28<00:00, 24.11it/s]\n"
     ]
    },
    {
     "name": "stdout",
     "output_type": "stream",
     "text": [
      "Epoch 12:\n",
      "  Train Loss = 0.0805, Val Loss = 0.0969\n",
      "  Val Accuracy = 96.60%, F1-Score = 0.9657, Balanced Acc = 0.9357\n",
      "  Class 0 Metrics:\n",
      "    True Positives: 4320\n",
      "    True Negatives: 940\n",
      "    False Positives: 121\n",
      "    False Negatives: 64\n",
      "    Precision: 0.9728\n",
      "    Recall: 0.9854\n"
     ]
    },
    {
     "name": "stderr",
     "output_type": "stream",
     "text": [
      "Epoch 13/50 Training: 100%|█████████████████████████████████████████████████████████████████████████████████████████████████████████████████| 681/681 [00:27<00:00, 24.37it/s]\n"
     ]
    },
    {
     "name": "stdout",
     "output_type": "stream",
     "text": [
      "Epoch 13:\n",
      "  Train Loss = 0.0806, Val Loss = 0.1034\n",
      "  Val Accuracy = 96.55%, F1-Score = 0.9658, Balanced Acc = 0.9543\n",
      "  Class 0 Metrics:\n",
      "    True Positives: 4264\n",
      "    True Negatives: 993\n",
      "    False Positives: 68\n",
      "    False Negatives: 120\n",
      "    Precision: 0.9843\n",
      "    Recall: 0.9726\n"
     ]
    },
    {
     "name": "stderr",
     "output_type": "stream",
     "text": [
      "Epoch 14/50 Training: 100%|█████████████████████████████████████████████████████████████████████████████████████████████████████████████████| 681/681 [00:28<00:00, 24.15it/s]\n"
     ]
    },
    {
     "name": "stdout",
     "output_type": "stream",
     "text": [
      "Epoch 14:\n",
      "  Train Loss = 0.0794, Val Loss = 0.0957\n",
      "  Val Accuracy = 96.86%, F1-Score = 0.9687, Balanced Acc = 0.9526\n",
      "  Class 0 Metrics:\n",
      "    True Positives: 4291\n",
      "    True Negatives: 983\n",
      "    False Positives: 78\n",
      "    False Negatives: 93\n",
      "    Precision: 0.9821\n",
      "    Recall: 0.9788\n"
     ]
    },
    {
     "name": "stderr",
     "output_type": "stream",
     "text": [
      "Epoch 15/50 Training: 100%|█████████████████████████████████████████████████████████████████████████████████████████████████████████████████| 681/681 [00:28<00:00, 23.50it/s]\n"
     ]
    },
    {
     "name": "stdout",
     "output_type": "stream",
     "text": [
      "Epoch 15:\n",
      "  Train Loss = 0.0751, Val Loss = 0.0950\n",
      "  Val Accuracy = 96.53%, F1-Score = 0.9655, Balanced Acc = 0.9509\n",
      "  Class 0 Metrics:\n",
      "    True Positives: 4272\n",
      "    True Negatives: 984\n",
      "    False Positives: 77\n",
      "    False Negatives: 112\n",
      "    Precision: 0.9823\n",
      "    Recall: 0.9745\n"
     ]
    },
    {
     "name": "stderr",
     "output_type": "stream",
     "text": [
      "Epoch 16/50 Training: 100%|█████████████████████████████████████████████████████████████████████████████████████████████████████████████████| 681/681 [00:28<00:00, 24.12it/s]\n"
     ]
    },
    {
     "name": "stdout",
     "output_type": "stream",
     "text": [
      "Epoch 16:\n",
      "  Train Loss = 0.0714, Val Loss = 0.0962\n",
      "  Val Accuracy = 97.08%, F1-Score = 0.9708, Balanced Acc = 0.9519\n",
      "  Class 0 Metrics:\n",
      "    True Positives: 4309\n",
      "    True Negatives: 977\n",
      "    False Positives: 84\n",
      "    False Negatives: 75\n",
      "    Precision: 0.9809\n",
      "    Recall: 0.9829\n"
     ]
    },
    {
     "name": "stderr",
     "output_type": "stream",
     "text": [
      "Epoch 17/50 Training: 100%|█████████████████████████████████████████████████████████████████████████████████████████████████████████████████| 681/681 [00:28<00:00, 24.19it/s]\n"
     ]
    },
    {
     "name": "stdout",
     "output_type": "stream",
     "text": [
      "Epoch 17:\n",
      "  Train Loss = 0.0675, Val Loss = 0.0932\n",
      "  Val Accuracy = 96.91%, F1-Score = 0.9689, Balanced Acc = 0.9423\n",
      "  Class 0 Metrics:\n",
      "    True Positives: 4324\n",
      "    True Negatives: 953\n",
      "    False Positives: 108\n",
      "    False Negatives: 60\n",
      "    Precision: 0.9756\n",
      "    Recall: 0.9863\n"
     ]
    },
    {
     "name": "stderr",
     "output_type": "stream",
     "text": [
      "Epoch 18/50 Training: 100%|█████████████████████████████████████████████████████████████████████████████████████████████████████████████████| 681/681 [00:28<00:00, 24.20it/s]\n"
     ]
    },
    {
     "name": "stdout",
     "output_type": "stream",
     "text": [
      "Epoch 18:\n",
      "  Train Loss = 0.0647, Val Loss = 0.0895\n",
      "  Val Accuracy = 97.36%, F1-Score = 0.9734, Balanced Acc = 0.9521\n",
      "  Class 0 Metrics:\n",
      "    True Positives: 4328\n",
      "    True Negatives: 973\n",
      "    False Positives: 88\n",
      "    False Negatives: 56\n",
      "    Precision: 0.9801\n",
      "    Recall: 0.9872\n"
     ]
    },
    {
     "name": "stderr",
     "output_type": "stream",
     "text": [
      "Epoch 19/50 Training: 100%|█████████████████████████████████████████████████████████████████████████████████████████████████████████████████| 681/681 [00:27<00:00, 24.44it/s]\n"
     ]
    },
    {
     "name": "stdout",
     "output_type": "stream",
     "text": [
      "Epoch 19:\n",
      "  Train Loss = 0.0628, Val Loss = 0.0794\n",
      "  Val Accuracy = 97.56%, F1-Score = 0.9757, Balanced Acc = 0.9648\n",
      "  Class 0 Metrics:\n",
      "    True Positives: 4307\n",
      "    True Negatives: 1005\n",
      "    False Positives: 56\n",
      "    False Negatives: 77\n",
      "    Precision: 0.9872\n",
      "    Recall: 0.9824\n"
     ]
    },
    {
     "name": "stderr",
     "output_type": "stream",
     "text": [
      "Epoch 20/50 Training: 100%|█████████████████████████████████████████████████████████████████████████████████████████████████████████████████| 681/681 [00:28<00:00, 24.13it/s]\n"
     ]
    },
    {
     "name": "stdout",
     "output_type": "stream",
     "text": [
      "Epoch 20:\n",
      "  Train Loss = 0.0574, Val Loss = 0.0837\n",
      "  Val Accuracy = 97.52%, F1-Score = 0.9752, Balanced Acc = 0.9603\n",
      "  Class 0 Metrics:\n",
      "    True Positives: 4317\n",
      "    True Negatives: 993\n",
      "    False Positives: 68\n",
      "    False Negatives: 67\n",
      "    Precision: 0.9845\n",
      "    Recall: 0.9847\n"
     ]
    },
    {
     "name": "stderr",
     "output_type": "stream",
     "text": [
      "Epoch 21/50 Training: 100%|█████████████████████████████████████████████████████████████████████████████████████████████████████████████████| 681/681 [00:28<00:00, 24.22it/s]\n"
     ]
    },
    {
     "name": "stdout",
     "output_type": "stream",
     "text": [
      "Epoch 21:\n",
      "  Train Loss = 0.0526, Val Loss = 0.0933\n",
      "  Val Accuracy = 97.10%, F1-Score = 0.9712, Balanced Acc = 0.9616\n",
      "  Class 0 Metrics:\n",
      "    True Positives: 4283\n",
      "    True Negatives: 1004\n",
      "    False Positives: 57\n",
      "    False Negatives: 101\n",
      "    Precision: 0.9869\n",
      "    Recall: 0.9770\n"
     ]
    },
    {
     "name": "stderr",
     "output_type": "stream",
     "text": [
      "Epoch 22/50 Training: 100%|█████████████████████████████████████████████████████████████████████████████████████████████████████████████████| 681/681 [00:28<00:00, 24.25it/s]\n"
     ]
    },
    {
     "name": "stdout",
     "output_type": "stream",
     "text": [
      "Epoch 22:\n",
      "  Train Loss = 0.0525, Val Loss = 0.0801\n",
      "  Val Accuracy = 97.50%, F1-Score = 0.9750, Balanced Acc = 0.9591\n",
      "  Class 0 Metrics:\n",
      "    True Positives: 4319\n",
      "    True Negatives: 990\n",
      "    False Positives: 71\n",
      "    False Negatives: 65\n",
      "    Precision: 0.9838\n",
      "    Recall: 0.9852\n"
     ]
    },
    {
     "name": "stderr",
     "output_type": "stream",
     "text": [
      "Epoch 23/50 Training: 100%|█████████████████████████████████████████████████████████████████████████████████████████████████████████████████| 681/681 [00:28<00:00, 24.25it/s]\n"
     ]
    },
    {
     "name": "stdout",
     "output_type": "stream",
     "text": [
      "Epoch 23:\n",
      "  Train Loss = 0.0492, Val Loss = 0.0787\n",
      "  Val Accuracy = 97.50%, F1-Score = 0.9751, Balanced Acc = 0.9638\n",
      "  Class 0 Metrics:\n",
      "    True Positives: 4306\n",
      "    True Negatives: 1003\n",
      "    False Positives: 58\n",
      "    False Negatives: 78\n",
      "    Precision: 0.9867\n",
      "    Recall: 0.9822\n"
     ]
    },
    {
     "name": "stderr",
     "output_type": "stream",
     "text": [
      "Epoch 24/50 Training: 100%|█████████████████████████████████████████████████████████████████████████████████████████████████████████████████| 681/681 [00:27<00:00, 24.36it/s]\n"
     ]
    },
    {
     "name": "stdout",
     "output_type": "stream",
     "text": [
      "Epoch 24:\n",
      "  Train Loss = 0.0456, Val Loss = 0.0792\n",
      "  Val Accuracy = 97.59%, F1-Score = 0.9762, Balanced Acc = 0.9711\n",
      "  Class 0 Metrics:\n",
      "    True Positives: 4292\n",
      "    True Negatives: 1022\n",
      "    False Positives: 39\n",
      "    False Negatives: 92\n",
      "    Precision: 0.9910\n",
      "    Recall: 0.9790\n"
     ]
    },
    {
     "name": "stderr",
     "output_type": "stream",
     "text": [
      "Epoch 25/50 Training: 100%|█████████████████████████████████████████████████████████████████████████████████████████████████████████████████| 681/681 [00:28<00:00, 23.97it/s]\n"
     ]
    },
    {
     "name": "stdout",
     "output_type": "stream",
     "text": [
      "Epoch 25:\n",
      "  Train Loss = 0.0440, Val Loss = 0.0745\n",
      "  Val Accuracy = 97.61%, F1-Score = 0.9763, Balanced Acc = 0.9687\n",
      "  Class 0 Metrics:\n",
      "    True Positives: 4300\n",
      "    True Negatives: 1015\n",
      "    False Positives: 46\n",
      "    False Negatives: 84\n",
      "    Precision: 0.9894\n",
      "    Recall: 0.9808\n"
     ]
    },
    {
     "name": "stderr",
     "output_type": "stream",
     "text": [
      "Epoch 26/50 Training: 100%|█████████████████████████████████████████████████████████████████████████████████████████████████████████████████| 681/681 [00:28<00:00, 24.14it/s]\n"
     ]
    },
    {
     "name": "stdout",
     "output_type": "stream",
     "text": [
      "Epoch 26:\n",
      "  Train Loss = 0.0404, Val Loss = 0.0729\n",
      "  Val Accuracy = 97.72%, F1-Score = 0.9772, Balanced Acc = 0.9634\n",
      "  Class 0 Metrics:\n",
      "    True Positives: 4323\n",
      "    True Negatives: 998\n",
      "    False Positives: 63\n",
      "    False Negatives: 61\n",
      "    Precision: 0.9856\n",
      "    Recall: 0.9861\n"
     ]
    },
    {
     "name": "stderr",
     "output_type": "stream",
     "text": [
      "Epoch 27/50 Training: 100%|█████████████████████████████████████████████████████████████████████████████████████████████████████████████████| 681/681 [00:28<00:00, 24.31it/s]\n"
     ]
    },
    {
     "name": "stdout",
     "output_type": "stream",
     "text": [
      "Epoch 27:\n",
      "  Train Loss = 0.0380, Val Loss = 0.0761\n",
      "  Val Accuracy = 97.67%, F1-Score = 0.9766, Balanced Acc = 0.9609\n",
      "  Class 0 Metrics:\n",
      "    True Positives: 4326\n",
      "    True Negatives: 992\n",
      "    False Positives: 69\n",
      "    False Negatives: 58\n",
      "    Precision: 0.9843\n",
      "    Recall: 0.9868\n"
     ]
    },
    {
     "name": "stderr",
     "output_type": "stream",
     "text": [
      "Epoch 28/50 Training: 100%|█████████████████████████████████████████████████████████████████████████████████████████████████████████████████| 681/681 [00:27<00:00, 24.42it/s]\n"
     ]
    },
    {
     "name": "stdout",
     "output_type": "stream",
     "text": [
      "Epoch 28:\n",
      "  Train Loss = 0.0354, Val Loss = 0.0826\n",
      "  Val Accuracy = 97.67%, F1-Score = 0.9768, Balanced Acc = 0.9680\n",
      "  Class 0 Metrics:\n",
      "    True Positives: 4306\n",
      "    True Negatives: 1012\n",
      "    False Positives: 49\n",
      "    False Negatives: 78\n",
      "    Precision: 0.9887\n",
      "    Recall: 0.9822\n"
     ]
    },
    {
     "name": "stderr",
     "output_type": "stream",
     "text": [
      "Epoch 29/50 Training: 100%|█████████████████████████████████████████████████████████████████████████████████████████████████████████████████| 681/681 [00:28<00:00, 24.08it/s]\n"
     ]
    },
    {
     "name": "stdout",
     "output_type": "stream",
     "text": [
      "Epoch 29:\n",
      "  Train Loss = 0.0378, Val Loss = 0.0792\n",
      "  Val Accuracy = 97.67%, F1-Score = 0.9766, Balanced Acc = 0.9584\n",
      "  Class 0 Metrics:\n",
      "    True Positives: 4333\n",
      "    True Negatives: 985\n",
      "    False Positives: 76\n",
      "    False Negatives: 51\n",
      "    Precision: 0.9828\n",
      "    Recall: 0.9884\n"
     ]
    },
    {
     "name": "stderr",
     "output_type": "stream",
     "text": [
      "Epoch 30/50 Training: 100%|█████████████████████████████████████████████████████████████████████████████████████████████████████████████████| 681/681 [00:28<00:00, 23.75it/s]\n"
     ]
    },
    {
     "name": "stdout",
     "output_type": "stream",
     "text": [
      "Epoch 30:\n",
      "  Train Loss = 0.0336, Val Loss = 0.0782\n",
      "  Val Accuracy = 97.67%, F1-Score = 0.9767, Balanced Acc = 0.9655\n",
      "  Class 0 Metrics:\n",
      "    True Positives: 4313\n",
      "    True Negatives: 1005\n",
      "    False Positives: 56\n",
      "    False Negatives: 71\n",
      "    Precision: 0.9872\n",
      "    Recall: 0.9838\n"
     ]
    },
    {
     "name": "stderr",
     "output_type": "stream",
     "text": [
      "Epoch 31/50 Training: 100%|█████████████████████████████████████████████████████████████████████████████████████████████████████████████████| 681/681 [00:28<00:00, 24.21it/s]\n"
     ]
    },
    {
     "name": "stdout",
     "output_type": "stream",
     "text": [
      "Epoch 31:\n",
      "  Train Loss = 0.0278, Val Loss = 0.0915\n",
      "  Val Accuracy = 97.48%, F1-Score = 0.9749, Balanced Acc = 0.9637\n",
      "  Class 0 Metrics:\n",
      "    True Positives: 4305\n",
      "    True Negatives: 1003\n",
      "    False Positives: 58\n",
      "    False Negatives: 79\n",
      "    Precision: 0.9867\n",
      "    Recall: 0.9820\n"
     ]
    },
    {
     "name": "stderr",
     "output_type": "stream",
     "text": [
      "Epoch 32/50 Training: 100%|█████████████████████████████████████████████████████████████████████████████████████████████████████████████████| 681/681 [00:28<00:00, 24.08it/s]\n"
     ]
    },
    {
     "name": "stdout",
     "output_type": "stream",
     "text": [
      "Epoch 32:\n",
      "  Train Loss = 0.0271, Val Loss = 0.0929\n",
      "  Val Accuracy = 97.43%, F1-Score = 0.9744, Balanced Acc = 0.9622\n",
      "  Class 0 Metrics:\n",
      "    True Positives: 4305\n",
      "    True Negatives: 1000\n",
      "    False Positives: 61\n",
      "    False Negatives: 79\n",
      "    Precision: 0.9860\n",
      "    Recall: 0.9820\n"
     ]
    },
    {
     "name": "stderr",
     "output_type": "stream",
     "text": [
      "Epoch 33/50 Training: 100%|█████████████████████████████████████████████████████████████████████████████████████████████████████████████████| 681/681 [00:28<00:00, 24.21it/s]\n"
     ]
    },
    {
     "name": "stdout",
     "output_type": "stream",
     "text": [
      "Epoch 33:\n",
      "  Train Loss = 0.0265, Val Loss = 0.0830\n",
      "  Val Accuracy = 97.63%, F1-Score = 0.9763, Balanced Acc = 0.9603\n",
      "  Class 0 Metrics:\n",
      "    True Positives: 4325\n",
      "    True Negatives: 991\n",
      "    False Positives: 70\n",
      "    False Negatives: 59\n",
      "    Precision: 0.9841\n",
      "    Recall: 0.9865\n"
     ]
    },
    {
     "name": "stderr",
     "output_type": "stream",
     "text": [
      "Epoch 34/50 Training: 100%|█████████████████████████████████████████████████████████████████████████████████████████████████████████████████| 681/681 [00:28<00:00, 24.14it/s]\n"
     ]
    },
    {
     "name": "stdout",
     "output_type": "stream",
     "text": [
      "Epoch 34:\n",
      "  Train Loss = 0.0230, Val Loss = 0.0831\n",
      "  Val Accuracy = 97.78%, F1-Score = 0.9778, Balanced Acc = 0.9666\n",
      "  Class 0 Metrics:\n",
      "    True Positives: 4318\n",
      "    True Negatives: 1006\n",
      "    False Positives: 55\n",
      "    False Negatives: 66\n",
      "    Precision: 0.9874\n",
      "    Recall: 0.9849\n"
     ]
    },
    {
     "name": "stderr",
     "output_type": "stream",
     "text": [
      "Epoch 35/50 Training: 100%|█████████████████████████████████████████████████████████████████████████████████████████████████████████████████| 681/681 [00:27<00:00, 24.47it/s]\n"
     ]
    },
    {
     "name": "stdout",
     "output_type": "stream",
     "text": [
      "Epoch 35:\n",
      "  Train Loss = 0.0192, Val Loss = 0.1059\n",
      "  Val Accuracy = 97.69%, F1-Score = 0.9769, Balanced Acc = 0.9649\n",
      "  Class 0 Metrics:\n",
      "    True Positives: 4316\n",
      "    True Negatives: 1003\n",
      "    False Positives: 58\n",
      "    False Negatives: 68\n",
      "    Precision: 0.9867\n",
      "    Recall: 0.9845\n"
     ]
    },
    {
     "name": "stderr",
     "output_type": "stream",
     "text": [
      "Epoch 36/50 Training: 100%|█████████████████████████████████████████████████████████████████████████████████████████████████████████████████| 681/681 [00:28<00:00, 24.12it/s]\n"
     ]
    },
    {
     "name": "stdout",
     "output_type": "stream",
     "text": [
      "Epoch 36:\n",
      "  Train Loss = 0.0183, Val Loss = 0.0905\n",
      "  Val Accuracy = 97.92%, F1-Score = 0.9793, Balanced Acc = 0.9671\n",
      "  Class 0 Metrics:\n",
      "    True Positives: 4327\n",
      "    True Negatives: 1005\n",
      "    False Positives: 56\n",
      "    False Negatives: 57\n",
      "    Precision: 0.9872\n",
      "    Recall: 0.9870\n"
     ]
    },
    {
     "name": "stderr",
     "output_type": "stream",
     "text": [
      "Epoch 37/50 Training: 100%|█████████████████████████████████████████████████████████████████████████████████████████████████████████████████| 681/681 [00:28<00:00, 23.99it/s]\n"
     ]
    },
    {
     "name": "stdout",
     "output_type": "stream",
     "text": [
      "Epoch 37:\n",
      "  Train Loss = 0.0172, Val Loss = 0.0965\n",
      "  Val Accuracy = 97.76%, F1-Score = 0.9776, Balanced Acc = 0.9632\n",
      "  Class 0 Metrics:\n",
      "    True Positives: 4326\n",
      "    True Negatives: 997\n",
      "    False Positives: 64\n",
      "    False Negatives: 58\n",
      "    Precision: 0.9854\n",
      "    Recall: 0.9868\n"
     ]
    },
    {
     "name": "stderr",
     "output_type": "stream",
     "text": [
      "Epoch 38/50 Training: 100%|█████████████████████████████████████████████████████████████████████████████████████████████████████████████████| 681/681 [00:28<00:00, 24.04it/s]\n"
     ]
    },
    {
     "name": "stdout",
     "output_type": "stream",
     "text": [
      "Epoch 38:\n",
      "  Train Loss = 0.0153, Val Loss = 0.1093\n",
      "  Val Accuracy = 97.67%, F1-Score = 0.9766, Balanced Acc = 0.9591\n",
      "  Class 0 Metrics:\n",
      "    True Positives: 4331\n",
      "    True Negatives: 987\n",
      "    False Positives: 74\n",
      "    False Negatives: 53\n",
      "    Precision: 0.9832\n",
      "    Recall: 0.9879\n"
     ]
    },
    {
     "name": "stderr",
     "output_type": "stream",
     "text": [
      "Epoch 39/50 Training: 100%|█████████████████████████████████████████████████████████████████████████████████████████████████████████████████| 681/681 [00:27<00:00, 24.50it/s]\n"
     ]
    },
    {
     "name": "stdout",
     "output_type": "stream",
     "text": [
      "Epoch 39:\n",
      "  Train Loss = 0.0140, Val Loss = 0.0997\n",
      "  Val Accuracy = 97.63%, F1-Score = 0.9763, Balanced Acc = 0.9617\n",
      "  Class 0 Metrics:\n",
      "    True Positives: 4321\n",
      "    True Negatives: 995\n",
      "    False Positives: 66\n",
      "    False Negatives: 63\n",
      "    Precision: 0.9850\n",
      "    Recall: 0.9856\n"
     ]
    },
    {
     "name": "stderr",
     "output_type": "stream",
     "text": [
      "Epoch 40/50 Training: 100%|█████████████████████████████████████████████████████████████████████████████████████████████████████████████████| 681/681 [00:27<00:00, 24.37it/s]\n"
     ]
    },
    {
     "name": "stdout",
     "output_type": "stream",
     "text": [
      "Epoch 40:\n",
      "  Train Loss = 0.0122, Val Loss = 0.1156\n",
      "  Val Accuracy = 97.67%, F1-Score = 0.9768, Balanced Acc = 0.9669\n",
      "  Class 0 Metrics:\n",
      "    True Positives: 4309\n",
      "    True Negatives: 1009\n",
      "    False Positives: 52\n",
      "    False Negatives: 75\n",
      "    Precision: 0.9881\n",
      "    Recall: 0.9829\n"
     ]
    },
    {
     "name": "stderr",
     "output_type": "stream",
     "text": [
      "Epoch 41/50 Training: 100%|█████████████████████████████████████████████████████████████████████████████████████████████████████████████████| 681/681 [00:28<00:00, 24.22it/s]\n"
     ]
    },
    {
     "name": "stdout",
     "output_type": "stream",
     "text": [
      "Epoch 41:\n",
      "  Train Loss = 0.0116, Val Loss = 0.1175\n",
      "  Val Accuracy = 97.65%, F1-Score = 0.9766, Balanced Acc = 0.9658\n",
      "  Class 0 Metrics:\n",
      "    True Positives: 4311\n",
      "    True Negatives: 1006\n",
      "    False Positives: 55\n",
      "    False Negatives: 73\n",
      "    Precision: 0.9874\n",
      "    Recall: 0.9833\n"
     ]
    },
    {
     "name": "stderr",
     "output_type": "stream",
     "text": [
      "Epoch 42/50 Training: 100%|█████████████████████████████████████████████████████████████████████████████████████████████████████████████████| 681/681 [00:28<00:00, 24.12it/s]\n"
     ]
    },
    {
     "name": "stdout",
     "output_type": "stream",
     "text": [
      "Epoch 42:\n",
      "  Train Loss = 0.0098, Val Loss = 0.1221\n",
      "  Val Accuracy = 97.58%, F1-Score = 0.9758, Balanced Acc = 0.9614\n",
      "  Class 0 Metrics:\n",
      "    True Positives: 4318\n",
      "    True Negatives: 995\n",
      "    False Positives: 66\n",
      "    False Negatives: 66\n",
      "    Precision: 0.9849\n",
      "    Recall: 0.9849\n"
     ]
    },
    {
     "name": "stderr",
     "output_type": "stream",
     "text": [
      "Epoch 43/50 Training: 100%|█████████████████████████████████████████████████████████████████████████████████████████████████████████████████| 681/681 [00:28<00:00, 24.20it/s]\n"
     ]
    },
    {
     "name": "stdout",
     "output_type": "stream",
     "text": [
      "Epoch 43:\n",
      "  Train Loss = 0.0099, Val Loss = 0.1207\n",
      "  Val Accuracy = 97.59%, F1-Score = 0.9760, Balanced Acc = 0.9633\n",
      "  Class 0 Metrics:\n",
      "    True Positives: 4314\n",
      "    True Negatives: 1000\n",
      "    False Positives: 61\n",
      "    False Negatives: 70\n",
      "    Precision: 0.9861\n",
      "    Recall: 0.9840\n"
     ]
    },
    {
     "name": "stderr",
     "output_type": "stream",
     "text": [
      "Epoch 44/50 Training: 100%|█████████████████████████████████████████████████████████████████████████████████████████████████████████████████| 681/681 [00:28<00:00, 24.26it/s]\n"
     ]
    },
    {
     "name": "stdout",
     "output_type": "stream",
     "text": [
      "Epoch 44:\n",
      "  Train Loss = 0.0081, Val Loss = 0.1342\n",
      "  Val Accuracy = 97.58%, F1-Score = 0.9758, Balanced Acc = 0.9624\n",
      "  Class 0 Metrics:\n",
      "    True Positives: 4315\n",
      "    True Negatives: 998\n",
      "    False Positives: 63\n",
      "    False Negatives: 69\n",
      "    Precision: 0.9856\n",
      "    Recall: 0.9843\n"
     ]
    },
    {
     "name": "stderr",
     "output_type": "stream",
     "text": [
      "Epoch 45/50 Training: 100%|█████████████████████████████████████████████████████████████████████████████████████████████████████████████████| 681/681 [00:28<00:00, 24.23it/s]\n"
     ]
    },
    {
     "name": "stdout",
     "output_type": "stream",
     "text": [
      "Epoch 45:\n",
      "  Train Loss = 0.0075, Val Loss = 0.1366\n",
      "  Val Accuracy = 97.56%, F1-Score = 0.9756, Balanced Acc = 0.9638\n",
      "  Class 0 Metrics:\n",
      "    True Positives: 4310\n",
      "    True Negatives: 1002\n",
      "    False Positives: 59\n",
      "    False Negatives: 74\n",
      "    Precision: 0.9865\n",
      "    Recall: 0.9831\n"
     ]
    },
    {
     "name": "stderr",
     "output_type": "stream",
     "text": [
      "Epoch 46/50 Training: 100%|█████████████████████████████████████████████████████████████████████████████████████████████████████████████████| 681/681 [00:28<00:00, 24.14it/s]\n"
     ]
    },
    {
     "name": "stdout",
     "output_type": "stream",
     "text": [
      "Epoch 46:\n",
      "  Train Loss = 0.0069, Val Loss = 0.1397\n",
      "  Val Accuracy = 97.56%, F1-Score = 0.9756, Balanced Acc = 0.9638\n",
      "  Class 0 Metrics:\n",
      "    True Positives: 4310\n",
      "    True Negatives: 1002\n",
      "    False Positives: 59\n",
      "    False Negatives: 74\n",
      "    Precision: 0.9865\n",
      "    Recall: 0.9831\n"
     ]
    },
    {
     "name": "stderr",
     "output_type": "stream",
     "text": [
      "Epoch 47/50 Training: 100%|█████████████████████████████████████████████████████████████████████████████████████████████████████████████████| 681/681 [00:28<00:00, 23.97it/s]\n"
     ]
    },
    {
     "name": "stdout",
     "output_type": "stream",
     "text": [
      "Epoch 47:\n",
      "  Train Loss = 0.0066, Val Loss = 0.1499\n",
      "  Val Accuracy = 97.56%, F1-Score = 0.9756, Balanced Acc = 0.9602\n",
      "  Class 0 Metrics:\n",
      "    True Positives: 4320\n",
      "    True Negatives: 992\n",
      "    False Positives: 69\n",
      "    False Negatives: 64\n",
      "    Precision: 0.9843\n",
      "    Recall: 0.9854\n"
     ]
    },
    {
     "name": "stderr",
     "output_type": "stream",
     "text": [
      "Epoch 48/50 Training: 100%|█████████████████████████████████████████████████████████████████████████████████████████████████████████████████| 681/681 [00:27<00:00, 24.49it/s]\n"
     ]
    },
    {
     "name": "stdout",
     "output_type": "stream",
     "text": [
      "Epoch 48:\n",
      "  Train Loss = 0.0063, Val Loss = 0.1511\n",
      "  Val Accuracy = 97.54%, F1-Score = 0.9754, Balanced Acc = 0.9608\n",
      "  Class 0 Metrics:\n",
      "    True Positives: 4317\n",
      "    True Negatives: 994\n",
      "    False Positives: 67\n",
      "    False Negatives: 67\n",
      "    Precision: 0.9847\n",
      "    Recall: 0.9847\n"
     ]
    },
    {
     "name": "stderr",
     "output_type": "stream",
     "text": [
      "Epoch 49/50 Training: 100%|█████████████████████████████████████████████████████████████████████████████████████████████████████████████████| 681/681 [00:28<00:00, 23.90it/s]\n"
     ]
    },
    {
     "name": "stdout",
     "output_type": "stream",
     "text": [
      "Epoch 49:\n",
      "  Train Loss = 0.0061, Val Loss = 0.1510\n",
      "  Val Accuracy = 97.59%, F1-Score = 0.9759, Balanced Acc = 0.9615\n",
      "  Class 0 Metrics:\n",
      "    True Positives: 4319\n",
      "    True Negatives: 995\n",
      "    False Positives: 66\n",
      "    False Negatives: 65\n",
      "    Precision: 0.9849\n",
      "    Recall: 0.9852\n"
     ]
    },
    {
     "name": "stderr",
     "output_type": "stream",
     "text": [
      "Epoch 50/50 Training: 100%|█████████████████████████████████████████████████████████████████████████████████████████████████████████████████| 681/681 [00:28<00:00, 24.21it/s]\n"
     ]
    },
    {
     "name": "stdout",
     "output_type": "stream",
     "text": [
      "Epoch 50:\n",
      "  Train Loss = 0.0060, Val Loss = 0.1513\n",
      "  Val Accuracy = 97.56%, F1-Score = 0.9756, Balanced Acc = 0.9613\n",
      "  Class 0 Metrics:\n",
      "    True Positives: 4317\n",
      "    True Negatives: 995\n",
      "    False Positives: 66\n",
      "    False Negatives: 67\n",
      "    Precision: 0.9849\n",
      "    Recall: 0.9847\n"
     ]
    },
    {
     "ename": "ValueError",
     "evalue": "too many values to unpack (expected 4)",
     "output_type": "error",
     "traceback": [
      "\u001b[0;31m---------------------------------------------------------------------------\u001b[0m",
      "\u001b[0;31mValueError\u001b[0m                                Traceback (most recent call last)",
      "Cell \u001b[0;32mIn[16], line 58\u001b[0m\n\u001b[1;32m     56\u001b[0m model \u001b[38;5;241m=\u001b[39m model\u001b[38;5;241m.\u001b[39mto(device)\n\u001b[1;32m     57\u001b[0m \u001b[38;5;66;03m# Train model\u001b[39;00m\n\u001b[0;32m---> 58\u001b[0m train_losses, val_accuracies, val_preds, val_true \u001b[38;5;241m=\u001b[39m train_model(\n\u001b[1;32m     59\u001b[0m     model, train_loader, val_loader, device\n\u001b[1;32m     60\u001b[0m )\n",
      "\u001b[0;31mValueError\u001b[0m: too many values to unpack (expected 4)"
     ]
    }
   ],
   "source": [
    "# Set random seed for reproducibility\n",
    "torch.manual_seed(42)\n",
    "DEVICE = \"cuda:7\"\n",
    "# Device configuration\n",
    "device = torch.device(DEVICE if torch.cuda.is_available() else 'cpu')\n",
    "print(f\"Using device: {device}\")\n",
    "classes = [0, 1]\n",
    "mean, std = compute_normalization_stats('dataset/brightfield_particles.hdf5', classes=classes)\n",
    "# Load and split dataset\n",
    "dataset = ParticleDataset(h5_path='dataset/brightfield_particles.hdf5',\n",
    "                          classes=classes,\n",
    "                          mean=mean,\n",
    "                          std=std\n",
    "                         )\n",
    "train_size = int(0.8 * len(dataset))\n",
    "val_size = len(dataset) - train_size\n",
    "train_dataset, val_dataset = torch.utils.data.random_split(\n",
    "    dataset, [train_size, val_size]\n",
    ")\n",
    "_,c=np.unique(dataset.labels[train_dataset.indices],return_counts=True)\n",
    "print(c[1]/(c[0]+c[1]))\n",
    "_,c=np.unique(dataset.labels[val_dataset.indices],return_counts=True)\n",
    "print(c[1]/(c[0]+c[1]))\n",
    "# Create data loaders\n",
    "train_loader = DataLoader(\n",
    "    train_dataset, \n",
    "    batch_size=32,\n",
    "    shuffle=True,\n",
    "    num_workers=6,\n",
    "    pin_memory=True\n",
    ")\n",
    "\n",
    "val_loader = DataLoader(\n",
    "    val_dataset,\n",
    "    batch_size=32,\n",
    "    shuffle=False,\n",
    "    num_workers=6,\n",
    "    pin_memory=True\n",
    ")\n",
    "\n",
    "# Initialize model\n",
    "# model = ModifiedViT(num_classes=len(classes))\n",
    "# model = model.to(device)\n",
    "model = ModifiedVisionTransformer(\n",
    "    image_height=16,  # can be different from width\n",
    "    image_width=192,   # rectangular image\n",
    "    patch_height=16,   # patch can also be rectangular\n",
    "    patch_width=12,\n",
    "    num_layers=12,\n",
    "    num_heads=12,\n",
    "    hidden_dim=768,\n",
    "    mlp_dim=3072,\n",
    "    num_classes=2,\n",
    "    in_channels=1  # for single-channel images\n",
    ")\n",
    "model = model.to(device)\n",
    "# Train model\n",
    "train_losses, val_accuracies, val_preds, val_true = train_model(\n",
    "    model, train_loader, val_loader, device\n",
    ")\n"
   ]
  },
  {
   "cell_type": "code",
   "execution_count": null,
   "id": "8e8fd466-a9f6-461f-8520-680b2df9ef94",
   "metadata": {},
   "outputs": [],
   "source": [
    "train_losses, val_accuracies, val_preds, val_true"
   ]
  },
  {
   "cell_type": "code",
   "execution_count": 51,
   "id": "875950e8-432c-4829-9437-092f028a6c4f",
   "metadata": {},
   "outputs": [
    {
     "data": {
      "text/plain": [
       "torch.Size([32, 13, 16, 16])"
      ]
     },
     "execution_count": 51,
     "metadata": {},
     "output_type": "execute_result"
    }
   ],
   "source": [
    "a=nn.Conv2d(\n",
    "                in_channels=1, \n",
    "                out_channels=13, \n",
    "                kernel_size=(1,12), \n",
    "                stride=(1,12)\n",
    "            )\n",
    "a(torch.rand((32,1,16,192))).shape"
   ]
  },
  {
   "cell_type": "code",
   "execution_count": 52,
   "id": "225decf9-edf9-4cfe-9cf5-862d0d044c3d",
   "metadata": {},
   "outputs": [
    {
     "data": {
      "text/plain": [
       "torch.Size([32, 13, 16, 16])"
      ]
     },
     "execution_count": 52,
     "metadata": {},
     "output_type": "execute_result"
    }
   ],
   "source": [
    "a=nn.Conv2d(\n",
    "                in_channels=1, \n",
    "                out_channels=13, \n",
    "                kernel_size=16, \n",
    "                stride=16\n",
    "            )\n",
    "a(torch.rand((32,1,256,256))).shape"
   ]
  },
  {
   "cell_type": "code",
   "execution_count": null,
   "id": "bd493701-4eab-4800-a4c4-35911da61ef2",
   "metadata": {},
   "outputs": [],
   "source": [
    "# Plot results\n",
    "plot_training_results(train_losses, val_accuracies, val_preds, val_true)\n",
    "\n",
    "# Close HDF5 file\n",
    "dataset.close()"
   ]
  },
  {
   "cell_type": "code",
   "execution_count": null,
   "id": "d2df6bd1-2bba-449c-8968-77d7136e0bf1",
   "metadata": {},
   "outputs": [],
   "source": [
    "dataset = ParticleDataset('dataset/brightfield_particles.hdf5')"
   ]
  },
  {
   "cell_type": "code",
   "execution_count": null,
   "id": "44b83901-db74-4e9e-bd36-464ba6c04b75",
   "metadata": {},
   "outputs": [],
   "source": [
    "from torchvision.transforms import Resize\n",
    "import torch\n",
    "import matplotlib.pyplot as plt\n",
    "with h5py.File('dataset/brightfield_particles.hdf5', 'r') as f:\n",
    "    particle_1 = f['data'][f['labels'][:]==0,:][4]\n",
    "    particle_2 = f['data'][f['labels'][:]==1,:][20]\n",
    "img = torch.Tensor(particle_1)\n",
    "print(img.shape)\n",
    "img = Resize((16,192))(img.unsqueeze(0))\n",
    "img = img.squeeze(0)\n",
    "fig, ax = plt.subplots(1, 1, figsize=(30, 5), dpi=300) \n",
    "plt.axis('off')\n",
    "plt.imshow(img,cmap='gray')\n",
    "plt.show()"
   ]
  },
  {
   "cell_type": "code",
   "execution_count": null,
   "id": "c274daeb-3f3b-40e6-8307-c5eaf209aede",
   "metadata": {},
   "outputs": [],
   "source": [
    "img = torch.Tensor(particle_2)\n",
    "img = Resize((16,192))(img.unsqueeze(0))\n",
    "img = img.squeeze(0)\n",
    "fig, ax = plt.subplots(1, 1, figsize=(30, 5), dpi=300) \n",
    "plt.imshow(img, cmap='gray')\n",
    "plt.axis('off')\n",
    "plt.show()"
   ]
  }
 ],
 "metadata": {
  "kernelspec": {
   "display_name": "iscat",
   "language": "python",
   "name": "iscat"
  },
  "language_info": {
   "codemirror_mode": {
    "name": "ipython",
    "version": 3
   },
   "file_extension": ".py",
   "mimetype": "text/x-python",
   "name": "python",
   "nbconvert_exporter": "python",
   "pygments_lexer": "ipython3",
   "version": "3.11.11"
  }
 },
 "nbformat": 4,
 "nbformat_minor": 5
}
