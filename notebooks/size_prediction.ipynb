{
 "cells": [
  {
   "cell_type": "code",
   "execution_count": 1,
   "id": "304c408e-95ce-4060-b991-b680dbc05be3",
   "metadata": {},
   "outputs": [
    {
     "name": "stdout",
     "output_type": "stream",
     "text": [
      "Current Directory: /workspace/iscat\n"
     ]
    }
   ],
   "source": [
    "import os\n",
    "os.chdir(\"..\")\n",
    "print(\"Current Directory:\", os.getcwd())"
   ]
  },
  {
   "cell_type": "code",
   "execution_count": 2,
   "id": "393fd44e-e38b-48b8-8d3a-f5c2ce4b18e6",
   "metadata": {},
   "outputs": [
    {
     "name": "stdout",
     "output_type": "stream",
     "text": [
      "(27282, 16, 201)\n",
      "(array([0, 1, 2]), array([22076,  5146,    60]))\n"
     ]
    }
   ],
   "source": [
    "import h5py\n",
    "import numpy as np\n",
    "particle_data_path ='dataset/brightfield_particles.hdf5'\n",
    "with h5py.File(particle_data_path , 'r') as f:\n",
    "    print(f['data'].shape)\n",
    "    print(np.unique(f['labels'],return_counts=True))"
   ]
  },
  {
   "cell_type": "code",
   "execution_count": 3,
   "id": "2ca1abc1-24c3-49d5-9039-c2086ff68d98",
   "metadata": {},
   "outputs": [],
   "source": [
    "weights = 1/np.array([22076,  5146])"
   ]
  },
  {
   "cell_type": "code",
   "execution_count": 15,
   "id": "2a691a19-8abd-42e4-b8b7-cfdb6e49d290",
   "metadata": {},
   "outputs": [],
   "source": [
    "import torch\n",
    "import torch.nn as nn\n",
    "import torch.optim as optim\n",
    "from torch.utils.data import Dataset, DataLoader\n",
    "import h5py\n",
    "import numpy as np\n",
    "# from torchvision.models import vit_b_16\n",
    "import matplotlib.pyplot as plt\n",
    "from sklearn.metrics import confusion_matrix\n",
    "from tqdm import tqdm\n",
    "from torchvision.models.vision_transformer import VisionTransformer\n",
    "import torch\n",
    "import torch.nn as nn\n",
    "import torch.optim as optim\n",
    "from torch.utils.data import DataLoader\n",
    "from sklearn.metrics import confusion_matrix, f1_score, balanced_accuracy_score\n",
    "import matplotlib.pyplot as plt\n",
    "\n",
    "def compute_normalization_stats(h5_path, classes=None):\n",
    "    \"\"\"\n",
    "    Compute mean and standard deviation for z-score normalization.\n",
    "    \n",
    "    Args:\n",
    "        h5_path (str): Path to HDF5 file\n",
    "        classes (list, optional): List of classes to include in computation\n",
    "        \n",
    "    Returns:\n",
    "        tuple: (mean, std) computed across all data points\n",
    "    \"\"\"\n",
    "    with h5py.File(h5_path, 'r') as h5_file:\n",
    "        data = h5_file['data'][:]\n",
    "        labels = h5_file['labels'][:]\n",
    "        \n",
    "        if classes is not None:\n",
    "            # Filter data for selected classes\n",
    "            mask = np.isin(labels, classes)\n",
    "            data = data[mask]\n",
    "        \n",
    "        # Compute statistics across all dimensions\n",
    "        mean = np.mean(data)\n",
    "        std = np.std(data)\n",
    "        \n",
    "        print(f\"Computed statistics: mean = {mean:.4f}, std = {std:.4f}\")\n",
    "        \n",
    "        return mean, std\n",
    "        \n",
    "class ParticleDataset(Dataset):\n",
    "    \"\"\"Custom Dataset for particle data with flexible class selection and normalization.\"\"\"\n",
    "    def __init__(self, h5_path, classes=[0, 1], transform=None, mean=None, std=None,padding=False):\n",
    "        self.h5_file = h5py.File(h5_path, 'r')\n",
    "        data = self.h5_file['data'][:]\n",
    "        labels = self.h5_file['labels'][:]\n",
    "        self.padding = padding\n",
    "        # Filter data for selected classes\n",
    "        mask = np.isin(labels, classes)\n",
    "        self.data = data[mask]\n",
    "        self.labels = labels[mask]\n",
    "        \n",
    "        # Create class mapping to handle non-consecutive class indices\n",
    "        self.class_to_idx = {c: i for i, c in enumerate(classes)}\n",
    "        self.num_classes = len(classes)\n",
    "        \n",
    "        # Map original labels to new consecutive indices\n",
    "        self.labels = np.array([self.class_to_idx[label] for label in self.labels])\n",
    "        \n",
    "        self.transform = transform\n",
    "        self.mean = mean\n",
    "        self.std = std\n",
    "        \n",
    "    def __len__(self):\n",
    "        return len(self.labels)\n",
    "    \n",
    "    # def __getitem__(self, idx):\n",
    "    #     # Get particle data\n",
    "    #     particle = self.data[idx]  # Shape: (16, 201)\n",
    "        \n",
    "    #     # Apply normalization if mean and std are provided\n",
    "    #     if self.mean is not None and self.std is not None:\n",
    "    #         particle = (particle - self.mean) / self.std\n",
    "        \n",
    "    #     # First resize to (16, 192) using cubic interpolation\n",
    "    #     # Convert to torch tensor for better interpolation\n",
    "    #     particle_tensor = torch.FloatTensor(particle).unsqueeze(0)  # Add channel dim\n",
    "    #     resized = torch.nn.functional.interpolate(\n",
    "    #         particle_tensor.unsqueeze(0),  # Add batch dim\n",
    "    #         size=(16, 192),\n",
    "    #         mode='bicubic',\n",
    "    #         align_corners=True\n",
    "    #     ).squeeze(0).squeeze(0)  # Remove batch and channel dims\n",
    "    #     if self.padding:\n",
    "    #         # Create square tensor with symmetric padding\n",
    "    #         target_size = 224\n",
    "    #         current_height = resized.shape[0]\n",
    "    #         current_width = resized.shape[1]\n",
    "        \n",
    "    #         # Calculate padding for height and width\n",
    "    #         padding_height = target_size - current_height\n",
    "    #         padding_width = target_size - current_width\n",
    "        \n",
    "    #         # Calculate symmetric padding for height\n",
    "    #         padding_top = padding_height // 2\n",
    "    #         padding_bottom = padding_height - padding_top\n",
    "        \n",
    "    #         # Calculate symmetric padding for width\n",
    "    #         padding_left = padding_width // 2\n",
    "    #         padding_right = padding_width - padding_left\n",
    "        \n",
    "    #         # Use torch's pad function for symmetric padding\n",
    "    #         padded = torch.nn.functional.pad(\n",
    "    #             resized,\n",
    "    #             (padding_left, padding_right,  # Padding in width dimension\n",
    "    #              padding_top, padding_bottom),  # Padding in height dimension\n",
    "    #             mode='constant',\n",
    "    #             value=0\n",
    "    #         )\n",
    "    #         # Add single channel dimension\n",
    "    #         final_tensor = padded.unsqueeze(0)\n",
    "    #     else:\n",
    "    #         final_tensor = resized.unsqueeze(0)\n",
    "    #     final_tensor = final_tensor.repeat(3, 1, 1)\n",
    "    #     if self.transform:\n",
    "    #         final_tensor = self.transform(final_tensor)\n",
    "        \n",
    "    #     # Create one-hot encoded label\n",
    "    #     label_idx = self.labels[idx]\n",
    "    #     label_onehot = torch.zeros(self.num_classes)\n",
    "    #     label_onehot[label_idx] = 1\n",
    "        \n",
    "    #     return final_tensor, label_onehot\n",
    "    def __getitem__(self, idx):\n",
    "        # Get particle data\n",
    "        particle = self.data[idx]  # Shape: (16, 201)\n",
    "        \n",
    "        # Apply normalization if mean and std are provided\n",
    "        if self.mean is not None and self.std is not None:\n",
    "            particle = (particle - self.mean) / self.std\n",
    "        \n",
    "        # Convert to torch tensor for better interpolation\n",
    "        particle_tensor = torch.FloatTensor(particle).unsqueeze(0)  # Add channel dim\n",
    "        \n",
    "        # Resize to (16, 16) using bicubic interpolation\n",
    "        resized = torch.nn.functional.interpolate(\n",
    "            particle_tensor.unsqueeze(0),  # Add batch dim\n",
    "            size=(16, 16),\n",
    "            mode='bicubic',\n",
    "            align_corners=True\n",
    "        ).squeeze(0).squeeze(0)  # Remove batch and channel dims\n",
    "        \n",
    "        final_tensor = resized.unsqueeze(0).repeat(3, 1, 1)  # Repeat across 3 channels\n",
    "        \n",
    "        if self.transform:\n",
    "            final_tensor = self.transform(final_tensor)\n",
    "        \n",
    "        # Create one-hot encoded label\n",
    "        label_idx = self.labels[idx]\n",
    "        label_onehot = torch.zeros(self.num_classes)\n",
    "        label_onehot[label_idx] = 1\n",
    "        \n",
    "        return final_tensor, label_onehot\n",
    "\n",
    "    def close(self):\n",
    "        self.h5_file.close()\n",
    "        \n",
    "class ModifiedViT(nn.Module):\n",
    "    def __init__(self, num_classes=2,patch_size=16,num_layers=12,num_heads=12,hidden_dim =768,mlp_dim=3072):\n",
    "        super().__init__()\n",
    "        # Load pretrained ViT\n",
    "        self.vit = VisionTransformer(image_size=192,\n",
    "        patch_size=16,\n",
    "        num_classes = num_classes,\n",
    "        num_layers=12,\n",
    "        num_heads=12,\n",
    "        hidden_dim=768,\n",
    "        mlp_dim=3072,\n",
    "    )\n",
    "        \n",
    "        self.vit.conv_proj = nn.Conv2d(\n",
    "                    in_channels=1, out_channels=hidden_dim, kernel_size=patch_size, stride=patch_size\n",
    "                ) \n",
    "    def forward(self, x):\n",
    "        return self.vit(x)\n",
    "        \n",
    "def train_model(model, train_loader, val_loader, device, num_epochs=50, weights=None, patience=20):\n",
    "    criterion = nn.CrossEntropyLoss(weight=torch.Tensor(weights).to(device)) if weights is not None else nn.CrossEntropyLoss()\n",
    "    optimizer = optim.AdamW(model.parameters(), lr=1e-4, weight_decay=0.05)\n",
    "    scheduler = optim.lr_scheduler.CosineAnnealingLR(optimizer, T_max=num_epochs)\n",
    "    \n",
    "    best_val_acc = 0.0\n",
    "    best_val_loss = float('inf')\n",
    "    train_losses = []\n",
    "    val_losses = []\n",
    "    val_accuracies = []\n",
    "    val_f1_scores = []\n",
    "    val_bal_accs = []\n",
    "    \n",
    "    early_stopping_counter = 0\n",
    "    \n",
    "    for epoch in range(num_epochs):\n",
    "        # Training Phase\n",
    "        model.train()\n",
    "        total_train_loss = 0\n",
    "        \n",
    "        for inputs, labels in tqdm(train_loader, desc=f'Epoch {epoch+1}/{num_epochs} Training'):\n",
    "            inputs, labels = inputs.to(device), labels.to(device)\n",
    "            optimizer.zero_grad()\n",
    "            outputs = model(inputs)\n",
    "            loss = criterion(outputs, labels)\n",
    "            loss.backward()\n",
    "            optimizer.step()\n",
    "            total_train_loss += loss.item()\n",
    "        \n",
    "        avg_train_loss = total_train_loss / len(train_loader)\n",
    "        train_losses.append(avg_train_loss)\n",
    "        \n",
    "        # Validation Phase\n",
    "        model.eval()\n",
    "        val_preds = []\n",
    "        val_true = []\n",
    "        total_val_loss = 0\n",
    "        \n",
    "        with torch.no_grad():\n",
    "            for inputs, labels in val_loader:\n",
    "                inputs, labels = inputs.to(device), labels.to(device)\n",
    "                outputs = model(inputs)\n",
    "                val_loss = criterion(outputs, labels)\n",
    "                total_val_loss += val_loss.item()\n",
    "                \n",
    "                predicted = torch.argmax(outputs, 1)\n",
    "                labels = torch.argmax(labels, 1)\n",
    "                val_preds.extend(predicted.cpu().numpy())\n",
    "                val_true.extend(labels.cpu().numpy())\n",
    "        \n",
    "        avg_val_loss = total_val_loss / len(val_loader)\n",
    "        val_losses.append(avg_val_loss)\n",
    "        \n",
    "        # Calculate metrics\n",
    "        val_acc = 100 * (sum([p == t for p, t in zip(val_preds, val_true)]) / len(val_true))\n",
    "        f1 = f1_score(val_true, val_preds, average='weighted')\n",
    "        bal_acc = balanced_accuracy_score(val_true, val_preds)\n",
    "        \n",
    "        # Confusion matrix metrics for class 0\n",
    "        tp = sum((np.array(val_preds) == 0) & (np.array(val_true) == 0))\n",
    "        tn = sum((np.array(val_preds) == 1) & (np.array(val_true) == 1))\n",
    "        fp = sum((np.array(val_preds) == 0) & (np.array(val_true) == 1))\n",
    "        fn = sum((np.array(val_preds) == 1) & (np.array(val_true) == 0))\n",
    "        \n",
    "        val_accuracies.append(val_acc)\n",
    "        val_f1_scores.append(f1)\n",
    "        val_bal_accs.append(bal_acc)\n",
    "        \n",
    "        # Print epoch details\n",
    "        print(f'Epoch {epoch+1}:')\n",
    "        print(f'  Train Loss = {avg_train_loss:.4f}, Val Loss = {avg_val_loss:.4f}')\n",
    "        print(f'  Val Accuracy = {val_acc:.2f}%, F1-Score = {f1:.4f}, Balanced Acc = {bal_acc:.4f}')\n",
    "        print(f'  Class 0 Metrics:')\n",
    "        print(f'    True Positives: {tp}')\n",
    "        print(f'    True Negatives: {tn}')\n",
    "        print(f'    False Positives: {fp}')\n",
    "        print(f'    False Negatives: {fn}')\n",
    "        print(f'    Precision: {tp/(tp+fp) if (tp+fp) > 0 else 0:.4f}')\n",
    "        print(f'    Recall: {tp/(tp+fn) if (tp+fn) > 0 else 0:.4f}')\n",
    "        \n",
    "        # Early Stopping and Model Saving\n",
    "        if val_acc > best_val_acc:\n",
    "            best_val_acc = val_acc\n",
    "            early_stopping_counter = 0\n",
    "            torch.save(model.state_dict(), 'best_particle_vit.pth')\n",
    "        \n",
    "        # Check for improvement in validation loss\n",
    "        if avg_val_loss < best_val_loss:\n",
    "            best_val_loss = avg_val_loss\n",
    "            early_stopping_counter = 0\n",
    "        else:\n",
    "            early_stopping_counter += 1\n",
    "        \n",
    "        # Early stopping\n",
    "        if early_stopping_counter >= patience:\n",
    "            print(f'Early stopping triggered after {epoch+1} epochs')\n",
    "            break\n",
    "        \n",
    "        scheduler.step()\n",
    "    \n",
    "    return (train_losses, val_losses, val_accuracies, \n",
    "            val_f1_scores, val_bal_accs, val_preds, val_true)\n",
    "\n",
    "def plot_training_results(train_losses, val_accuracies, val_f1_scores, val_bal_accs, val_preds, val_true):\n",
    "    fig, (ax1, ax2, ax3) = plt.subplots(1, 3, figsize=(18, 5))\n",
    "    \n",
    "    ax1.plot(train_losses, label='Loss')\n",
    "    ax1.set_title('Training Loss')\n",
    "    ax1.set_xlabel('Epoch')\n",
    "    ax1.set_ylabel('Loss')\n",
    "    ax1.legend()\n",
    "    \n",
    "    ax2.plot(val_accuracies, label='Accuracy')\n",
    "    ax2.set_title('Validation Accuracy')\n",
    "    ax2.set_xlabel('Epoch')\n",
    "    ax2.set_ylabel('Accuracy (%)')\n",
    "    ax2.legend()\n",
    "    \n",
    "    ax3.plot(val_f1_scores, label='F1-Score')\n",
    "    ax3.plot(val_bal_accs, label='Balanced Accuracy')\n",
    "    ax3.set_title('Validation Metrics')\n",
    "    ax3.set_xlabel('Epoch')\n",
    "    ax3.legend()\n",
    "    \n",
    "    plt.tight_layout()\n",
    "    plt.savefig('training_plots.png')\n",
    "    \n",
    "    cm = confusion_matrix(val_true, val_preds)\n",
    "    plt.figure(figsize=(8, 6))\n",
    "    \n",
    "    plt.imshow(cm, interpolation='nearest', cmap=plt.cm.Blues)\n",
    "    plt.title('Confusion Matrix')\n",
    "    plt.colorbar()\n",
    "    \n",
    "    # Add labels\n",
    "    tick_marks = range(len(cm))\n",
    "    plt.xticks(tick_marks)\n",
    "    plt.yticks(tick_marks)\n",
    "    \n",
    "    # Annotate each cell with the corresponding value\n",
    "    for i in range(len(cm)):\n",
    "        for j in range(len(cm[i])):\n",
    "            plt.text(j, i, str(cm[i, j]), ha='center', va='center', color='white' if cm[i, j] > cm.max() / 2 else 'black')\n",
    "    \n",
    "    plt.ylabel('True Label',family=)\n",
    "    plt.xlabel('Predicted Label')\n",
    "    plt.savefig('confusion_matrix.png')\n",
    "    plt.show()\n"
   ]
  },
  {
   "cell_type": "code",
   "execution_count": 5,
   "id": "72570529-4229-4e7d-a3bb-8e9e577e34eb",
   "metadata": {},
   "outputs": [],
   "source": [
    "import torch\n",
    "import torch.nn as nn\n",
    "import math\n",
    "from typing import Optional, Callable, List, OrderedDict\n",
    "from functools import partial\n",
    "from torchvision.models.vision_transformer import Encoder, ConvStemConfig\n",
    "\n",
    "class ModifiedVisionTransformer(nn.Module):\n",
    "    \"\"\"Modified Vision Transformer to support rectangular images and single-channel inputs.\"\"\"\n",
    "\n",
    "    def __init__(\n",
    "        self,\n",
    "        image_height: int,\n",
    "        image_width: int,\n",
    "        patch_height: int,\n",
    "        patch_width: int,\n",
    "        num_layers: int,\n",
    "        num_heads: int,\n",
    "        hidden_dim: int,\n",
    "        mlp_dim: int,\n",
    "        in_channels: int = 1,  # Support single-channel by default\n",
    "        dropout: float = 0.0,\n",
    "        attention_dropout: float = 0.0,\n",
    "        num_classes: int = 1000,\n",
    "        representation_size: Optional[int] = None,\n",
    "        norm_layer: Callable[..., torch.nn.Module] = partial(nn.LayerNorm, eps=1e-6),\n",
    "        conv_stem_configs: Optional[List[ConvStemConfig]] = None,\n",
    "    ):\n",
    "        super().__init__()\n",
    "        \n",
    "        # Remove square image assertion\n",
    "        self.image_height = image_height\n",
    "        self.image_width = image_width\n",
    "        self.patch_height = patch_height\n",
    "        self.patch_width = patch_width\n",
    "        self.hidden_dim = hidden_dim\n",
    "        self.mlp_dim = mlp_dim\n",
    "        self.attention_dropout = attention_dropout\n",
    "        self.dropout = dropout\n",
    "        self.num_classes = num_classes\n",
    "        self.representation_size = representation_size\n",
    "        self.norm_layer = norm_layer\n",
    "\n",
    "        # Modify conv_proj to handle single channel and rectangular images\n",
    "        if conv_stem_configs is not None:\n",
    "            seq_proj = nn.Sequential()\n",
    "            prev_channels = in_channels\n",
    "            for i, conv_stem_layer_config in enumerate(conv_stem_configs):\n",
    "                seq_proj.add_module(\n",
    "                    f\"conv_bn_relu_{i}\",\n",
    "                    Conv2dNormActivation(\n",
    "                        in_channels=prev_channels,\n",
    "                        out_channels=conv_stem_layer_config.out_channels,\n",
    "                        kernel_size=conv_stem_layer_config.kernel_size,\n",
    "                        stride=conv_stem_layer_config.stride,\n",
    "                        norm_layer=conv_stem_layer_config.norm_layer,\n",
    "                        activation_layer=conv_stem_layer_config.activation_layer,\n",
    "                    ),\n",
    "                )\n",
    "                prev_channels = conv_stem_layer_config.out_channels\n",
    "            seq_proj.add_module(\n",
    "                \"conv_last\", nn.Conv2d(in_channels=prev_channels, out_channels=hidden_dim, kernel_size=1)\n",
    "            )\n",
    "            self.conv_proj: nn.Module = seq_proj\n",
    "        else:\n",
    "            self.conv_proj = nn.Conv2d(\n",
    "                in_channels=in_channels, \n",
    "                out_channels=hidden_dim, \n",
    "                kernel_size=(patch_height, patch_width), \n",
    "                stride=(patch_height, patch_width)\n",
    "            )\n",
    "\n",
    "        # Calculate sequence length for rectangular images\n",
    "        seq_length = (image_height // patch_height) * (image_width // patch_width)\n",
    "\n",
    "        # Add a class token\n",
    "        self.class_token = nn.Parameter(torch.zeros(1, 1, hidden_dim))\n",
    "        seq_length += 1\n",
    "\n",
    "        self.encoder = Encoder(\n",
    "            seq_length,\n",
    "            num_layers,\n",
    "            num_heads,\n",
    "            hidden_dim,\n",
    "            mlp_dim,\n",
    "            dropout,\n",
    "            attention_dropout,\n",
    "            norm_layer,\n",
    "        )\n",
    "        self.seq_length = seq_length\n",
    "\n",
    "        # Rest of the initialization remains the same as the original implementation\n",
    "        heads_layers: OrderedDict[str, nn.Module] = OrderedDict()\n",
    "        if representation_size is None:\n",
    "            heads_layers[\"head\"] = nn.Linear(hidden_dim, num_classes)\n",
    "        else:\n",
    "            heads_layers[\"pre_logits\"] = nn.Linear(hidden_dim, representation_size)\n",
    "            heads_layers[\"act\"] = nn.Tanh()\n",
    "            heads_layers[\"head\"] = nn.Linear(representation_size, num_classes)\n",
    "\n",
    "        self.heads = nn.Sequential(heads_layers)\n",
    "\n",
    "        # Weight initialization (similar to original)\n",
    "        if isinstance(self.conv_proj, nn.Conv2d):\n",
    "            fan_in = self.conv_proj.in_channels * self.conv_proj.kernel_size[0] * self.conv_proj.kernel_size[1]\n",
    "            nn.init.trunc_normal_(self.conv_proj.weight, std=math.sqrt(1 / fan_in))\n",
    "            if self.conv_proj.bias is not None:\n",
    "                nn.init.zeros_(self.conv_proj.bias)\n",
    "\n",
    "        # Other initializations remain the same...\n",
    "\n",
    "    def _process_input(self, x: torch.Tensor) -> torch.Tensor:\n",
    "        n, c, h, w = x.shape\n",
    "        \n",
    "        # Remove assertions for square images\n",
    "        n_h = h // self.patch_height\n",
    "        n_w = w // self.patch_width\n",
    "\n",
    "        # (n, c, h, w) -> (n, hidden_dim, n_h, n_w)\n",
    "        x = self.conv_proj(x)\n",
    "        # (n, hidden_dim, n_h, n_w) -> (n, hidden_dim, (n_h * n_w))\n",
    "        x = x.reshape(n, self.hidden_dim, n_h * n_w)\n",
    "\n",
    "        # Permute to self-attention expected format\n",
    "        x = x.permute(0, 2, 1)\n",
    "\n",
    "        return x\n",
    "    def forward(self, x: torch.Tensor):\n",
    "        # Reshape and permute the input tensor\n",
    "        x = self._process_input(x)\n",
    "        n = x.shape[0]\n",
    "\n",
    "        # Expand the class token to the full batch\n",
    "        batch_class_token = self.class_token.expand(n, -1, -1)\n",
    "        x = torch.cat([batch_class_token, x], dim=1)\n",
    "\n",
    "        x = self.encoder(x)\n",
    "\n",
    "        # Classifier \"token\" as used by standard language architectures\n",
    "        x = x[:, 0]\n",
    "\n",
    "        x = self.heads(x)\n",
    "\n",
    "        return x"
   ]
  },
  {
   "cell_type": "code",
   "execution_count": 6,
   "id": "3c414325-5837-4117-b88c-84a77ea45615",
   "metadata": {},
   "outputs": [
    {
     "name": "stderr",
     "output_type": "stream",
     "text": [
      "Using cache found in /root/.cache/torch/hub/pytorch_vision_v0.10.0\n",
      "/root/miniconda3/envs/iscat/lib/python3.11/site-packages/torchvision/models/_utils.py:208: UserWarning: The parameter 'pretrained' is deprecated since 0.13 and may be removed in the future, please use 'weights' instead.\n",
      "  warnings.warn(\n",
      "/root/miniconda3/envs/iscat/lib/python3.11/site-packages/torchvision/models/_utils.py:223: UserWarning: Arguments other than a weight enum or `None` for 'weights' are deprecated since 0.13 and may be removed in the future. The current behavior is equivalent to passing `weights=None`.\n",
      "  warnings.warn(msg)\n"
     ]
    }
   ],
   "source": [
    "resnet = torch.hub.load('pytorch/vision:v0.10.0', 'resnet18', pretrained=False)\n",
    "\n",
    "# Modify the final fully connected layer (classifier head)\n",
    "resnet .fc = nn.Linear(resnet.fc.in_features, 2)"
   ]
  },
  {
   "cell_type": "code",
   "execution_count": 7,
   "id": "169f6d6e-ebf8-435a-b140-d782fa016478",
   "metadata": {},
   "outputs": [
    {
     "ename": "NameError",
     "evalue": "name 'dataset' is not defined",
     "output_type": "error",
     "traceback": [
      "\u001b[0;31m---------------------------------------------------------------------------\u001b[0m",
      "\u001b[0;31mNameError\u001b[0m                                 Traceback (most recent call last)",
      "Cell \u001b[0;32mIn[7], line 1\u001b[0m\n\u001b[0;32m----> 1\u001b[0m dataset[\u001b[38;5;241m0\u001b[39m][\u001b[38;5;241m0\u001b[39m]\u001b[38;5;241m.\u001b[39mshape\n",
      "\u001b[0;31mNameError\u001b[0m: name 'dataset' is not defined"
     ]
    }
   ],
   "source": [
    "dataset[0][0].shape"
   ]
  },
  {
   "cell_type": "code",
   "execution_count": 10,
   "id": "ca7c0ccc-ecbb-4835-9d3b-9e5266dba96e",
   "metadata": {},
   "outputs": [
    {
     "name": "stdout",
     "output_type": "stream",
     "text": [
      "Using device: cuda:6\n",
      "Computed statistics: mean = 7077.7081, std = 1176.7393\n",
      "0.1875832300133168\n",
      "0.1948576675849403\n"
     ]
    },
    {
     "name": "stderr",
     "output_type": "stream",
     "text": [
      "Epoch 1/50 Training: 100%|██████████████████████████████████████████████████████████████████████████████████████████████████████████████████| 681/681 [00:08<00:00, 78.22it/s]\n"
     ]
    },
    {
     "name": "stdout",
     "output_type": "stream",
     "text": [
      "Epoch 1:\n",
      "  Train Loss = 0.0422, Val Loss = 0.0723\n",
      "  Val Accuracy = 97.67%, F1-Score = 0.9764, Balanced Acc = 0.9512\n",
      "  Class 0 Metrics:\n",
      "    True Positives: 4353\n",
      "    True Negatives: 965\n",
      "    False Positives: 96\n",
      "    False Negatives: 31\n",
      "    Precision: 0.9784\n",
      "    Recall: 0.9929\n"
     ]
    },
    {
     "name": "stderr",
     "output_type": "stream",
     "text": [
      "Epoch 2/50 Training: 100%|██████████████████████████████████████████████████████████████████████████████████████████████████████████████████| 681/681 [00:08<00:00, 78.78it/s]\n"
     ]
    },
    {
     "name": "stdout",
     "output_type": "stream",
     "text": [
      "Epoch 2:\n",
      "  Train Loss = 0.0418, Val Loss = 0.0912\n",
      "  Val Accuracy = 96.90%, F1-Score = 0.9683, Balanced Acc = 0.9300\n",
      "  Class 0 Metrics:\n",
      "    True Positives: 4357\n",
      "    True Negatives: 919\n",
      "    False Positives: 142\n",
      "    False Negatives: 27\n",
      "    Precision: 0.9684\n",
      "    Recall: 0.9938\n"
     ]
    },
    {
     "name": "stderr",
     "output_type": "stream",
     "text": [
      "Epoch 3/50 Training: 100%|██████████████████████████████████████████████████████████████████████████████████████████████████████████████████| 681/681 [00:08<00:00, 80.43it/s]\n"
     ]
    },
    {
     "name": "stdout",
     "output_type": "stream",
     "text": [
      "Epoch 3:\n",
      "  Train Loss = 0.0420, Val Loss = 0.0843\n",
      "  Val Accuracy = 97.15%, F1-Score = 0.9719, Balanced Acc = 0.9698\n",
      "  Class 0 Metrics:\n",
      "    True Positives: 4264\n",
      "    True Negatives: 1026\n",
      "    False Positives: 35\n",
      "    False Negatives: 120\n",
      "    Precision: 0.9919\n",
      "    Recall: 0.9726\n"
     ]
    },
    {
     "name": "stderr",
     "output_type": "stream",
     "text": [
      "Epoch 4/50 Training: 100%|██████████████████████████████████████████████████████████████████████████████████████████████████████████████████| 681/681 [00:08<00:00, 79.80it/s]\n"
     ]
    },
    {
     "name": "stdout",
     "output_type": "stream",
     "text": [
      "Epoch 4:\n",
      "  Train Loss = 0.0416, Val Loss = 0.2211\n",
      "  Val Accuracy = 92.60%, F1-Score = 0.9293, Balanced Acc = 0.9369\n",
      "  Class 0 Metrics:\n",
      "    True Positives: 4029\n",
      "    True Negatives: 1013\n",
      "    False Positives: 48\n",
      "    False Negatives: 355\n",
      "    Precision: 0.9882\n",
      "    Recall: 0.9190\n"
     ]
    },
    {
     "name": "stderr",
     "output_type": "stream",
     "text": [
      "Epoch 5/50 Training: 100%|██████████████████████████████████████████████████████████████████████████████████████████████████████████████████| 681/681 [00:08<00:00, 77.88it/s]\n"
     ]
    },
    {
     "name": "stdout",
     "output_type": "stream",
     "text": [
      "Epoch 5:\n",
      "  Train Loss = 0.0411, Val Loss = 0.0959\n",
      "  Val Accuracy = 96.82%, F1-Score = 0.9685, Balanced Acc = 0.9578\n",
      "  Class 0 Metrics:\n",
      "    True Positives: 4274\n",
      "    True Negatives: 998\n",
      "    False Positives: 63\n",
      "    False Negatives: 110\n",
      "    Precision: 0.9855\n",
      "    Recall: 0.9749\n"
     ]
    },
    {
     "name": "stderr",
     "output_type": "stream",
     "text": [
      "Epoch 6/50 Training: 100%|██████████████████████████████████████████████████████████████████████████████████████████████████████████████████| 681/681 [00:08<00:00, 80.23it/s]\n"
     ]
    },
    {
     "name": "stdout",
     "output_type": "stream",
     "text": [
      "Epoch 6:\n",
      "  Train Loss = 0.0403, Val Loss = 0.0738\n",
      "  Val Accuracy = 97.45%, F1-Score = 0.9740, Balanced Acc = 0.9427\n",
      "  Class 0 Metrics:\n",
      "    True Positives: 4361\n",
      "    True Negatives: 945\n",
      "    False Positives: 116\n",
      "    False Negatives: 23\n",
      "    Precision: 0.9741\n",
      "    Recall: 0.9948\n"
     ]
    },
    {
     "name": "stderr",
     "output_type": "stream",
     "text": [
      "Epoch 7/50 Training: 100%|██████████████████████████████████████████████████████████████████████████████████████████████████████████████████| 681/681 [00:08<00:00, 80.94it/s]\n"
     ]
    },
    {
     "name": "stdout",
     "output_type": "stream",
     "text": [
      "Epoch 7:\n",
      "  Train Loss = 0.0390, Val Loss = 0.0573\n",
      "  Val Accuracy = 98.03%, F1-Score = 0.9803, Balanced Acc = 0.9646\n",
      "  Class 0 Metrics:\n",
      "    True Positives: 4342\n",
      "    True Negatives: 996\n",
      "    False Positives: 65\n",
      "    False Negatives: 42\n",
      "    Precision: 0.9853\n",
      "    Recall: 0.9904\n"
     ]
    },
    {
     "name": "stderr",
     "output_type": "stream",
     "text": [
      "Epoch 8/50 Training: 100%|██████████████████████████████████████████████████████████████████████████████████████████████████████████████████| 681/681 [00:08<00:00, 80.03it/s]\n"
     ]
    },
    {
     "name": "stdout",
     "output_type": "stream",
     "text": [
      "Epoch 8:\n",
      "  Train Loss = 0.0395, Val Loss = 0.0723\n",
      "  Val Accuracy = 97.48%, F1-Score = 0.9748, Balanced Acc = 0.9572\n",
      "  Class 0 Metrics:\n",
      "    True Positives: 4323\n",
      "    True Negatives: 985\n",
      "    False Positives: 76\n",
      "    False Negatives: 61\n",
      "    Precision: 0.9827\n",
      "    Recall: 0.9861\n"
     ]
    },
    {
     "name": "stderr",
     "output_type": "stream",
     "text": [
      "Epoch 9/50 Training: 100%|██████████████████████████████████████████████████████████████████████████████████████████████████████████████████| 681/681 [00:08<00:00, 77.05it/s]\n"
     ]
    },
    {
     "name": "stdout",
     "output_type": "stream",
     "text": [
      "Epoch 9:\n",
      "  Train Loss = 0.0396, Val Loss = 0.1678\n",
      "  Val Accuracy = 94.49%, F1-Score = 0.9419, Balanced Acc = 0.8661\n",
      "  Class 0 Metrics:\n",
      "    True Positives: 4363\n",
      "    True Negatives: 782\n",
      "    False Positives: 279\n",
      "    False Negatives: 21\n",
      "    Precision: 0.9399\n",
      "    Recall: 0.9952\n"
     ]
    },
    {
     "name": "stderr",
     "output_type": "stream",
     "text": [
      "Epoch 10/50 Training: 100%|█████████████████████████████████████████████████████████████████████████████████████████████████████████████████| 681/681 [00:08<00:00, 79.98it/s]\n"
     ]
    },
    {
     "name": "stdout",
     "output_type": "stream",
     "text": [
      "Epoch 10:\n",
      "  Train Loss = 0.0380, Val Loss = 0.0618\n",
      "  Val Accuracy = 98.02%, F1-Score = 0.9803, Balanced Acc = 0.9755\n",
      "  Class 0 Metrics:\n",
      "    True Positives: 4310\n",
      "    True Negatives: 1027\n",
      "    False Positives: 34\n",
      "    False Negatives: 74\n",
      "    Precision: 0.9922\n",
      "    Recall: 0.9831\n"
     ]
    },
    {
     "name": "stderr",
     "output_type": "stream",
     "text": [
      "Epoch 11/50 Training: 100%|█████████████████████████████████████████████████████████████████████████████████████████████████████████████████| 681/681 [00:08<00:00, 80.37it/s]\n"
     ]
    },
    {
     "name": "stdout",
     "output_type": "stream",
     "text": [
      "Epoch 11:\n",
      "  Train Loss = 0.0355, Val Loss = 0.0592\n",
      "  Val Accuracy = 97.91%, F1-Score = 0.9789, Balanced Acc = 0.9613\n",
      "  Class 0 Metrics:\n",
      "    True Positives: 4342\n",
      "    True Negatives: 989\n",
      "    False Positives: 72\n",
      "    False Negatives: 42\n",
      "    Precision: 0.9837\n",
      "    Recall: 0.9904\n"
     ]
    },
    {
     "name": "stderr",
     "output_type": "stream",
     "text": [
      "Epoch 12/50 Training: 100%|█████████████████████████████████████████████████████████████████████████████████████████████████████████████████| 681/681 [00:08<00:00, 78.40it/s]\n"
     ]
    },
    {
     "name": "stdout",
     "output_type": "stream",
     "text": [
      "Epoch 12:\n",
      "  Train Loss = 0.0390, Val Loss = 0.0615\n",
      "  Val Accuracy = 97.65%, F1-Score = 0.9767, Balanced Acc = 0.9708\n",
      "  Class 0 Metrics:\n",
      "    True Positives: 4297\n",
      "    True Negatives: 1020\n",
      "    False Positives: 41\n",
      "    False Negatives: 87\n",
      "    Precision: 0.9905\n",
      "    Recall: 0.9802\n"
     ]
    },
    {
     "name": "stderr",
     "output_type": "stream",
     "text": [
      "Epoch 13/50 Training: 100%|█████████████████████████████████████████████████████████████████████████████████████████████████████████████████| 681/681 [00:08<00:00, 77.38it/s]\n"
     ]
    },
    {
     "name": "stdout",
     "output_type": "stream",
     "text": [
      "Epoch 13:\n",
      "  Train Loss = 0.0363, Val Loss = 0.0607\n",
      "  Val Accuracy = 98.18%, F1-Score = 0.9818, Balanced Acc = 0.9716\n",
      "  Class 0 Metrics:\n",
      "    True Positives: 4333\n",
      "    True Negatives: 1013\n",
      "    False Positives: 48\n",
      "    False Negatives: 51\n",
      "    Precision: 0.9890\n",
      "    Recall: 0.9884\n"
     ]
    },
    {
     "name": "stderr",
     "output_type": "stream",
     "text": [
      "Epoch 14/50 Training: 100%|█████████████████████████████████████████████████████████████████████████████████████████████████████████████████| 681/681 [00:08<00:00, 78.67it/s]\n"
     ]
    },
    {
     "name": "stdout",
     "output_type": "stream",
     "text": [
      "Epoch 14:\n",
      "  Train Loss = 0.0344, Val Loss = 0.0540\n",
      "  Val Accuracy = 98.37%, F1-Score = 0.9836, Balanced Acc = 0.9698\n",
      "  Class 0 Metrics:\n",
      "    True Positives: 4351\n",
      "    True Negatives: 1005\n",
      "    False Positives: 56\n",
      "    False Negatives: 33\n",
      "    Precision: 0.9873\n",
      "    Recall: 0.9925\n"
     ]
    },
    {
     "name": "stderr",
     "output_type": "stream",
     "text": [
      "Epoch 15/50 Training: 100%|█████████████████████████████████████████████████████████████████████████████████████████████████████████████████| 681/681 [00:08<00:00, 79.64it/s]\n"
     ]
    },
    {
     "name": "stdout",
     "output_type": "stream",
     "text": [
      "Epoch 15:\n",
      "  Train Loss = 0.0341, Val Loss = 0.1127\n",
      "  Val Accuracy = 96.27%, F1-Score = 0.9636, Balanced Acc = 0.9661\n",
      "  Class 0 Metrics:\n",
      "    True Positives: 4211\n",
      "    True Negatives: 1031\n",
      "    False Positives: 30\n",
      "    False Negatives: 173\n",
      "    Precision: 0.9929\n",
      "    Recall: 0.9605\n"
     ]
    },
    {
     "name": "stderr",
     "output_type": "stream",
     "text": [
      "Epoch 16/50 Training: 100%|█████████████████████████████████████████████████████████████████████████████████████████████████████████████████| 681/681 [00:08<00:00, 81.12it/s]\n"
     ]
    },
    {
     "name": "stdout",
     "output_type": "stream",
     "text": [
      "Epoch 16:\n",
      "  Train Loss = 0.0320, Val Loss = 0.1806\n",
      "  Val Accuracy = 95.11%, F1-Score = 0.9489, Balanced Acc = 0.8821\n",
      "  Class 0 Metrics:\n",
      "    True Positives: 4363\n",
      "    True Negatives: 816\n",
      "    False Positives: 245\n",
      "    False Negatives: 21\n",
      "    Precision: 0.9468\n",
      "    Recall: 0.9952\n"
     ]
    },
    {
     "name": "stderr",
     "output_type": "stream",
     "text": [
      "Epoch 17/50 Training: 100%|█████████████████████████████████████████████████████████████████████████████████████████████████████████████████| 681/681 [00:08<00:00, 77.36it/s]\n"
     ]
    },
    {
     "name": "stdout",
     "output_type": "stream",
     "text": [
      "Epoch 17:\n",
      "  Train Loss = 0.0310, Val Loss = 0.1003\n",
      "  Val Accuracy = 96.88%, F1-Score = 0.9681, Balanced Acc = 0.9295\n",
      "  Class 0 Metrics:\n",
      "    True Positives: 4357\n",
      "    True Negatives: 918\n",
      "    False Positives: 143\n",
      "    False Negatives: 27\n",
      "    Precision: 0.9682\n",
      "    Recall: 0.9938\n"
     ]
    },
    {
     "name": "stderr",
     "output_type": "stream",
     "text": [
      "Epoch 18/50 Training: 100%|█████████████████████████████████████████████████████████████████████████████████████████████████████████████████| 681/681 [00:08<00:00, 80.17it/s]\n"
     ]
    },
    {
     "name": "stdout",
     "output_type": "stream",
     "text": [
      "Epoch 18:\n",
      "  Train Loss = 0.0305, Val Loss = 0.0690\n",
      "  Val Accuracy = 98.15%, F1-Score = 0.9815, Balanced Acc = 0.9728\n",
      "  Class 0 Metrics:\n",
      "    True Positives: 4327\n",
      "    True Negatives: 1017\n",
      "    False Positives: 44\n",
      "    False Negatives: 57\n",
      "    Precision: 0.9899\n",
      "    Recall: 0.9870\n"
     ]
    },
    {
     "name": "stderr",
     "output_type": "stream",
     "text": [
      "Epoch 19/50 Training: 100%|█████████████████████████████████████████████████████████████████████████████████████████████████████████████████| 681/681 [00:08<00:00, 81.00it/s]\n"
     ]
    },
    {
     "name": "stdout",
     "output_type": "stream",
     "text": [
      "Epoch 19:\n",
      "  Train Loss = 0.0300, Val Loss = 0.0579\n",
      "  Val Accuracy = 98.16%, F1-Score = 0.9815, Balanced Acc = 0.9629\n",
      "  Class 0 Metrics:\n",
      "    True Positives: 4356\n",
      "    True Negatives: 989\n",
      "    False Positives: 72\n",
      "    False Negatives: 28\n",
      "    Precision: 0.9837\n",
      "    Recall: 0.9936\n"
     ]
    },
    {
     "name": "stderr",
     "output_type": "stream",
     "text": [
      "Epoch 20/50 Training: 100%|█████████████████████████████████████████████████████████████████████████████████████████████████████████████████| 681/681 [00:08<00:00, 79.85it/s]\n"
     ]
    },
    {
     "name": "stdout",
     "output_type": "stream",
     "text": [
      "Epoch 20:\n",
      "  Train Loss = 0.0315, Val Loss = 0.0566\n",
      "  Val Accuracy = 98.31%, F1-Score = 0.9832, Balanced Acc = 0.9770\n",
      "  Class 0 Metrics:\n",
      "    True Positives: 4327\n",
      "    True Negatives: 1026\n",
      "    False Positives: 35\n",
      "    False Negatives: 57\n",
      "    Precision: 0.9920\n",
      "    Recall: 0.9870\n"
     ]
    },
    {
     "name": "stderr",
     "output_type": "stream",
     "text": [
      "Epoch 21/50 Training: 100%|█████████████████████████████████████████████████████████████████████████████████████████████████████████████████| 681/681 [00:08<00:00, 78.44it/s]\n"
     ]
    },
    {
     "name": "stdout",
     "output_type": "stream",
     "text": [
      "Epoch 21:\n",
      "  Train Loss = 0.0247, Val Loss = 0.0481\n",
      "  Val Accuracy = 98.46%, F1-Score = 0.9845, Balanced Acc = 0.9711\n",
      "  Class 0 Metrics:\n",
      "    True Positives: 4354\n",
      "    True Negatives: 1007\n",
      "    False Positives: 54\n",
      "    False Negatives: 30\n",
      "    Precision: 0.9877\n",
      "    Recall: 0.9932\n"
     ]
    },
    {
     "name": "stderr",
     "output_type": "stream",
     "text": [
      "Epoch 22/50 Training: 100%|█████████████████████████████████████████████████████████████████████████████████████████████████████████████████| 681/681 [00:08<00:00, 80.16it/s]\n"
     ]
    },
    {
     "name": "stdout",
     "output_type": "stream",
     "text": [
      "Epoch 22:\n",
      "  Train Loss = 0.0289, Val Loss = 0.0546\n",
      "  Val Accuracy = 98.29%, F1-Score = 0.9829, Balanced Acc = 0.9733\n",
      "  Class 0 Metrics:\n",
      "    True Positives: 4336\n",
      "    True Negatives: 1016\n",
      "    False Positives: 45\n",
      "    False Negatives: 48\n",
      "    Precision: 0.9897\n",
      "    Recall: 0.9891\n"
     ]
    },
    {
     "name": "stderr",
     "output_type": "stream",
     "text": [
      "Epoch 23/50 Training: 100%|█████████████████████████████████████████████████████████████████████████████████████████████████████████████████| 681/681 [00:08<00:00, 81.37it/s]\n"
     ]
    },
    {
     "name": "stdout",
     "output_type": "stream",
     "text": [
      "Epoch 23:\n",
      "  Train Loss = 0.0221, Val Loss = 0.0526\n",
      "  Val Accuracy = 98.40%, F1-Score = 0.9839, Balanced Acc = 0.9690\n",
      "  Class 0 Metrics:\n",
      "    True Positives: 4356\n",
      "    True Negatives: 1002\n",
      "    False Positives: 59\n",
      "    False Negatives: 28\n",
      "    Precision: 0.9866\n",
      "    Recall: 0.9936\n"
     ]
    },
    {
     "name": "stderr",
     "output_type": "stream",
     "text": [
      "Epoch 24/50 Training: 100%|█████████████████████████████████████████████████████████████████████████████████████████████████████████████████| 681/681 [00:08<00:00, 76.01it/s]\n"
     ]
    },
    {
     "name": "stdout",
     "output_type": "stream",
     "text": [
      "Epoch 24:\n",
      "  Train Loss = 0.0224, Val Loss = 0.0509\n",
      "  Val Accuracy = 98.44%, F1-Score = 0.9843, Balanced Acc = 0.9707\n",
      "  Class 0 Metrics:\n",
      "    True Positives: 4354\n",
      "    True Negatives: 1006\n",
      "    False Positives: 55\n",
      "    False Negatives: 30\n",
      "    Precision: 0.9875\n",
      "    Recall: 0.9932\n"
     ]
    },
    {
     "name": "stderr",
     "output_type": "stream",
     "text": [
      "Epoch 25/50 Training: 100%|█████████████████████████████████████████████████████████████████████████████████████████████████████████████████| 681/681 [00:08<00:00, 80.44it/s]\n"
     ]
    },
    {
     "name": "stdout",
     "output_type": "stream",
     "text": [
      "Epoch 25:\n",
      "  Train Loss = 0.0228, Val Loss = 0.0725\n",
      "  Val Accuracy = 97.76%, F1-Score = 0.9778, Balanced Acc = 0.9722\n",
      "  Class 0 Metrics:\n",
      "    True Positives: 4301\n",
      "    True Negatives: 1022\n",
      "    False Positives: 39\n",
      "    False Negatives: 83\n",
      "    Precision: 0.9910\n",
      "    Recall: 0.9811\n"
     ]
    },
    {
     "name": "stderr",
     "output_type": "stream",
     "text": [
      "Epoch 26/50 Training: 100%|█████████████████████████████████████████████████████████████████████████████████████████████████████████████████| 681/681 [00:08<00:00, 80.78it/s]\n"
     ]
    },
    {
     "name": "stdout",
     "output_type": "stream",
     "text": [
      "Epoch 26:\n",
      "  Train Loss = 0.0208, Val Loss = 0.0527\n",
      "  Val Accuracy = 98.51%, F1-Score = 0.9850, Balanced Acc = 0.9700\n",
      "  Class 0 Metrics:\n",
      "    True Positives: 4361\n",
      "    True Negatives: 1003\n",
      "    False Positives: 58\n",
      "    False Negatives: 23\n",
      "    Precision: 0.9869\n",
      "    Recall: 0.9948\n"
     ]
    },
    {
     "name": "stderr",
     "output_type": "stream",
     "text": [
      "Epoch 27/50 Training: 100%|█████████████████████████████████████████████████████████████████████████████████████████████████████████████████| 681/681 [00:08<00:00, 79.01it/s]\n"
     ]
    },
    {
     "name": "stdout",
     "output_type": "stream",
     "text": [
      "Epoch 27:\n",
      "  Train Loss = 0.0172, Val Loss = 0.0548\n",
      "  Val Accuracy = 98.55%, F1-Score = 0.9855, Balanced Acc = 0.9753\n",
      "  Class 0 Metrics:\n",
      "    True Positives: 4349\n",
      "    True Negatives: 1017\n",
      "    False Positives: 44\n",
      "    False Negatives: 35\n",
      "    Precision: 0.9900\n",
      "    Recall: 0.9920\n"
     ]
    },
    {
     "name": "stderr",
     "output_type": "stream",
     "text": [
      "Epoch 28/50 Training: 100%|█████████████████████████████████████████████████████████████████████████████████████████████████████████████████| 681/681 [00:08<00:00, 77.14it/s]\n"
     ]
    },
    {
     "name": "stdout",
     "output_type": "stream",
     "text": [
      "Epoch 28:\n",
      "  Train Loss = 0.0185, Val Loss = 0.0591\n",
      "  Val Accuracy = 98.18%, F1-Score = 0.9817, Balanced Acc = 0.9637\n",
      "  Class 0 Metrics:\n",
      "    True Positives: 4355\n",
      "    True Negatives: 991\n",
      "    False Positives: 70\n",
      "    False Negatives: 29\n",
      "    Precision: 0.9842\n",
      "    Recall: 0.9934\n"
     ]
    },
    {
     "name": "stderr",
     "output_type": "stream",
     "text": [
      "Epoch 29/50 Training: 100%|█████████████████████████████████████████████████████████████████████████████████████████████████████████████████| 681/681 [00:08<00:00, 81.13it/s]\n"
     ]
    },
    {
     "name": "stdout",
     "output_type": "stream",
     "text": [
      "Epoch 29:\n",
      "  Train Loss = 0.0183, Val Loss = 0.0597\n",
      "  Val Accuracy = 98.42%, F1-Score = 0.9843, Balanced Acc = 0.9784\n",
      "  Class 0 Metrics:\n",
      "    True Positives: 4331\n",
      "    True Negatives: 1028\n",
      "    False Positives: 33\n",
      "    False Negatives: 53\n",
      "    Precision: 0.9924\n",
      "    Recall: 0.9879\n"
     ]
    },
    {
     "name": "stderr",
     "output_type": "stream",
     "text": [
      "Epoch 30/50 Training: 100%|█████████████████████████████████████████████████████████████████████████████████████████████████████████████████| 681/681 [00:08<00:00, 79.55it/s]\n"
     ]
    },
    {
     "name": "stdout",
     "output_type": "stream",
     "text": [
      "Epoch 30:\n",
      "  Train Loss = 0.0175, Val Loss = 0.0697\n",
      "  Val Accuracy = 98.48%, F1-Score = 0.9847, Balanced Acc = 0.9752\n",
      "  Class 0 Metrics:\n",
      "    True Positives: 4344\n",
      "    True Negatives: 1018\n",
      "    False Positives: 43\n",
      "    False Negatives: 40\n",
      "    Precision: 0.9902\n",
      "    Recall: 0.9909\n"
     ]
    },
    {
     "name": "stderr",
     "output_type": "stream",
     "text": [
      "Epoch 31/50 Training: 100%|█████████████████████████████████████████████████████████████████████████████████████████████████████████████████| 681/681 [00:08<00:00, 78.27it/s]\n"
     ]
    },
    {
     "name": "stdout",
     "output_type": "stream",
     "text": [
      "Epoch 31:\n",
      "  Train Loss = 0.0152, Val Loss = 0.0780\n",
      "  Val Accuracy = 97.48%, F1-Score = 0.9752, Balanced Acc = 0.9737\n",
      "  Class 0 Metrics:\n",
      "    True Positives: 4277\n",
      "    True Negatives: 1031\n",
      "    False Positives: 30\n",
      "    False Negatives: 107\n",
      "    Precision: 0.9930\n",
      "    Recall: 0.9756\n"
     ]
    },
    {
     "name": "stderr",
     "output_type": "stream",
     "text": [
      "Epoch 32/50 Training: 100%|█████████████████████████████████████████████████████████████████████████████████████████████████████████████████| 681/681 [00:08<00:00, 77.41it/s]\n"
     ]
    },
    {
     "name": "stdout",
     "output_type": "stream",
     "text": [
      "Epoch 32:\n",
      "  Train Loss = 0.0138, Val Loss = 0.0590\n",
      "  Val Accuracy = 98.51%, F1-Score = 0.9852, Balanced Acc = 0.9793\n",
      "  Class 0 Metrics:\n",
      "    True Positives: 4335\n",
      "    True Negatives: 1029\n",
      "    False Positives: 32\n",
      "    False Negatives: 49\n",
      "    Precision: 0.9927\n",
      "    Recall: 0.9888\n"
     ]
    },
    {
     "name": "stderr",
     "output_type": "stream",
     "text": [
      "Epoch 33/50 Training: 100%|█████████████████████████████████████████████████████████████████████████████████████████████████████████████████| 681/681 [00:08<00:00, 78.99it/s]\n"
     ]
    },
    {
     "name": "stdout",
     "output_type": "stream",
     "text": [
      "Epoch 33:\n",
      "  Train Loss = 0.0132, Val Loss = 0.0562\n",
      "  Val Accuracy = 98.64%, F1-Score = 0.9864, Balanced Acc = 0.9805\n",
      "  Class 0 Metrics:\n",
      "    True Positives: 4341\n",
      "    True Negatives: 1030\n",
      "    False Positives: 31\n",
      "    False Negatives: 43\n",
      "    Precision: 0.9929\n",
      "    Recall: 0.9902\n"
     ]
    },
    {
     "name": "stderr",
     "output_type": "stream",
     "text": [
      "Epoch 34/50 Training: 100%|█████████████████████████████████████████████████████████████████████████████████████████████████████████████████| 681/681 [00:08<00:00, 79.97it/s]\n"
     ]
    },
    {
     "name": "stdout",
     "output_type": "stream",
     "text": [
      "Epoch 34:\n",
      "  Train Loss = 0.0120, Val Loss = 0.0638\n",
      "  Val Accuracy = 98.35%, F1-Score = 0.9835, Balanced Acc = 0.9758\n",
      "  Class 0 Metrics:\n",
      "    True Positives: 4333\n",
      "    True Negatives: 1022\n",
      "    False Positives: 39\n",
      "    False Negatives: 51\n",
      "    Precision: 0.9911\n",
      "    Recall: 0.9884\n"
     ]
    },
    {
     "name": "stderr",
     "output_type": "stream",
     "text": [
      "Epoch 35/50 Training: 100%|█████████████████████████████████████████████████████████████████████████████████████████████████████████████████| 681/681 [00:08<00:00, 79.91it/s]\n"
     ]
    },
    {
     "name": "stdout",
     "output_type": "stream",
     "text": [
      "Epoch 35:\n",
      "  Train Loss = 0.0116, Val Loss = 0.0604\n",
      "  Val Accuracy = 98.40%, F1-Score = 0.9841, Balanced Acc = 0.9769\n",
      "  Class 0 Metrics:\n",
      "    True Positives: 4334\n",
      "    True Negatives: 1024\n",
      "    False Positives: 37\n",
      "    False Negatives: 50\n",
      "    Precision: 0.9915\n",
      "    Recall: 0.9886\n"
     ]
    },
    {
     "name": "stderr",
     "output_type": "stream",
     "text": [
      "Epoch 36/50 Training: 100%|█████████████████████████████████████████████████████████████████████████████████████████████████████████████████| 681/681 [00:08<00:00, 80.20it/s]\n"
     ]
    },
    {
     "name": "stdout",
     "output_type": "stream",
     "text": [
      "Epoch 36:\n",
      "  Train Loss = 0.0102, Val Loss = 0.0731\n",
      "  Val Accuracy = 98.35%, F1-Score = 0.9834, Balanced Acc = 0.9687\n",
      "  Class 0 Metrics:\n",
      "    True Positives: 4353\n",
      "    True Negatives: 1002\n",
      "    False Positives: 59\n",
      "    False Negatives: 31\n",
      "    Precision: 0.9866\n",
      "    Recall: 0.9929\n"
     ]
    },
    {
     "name": "stderr",
     "output_type": "stream",
     "text": [
      "Epoch 37/50 Training: 100%|█████████████████████████████████████████████████████████████████████████████████████████████████████████████████| 681/681 [00:08<00:00, 79.19it/s]\n"
     ]
    },
    {
     "name": "stdout",
     "output_type": "stream",
     "text": [
      "Epoch 37:\n",
      "  Train Loss = 0.0103, Val Loss = 0.0686\n",
      "  Val Accuracy = 98.26%, F1-Score = 0.9827, Balanced Acc = 0.9788\n",
      "  Class 0 Metrics:\n",
      "    True Positives: 4318\n",
      "    True Negatives: 1032\n",
      "    False Positives: 29\n",
      "    False Negatives: 66\n",
      "    Precision: 0.9933\n",
      "    Recall: 0.9849\n"
     ]
    },
    {
     "name": "stderr",
     "output_type": "stream",
     "text": [
      "Epoch 38/50 Training: 100%|█████████████████████████████████████████████████████████████████████████████████████████████████████████████████| 681/681 [00:08<00:00, 79.20it/s]\n"
     ]
    },
    {
     "name": "stdout",
     "output_type": "stream",
     "text": [
      "Epoch 38:\n",
      "  Train Loss = 0.0095, Val Loss = 0.0649\n",
      "  Val Accuracy = 98.51%, F1-Score = 0.9851, Balanced Acc = 0.9736\n",
      "  Class 0 Metrics:\n",
      "    True Positives: 4351\n",
      "    True Negatives: 1013\n",
      "    False Positives: 48\n",
      "    False Negatives: 33\n",
      "    Precision: 0.9891\n",
      "    Recall: 0.9925\n"
     ]
    },
    {
     "name": "stderr",
     "output_type": "stream",
     "text": [
      "Epoch 39/50 Training: 100%|█████████████████████████████████████████████████████████████████████████████████████████████████████████████████| 681/681 [00:08<00:00, 81.37it/s]\n"
     ]
    },
    {
     "name": "stdout",
     "output_type": "stream",
     "text": [
      "Epoch 39:\n",
      "  Train Loss = 0.0084, Val Loss = 0.0625\n",
      "  Val Accuracy = 98.66%, F1-Score = 0.9866, Balanced Acc = 0.9792\n",
      "  Class 0 Metrics:\n",
      "    True Positives: 4346\n",
      "    True Negatives: 1026\n",
      "    False Positives: 35\n",
      "    False Negatives: 38\n",
      "    Precision: 0.9920\n",
      "    Recall: 0.9913\n"
     ]
    },
    {
     "name": "stderr",
     "output_type": "stream",
     "text": [
      "Epoch 40/50 Training: 100%|█████████████████████████████████████████████████████████████████████████████████████████████████████████████████| 681/681 [00:08<00:00, 78.30it/s]\n"
     ]
    },
    {
     "name": "stdout",
     "output_type": "stream",
     "text": [
      "Epoch 40:\n",
      "  Train Loss = 0.0074, Val Loss = 0.0629\n",
      "  Val Accuracy = 98.62%, F1-Score = 0.9862, Balanced Acc = 0.9779\n",
      "  Class 0 Metrics:\n",
      "    True Positives: 4347\n",
      "    True Negatives: 1023\n",
      "    False Positives: 38\n",
      "    False Negatives: 37\n",
      "    Precision: 0.9913\n",
      "    Recall: 0.9916\n"
     ]
    },
    {
     "name": "stderr",
     "output_type": "stream",
     "text": [
      "Epoch 41/50 Training: 100%|█████████████████████████████████████████████████████████████████████████████████████████████████████████████████| 681/681 [00:08<00:00, 76.35it/s]\n"
     ]
    },
    {
     "name": "stdout",
     "output_type": "stream",
     "text": [
      "Epoch 41:\n",
      "  Train Loss = 0.0083, Val Loss = 0.0592\n",
      "  Val Accuracy = 98.77%, F1-Score = 0.9877, Balanced Acc = 0.9813\n",
      "  Class 0 Metrics:\n",
      "    True Positives: 4348\n",
      "    True Negatives: 1030\n",
      "    False Positives: 31\n",
      "    False Negatives: 36\n",
      "    Precision: 0.9929\n",
      "    Recall: 0.9918\n"
     ]
    },
    {
     "name": "stderr",
     "output_type": "stream",
     "text": [
      "Epoch 42/50 Training: 100%|█████████████████████████████████████████████████████████████████████████████████████████████████████████████████| 681/681 [00:08<00:00, 80.50it/s]\n"
     ]
    },
    {
     "name": "stdout",
     "output_type": "stream",
     "text": [
      "Epoch 42:\n",
      "  Train Loss = 0.0075, Val Loss = 0.0671\n",
      "  Val Accuracy = 98.66%, F1-Score = 0.9866, Balanced Acc = 0.9781\n",
      "  Class 0 Metrics:\n",
      "    True Positives: 4349\n",
      "    True Negatives: 1023\n",
      "    False Positives: 38\n",
      "    False Negatives: 35\n",
      "    Precision: 0.9913\n",
      "    Recall: 0.9920\n"
     ]
    },
    {
     "name": "stderr",
     "output_type": "stream",
     "text": [
      "Epoch 43/50 Training: 100%|█████████████████████████████████████████████████████████████████████████████████████████████████████████████████| 681/681 [00:08<00:00, 80.55it/s]\n"
     ]
    },
    {
     "name": "stdout",
     "output_type": "stream",
     "text": [
      "Epoch 43:\n",
      "  Train Loss = 0.0073, Val Loss = 0.0659\n",
      "  Val Accuracy = 98.68%, F1-Score = 0.9868, Balanced Acc = 0.9779\n",
      "  Class 0 Metrics:\n",
      "    True Positives: 4351\n",
      "    True Negatives: 1022\n",
      "    False Positives: 39\n",
      "    False Negatives: 33\n",
      "    Precision: 0.9911\n",
      "    Recall: 0.9925\n"
     ]
    },
    {
     "name": "stderr",
     "output_type": "stream",
     "text": [
      "Epoch 44/50 Training: 100%|█████████████████████████████████████████████████████████████████████████████████████████████████████████████████| 681/681 [00:08<00:00, 80.09it/s]\n"
     ]
    },
    {
     "name": "stdout",
     "output_type": "stream",
     "text": [
      "Epoch 44:\n",
      "  Train Loss = 0.0057, Val Loss = 0.0657\n",
      "  Val Accuracy = 98.64%, F1-Score = 0.9864, Balanced Acc = 0.9780\n",
      "  Class 0 Metrics:\n",
      "    True Positives: 4348\n",
      "    True Negatives: 1023\n",
      "    False Positives: 38\n",
      "    False Negatives: 36\n",
      "    Precision: 0.9913\n",
      "    Recall: 0.9918\n"
     ]
    },
    {
     "name": "stderr",
     "output_type": "stream",
     "text": [
      "Epoch 45/50 Training: 100%|█████████████████████████████████████████████████████████████████████████████████████████████████████████████████| 681/681 [00:08<00:00, 77.45it/s]\n"
     ]
    },
    {
     "name": "stdout",
     "output_type": "stream",
     "text": [
      "Epoch 45:\n",
      "  Train Loss = 0.0057, Val Loss = 0.0648\n",
      "  Val Accuracy = 98.62%, F1-Score = 0.9862, Balanced Acc = 0.9775\n",
      "  Class 0 Metrics:\n",
      "    True Positives: 4348\n",
      "    True Negatives: 1022\n",
      "    False Positives: 39\n",
      "    False Negatives: 36\n",
      "    Precision: 0.9911\n",
      "    Recall: 0.9918\n"
     ]
    },
    {
     "name": "stderr",
     "output_type": "stream",
     "text": [
      "Epoch 46/50 Training: 100%|█████████████████████████████████████████████████████████████████████████████████████████████████████████████████| 681/681 [00:08<00:00, 81.81it/s]\n"
     ]
    },
    {
     "name": "stdout",
     "output_type": "stream",
     "text": [
      "Epoch 46:\n",
      "  Train Loss = 0.0054, Val Loss = 0.0683\n",
      "  Val Accuracy = 98.68%, F1-Score = 0.9868, Balanced Acc = 0.9807\n",
      "  Class 0 Metrics:\n",
      "    True Positives: 4343\n",
      "    True Negatives: 1030\n",
      "    False Positives: 31\n",
      "    False Negatives: 41\n",
      "    Precision: 0.9929\n",
      "    Recall: 0.9906\n"
     ]
    },
    {
     "name": "stderr",
     "output_type": "stream",
     "text": [
      "Epoch 47/50 Training: 100%|█████████████████████████████████████████████████████████████████████████████████████████████████████████████████| 681/681 [00:08<00:00, 80.78it/s]\n"
     ]
    },
    {
     "name": "stdout",
     "output_type": "stream",
     "text": [
      "Epoch 47:\n",
      "  Train Loss = 0.0051, Val Loss = 0.0669\n",
      "  Val Accuracy = 98.64%, F1-Score = 0.9864, Balanced Acc = 0.9776\n",
      "  Class 0 Metrics:\n",
      "    True Positives: 4349\n",
      "    True Negatives: 1022\n",
      "    False Positives: 39\n",
      "    False Negatives: 35\n",
      "    Precision: 0.9911\n",
      "    Recall: 0.9920\n"
     ]
    },
    {
     "name": "stderr",
     "output_type": "stream",
     "text": [
      "Epoch 48/50 Training: 100%|█████████████████████████████████████████████████████████████████████████████████████████████████████████████████| 681/681 [00:08<00:00, 78.42it/s]\n"
     ]
    },
    {
     "name": "stdout",
     "output_type": "stream",
     "text": [
      "Epoch 48:\n",
      "  Train Loss = 0.0049, Val Loss = 0.0687\n",
      "  Val Accuracy = 98.62%, F1-Score = 0.9862, Balanced Acc = 0.9793\n",
      "  Class 0 Metrics:\n",
      "    True Positives: 4343\n",
      "    True Negatives: 1027\n",
      "    False Positives: 34\n",
      "    False Negatives: 41\n",
      "    Precision: 0.9922\n",
      "    Recall: 0.9906\n"
     ]
    },
    {
     "name": "stderr",
     "output_type": "stream",
     "text": [
      "Epoch 49/50 Training: 100%|█████████████████████████████████████████████████████████████████████████████████████████████████████████████████| 681/681 [00:08<00:00, 78.06it/s]\n"
     ]
    },
    {
     "name": "stdout",
     "output_type": "stream",
     "text": [
      "Epoch 49:\n",
      "  Train Loss = 0.0046, Val Loss = 0.0672\n",
      "  Val Accuracy = 98.68%, F1-Score = 0.9868, Balanced Acc = 0.9793\n",
      "  Class 0 Metrics:\n",
      "    True Positives: 4347\n",
      "    True Negatives: 1026\n",
      "    False Positives: 35\n",
      "    False Negatives: 37\n",
      "    Precision: 0.9920\n",
      "    Recall: 0.9916\n"
     ]
    },
    {
     "name": "stderr",
     "output_type": "stream",
     "text": [
      "Epoch 50/50 Training: 100%|█████████████████████████████████████████████████████████████████████████████████████████████████████████████████| 681/681 [00:08<00:00, 80.18it/s]\n"
     ]
    },
    {
     "name": "stdout",
     "output_type": "stream",
     "text": [
      "Epoch 50:\n",
      "  Train Loss = 0.0048, Val Loss = 0.0694\n",
      "  Val Accuracy = 98.66%, F1-Score = 0.9866, Balanced Acc = 0.9799\n",
      "  Class 0 Metrics:\n",
      "    True Positives: 4344\n",
      "    True Negatives: 1028\n",
      "    False Positives: 33\n",
      "    False Negatives: 40\n",
      "    Precision: 0.9925\n",
      "    Recall: 0.9909\n"
     ]
    }
   ],
   "source": [
    "# Set random seed for reproducibility\n",
    "torch.manual_seed(42)\n",
    "DEVICE = \"cuda:6\"\n",
    "# Device configuration\n",
    "device = torch.device(DEVICE if torch.cuda.is_available() else 'cpu')\n",
    "print(f\"Using device: {device}\")\n",
    "classes = [0, 1]\n",
    "mean, std = compute_normalization_stats('dataset/brightfield_particles.hdf5', classes=classes)\n",
    "# Load and split dataset\n",
    "dataset = ParticleDataset(h5_path='dataset/brightfield_particles.hdf5',\n",
    "                          classes=classes,\n",
    "                          mean=mean,\n",
    "                          std=std,\n",
    "                          padding=True\n",
    "                         )\n",
    "train_size = int(0.8 * len(dataset))\n",
    "val_size = len(dataset) - train_size\n",
    "train_dataset, val_dataset = torch.utils.data.random_split(\n",
    "    dataset, [train_size, val_size]\n",
    ")\n",
    "_,c=np.unique(dataset.labels[train_dataset.indices],return_counts=True)\n",
    "print(c[1]/(c[0]+c[1]))\n",
    "_,c=np.unique(dataset.labels[val_dataset.indices],return_counts=True)\n",
    "print(c[1]/(c[0]+c[1]))\n",
    "# Create data loaders\n",
    "train_loader = DataLoader(\n",
    "    train_dataset, \n",
    "    batch_size=32,\n",
    "    shuffle=True,\n",
    "    # num_workers=6,\n",
    "    pin_memory=True\n",
    ")\n",
    "\n",
    "val_loader = DataLoader(\n",
    "    val_dataset,\n",
    "    batch_size=32,\n",
    "    shuffle=False,\n",
    "    # num_workers=6,\n",
    "    pin_memory=True\n",
    ")\n",
    "\n",
    "# Initialize model\n",
    "# model = ModifiedViT(num_classes=len(classes))\n",
    "# model = model.to(device)\n",
    "# model = ModifiedVisionTransformer(\n",
    "#     image_height=16,  # can be different from width\n",
    "#     image_width=192,   # rectangular image\n",
    "#     patch_height=16,   # patch can also be rectangular\n",
    "#     patch_width=12,\n",
    "#     num_layers=12,\n",
    "#     num_heads=12,\n",
    "#     hidden_dim=768,\n",
    "#     mlp_dim=3072,\n",
    "#     num_classes=2,\n",
    "#     in_channels=1  # for single-channel images\n",
    "# )\n",
    "model = resnet \n",
    "model = model.to(device)\n",
    "\n",
    "# Train model\n",
    "(train_losses, val_losses, val_accuracies, \n",
    "            val_f1_scores, val_bal_accs, val_preds, val_true) = train_model(\n",
    "    model, train_loader, val_loader, device\n",
    ")\n"
   ]
  },
  {
   "cell_type": "code",
   "execution_count": null,
   "id": "8e8fd466-a9f6-461f-8520-680b2df9ef94",
   "metadata": {},
   "outputs": [],
   "source": [
    "train_losses, val_accuracies, val_preds, val_true"
   ]
  },
  {
   "cell_type": "code",
   "execution_count": 51,
   "id": "875950e8-432c-4829-9437-092f028a6c4f",
   "metadata": {},
   "outputs": [
    {
     "data": {
      "text/plain": [
       "torch.Size([32, 13, 16, 16])"
      ]
     },
     "execution_count": 51,
     "metadata": {},
     "output_type": "execute_result"
    }
   ],
   "source": [
    "a=nn.Conv2d(\n",
    "                in_channels=1, \n",
    "                out_channels=13, \n",
    "                kernel_size=(1,12), \n",
    "                stride=(1,12)\n",
    "            )\n",
    "a(torch.rand((32,1,16,192))).shape"
   ]
  },
  {
   "cell_type": "code",
   "execution_count": 52,
   "id": "225decf9-edf9-4cfe-9cf5-862d0d044c3d",
   "metadata": {},
   "outputs": [
    {
     "data": {
      "text/plain": [
       "torch.Size([32, 13, 16, 16])"
      ]
     },
     "execution_count": 52,
     "metadata": {},
     "output_type": "execute_result"
    }
   ],
   "source": [
    "a=nn.Conv2d(\n",
    "                in_channels=1, \n",
    "                out_channels=13, \n",
    "                kernel_size=16, \n",
    "                stride=16\n",
    "            )\n",
    "a(torch.rand((32,1,256,256))).shape"
   ]
  },
  {
   "cell_type": "code",
   "execution_count": 56,
   "id": "695d9278-4b38-48f6-9788-3fd798b0f743",
   "metadata": {},
   "outputs": [],
   "source": [
    "import matplotlib\n",
    "matplotlib.rcParams.update(matplotlib.rcParamsDefault)"
   ]
  },
  {
   "cell_type": "code",
   "execution_count": 57,
   "id": "bd493701-4eab-4800-a4c4-35911da61ef2",
   "metadata": {},
   "outputs": [
    {
     "data": {
      "image/png": "[encoded data removed]",
      "text/plain": [
       "<Figure size 1800x500 with 3 Axes>"
      ]
     },
     "metadata": {},
     "output_type": "display_data"
    },
    {
     "data": {
      "image/png": "[encoded data removed]",
      "text/plain": [
       "<Figure size 800x600 with 2 Axes>"
      ]
     },
     "metadata": {},
     "output_type": "display_data"
    }
   ],
   "source": [
    "# Plot results\n",
    "plot_training_results(train_losses, val_accuracies, val_f1_scores, val_bal_accs, val_preds, val_true)\n",
    "\n",
    "# Close HDF5 file\n",
    "# dataset.close()"
   ]
  },
  {
   "cell_type": "code",
   "execution_count": 17,
   "id": "d2df6bd1-2bba-449c-8968-77d7136e0bf1",
   "metadata": {},
   "outputs": [],
   "source": [
    "dataset = ParticleDataset('dataset/brightfield_particles.hdf5')"
   ]
  },
  {
   "cell_type": "code",
   "execution_count": 58,
   "id": "44b83901-db74-4e9e-bd36-464ba6c04b75",
   "metadata": {},
   "outputs": [
    {
     "name": "stdout",
     "output_type": "stream",
     "text": [
      "torch.Size([16, 201])\n"
     ]
    },
    {
     "data": {
      "image/png": "[encoded data removed]",
      "text/plain": [
       "<Figure size 1000x500 with 1 Axes>"
      ]
     },
     "metadata": {},
     "output_type": "display_data"
    }
   ],
   "source": [
    "from torchvision.transforms import Resize\n",
    "import torch\n",
    "import matplotlib.pyplot as plt\n",
    "with h5py.File('dataset/brightfield_particles.hdf5', 'r') as f:\n",
    "    particle_1 = f['data'][f['labels'][:]==0,:][17]\n",
    "    particle_2 = f['data'][f['labels'][:]==1,:][18]\n",
    "img = torch.Tensor(particle_1)\n",
    "print(img.shape)\n",
    "img = Resize((16,16))(img.unsqueeze(0))\n",
    "img = img.squeeze(0)\n",
    "fig, ax = plt.subplots(1, 1, figsize=(10, 5)) \n",
    "plt.axis('off')\n",
    "plt.imshow(img,cmap='gray')\n",
    "plt.savefig('80nm.png')\n",
    "plt.show()"
   ]
  },
  {
   "cell_type": "code",
   "execution_count": 59,
   "id": "c274daeb-3f3b-40e6-8307-c5eaf209aede",
   "metadata": {},
   "outputs": [
    {
     "data": {
      "image/png": "[encoded data removed]",
      "text/plain": [
       "<Figure size 1000x500 with 1 Axes>"
      ]
     },
     "metadata": {},
     "output_type": "display_data"
    }
   ],
   "source": [
    "img = torch.Tensor(particle_2)\n",
    "img = Resize((16,16))(img.unsqueeze(0))\n",
    "img = img.squeeze(0)\n",
    "fig, ax = plt.subplots(1, 1, figsize=(10, 5)) \n",
    "plt.imshow(img, cmap='gray')\n",
    "plt.axis('off')\n",
    "plt.savefig('300nm.png')\n",
    "plt.show()"
   ]
  },
  {
   "cell_type": "code",
   "execution_count": 32,
   "id": "18a87fae-e025-41a0-a27f-052d0555c2ca",
   "metadata": {},
   "outputs": [],
   "source": [
    "import h5py\n",
    "\n",
    "def get_nd2_paths(base_path, option):\n",
    "    \"\"\"\n",
    "    Recursively collects paths to .nd2 files inside specified subfolders of Metasurface directories.\n",
    "\n",
    "    Args:\n",
    "        base_path (str): The base directory to search.\n",
    "        option (str): The folder to consider ('Brightfield' or 'Laser').\n",
    "\n",
    "    Returns:\n",
    "        list: A list of paths to .nd2 files.\n",
    "    \"\"\"\n",
    "    if option not in {'Brightfield', 'Laser'}:\n",
    "        raise ValueError(\"Option must be 'Brightfield' or 'Laser'\")\n",
    "    \n",
    "    nd2_paths = []\n",
    "    \n",
    "    for root, dirs, files in os.walk(base_path):\n",
    "        if 'Metasurface' in os.path.basename(root):\n",
    "            target_folder = os.path.join(root, option)\n",
    "            if os.path.isdir(target_folder):\n",
    "                for file in os.listdir(target_folder):\n",
    "                    if file.endswith('.nd2'):\n",
    "                        nd2_paths.append(os.path.join(target_folder, file))  \n",
    "    return nd2_paths\n",
    "data_path_1 = os.path.join('data', '2024_11_11', 'Metasurface', 'Chip_02')\n",
    "data_path_2 = os.path.join('data', '2024_11_12', 'Metasurface', 'Chip_01')\n",
    "data_path_3 = os.path.join('data', '2024_11_29', 'Metasurface', 'Chip_02')\n",
    "nd2_paths = []\n",
    "for data_path in [data_path_1, data_path_2,data_path_3]:\n",
    "    nd2_paths.extend(get_nd2_paths(data_path, 'Brightfield'))"
   ]
  },
  {
   "cell_type": "code",
   "execution_count": 33,
   "id": "ef84ee08-8b2b-4ca3-9c26-00d2fe8f0c84",
   "metadata": {},
   "outputs": [
    {
     "data": {
      "text/plain": [
       "['data/2024_11_11/Metasurface/Chip_02/Metasurface 01/Brightfield/02_01_BF.nd2',\n",
       " 'data/2024_11_11/Metasurface/Chip_02/Metasurface 05/Brightfield/02_05_BF.nd2',\n",
       " 'data/2024_11_11/Metasurface/Chip_02/Metasurface 02/Brightfield/02_02_BF.nd2',\n",
       " 'data/2024_11_11/Metasurface/Chip_02/Metasurface 04/Brightfield/02_04_BF.nd2',\n",
       " 'data/2024_11_11/Metasurface/Chip_02/Metasurface 03/Brightfield/02_03_BF.nd2',\n",
       " 'data/2024_11_12/Metasurface/Chip_01/Metasurface 01/Brightfield/01_01_BF.nd2',\n",
       " 'data/2024_11_12/Metasurface/Chip_01/Metasurface 05/Brightfield/01_05_BF001.nd2',\n",
       " 'data/2024_11_12/Metasurface/Chip_01/Metasurface 02/Brightfield/01_02_BF.nd2',\n",
       " 'data/2024_11_12/Metasurface/Chip_01/Metasurface 06/Brightfield/01_06_BF.nd2',\n",
       " 'data/2024_11_12/Metasurface/Chip_01/Metasurface 04/Brightfield/01_04_BF.nd2',\n",
       " 'data/2024_11_12/Metasurface/Chip_01/Metasurface 03/Brightfield/01_03_BF.nd2',\n",
       " 'data/2024_11_29/Metasurface/Chip_02/Metasurface 01/Brightfield/02_01_BF.nd2',\n",
       " 'data/2024_11_29/Metasurface/Chip_02/Metasurface 09/Brightfield/02_09_BF.nd2',\n",
       " 'data/2024_11_29/Metasurface/Chip_02/Metasurface 05/Brightfield/02_05_BF.nd2',\n",
       " 'data/2024_11_29/Metasurface/Chip_02/Metasurface 07/Brightfield/02_07_BF.nd2',\n",
       " 'data/2024_11_29/Metasurface/Chip_02/Metasurface 02/Brightfield/02_02_BF.nd2',\n",
       " 'data/2024_11_29/Metasurface/Chip_02/Metasurface 08/Brightfield/02_08_BF.nd2',\n",
       " 'data/2024_11_29/Metasurface/Chip_02/Metasurface 06/Brightfield/02_06_BF.nd2',\n",
       " 'data/2024_11_29/Metasurface/Chip_02/Metasurface 04/Brightfield/02_04_BF.nd2',\n",
       " 'data/2024_11_29/Metasurface/Chip_02/Metasurface 03/Brightfield/02_03_BF.nd2']"
      ]
     },
     "execution_count": 33,
     "metadata": {},
     "output_type": "execute_result"
    }
   ],
   "source": [
    "nd2_paths"
   ]
  },
  {
   "cell_type": "code",
   "execution_count": 56,
   "id": "76867b6f-fa0a-42f3-9322-bb645b447d0c",
   "metadata": {
    "scrolled": true
   },
   "outputs": [],
   "source": [
    "import os\n",
    "import pandas as pd\n",
    "import numpy as np\n",
    "\n",
    "def analyze_particles(nd2_file_paths):\n",
    "    # Mapping particle size to CSV filenames\n",
    "    rename_mapping = {\n",
    "        \"80 nm \": \"Captured FITC.csv\",\n",
    "        \"300 nm \": \"Captured TRITC.csv\",\n",
    "        \"600 nm \": \"Captured Cy5.csv\",\n",
    "    }\n",
    "    ren = {\n",
    "        \"Captured Cy5.csv\":\"600 nm\",\n",
    "        \"Captured FITC.csv\":\"80 nm\",\n",
    "        \"Captured TRITC.csv\":\"300 nm\"}\n",
    "        \n",
    "    particle_sizes = {\n",
    "        \"Captured Cy5.csv\": \"80 nm\",\n",
    "        \"Captured FITC.csv\": \"300 nm\",\n",
    "        \"Captured TRITC.csv\": \"1300 nm\",\n",
    "    }\n",
    "\n",
    "    # Prepare results dictionary\n",
    "    results = {\n",
    "        \"80 nm\": {\"count\": 0, \"min_area\": None, \"max_area\": None, \"total_area\": 0, \"areas\": []},\n",
    "        \"300 nm\": {\"count\": 0, \"min_area\": None, \"max_area\": None, \"total_area\": 0, \"areas\": []},\n",
    "        \"600 nm\": {\"count\": 0, \"min_area\": None, \"max_area\": None, \"total_area\": 0, \"areas\": []},\n",
    "        \"1300 nm\": {\"count\": 0, \"min_area\": None, \"max_area\": None, \"total_area\": 0, \"areas\": []},\n",
    "    }\n",
    "\n",
    "    # Image dimensions for density calculation\n",
    "    IMAGE_AREA = 2160 * 2560\n",
    "\n",
    "    for path in nd2_file_paths:\n",
    "        folder = os.path.dirname(path)\n",
    "\n",
    "        # Adjust mappings for \"2024_11_29\" case\n",
    "        if \"2024_11_29\" in path:\n",
    "            a = ren\n",
    "        else:\n",
    "            a = particle_sizes\n",
    "        for csv_file, size_label in a.items():\n",
    "            csv_path = os.path.join(folder, csv_file)\n",
    "\n",
    "            if os.path.exists(csv_path):\n",
    "                df = pd.read_csv(csv_path)\n",
    "\n",
    "                # Compute areas\n",
    "                areas = (df[\"xMax\"] - df[\"xMin\"]) * (df[\"yMax\"] - df[\"yMin\"])\n",
    "\n",
    "                # Update results\n",
    "                results[size_label][\"count\"] += len(areas)\n",
    "                results[size_label][\"total_area\"] += areas.sum()\n",
    "                results[size_label][\"areas\"].extend(areas)\n",
    "\n",
    "    # Final calculations for stats\n",
    "    total_particles = sum(results[size][\"count\"] for size in results)\n",
    "\n",
    "    for size, stats in results.items():\n",
    "        if stats[\"count\"] > 0:\n",
    "            stats[\"min_area\"] = np.min(stats[\"areas\"])\n",
    "            stats[\"max_area\"] = np.max(stats[\"areas\"])\n",
    "            stats[\"avg_area\"] = np.mean(stats[\"areas\"])\n",
    "            stats[\"std_area\"] = np.std(stats[\"areas\"])\n",
    "            stats[\"density\"] = stats[\"count\"] / IMAGE_AREA  # Particles per unit area\n",
    "            stats[\"percentage\"] = (stats[\"count\"] / total_particles) * 100\n",
    "\n",
    "        # Remove 'areas' list to save memory\n",
    "        del stats[\"areas\"]\n",
    "\n",
    "    return results"
   ]
  },
  {
   "cell_type": "code",
   "execution_count": 57,
   "id": "cd4a7df7-98ae-48c6-90e6-43d7e1104c56",
   "metadata": {},
   "outputs": [
    {
     "data": {
      "text/plain": [
       "{'80 nm': {'count': 32462,\n",
       "  'min_area': 16.0,\n",
       "  'max_area': 156.0,\n",
       "  'total_area': 1093005.0,\n",
       "  'avg_area': 33.670291417657566,\n",
       "  'std_area': 14.66897608056359,\n",
       "  'density': 0.005870587384259259,\n",
       "  'percentage': 78.50544135429263},\n",
       " '300 nm': {'count': 8659,\n",
       "  'min_area': 16.0,\n",
       "  'max_area': 132.0,\n",
       "  'total_area': 303874.0,\n",
       "  'avg_area': 35.09342880240212,\n",
       "  'std_area': 11.802183555531926,\n",
       "  'density': 0.0015659360532407408,\n",
       "  'percentage': 20.94074969770254},\n",
       " '600 nm': {'count': 169,\n",
       "  'min_area': 16.0,\n",
       "  'max_area': 110.0,\n",
       "  'total_area': 8644.0,\n",
       "  'avg_area': 51.14792899408284,\n",
       "  'std_area': 27.478803210628538,\n",
       "  'density': 3.056278935185185e-05,\n",
       "  'percentage': 0.40870616686819833},\n",
       " '1300 nm': {'count': 60,\n",
       "  'min_area': 16.0,\n",
       "  'max_area': 324.0,\n",
       "  'total_area': 3239.0,\n",
       "  'avg_area': 53.983333333333334,\n",
       "  'std_area': 61.818953853616414,\n",
       "  'density': 1.0850694444444445e-05,\n",
       "  'percentage': 0.14510278113663846}}"
      ]
     },
     "execution_count": 57,
     "metadata": {},
     "output_type": "execute_result"
    }
   ],
   "source": [
    "out = analyze_particles(nd2_paths)\n",
    "out"
   ]
  }
 ],
 "metadata": {
  "kernelspec": {
   "display_name": "iscat",
   "language": "python",
   "name": "iscat"
  },
  "language_info": {
   "codemirror_mode": {
    "name": "ipython",
    "version": 3
   },
   "file_extension": ".py",
   "mimetype": "text/x-python",
   "name": "python",
   "nbconvert_exporter": "python",
   "pygments_lexer": "ipython3",
   "version": "3.11.11"
  }
 },
 "nbformat": 4,
 "nbformat_minor": 5
}
