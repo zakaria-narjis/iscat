{
 "cells": [
  {
   "cell_type": "code",
   "execution_count": 1,
   "id": "304c408e-95ce-4060-b991-b680dbc05be3",
   "metadata": {},
   "outputs": [
    {
     "name": "stdout",
     "output_type": "stream",
     "text": [
      "Current Directory: /workspace/iscat\n"
     ]
    }
   ],
   "source": [
    "import os\n",
    "os.chdir(\"..\")\n",
    "print(\"Current Directory:\", os.getcwd())"
   ]
  },
  {
   "cell_type": "code",
   "execution_count": 2,
   "id": "393fd44e-e38b-48b8-8d3a-f5c2ce4b18e6",
   "metadata": {},
   "outputs": [
    {
     "name": "stdout",
     "output_type": "stream",
     "text": [
      "(41350, 16, 201)\n",
      "(array([0, 1, 2, 3]), array([32462,  8659,    60,   169]))\n"
     ]
    }
   ],
   "source": [
    "import h5py\n",
    "import numpy as np\n",
    "particle_data_path ='dataset/brightfield_particles.hdf5'\n",
    "with h5py.File(particle_data_path , 'r') as f:\n",
    "    print(f['data'].shape)\n",
    "    print(np.unique(f['labels'],return_counts=True))"
   ]
  },
  {
   "cell_type": "code",
   "execution_count": 3,
   "id": "2ca1abc1-24c3-49d5-9039-c2086ff68d98",
   "metadata": {},
   "outputs": [],
   "source": [
    "import numpy as np\n",
    "import matplotlib.pyplot as plt\n",
    "from matplotlib import rcParams\n",
    "\n",
    "# Use DejaVu Serif as an alternative to Times New Roman\n",
    "rcParams['font.family'] = 'DejaVu Serif'\n",
    "rcParams['font.size'] = 12\n",
    "rcParams['axes.titlesize'] = 14\n",
    "rcParams['axes.labelsize'] = 12\n",
    "rcParams['xtick.labelsize'] = 10\n",
    "rcParams['ytick.labelsize'] = 10\n",
    "rcParams['legend.fontsize'] = 10"
   ]
  },
  {
   "cell_type": "code",
   "execution_count": 30,
   "id": "2a691a19-8abd-42e4-b8b7-cfdb6e49d290",
   "metadata": {},
   "outputs": [],
   "source": [
    "import torch\n",
    "import torch.nn as nn\n",
    "import torch.optim as optim\n",
    "from torch.utils.data import Dataset, DataLoader\n",
    "import h5py\n",
    "import numpy as np\n",
    "# from torchvision.models import vit_b_16\n",
    "import matplotlib.pyplot as plt\n",
    "from sklearn.metrics import confusion_matrix\n",
    "from tqdm import tqdm\n",
    "from torchvision.models.vision_transformer import VisionTransformer\n",
    "import torch\n",
    "import torch.nn as nn\n",
    "import torch.optim as optim\n",
    "from torch.utils.data import DataLoader\n",
    "from sklearn.metrics import confusion_matrix, f1_score, balanced_accuracy_score\n",
    "import matplotlib.pyplot as plt\n",
    "\n",
    "def compute_normalization_stats(h5_path, classes=None):\n",
    "    \"\"\"\n",
    "    Compute mean and standard deviation for z-score normalization.\n",
    "    \n",
    "    Args:\n",
    "        h5_path (str): Path to HDF5 file\n",
    "        classes (list, optional): List of classes to include in computation\n",
    "        \n",
    "    Returns:\n",
    "        tuple: (mean, std) computed across all data points\n",
    "    \"\"\"\n",
    "    with h5py.File(h5_path, 'r') as h5_file:\n",
    "        data = h5_file['data'][:]\n",
    "        labels = h5_file['labels'][:]\n",
    "        \n",
    "        if classes is not None:\n",
    "            # Filter data for selected classes\n",
    "            mask = np.isin(labels, classes)\n",
    "            data = data[mask]\n",
    "        \n",
    "        # Compute statistics across all dimensions\n",
    "        mean = np.mean(data)\n",
    "        std = np.std(data)\n",
    "        \n",
    "        print(f\"Computed statistics: mean = {mean:.4f}, std = {std:.4f}\")\n",
    "        \n",
    "        return mean, std\n",
    "        \n",
    "class ParticleDataset(Dataset):\n",
    "    \"\"\"Custom Dataset for particle data with flexible class selection and normalization.\"\"\"\n",
    "    def __init__(self, h5_path, classes=[0, 1], transform=None, mean=None, std=None,padding=False):\n",
    "        self.h5_file = h5py.File(h5_path, 'r')\n",
    "        data = self.h5_file['data'][:]\n",
    "        labels = self.h5_file['labels'][:]\n",
    "        self.padding = padding\n",
    "        # Filter data for selected classes\n",
    "        mask = np.isin(labels, classes)\n",
    "        self.data = data[mask]\n",
    "        self.labels = labels[mask]\n",
    "        \n",
    "        # Create class mapping to handle non-consecutive class indices\n",
    "        self.class_to_idx = {c: i for i, c in enumerate(classes)}\n",
    "        self.num_classes = len(classes)\n",
    "        \n",
    "        # Map original labels to new consecutive indices\n",
    "        self.labels = np.array([self.class_to_idx[label] for label in self.labels])\n",
    "        \n",
    "        self.transform = transform\n",
    "        self.mean = mean\n",
    "        self.std = std\n",
    "        \n",
    "    def __len__(self):\n",
    "        return len(self.labels)\n",
    "    \n",
    "    # def __getitem__(self, idx):\n",
    "    #     # Get particle data\n",
    "    #     particle = self.data[idx]  # Shape: (16, 201)\n",
    "        \n",
    "    #     # Apply normalization if mean and std are provided\n",
    "    #     if self.mean is not None and self.std is not None:\n",
    "    #         particle = (particle - self.mean) / self.std\n",
    "        \n",
    "    #     # First resize to (16, 192) using cubic interpolation\n",
    "    #     # Convert to torch tensor for better interpolation\n",
    "    #     particle_tensor = torch.FloatTensor(particle).unsqueeze(0)  # Add channel dim\n",
    "    #     resized = torch.nn.functional.interpolate(\n",
    "    #         particle_tensor.unsqueeze(0),  # Add batch dim\n",
    "    #         size=(16, 192),\n",
    "    #         mode='bicubic',\n",
    "    #         align_corners=True\n",
    "    #     ).squeeze(0).squeeze(0)  # Remove batch and channel dims\n",
    "    #     if self.padding:\n",
    "    #         # Create square tensor with symmetric padding\n",
    "    #         target_size = 224\n",
    "    #         current_height = resized.shape[0]\n",
    "    #         current_width = resized.shape[1]\n",
    "        \n",
    "    #         # Calculate padding for height and width\n",
    "    #         padding_height = target_size - current_height\n",
    "    #         padding_width = target_size - current_width\n",
    "        \n",
    "    #         # Calculate symmetric padding for height\n",
    "    #         padding_top = padding_height // 2\n",
    "    #         padding_bottom = padding_height - padding_top\n",
    "        \n",
    "    #         # Calculate symmetric padding for width\n",
    "    #         padding_left = padding_width // 2\n",
    "    #         padding_right = padding_width - padding_left\n",
    "        \n",
    "    #         # Use torch's pad function for symmetric padding\n",
    "    #         padded = torch.nn.functional.pad(\n",
    "    #             resized,\n",
    "    #             (padding_left, padding_right,  # Padding in width dimension\n",
    "    #              padding_top, padding_bottom),  # Padding in height dimension\n",
    "    #             mode='constant',\n",
    "    #             value=0\n",
    "    #         )\n",
    "    #         # Add single channel dimension\n",
    "    #         final_tensor = padded.unsqueeze(0)\n",
    "    #     else:\n",
    "    #         final_tensor = resized.unsqueeze(0)\n",
    "    #     final_tensor = final_tensor.repeat(3, 1, 1)\n",
    "    #     if self.transform:\n",
    "    #         final_tensor = self.transform(final_tensor)\n",
    "        \n",
    "    #     # Create one-hot encoded label\n",
    "    #     label_idx = self.labels[idx]\n",
    "    #     label_onehot = torch.zeros(self.num_classes)\n",
    "    #     label_onehot[label_idx] = 1\n",
    "        \n",
    "    #     return final_tensor, label_onehot\n",
    "    def __getitem__(self, idx):\n",
    "        # Get particle data\n",
    "        particle = self.data[idx]  # Shape: (16, 201)\n",
    "        \n",
    "        # Apply normalization if mean and std are provided\n",
    "        if self.mean is not None and self.std is not None:\n",
    "            particle = (particle - self.mean) / self.std\n",
    "        \n",
    "        # Convert to torch tensor for better interpolation\n",
    "        particle_tensor = torch.FloatTensor(particle).unsqueeze(0)  # Add channel dim\n",
    "        \n",
    "        # Resize to (16, 16) using bicubic interpolation\n",
    "        resized = torch.nn.functional.interpolate(\n",
    "            particle_tensor.unsqueeze(0),  # Add batch dim\n",
    "            size=(16, 16),\n",
    "            mode='bicubic',\n",
    "            align_corners=True\n",
    "        ).squeeze(0).squeeze(0)  # Remove batch and channel dims\n",
    "        \n",
    "        final_tensor = resized.unsqueeze(0).repeat(3, 1, 1)  # Repeat across 3 channels\n",
    "        \n",
    "        if self.transform:\n",
    "            final_tensor = self.transform(final_tensor)\n",
    "        \n",
    "        # Create one-hot encoded label\n",
    "        label_idx = self.labels[idx]\n",
    "        label_onehot = torch.zeros(self.num_classes)\n",
    "        label_onehot[label_idx] = 1\n",
    "        \n",
    "        return final_tensor, label_onehot\n",
    "\n",
    "    def close(self):\n",
    "        self.h5_file.close()\n",
    "        \n",
    "class ModifiedViT(nn.Module):\n",
    "    def __init__(self, num_classes=2,patch_size=16,num_layers=12,num_heads=12,hidden_dim =768,mlp_dim=3072):\n",
    "        super().__init__()\n",
    "        # Load pretrained ViT\n",
    "        self.vit = VisionTransformer(image_size=192,\n",
    "        patch_size=16,\n",
    "        num_classes = num_classes,\n",
    "        num_layers=12,\n",
    "        num_heads=12,\n",
    "        hidden_dim=768,\n",
    "        mlp_dim=3072,\n",
    "    )\n",
    "        \n",
    "        self.vit.conv_proj = nn.Conv2d(\n",
    "                    in_channels=1, out_channels=hidden_dim, kernel_size=patch_size, stride=patch_size\n",
    "                ) \n",
    "    def forward(self, x):\n",
    "        return self.vit(x)\n",
    "        \n",
    "def train_model(model, train_loader, val_loader, device, num_epochs=50, weights=None, patience=20):\n",
    "    criterion = nn.CrossEntropyLoss(weight=torch.Tensor(weights).to(device)) if weights is not None else nn.CrossEntropyLoss()\n",
    "    optimizer = optim.AdamW(model.parameters(), lr=1e-4, weight_decay=0.05)\n",
    "    scheduler = optim.lr_scheduler.CosineAnnealingLR(optimizer, T_max=num_epochs)\n",
    "    \n",
    "    best_val_acc = 0.0\n",
    "    best_val_loss = float('inf')\n",
    "    train_losses = []\n",
    "    val_losses = []\n",
    "    val_accuracies = []\n",
    "    val_f1_scores = []\n",
    "    val_bal_accs = []\n",
    "    \n",
    "    early_stopping_counter = 0\n",
    "    \n",
    "    for epoch in range(num_epochs):\n",
    "        # Training Phase\n",
    "        model.train()\n",
    "        total_train_loss = 0\n",
    "        \n",
    "        for inputs, labels in tqdm(train_loader, desc=f'Epoch {epoch+1}/{num_epochs} Training'):\n",
    "            inputs, labels = inputs.to(device), labels.to(device)\n",
    "            optimizer.zero_grad()\n",
    "            outputs = model(inputs)\n",
    "            loss = criterion(outputs, labels)\n",
    "            loss.backward()\n",
    "            optimizer.step()\n",
    "            total_train_loss += loss.item()\n",
    "        \n",
    "        avg_train_loss = total_train_loss / len(train_loader)\n",
    "        train_losses.append(avg_train_loss)\n",
    "        \n",
    "        # Validation Phase\n",
    "        model.eval()\n",
    "        val_preds = []\n",
    "        val_true = []\n",
    "        total_val_loss = 0\n",
    "        \n",
    "        with torch.no_grad():\n",
    "            for inputs, labels in val_loader:\n",
    "                inputs, labels = inputs.to(device), labels.to(device)\n",
    "                outputs = model(inputs)\n",
    "                val_loss = criterion(outputs, labels)\n",
    "                total_val_loss += val_loss.item()\n",
    "                \n",
    "                predicted = torch.argmax(outputs, 1)\n",
    "                labels = torch.argmax(labels, 1)\n",
    "                val_preds.extend(predicted.cpu().numpy())\n",
    "                val_true.extend(labels.cpu().numpy())\n",
    "        \n",
    "        avg_val_loss = total_val_loss / len(val_loader)\n",
    "        val_losses.append(avg_val_loss)\n",
    "        \n",
    "        # Calculate metrics\n",
    "        val_acc = 100 * (sum([p == t for p, t in zip(val_preds, val_true)]) / len(val_true))\n",
    "        f1 = f1_score(val_true, val_preds, average='weighted')\n",
    "        bal_acc = balanced_accuracy_score(val_true, val_preds)\n",
    "        \n",
    "        # Confusion matrix metrics for class 0\n",
    "        tp = sum((np.array(val_preds) == 0) & (np.array(val_true) == 0))\n",
    "        tn = sum((np.array(val_preds) == 1) & (np.array(val_true) == 1))\n",
    "        fp = sum((np.array(val_preds) == 0) & (np.array(val_true) == 1))\n",
    "        fn = sum((np.array(val_preds) == 1) & (np.array(val_true) == 0))\n",
    "        \n",
    "        val_accuracies.append(val_acc)\n",
    "        val_f1_scores.append(f1)\n",
    "        val_bal_accs.append(bal_acc)\n",
    "        \n",
    "        # Print epoch details\n",
    "        print(f'Epoch {epoch+1}:')\n",
    "        print(f'  Train Loss = {avg_train_loss:.4f}, Val Loss = {avg_val_loss:.4f}')\n",
    "        print(f'  Val Accuracy = {val_acc:.2f}%, F1-Score = {f1:.4f}, Balanced Acc = {bal_acc:.4f}')\n",
    "        print(f'  Class 0 Metrics:')\n",
    "        print(f'    True Positives: {tp}')\n",
    "        print(f'    True Negatives: {tn}')\n",
    "        print(f'    False Positives: {fp}')\n",
    "        print(f'    False Negatives: {fn}')\n",
    "        print(f'    Precision: {tp/(tp+fp) if (tp+fp) > 0 else 0:.4f}')\n",
    "        print(f'    Recall: {tp/(tp+fn) if (tp+fn) > 0 else 0:.4f}')\n",
    "        \n",
    "        # Early Stopping and Model Saving\n",
    "        if val_acc > best_val_acc:\n",
    "            best_val_acc = val_acc\n",
    "            early_stopping_counter = 0\n",
    "            torch.save(model.state_dict(), 'best_particle_vit.pth')\n",
    "        \n",
    "        # Check for improvement in validation loss\n",
    "        if avg_val_loss < best_val_loss:\n",
    "            best_val_loss = avg_val_loss\n",
    "            early_stopping_counter = 0\n",
    "        else:\n",
    "            early_stopping_counter += 1\n",
    "        \n",
    "        # Early stopping\n",
    "        if early_stopping_counter >= patience:\n",
    "            print(f'Early stopping triggered after {epoch+1} epochs')\n",
    "            break\n",
    "        \n",
    "        scheduler.step()\n",
    "    \n",
    "    return (train_losses, val_losses, val_accuracies, \n",
    "            val_f1_scores, val_bal_accs, val_preds, val_true)\n",
    "\n",
    "import matplotlib.pyplot as plt\n",
    "import numpy as np\n",
    "from sklearn.metrics import confusion_matrix\n",
    "\n",
    "def plot_training_results(train_losses, val_accuracies, val_f1_scores, val_bal_accs, val_preds, val_true):\n",
    "    fig, (ax1, ax2, ax3) = plt.subplots(1, 3, figsize=(18, 5))\n",
    "    \n",
    "    # Plot Training Loss\n",
    "    ax1.plot(train_losses, label='Loss', color='blue')\n",
    "    min_loss = min(train_losses)\n",
    "    ax1.axhline(y=min_loss, color='blue', linestyle='dashed')\n",
    "    ax1.text(0, min_loss, f'{min_loss:.4f}', color='blue', verticalalignment='bottom')\n",
    "    ax1.set_title('Training Loss')\n",
    "    ax1.set_xlabel('Epoch')\n",
    "    ax1.set_ylabel('Loss')\n",
    "    ax1.legend()\n",
    "    \n",
    "    # Plot Validation Accuracy\n",
    "    ax2.plot(val_accuracies, label='Accuracy', color='red')\n",
    "    max_acc = max(val_accuracies)\n",
    "    ax2.axhline(y=max_acc, color='red', linestyle='dashed')\n",
    "    ax2.text(0, max_acc, f'{max_acc:.2f}%', color='red', verticalalignment='bottom')\n",
    "    ax2.set_title('Validation Accuracy')\n",
    "    ax2.set_xlabel('Epoch')\n",
    "    ax2.set_ylabel('Accuracy (%)')\n",
    "    ax2.legend()\n",
    "    \n",
    "    # Plot Validation Metrics\n",
    "    ax3.plot(val_f1_scores, label='F1-Score', color='green')\n",
    "    ax3.plot(val_bal_accs, label='Balanced Accuracy', color='orange')\n",
    "    max_f1 = max(val_f1_scores)\n",
    "    max_bal_acc = max(val_bal_accs)\n",
    "    ax3.axhline(y=max_f1, color='green', linestyle='dashed')\n",
    "    ax3.text(0, max_f1, f'{max_f1:.2f}', color='green', verticalalignment='bottom')\n",
    "    ax3.axhline(y=max_bal_acc, color='orange', linestyle='dashed')\n",
    "    ax3.text(0, max_bal_acc, f'{max_bal_acc:.2f}', color='orange', verticalalignment='bottom')\n",
    "    ax3.set_title('Validation Metrics')\n",
    "    ax3.set_xlabel('Epoch')\n",
    "    ax3.legend()\n",
    "    \n",
    "    plt.tight_layout()\n",
    "    plt.savefig('training_plots.pdf', format=\"pdf\", dpi=300)\n",
    "    \n",
    "    # Confusion Matrix\n",
    "    cm = confusion_matrix(val_true, val_preds)\n",
    "    plt.figure(figsize=(8, 6))\n",
    "    plt.imshow(cm, interpolation='nearest', cmap=plt.cm.Blues)\n",
    "    plt.title('Confusion Matrix')\n",
    "    plt.colorbar()\n",
    "    \n",
    "    # Add labels\n",
    "    tick_marks = range(len(cm))\n",
    "    plt.xticks(tick_marks)\n",
    "    plt.yticks(tick_marks)\n",
    "    \n",
    "    # Annotate each cell with the corresponding value\n",
    "    for i in range(len(cm)):\n",
    "        for j in range(len(cm[i])):\n",
    "            plt.text(j, i, str(cm[i, j]), ha='center', va='center', \n",
    "                     color='white' if cm[i, j] > cm.max() / 2 else 'black')\n",
    "    \n",
    "    plt.ylabel('True Label')\n",
    "    plt.xlabel('Predicted Label')\n",
    "    plt.tight_layout()\n",
    "    plt.savefig('confusion_matrix.pdf', format=\"pdf\", dpi=300)\n",
    "    plt.show()"
   ]
  },
  {
   "cell_type": "code",
   "execution_count": 5,
   "id": "72570529-4229-4e7d-a3bb-8e9e577e34eb",
   "metadata": {},
   "outputs": [],
   "source": [
    "import torch\n",
    "import torch.nn as nn\n",
    "import math\n",
    "from typing import Optional, Callable, List, OrderedDict\n",
    "from functools import partial\n",
    "from torchvision.models.vision_transformer import Encoder, ConvStemConfig\n",
    "\n",
    "class ModifiedVisionTransformer(nn.Module):\n",
    "    \"\"\"Modified Vision Transformer to support rectangular images and single-channel inputs.\"\"\"\n",
    "\n",
    "    def __init__(\n",
    "        self,\n",
    "        image_height: int,\n",
    "        image_width: int,\n",
    "        patch_height: int,\n",
    "        patch_width: int,\n",
    "        num_layers: int,\n",
    "        num_heads: int,\n",
    "        hidden_dim: int,\n",
    "        mlp_dim: int,\n",
    "        in_channels: int = 1,  # Support single-channel by default\n",
    "        dropout: float = 0.0,\n",
    "        attention_dropout: float = 0.0,\n",
    "        num_classes: int = 1000,\n",
    "        representation_size: Optional[int] = None,\n",
    "        norm_layer: Callable[..., torch.nn.Module] = partial(nn.LayerNorm, eps=1e-6),\n",
    "        conv_stem_configs: Optional[List[ConvStemConfig]] = None,\n",
    "    ):\n",
    "        super().__init__()\n",
    "        \n",
    "        # Remove square image assertion\n",
    "        self.image_height = image_height\n",
    "        self.image_width = image_width\n",
    "        self.patch_height = patch_height\n",
    "        self.patch_width = patch_width\n",
    "        self.hidden_dim = hidden_dim\n",
    "        self.mlp_dim = mlp_dim\n",
    "        self.attention_dropout = attention_dropout\n",
    "        self.dropout = dropout\n",
    "        self.num_classes = num_classes\n",
    "        self.representation_size = representation_size\n",
    "        self.norm_layer = norm_layer\n",
    "\n",
    "        # Modify conv_proj to handle single channel and rectangular images\n",
    "        if conv_stem_configs is not None:\n",
    "            seq_proj = nn.Sequential()\n",
    "            prev_channels = in_channels\n",
    "            for i, conv_stem_layer_config in enumerate(conv_stem_configs):\n",
    "                seq_proj.add_module(\n",
    "                    f\"conv_bn_relu_{i}\",\n",
    "                    Conv2dNormActivation(\n",
    "                        in_channels=prev_channels,\n",
    "                        out_channels=conv_stem_layer_config.out_channels,\n",
    "                        kernel_size=conv_stem_layer_config.kernel_size,\n",
    "                        stride=conv_stem_layer_config.stride,\n",
    "                        norm_layer=conv_stem_layer_config.norm_layer,\n",
    "                        activation_layer=conv_stem_layer_config.activation_layer,\n",
    "                    ),\n",
    "                )\n",
    "                prev_channels = conv_stem_layer_config.out_channels\n",
    "            seq_proj.add_module(\n",
    "                \"conv_last\", nn.Conv2d(in_channels=prev_channels, out_channels=hidden_dim, kernel_size=1)\n",
    "            )\n",
    "            self.conv_proj: nn.Module = seq_proj\n",
    "        else:\n",
    "            self.conv_proj = nn.Conv2d(\n",
    "                in_channels=in_channels, \n",
    "                out_channels=hidden_dim, \n",
    "                kernel_size=(patch_height, patch_width), \n",
    "                stride=(patch_height, patch_width)\n",
    "            )\n",
    "\n",
    "        # Calculate sequence length for rectangular images\n",
    "        seq_length = (image_height // patch_height) * (image_width // patch_width)\n",
    "\n",
    "        # Add a class token\n",
    "        self.class_token = nn.Parameter(torch.zeros(1, 1, hidden_dim))\n",
    "        seq_length += 1\n",
    "\n",
    "        self.encoder = Encoder(\n",
    "            seq_length,\n",
    "            num_layers,\n",
    "            num_heads,\n",
    "            hidden_dim,\n",
    "            mlp_dim,\n",
    "            dropout,\n",
    "            attention_dropout,\n",
    "            norm_layer,\n",
    "        )\n",
    "        self.seq_length = seq_length\n",
    "\n",
    "        # Rest of the initialization remains the same as the original implementation\n",
    "        heads_layers: OrderedDict[str, nn.Module] = OrderedDict()\n",
    "        if representation_size is None:\n",
    "            heads_layers[\"head\"] = nn.Linear(hidden_dim, num_classes)\n",
    "        else:\n",
    "            heads_layers[\"pre_logits\"] = nn.Linear(hidden_dim, representation_size)\n",
    "            heads_layers[\"act\"] = nn.Tanh()\n",
    "            heads_layers[\"head\"] = nn.Linear(representation_size, num_classes)\n",
    "\n",
    "        self.heads = nn.Sequential(heads_layers)\n",
    "\n",
    "        # Weight initialization (similar to original)\n",
    "        if isinstance(self.conv_proj, nn.Conv2d):\n",
    "            fan_in = self.conv_proj.in_channels * self.conv_proj.kernel_size[0] * self.conv_proj.kernel_size[1]\n",
    "            nn.init.trunc_normal_(self.conv_proj.weight, std=math.sqrt(1 / fan_in))\n",
    "            if self.conv_proj.bias is not None:\n",
    "                nn.init.zeros_(self.conv_proj.bias)\n",
    "\n",
    "        # Other initializations remain the same...\n",
    "\n",
    "    def _process_input(self, x: torch.Tensor) -> torch.Tensor:\n",
    "        n, c, h, w = x.shape\n",
    "        \n",
    "        # Remove assertions for square images\n",
    "        n_h = h // self.patch_height\n",
    "        n_w = w // self.patch_width\n",
    "\n",
    "        # (n, c, h, w) -> (n, hidden_dim, n_h, n_w)\n",
    "        x = self.conv_proj(x)\n",
    "        # (n, hidden_dim, n_h, n_w) -> (n, hidden_dim, (n_h * n_w))\n",
    "        x = x.reshape(n, self.hidden_dim, n_h * n_w)\n",
    "\n",
    "        # Permute to self-attention expected format\n",
    "        x = x.permute(0, 2, 1)\n",
    "\n",
    "        return x\n",
    "    def forward(self, x: torch.Tensor):\n",
    "        # Reshape and permute the input tensor\n",
    "        x = self._process_input(x)\n",
    "        n = x.shape[0]\n",
    "\n",
    "        # Expand the class token to the full batch\n",
    "        batch_class_token = self.class_token.expand(n, -1, -1)\n",
    "        x = torch.cat([batch_class_token, x], dim=1)\n",
    "\n",
    "        x = self.encoder(x)\n",
    "\n",
    "        # Classifier \"token\" as used by standard language architectures\n",
    "        x = x[:, 0]\n",
    "\n",
    "        x = self.heads(x)\n",
    "\n",
    "        return x"
   ]
  },
  {
   "cell_type": "code",
   "execution_count": 6,
   "id": "3c414325-5837-4117-b88c-84a77ea45615",
   "metadata": {},
   "outputs": [
    {
     "name": "stderr",
     "output_type": "stream",
     "text": [
      "Using cache found in /root/.cache/torch/hub/pytorch_vision_v0.10.0\n",
      "/root/miniconda3/envs/iscat/lib/python3.11/site-packages/torchvision/models/_utils.py:208: UserWarning: The parameter 'pretrained' is deprecated since 0.13 and may be removed in the future, please use 'weights' instead.\n",
      "  warnings.warn(\n",
      "/root/miniconda3/envs/iscat/lib/python3.11/site-packages/torchvision/models/_utils.py:223: UserWarning: Arguments other than a weight enum or `None` for 'weights' are deprecated since 0.13 and may be removed in the future. The current behavior is equivalent to passing `weights=None`.\n",
      "  warnings.warn(msg)\n"
     ]
    }
   ],
   "source": [
    "resnet = torch.hub.load('pytorch/vision:v0.10.0', 'resnet18', pretrained=False)\n",
    "\n",
    "# Modify the final fully connected layer (classifier head)\n",
    "resnet .fc = nn.Linear(resnet.fc.in_features, 2)"
   ]
  },
  {
   "cell_type": "code",
   "execution_count": 7,
   "id": "ca7c0ccc-ecbb-4835-9d3b-9e5266dba96e",
   "metadata": {
    "scrolled": true
   },
   "outputs": [
    {
     "name": "stdout",
     "output_type": "stream",
     "text": [
      "Using device: cuda:6\n",
      "Computed statistics: mean = 7537.6143, std = 1312.3260\n",
      "0.2105727140077821\n",
      "0.21057750759878419\n"
     ]
    },
    {
     "name": "stderr",
     "output_type": "stream",
     "text": [
      "Epoch 1/50 Training: 100%|████████████████████████████████| 1028/1028 [00:19<00:00, 53.12it/s]\n"
     ]
    },
    {
     "name": "stdout",
     "output_type": "stream",
     "text": [
      "Epoch 1:\n",
      "  Train Loss = 0.1862, Val Loss = 0.1489\n",
      "  Val Accuracy = 94.15%, F1-Score = 0.9419, Balanced Acc = 0.9185\n",
      "  Class 0 Metrics:\n",
      "    True Positives: 6222\n",
      "    True Negatives: 1522\n",
      "    False Positives: 210\n",
      "    False Negatives: 271\n",
      "    Precision: 0.9674\n",
      "    Recall: 0.9583\n"
     ]
    },
    {
     "name": "stderr",
     "output_type": "stream",
     "text": [
      "Epoch 2/50 Training: 100%|████████████████████████████████| 1028/1028 [00:18<00:00, 55.37it/s]\n"
     ]
    },
    {
     "name": "stdout",
     "output_type": "stream",
     "text": [
      "Epoch 2:\n",
      "  Train Loss = 0.1387, Val Loss = 0.2061\n",
      "  Val Accuracy = 93.57%, F1-Score = 0.9344, Balanced Acc = 0.8845\n",
      "  Class 0 Metrics:\n",
      "    True Positives: 6317\n",
      "    True Negatives: 1379\n",
      "    False Positives: 353\n",
      "    False Negatives: 176\n",
      "    Precision: 0.9471\n",
      "    Recall: 0.9729\n"
     ]
    },
    {
     "name": "stderr",
     "output_type": "stream",
     "text": [
      "Epoch 3/50 Training: 100%|████████████████████████████████| 1028/1028 [00:18<00:00, 54.24it/s]\n"
     ]
    },
    {
     "name": "stdout",
     "output_type": "stream",
     "text": [
      "Epoch 3:\n",
      "  Train Loss = 0.1204, Val Loss = 0.1362\n",
      "  Val Accuracy = 95.31%, F1-Score = 0.9538, Balanced Acc = 0.9466\n",
      "  Class 0 Metrics:\n",
      "    True Positives: 6219\n",
      "    True Negatives: 1620\n",
      "    False Positives: 112\n",
      "    False Negatives: 274\n",
      "    Precision: 0.9823\n",
      "    Recall: 0.9578\n"
     ]
    },
    {
     "name": "stderr",
     "output_type": "stream",
     "text": [
      "Epoch 4/50 Training: 100%|████████████████████████████████| 1028/1028 [00:18<00:00, 56.19it/s]\n"
     ]
    },
    {
     "name": "stdout",
     "output_type": "stream",
     "text": [
      "Epoch 4:\n",
      "  Train Loss = 0.1111, Val Loss = 0.1371\n",
      "  Val Accuracy = 95.66%, F1-Score = 0.9556, Balanced Acc = 0.9132\n",
      "  Class 0 Metrics:\n",
      "    True Positives: 6416\n",
      "    True Negatives: 1452\n",
      "    False Positives: 280\n",
      "    False Negatives: 77\n",
      "    Precision: 0.9582\n",
      "    Recall: 0.9881\n"
     ]
    },
    {
     "name": "stderr",
     "output_type": "stream",
     "text": [
      "Epoch 5/50 Training: 100%|████████████████████████████████| 1028/1028 [00:18<00:00, 56.27it/s]\n"
     ]
    },
    {
     "name": "stdout",
     "output_type": "stream",
     "text": [
      "Epoch 5:\n",
      "  Train Loss = 0.1029, Val Loss = 0.0951\n",
      "  Val Accuracy = 97.30%, F1-Score = 0.9730, Balanced Acc = 0.9590\n",
      "  Class 0 Metrics:\n",
      "    True Positives: 6384\n",
      "    True Negatives: 1619\n",
      "    False Positives: 113\n",
      "    False Negatives: 109\n",
      "    Precision: 0.9826\n",
      "    Recall: 0.9832\n"
     ]
    },
    {
     "name": "stderr",
     "output_type": "stream",
     "text": [
      "Epoch 6/50 Training: 100%|████████████████████████████████| 1028/1028 [00:19<00:00, 53.40it/s]\n"
     ]
    },
    {
     "name": "stdout",
     "output_type": "stream",
     "text": [
      "Epoch 6:\n",
      "  Train Loss = 0.0931, Val Loss = 0.1284\n",
      "  Val Accuracy = 95.60%, F1-Score = 0.9567, Balanced Acc = 0.9516\n",
      "  Class 0 Metrics:\n",
      "    True Positives: 6228\n",
      "    True Negatives: 1635\n",
      "    False Positives: 97\n",
      "    False Negatives: 265\n",
      "    Precision: 0.9847\n",
      "    Recall: 0.9592\n"
     ]
    },
    {
     "name": "stderr",
     "output_type": "stream",
     "text": [
      "Epoch 7/50 Training: 100%|████████████████████████████████| 1028/1028 [00:18<00:00, 54.73it/s]\n"
     ]
    },
    {
     "name": "stdout",
     "output_type": "stream",
     "text": [
      "Epoch 7:\n",
      "  Train Loss = 0.0928, Val Loss = 0.1039\n",
      "  Val Accuracy = 96.66%, F1-Score = 0.9668, Balanced Acc = 0.9562\n",
      "  Class 0 Metrics:\n",
      "    True Positives: 6325\n",
      "    True Negatives: 1625\n",
      "    False Positives: 107\n",
      "    False Negatives: 168\n",
      "    Precision: 0.9834\n",
      "    Recall: 0.9741\n"
     ]
    },
    {
     "name": "stderr",
     "output_type": "stream",
     "text": [
      "Epoch 8/50 Training: 100%|████████████████████████████████| 1028/1028 [00:18<00:00, 56.59it/s]\n"
     ]
    },
    {
     "name": "stdout",
     "output_type": "stream",
     "text": [
      "Epoch 8:\n",
      "  Train Loss = 0.0883, Val Loss = 0.0896\n",
      "  Val Accuracy = 97.26%, F1-Score = 0.9724, Balanced Acc = 0.9490\n",
      "  Class 0 Metrics:\n",
      "    True Positives: 6427\n",
      "    True Negatives: 1573\n",
      "    False Positives: 159\n",
      "    False Negatives: 66\n",
      "    Precision: 0.9759\n",
      "    Recall: 0.9898\n"
     ]
    },
    {
     "name": "stderr",
     "output_type": "stream",
     "text": [
      "Epoch 9/50 Training: 100%|████████████████████████████████| 1028/1028 [00:18<00:00, 54.53it/s]\n"
     ]
    },
    {
     "name": "stdout",
     "output_type": "stream",
     "text": [
      "Epoch 9:\n",
      "  Train Loss = 0.0821, Val Loss = 0.0807\n",
      "  Val Accuracy = 97.53%, F1-Score = 0.9754, Balanced Acc = 0.9668\n",
      "  Class 0 Metrics:\n",
      "    True Positives: 6373\n",
      "    True Negatives: 1649\n",
      "    False Positives: 83\n",
      "    False Negatives: 120\n",
      "    Precision: 0.9871\n",
      "    Recall: 0.9815\n"
     ]
    },
    {
     "name": "stderr",
     "output_type": "stream",
     "text": [
      "Epoch 10/50 Training: 100%|███████████████████████████████| 1028/1028 [00:18<00:00, 54.99it/s]\n"
     ]
    },
    {
     "name": "stdout",
     "output_type": "stream",
     "text": [
      "Epoch 10:\n",
      "  Train Loss = 0.0790, Val Loss = 0.0876\n",
      "  Val Accuracy = 96.98%, F1-Score = 0.9697, Balanced Acc = 0.9487\n",
      "  Class 0 Metrics:\n",
      "    True Positives: 6397\n",
      "    True Negatives: 1580\n",
      "    False Positives: 152\n",
      "    False Negatives: 96\n",
      "    Precision: 0.9768\n",
      "    Recall: 0.9852\n"
     ]
    },
    {
     "name": "stderr",
     "output_type": "stream",
     "text": [
      "Epoch 11/50 Training: 100%|███████████████████████████████| 1028/1028 [00:18<00:00, 54.79it/s]\n"
     ]
    },
    {
     "name": "stdout",
     "output_type": "stream",
     "text": [
      "Epoch 11:\n",
      "  Train Loss = 0.0763, Val Loss = 0.0804\n",
      "  Val Accuracy = 97.31%, F1-Score = 0.9729, Balanced Acc = 0.9519\n",
      "  Class 0 Metrics:\n",
      "    True Positives: 6419\n",
      "    True Negatives: 1585\n",
      "    False Positives: 147\n",
      "    False Negatives: 74\n",
      "    Precision: 0.9776\n",
      "    Recall: 0.9886\n"
     ]
    },
    {
     "name": "stderr",
     "output_type": "stream",
     "text": [
      "Epoch 12/50 Training: 100%|███████████████████████████████| 1028/1028 [00:18<00:00, 55.96it/s]\n"
     ]
    },
    {
     "name": "stdout",
     "output_type": "stream",
     "text": [
      "Epoch 12:\n",
      "  Train Loss = 0.0743, Val Loss = 0.1169\n",
      "  Val Accuracy = 95.79%, F1-Score = 0.9587, Balanced Acc = 0.9564\n",
      "  Class 0 Metrics:\n",
      "    True Positives: 6227\n",
      "    True Negatives: 1652\n",
      "    False Positives: 80\n",
      "    False Negatives: 266\n",
      "    Precision: 0.9873\n",
      "    Recall: 0.9590\n"
     ]
    },
    {
     "name": "stderr",
     "output_type": "stream",
     "text": [
      "Epoch 13/50 Training: 100%|███████████████████████████████| 1028/1028 [00:19<00:00, 52.92it/s]\n"
     ]
    },
    {
     "name": "stdout",
     "output_type": "stream",
     "text": [
      "Epoch 13:\n",
      "  Train Loss = 0.0715, Val Loss = 0.0866\n",
      "  Val Accuracy = 97.37%, F1-Score = 0.9736, Balanced Acc = 0.9561\n",
      "  Class 0 Metrics:\n",
      "    True Positives: 6406\n",
      "    True Negatives: 1603\n",
      "    False Positives: 129\n",
      "    False Negatives: 87\n",
      "    Precision: 0.9803\n",
      "    Recall: 0.9866\n"
     ]
    },
    {
     "name": "stderr",
     "output_type": "stream",
     "text": [
      "Epoch 14/50 Training: 100%|███████████████████████████████| 1028/1028 [00:19<00:00, 53.69it/s]\n"
     ]
    },
    {
     "name": "stdout",
     "output_type": "stream",
     "text": [
      "Epoch 14:\n",
      "  Train Loss = 0.0676, Val Loss = 0.0746\n",
      "  Val Accuracy = 97.57%, F1-Score = 0.9756, Balanced Acc = 0.9590\n",
      "  Class 0 Metrics:\n",
      "    True Positives: 6414\n",
      "    True Negatives: 1611\n",
      "    False Positives: 121\n",
      "    False Negatives: 79\n",
      "    Precision: 0.9815\n",
      "    Recall: 0.9878\n"
     ]
    },
    {
     "name": "stderr",
     "output_type": "stream",
     "text": [
      "Epoch 15/50 Training: 100%|███████████████████████████████| 1028/1028 [00:18<00:00, 54.78it/s]\n"
     ]
    },
    {
     "name": "stdout",
     "output_type": "stream",
     "text": [
      "Epoch 15:\n",
      "  Train Loss = 0.0677, Val Loss = 0.1040\n",
      "  Val Accuracy = 96.67%, F1-Score = 0.9664, Balanced Acc = 0.9412\n",
      "  Class 0 Metrics:\n",
      "    True Positives: 6397\n",
      "    True Negatives: 1554\n",
      "    False Positives: 178\n",
      "    False Negatives: 96\n",
      "    Precision: 0.9729\n",
      "    Recall: 0.9852\n"
     ]
    },
    {
     "name": "stderr",
     "output_type": "stream",
     "text": [
      "Epoch 16/50 Training: 100%|███████████████████████████████| 1028/1028 [00:18<00:00, 54.40it/s]\n"
     ]
    },
    {
     "name": "stdout",
     "output_type": "stream",
     "text": [
      "Epoch 16:\n",
      "  Train Loss = 0.0623, Val Loss = 0.0732\n",
      "  Val Accuracy = 97.70%, F1-Score = 0.9769, Balanced Acc = 0.9619\n",
      "  Class 0 Metrics:\n",
      "    True Positives: 6415\n",
      "    True Negatives: 1621\n",
      "    False Positives: 111\n",
      "    False Negatives: 78\n",
      "    Precision: 0.9830\n",
      "    Recall: 0.9880\n"
     ]
    },
    {
     "name": "stderr",
     "output_type": "stream",
     "text": [
      "Epoch 17/50 Training: 100%|███████████████████████████████| 1028/1028 [00:17<00:00, 59.76it/s]\n"
     ]
    },
    {
     "name": "stdout",
     "output_type": "stream",
     "text": [
      "Epoch 17:\n",
      "  Train Loss = 0.0609, Val Loss = 0.2147\n",
      "  Val Accuracy = 93.35%, F1-Score = 0.9297, Balanced Acc = 0.8527\n",
      "  Class 0 Metrics:\n",
      "    True Positives: 6443\n",
      "    True Negatives: 1235\n",
      "    False Positives: 497\n",
      "    False Negatives: 50\n",
      "    Precision: 0.9284\n",
      "    Recall: 0.9923\n"
     ]
    },
    {
     "name": "stderr",
     "output_type": "stream",
     "text": [
      "Epoch 18/50 Training: 100%|███████████████████████████████| 1028/1028 [00:17<00:00, 58.93it/s]\n"
     ]
    },
    {
     "name": "stdout",
     "output_type": "stream",
     "text": [
      "Epoch 18:\n",
      "  Train Loss = 0.0589, Val Loss = 0.0992\n",
      "  Val Accuracy = 96.51%, F1-Score = 0.9657, Balanced Acc = 0.9658\n",
      "  Class 0 Metrics:\n",
      "    True Positives: 6263\n",
      "    True Negatives: 1675\n",
      "    False Positives: 57\n",
      "    False Negatives: 230\n",
      "    Precision: 0.9910\n",
      "    Recall: 0.9646\n"
     ]
    },
    {
     "name": "stderr",
     "output_type": "stream",
     "text": [
      "Epoch 19/50 Training: 100%|███████████████████████████████| 1028/1028 [00:16<00:00, 60.79it/s]\n"
     ]
    },
    {
     "name": "stdout",
     "output_type": "stream",
     "text": [
      "Epoch 19:\n",
      "  Train Loss = 0.0573, Val Loss = 0.0779\n",
      "  Val Accuracy = 97.33%, F1-Score = 0.9732, Balanced Acc = 0.9574\n",
      "  Class 0 Metrics:\n",
      "    True Positives: 6394\n",
      "    True Negatives: 1611\n",
      "    False Positives: 121\n",
      "    False Negatives: 99\n",
      "    Precision: 0.9814\n",
      "    Recall: 0.9848\n"
     ]
    },
    {
     "name": "stderr",
     "output_type": "stream",
     "text": [
      "Epoch 20/50 Training: 100%|███████████████████████████████| 1028/1028 [00:18<00:00, 55.31it/s]\n"
     ]
    },
    {
     "name": "stdout",
     "output_type": "stream",
     "text": [
      "Epoch 20:\n",
      "  Train Loss = 0.0547, Val Loss = 0.0851\n",
      "  Val Accuracy = 97.17%, F1-Score = 0.9713, Balanced Acc = 0.9465\n",
      "  Class 0 Metrics:\n",
      "    True Positives: 6428\n",
      "    True Negatives: 1564\n",
      "    False Positives: 168\n",
      "    False Negatives: 65\n",
      "    Precision: 0.9745\n",
      "    Recall: 0.9900\n"
     ]
    },
    {
     "name": "stderr",
     "output_type": "stream",
     "text": [
      "Epoch 21/50 Training: 100%|███████████████████████████████| 1028/1028 [00:17<00:00, 58.27it/s]\n"
     ]
    },
    {
     "name": "stdout",
     "output_type": "stream",
     "text": [
      "Epoch 21:\n",
      "  Train Loss = 0.0523, Val Loss = 0.1086\n",
      "  Val Accuracy = 95.33%, F1-Score = 0.9543, Balanced Acc = 0.9533\n",
      "  Class 0 Metrics:\n",
      "    True Positives: 6190\n",
      "    True Negatives: 1651\n",
      "    False Positives: 81\n",
      "    False Negatives: 303\n",
      "    Precision: 0.9871\n",
      "    Recall: 0.9533\n"
     ]
    },
    {
     "name": "stderr",
     "output_type": "stream",
     "text": [
      "Epoch 22/50 Training: 100%|███████████████████████████████| 1028/1028 [00:17<00:00, 59.47it/s]\n"
     ]
    },
    {
     "name": "stdout",
     "output_type": "stream",
     "text": [
      "Epoch 22:\n",
      "  Train Loss = 0.0519, Val Loss = 0.1333\n",
      "  Val Accuracy = 94.98%, F1-Score = 0.9485, Balanced Acc = 0.9005\n",
      "  Class 0 Metrics:\n",
      "    True Positives: 6400\n",
      "    True Negatives: 1412\n",
      "    False Positives: 320\n",
      "    False Negatives: 93\n",
      "    Precision: 0.9524\n",
      "    Recall: 0.9857\n"
     ]
    },
    {
     "name": "stderr",
     "output_type": "stream",
     "text": [
      "Epoch 23/50 Training: 100%|███████████████████████████████| 1028/1028 [00:17<00:00, 58.78it/s]\n"
     ]
    },
    {
     "name": "stdout",
     "output_type": "stream",
     "text": [
      "Epoch 23:\n",
      "  Train Loss = 0.0475, Val Loss = 0.0651\n",
      "  Val Accuracy = 97.86%, F1-Score = 0.9785, Balanced Acc = 0.9625\n",
      "  Class 0 Metrics:\n",
      "    True Positives: 6430\n",
      "    True Negatives: 1619\n",
      "    False Positives: 113\n",
      "    False Negatives: 63\n",
      "    Precision: 0.9827\n",
      "    Recall: 0.9903\n"
     ]
    },
    {
     "name": "stderr",
     "output_type": "stream",
     "text": [
      "Epoch 24/50 Training: 100%|███████████████████████████████| 1028/1028 [00:17<00:00, 58.95it/s]\n"
     ]
    },
    {
     "name": "stdout",
     "output_type": "stream",
     "text": [
      "Epoch 24:\n",
      "  Train Loss = 0.0463, Val Loss = 0.0634\n",
      "  Val Accuracy = 97.95%, F1-Score = 0.9794, Balanced Acc = 0.9643\n",
      "  Class 0 Metrics:\n",
      "    True Positives: 6431\n",
      "    True Negatives: 1625\n",
      "    False Positives: 107\n",
      "    False Negatives: 62\n",
      "    Precision: 0.9836\n",
      "    Recall: 0.9905\n"
     ]
    },
    {
     "name": "stderr",
     "output_type": "stream",
     "text": [
      "Epoch 25/50 Training: 100%|███████████████████████████████| 1028/1028 [00:17<00:00, 58.84it/s]\n"
     ]
    },
    {
     "name": "stdout",
     "output_type": "stream",
     "text": [
      "Epoch 25:\n",
      "  Train Loss = 0.0468, Val Loss = 0.0633\n",
      "  Val Accuracy = 98.01%, F1-Score = 0.9802, Balanced Acc = 0.9749\n",
      "  Class 0 Metrics:\n",
      "    True Positives: 6388\n",
      "    True Negatives: 1673\n",
      "    False Positives: 59\n",
      "    False Negatives: 105\n",
      "    Precision: 0.9908\n",
      "    Recall: 0.9838\n"
     ]
    },
    {
     "name": "stderr",
     "output_type": "stream",
     "text": [
      "Epoch 26/50 Training: 100%|███████████████████████████████| 1028/1028 [00:17<00:00, 59.83it/s]\n"
     ]
    },
    {
     "name": "stdout",
     "output_type": "stream",
     "text": [
      "Epoch 26:\n",
      "  Train Loss = 0.0444, Val Loss = 0.0642\n",
      "  Val Accuracy = 98.02%, F1-Score = 0.9802, Balanced Acc = 0.9720\n",
      "  Class 0 Metrics:\n",
      "    True Positives: 6403\n",
      "    True Negatives: 1659\n",
      "    False Positives: 73\n",
      "    False Negatives: 90\n",
      "    Precision: 0.9887\n",
      "    Recall: 0.9861\n"
     ]
    },
    {
     "name": "stderr",
     "output_type": "stream",
     "text": [
      "Epoch 27/50 Training: 100%|███████████████████████████████| 1028/1028 [00:17<00:00, 58.52it/s]\n"
     ]
    },
    {
     "name": "stdout",
     "output_type": "stream",
     "text": [
      "Epoch 27:\n",
      "  Train Loss = 0.0406, Val Loss = 0.0586\n",
      "  Val Accuracy = 98.16%, F1-Score = 0.9816, Balanced Acc = 0.9689\n",
      "  Class 0 Metrics:\n",
      "    True Positives: 6434\n",
      "    True Negatives: 1640\n",
      "    False Positives: 92\n",
      "    False Negatives: 59\n",
      "    Precision: 0.9859\n",
      "    Recall: 0.9909\n"
     ]
    },
    {
     "name": "stderr",
     "output_type": "stream",
     "text": [
      "Epoch 28/50 Training: 100%|███████████████████████████████| 1028/1028 [00:18<00:00, 56.03it/s]\n"
     ]
    },
    {
     "name": "stdout",
     "output_type": "stream",
     "text": [
      "Epoch 28:\n",
      "  Train Loss = 0.0395, Val Loss = 0.0648\n",
      "  Val Accuracy = 97.88%, F1-Score = 0.9787, Balanced Acc = 0.9629\n",
      "  Class 0 Metrics:\n",
      "    True Positives: 6431\n",
      "    True Negatives: 1620\n",
      "    False Positives: 112\n",
      "    False Negatives: 62\n",
      "    Precision: 0.9829\n",
      "    Recall: 0.9905\n"
     ]
    },
    {
     "name": "stderr",
     "output_type": "stream",
     "text": [
      "Epoch 29/50 Training: 100%|███████████████████████████████| 1028/1028 [00:18<00:00, 56.83it/s]\n"
     ]
    },
    {
     "name": "stdout",
     "output_type": "stream",
     "text": [
      "Epoch 29:\n",
      "  Train Loss = 0.0377, Val Loss = 0.0666\n",
      "  Val Accuracy = 97.97%, F1-Score = 0.9797, Balanced Acc = 0.9677\n",
      "  Class 0 Metrics:\n",
      "    True Positives: 6418\n",
      "    True Negatives: 1640\n",
      "    False Positives: 92\n",
      "    False Negatives: 75\n",
      "    Precision: 0.9859\n",
      "    Recall: 0.9884\n"
     ]
    },
    {
     "name": "stderr",
     "output_type": "stream",
     "text": [
      "Epoch 30/50 Training: 100%|███████████████████████████████| 1028/1028 [00:17<00:00, 59.38it/s]\n"
     ]
    },
    {
     "name": "stdout",
     "output_type": "stream",
     "text": [
      "Epoch 30:\n",
      "  Train Loss = 0.0361, Val Loss = 0.0804\n",
      "  Val Accuracy = 97.36%, F1-Score = 0.9732, Balanced Acc = 0.9454\n",
      "  Class 0 Metrics:\n",
      "    True Positives: 6455\n",
      "    True Negatives: 1553\n",
      "    False Positives: 179\n",
      "    False Negatives: 38\n",
      "    Precision: 0.9730\n",
      "    Recall: 0.9941\n"
     ]
    },
    {
     "name": "stderr",
     "output_type": "stream",
     "text": [
      "Epoch 31/50 Training: 100%|███████████████████████████████| 1028/1028 [00:17<00:00, 58.30it/s]\n"
     ]
    },
    {
     "name": "stdout",
     "output_type": "stream",
     "text": [
      "Epoch 31:\n",
      "  Train Loss = 0.0337, Val Loss = 0.0656\n",
      "  Val Accuracy = 97.86%, F1-Score = 0.9785, Balanced Acc = 0.9638\n",
      "  Class 0 Metrics:\n",
      "    True Positives: 6424\n",
      "    True Negatives: 1625\n",
      "    False Positives: 107\n",
      "    False Negatives: 69\n",
      "    Precision: 0.9836\n",
      "    Recall: 0.9894\n"
     ]
    },
    {
     "name": "stderr",
     "output_type": "stream",
     "text": [
      "Epoch 32/50 Training: 100%|███████████████████████████████| 1028/1028 [00:17<00:00, 57.46it/s]\n"
     ]
    },
    {
     "name": "stdout",
     "output_type": "stream",
     "text": [
      "Epoch 32:\n",
      "  Train Loss = 0.0324, Val Loss = 0.0649\n",
      "  Val Accuracy = 98.16%, F1-Score = 0.9816, Balanced Acc = 0.9689\n",
      "  Class 0 Metrics:\n",
      "    True Positives: 6434\n",
      "    True Negatives: 1640\n",
      "    False Positives: 92\n",
      "    False Negatives: 59\n",
      "    Precision: 0.9859\n",
      "    Recall: 0.9909\n"
     ]
    },
    {
     "name": "stderr",
     "output_type": "stream",
     "text": [
      "Epoch 33/50 Training: 100%|███████████████████████████████| 1028/1028 [00:17<00:00, 58.69it/s]\n"
     ]
    },
    {
     "name": "stdout",
     "output_type": "stream",
     "text": [
      "Epoch 33:\n",
      "  Train Loss = 0.0306, Val Loss = 0.0671\n",
      "  Val Accuracy = 98.03%, F1-Score = 0.9803, Balanced Acc = 0.9704\n",
      "  Class 0 Metrics:\n",
      "    True Positives: 6412\n",
      "    True Negatives: 1651\n",
      "    False Positives: 81\n",
      "    False Negatives: 81\n",
      "    Precision: 0.9875\n",
      "    Recall: 0.9875\n"
     ]
    },
    {
     "name": "stderr",
     "output_type": "stream",
     "text": [
      "Epoch 34/50 Training: 100%|███████████████████████████████| 1028/1028 [00:17<00:00, 58.25it/s]\n"
     ]
    },
    {
     "name": "stdout",
     "output_type": "stream",
     "text": [
      "Epoch 34:\n",
      "  Train Loss = 0.0273, Val Loss = 0.0698\n",
      "  Val Accuracy = 98.04%, F1-Score = 0.9804, Balanced Acc = 0.9707\n",
      "  Class 0 Metrics:\n",
      "    True Positives: 6412\n",
      "    True Negatives: 1652\n",
      "    False Positives: 80\n",
      "    False Negatives: 81\n",
      "    Precision: 0.9877\n",
      "    Recall: 0.9875\n"
     ]
    },
    {
     "name": "stderr",
     "output_type": "stream",
     "text": [
      "Epoch 35/50 Training: 100%|███████████████████████████████| 1028/1028 [00:18<00:00, 56.24it/s]\n"
     ]
    },
    {
     "name": "stdout",
     "output_type": "stream",
     "text": [
      "Epoch 35:\n",
      "  Train Loss = 0.0281, Val Loss = 0.0743\n",
      "  Val Accuracy = 97.96%, F1-Score = 0.9794, Balanced Acc = 0.9621\n",
      "  Class 0 Metrics:\n",
      "    True Positives: 6443\n",
      "    True Negatives: 1614\n",
      "    False Positives: 118\n",
      "    False Negatives: 50\n",
      "    Precision: 0.9820\n",
      "    Recall: 0.9923\n"
     ]
    },
    {
     "name": "stderr",
     "output_type": "stream",
     "text": [
      "Epoch 36/50 Training: 100%|███████████████████████████████| 1028/1028 [00:17<00:00, 57.93it/s]\n"
     ]
    },
    {
     "name": "stdout",
     "output_type": "stream",
     "text": [
      "Epoch 36:\n",
      "  Train Loss = 0.0254, Val Loss = 0.0646\n",
      "  Val Accuracy = 98.08%, F1-Score = 0.9807, Balanced Acc = 0.9690\n",
      "  Class 0 Metrics:\n",
      "    True Positives: 6424\n",
      "    True Negatives: 1643\n",
      "    False Positives: 89\n",
      "    False Negatives: 69\n",
      "    Precision: 0.9863\n",
      "    Recall: 0.9894\n"
     ]
    },
    {
     "name": "stderr",
     "output_type": "stream",
     "text": [
      "Epoch 37/50 Training: 100%|███████████████████████████████| 1028/1028 [00:19<00:00, 53.30it/s]\n"
     ]
    },
    {
     "name": "stdout",
     "output_type": "stream",
     "text": [
      "Epoch 37:\n",
      "  Train Loss = 0.0229, Val Loss = 0.0702\n",
      "  Val Accuracy = 98.10%, F1-Score = 0.9810, Balanced Acc = 0.9681\n",
      "  Class 0 Metrics:\n",
      "    True Positives: 6431\n",
      "    True Negatives: 1638\n",
      "    False Positives: 94\n",
      "    False Negatives: 62\n",
      "    Precision: 0.9856\n",
      "    Recall: 0.9905\n"
     ]
    },
    {
     "name": "stderr",
     "output_type": "stream",
     "text": [
      "Epoch 38/50 Training: 100%|███████████████████████████████| 1028/1028 [00:17<00:00, 58.40it/s]\n"
     ]
    },
    {
     "name": "stdout",
     "output_type": "stream",
     "text": [
      "Epoch 38:\n",
      "  Train Loss = 0.0218, Val Loss = 0.0719\n",
      "  Val Accuracy = 98.03%, F1-Score = 0.9802, Balanced Acc = 0.9672\n",
      "  Class 0 Metrics:\n",
      "    True Positives: 6427\n",
      "    True Negatives: 1636\n",
      "    False Positives: 96\n",
      "    False Negatives: 66\n",
      "    Precision: 0.9853\n",
      "    Recall: 0.9898\n"
     ]
    },
    {
     "name": "stderr",
     "output_type": "stream",
     "text": [
      "Epoch 39/50 Training: 100%|███████████████████████████████| 1028/1028 [00:17<00:00, 59.71it/s]\n"
     ]
    },
    {
     "name": "stdout",
     "output_type": "stream",
     "text": [
      "Epoch 39:\n",
      "  Train Loss = 0.0202, Val Loss = 0.0763\n",
      "  Val Accuracy = 97.97%, F1-Score = 0.9796, Balanced Acc = 0.9658\n",
      "  Class 0 Metrics:\n",
      "    True Positives: 6427\n",
      "    True Negatives: 1631\n",
      "    False Positives: 101\n",
      "    False Negatives: 66\n",
      "    Precision: 0.9845\n",
      "    Recall: 0.9898\n"
     ]
    },
    {
     "name": "stderr",
     "output_type": "stream",
     "text": [
      "Epoch 40/50 Training: 100%|███████████████████████████████| 1028/1028 [00:17<00:00, 59.30it/s]\n"
     ]
    },
    {
     "name": "stdout",
     "output_type": "stream",
     "text": [
      "Epoch 40:\n",
      "  Train Loss = 0.0186, Val Loss = 0.0703\n",
      "  Val Accuracy = 98.22%, F1-Score = 0.9822, Balanced Acc = 0.9714\n",
      "  Class 0 Metrics:\n",
      "    True Positives: 6429\n",
      "    True Negatives: 1650\n",
      "    False Positives: 82\n",
      "    False Negatives: 64\n",
      "    Precision: 0.9874\n",
      "    Recall: 0.9901\n"
     ]
    },
    {
     "name": "stderr",
     "output_type": "stream",
     "text": [
      "Epoch 41/50 Training: 100%|███████████████████████████████| 1028/1028 [00:17<00:00, 58.26it/s]\n"
     ]
    },
    {
     "name": "stdout",
     "output_type": "stream",
     "text": [
      "Epoch 41:\n",
      "  Train Loss = 0.0179, Val Loss = 0.0740\n",
      "  Val Accuracy = 98.15%, F1-Score = 0.9815, Balanced Acc = 0.9709\n",
      "  Class 0 Metrics:\n",
      "    True Positives: 6423\n",
      "    True Negatives: 1650\n",
      "    False Positives: 82\n",
      "    False Negatives: 70\n",
      "    Precision: 0.9874\n",
      "    Recall: 0.9892\n"
     ]
    },
    {
     "name": "stderr",
     "output_type": "stream",
     "text": [
      "Epoch 42/50 Training: 100%|███████████████████████████████| 1028/1028 [00:17<00:00, 59.32it/s]\n"
     ]
    },
    {
     "name": "stdout",
     "output_type": "stream",
     "text": [
      "Epoch 42:\n",
      "  Train Loss = 0.0166, Val Loss = 0.0771\n",
      "  Val Accuracy = 98.10%, F1-Score = 0.9810, Balanced Acc = 0.9698\n",
      "  Class 0 Metrics:\n",
      "    True Positives: 6423\n",
      "    True Negatives: 1646\n",
      "    False Positives: 86\n",
      "    False Negatives: 70\n",
      "    Precision: 0.9868\n",
      "    Recall: 0.9892\n"
     ]
    },
    {
     "name": "stderr",
     "output_type": "stream",
     "text": [
      "Epoch 43/50 Training: 100%|███████████████████████████████| 1028/1028 [00:17<00:00, 58.91it/s]\n"
     ]
    },
    {
     "name": "stdout",
     "output_type": "stream",
     "text": [
      "Epoch 43:\n",
      "  Train Loss = 0.0159, Val Loss = 0.0790\n",
      "  Val Accuracy = 98.12%, F1-Score = 0.9811, Balanced Acc = 0.9705\n",
      "  Class 0 Metrics:\n",
      "    True Positives: 6421\n",
      "    True Negatives: 1649\n",
      "    False Positives: 83\n",
      "    False Negatives: 72\n",
      "    Precision: 0.9872\n",
      "    Recall: 0.9889\n"
     ]
    },
    {
     "name": "stderr",
     "output_type": "stream",
     "text": [
      "Epoch 44/50 Training: 100%|███████████████████████████████| 1028/1028 [00:17<00:00, 57.76it/s]\n"
     ]
    },
    {
     "name": "stdout",
     "output_type": "stream",
     "text": [
      "Epoch 44:\n",
      "  Train Loss = 0.0155, Val Loss = 0.0791\n",
      "  Val Accuracy = 98.12%, F1-Score = 0.9811, Balanced Acc = 0.9696\n",
      "  Class 0 Metrics:\n",
      "    True Positives: 6425\n",
      "    True Negatives: 1645\n",
      "    False Positives: 87\n",
      "    False Negatives: 68\n",
      "    Precision: 0.9866\n",
      "    Recall: 0.9895\n"
     ]
    },
    {
     "name": "stderr",
     "output_type": "stream",
     "text": [
      "Epoch 45/50 Training: 100%|███████████████████████████████| 1028/1028 [00:17<00:00, 60.08it/s]\n"
     ]
    },
    {
     "name": "stdout",
     "output_type": "stream",
     "text": [
      "Epoch 45:\n",
      "  Train Loss = 0.0152, Val Loss = 0.0779\n",
      "  Val Accuracy = 98.21%, F1-Score = 0.9821, Balanced Acc = 0.9701\n",
      "  Class 0 Metrics:\n",
      "    True Positives: 6434\n",
      "    True Negatives: 1644\n",
      "    False Positives: 88\n",
      "    False Negatives: 59\n",
      "    Precision: 0.9865\n",
      "    Recall: 0.9909\n"
     ]
    },
    {
     "name": "stderr",
     "output_type": "stream",
     "text": [
      "Epoch 46/50 Training: 100%|███████████████████████████████| 1028/1028 [00:17<00:00, 58.88it/s]\n"
     ]
    },
    {
     "name": "stdout",
     "output_type": "stream",
     "text": [
      "Epoch 46:\n",
      "  Train Loss = 0.0140, Val Loss = 0.0776\n",
      "  Val Accuracy = 98.21%, F1-Score = 0.9821, Balanced Acc = 0.9707\n",
      "  Class 0 Metrics:\n",
      "    True Positives: 6431\n",
      "    True Negatives: 1647\n",
      "    False Positives: 85\n",
      "    False Negatives: 62\n",
      "    Precision: 0.9870\n",
      "    Recall: 0.9905\n"
     ]
    },
    {
     "name": "stderr",
     "output_type": "stream",
     "text": [
      "Epoch 47/50 Training: 100%|███████████████████████████████| 1028/1028 [00:17<00:00, 58.39it/s]\n"
     ]
    },
    {
     "name": "stdout",
     "output_type": "stream",
     "text": [
      "Epoch 47:\n",
      "  Train Loss = 0.0140, Val Loss = 0.0780\n",
      "  Val Accuracy = 98.12%, F1-Score = 0.9812, Balanced Acc = 0.9726\n",
      "  Class 0 Metrics:\n",
      "    True Positives: 6411\n",
      "    True Negatives: 1659\n",
      "    False Positives: 73\n",
      "    False Negatives: 82\n",
      "    Precision: 0.9887\n",
      "    Recall: 0.9874\n"
     ]
    },
    {
     "name": "stderr",
     "output_type": "stream",
     "text": [
      "Epoch 48/50 Training: 100%|███████████████████████████████| 1028/1028 [00:17<00:00, 60.33it/s]\n"
     ]
    },
    {
     "name": "stdout",
     "output_type": "stream",
     "text": [
      "Epoch 48:\n",
      "  Train Loss = 0.0135, Val Loss = 0.0773\n",
      "  Val Accuracy = 98.16%, F1-Score = 0.9816, Balanced Acc = 0.9708\n",
      "  Class 0 Metrics:\n",
      "    True Positives: 6425\n",
      "    True Negatives: 1649\n",
      "    False Positives: 83\n",
      "    False Negatives: 68\n",
      "    Precision: 0.9872\n",
      "    Recall: 0.9895\n"
     ]
    },
    {
     "name": "stderr",
     "output_type": "stream",
     "text": [
      "Epoch 49/50 Training: 100%|███████████████████████████████| 1028/1028 [00:17<00:00, 58.05it/s]\n"
     ]
    },
    {
     "name": "stdout",
     "output_type": "stream",
     "text": [
      "Epoch 49:\n",
      "  Train Loss = 0.0139, Val Loss = 0.0763\n",
      "  Val Accuracy = 98.21%, F1-Score = 0.9821, Balanced Acc = 0.9715\n",
      "  Class 0 Metrics:\n",
      "    True Positives: 6427\n",
      "    True Negatives: 1651\n",
      "    False Positives: 81\n",
      "    False Negatives: 66\n",
      "    Precision: 0.9876\n",
      "    Recall: 0.9898\n"
     ]
    },
    {
     "name": "stderr",
     "output_type": "stream",
     "text": [
      "Epoch 50/50 Training: 100%|███████████████████████████████| 1028/1028 [00:18<00:00, 56.87it/s]\n"
     ]
    },
    {
     "name": "stdout",
     "output_type": "stream",
     "text": [
      "Epoch 50:\n",
      "  Train Loss = 0.0126, Val Loss = 0.0776\n",
      "  Val Accuracy = 98.15%, F1-Score = 0.9815, Balanced Acc = 0.9716\n",
      "  Class 0 Metrics:\n",
      "    True Positives: 6420\n",
      "    True Negatives: 1653\n",
      "    False Positives: 79\n",
      "    False Negatives: 73\n",
      "    Precision: 0.9878\n",
      "    Recall: 0.9888\n"
     ]
    }
   ],
   "source": [
    "# Set random seed for reproducibility\n",
    "torch.manual_seed(42)\n",
    "DEVICE = \"cuda:6\"\n",
    "# Device configuration\n",
    "device = torch.device(DEVICE if torch.cuda.is_available() else 'cpu')\n",
    "print(f\"Using device: {device}\")\n",
    "classes = [0, 1]\n",
    "mean, std = compute_normalization_stats('dataset/brightfield_particles.hdf5', classes=classes)\n",
    "# Load and split dataset\n",
    "dataset = ParticleDataset(h5_path='dataset/brightfield_particles.hdf5',\n",
    "                          classes=classes,\n",
    "                          mean=mean,\n",
    "                          std=std,\n",
    "                          padding=True\n",
    "                         )\n",
    "train_size = int(0.8 * len(dataset))\n",
    "val_size = len(dataset) - train_size\n",
    "train_dataset, val_dataset = torch.utils.data.random_split(\n",
    "    dataset, [train_size, val_size]\n",
    ")\n",
    "_,c=np.unique(dataset.labels[train_dataset.indices],return_counts=True)\n",
    "print(c[1]/(c[0]+c[1]))\n",
    "_,c=np.unique(dataset.labels[val_dataset.indices],return_counts=True)\n",
    "print(c[1]/(c[0]+c[1]))\n",
    "# Create data loaders\n",
    "train_loader = DataLoader(\n",
    "    train_dataset, \n",
    "    batch_size=32,\n",
    "    shuffle=True,\n",
    "    # num_workers=6,\n",
    "    pin_memory=True\n",
    ")\n",
    "\n",
    "val_loader = DataLoader(\n",
    "    val_dataset,\n",
    "    batch_size=32,\n",
    "    shuffle=False,\n",
    "    # num_workers=6,\n",
    "    pin_memory=True\n",
    ")\n",
    "\n",
    "# Initialize model\n",
    "# model = ModifiedViT(num_classes=len(classes))\n",
    "# model = model.to(device)\n",
    "# model = ModifiedVisionTransformer(\n",
    "#     image_height=16,  # can be different from width\n",
    "#     image_width=192,   # rectangular image\n",
    "#     patch_height=16,   # patch can also be rectangular\n",
    "#     patch_width=12,\n",
    "#     num_layers=12,\n",
    "#     num_heads=12,\n",
    "#     hidden_dim=768,\n",
    "#     mlp_dim=3072,\n",
    "#     num_classes=2,\n",
    "#     in_channels=1  # for single-channel images\n",
    "# )\n",
    "model = resnet \n",
    "model = model.to(device)\n",
    "\n",
    "# Train model\n",
    "(train_losses, val_losses, val_accuracies, \n",
    "            val_f1_scores, val_bal_accs, val_preds, val_true) = train_model(\n",
    "    model, train_loader, val_loader, device\n",
    ")\n"
   ]
  },
  {
   "cell_type": "code",
   "execution_count": 41,
   "id": "4fef9ae9-d78a-4e7d-97a3-b47c4bec9310",
   "metadata": {},
   "outputs": [],
   "source": [
    "import matplotlib.pyplot as plt\n",
    "import numpy as np\n",
    "from sklearn.metrics import confusion_matrix\n",
    "\n",
    "def plot_training_results(train_losses, val_f1_scores, val_bal_accs, val_preds, val_true):\n",
    "    fig, (ax1, ax2) = plt.subplots(1, 2, figsize=(14, 5))\n",
    "    \n",
    "    # Plot Training Loss\n",
    "    ax1.plot(train_losses, label='Loss', color='blue')\n",
    "    min_loss = min(train_losses)\n",
    "    ax1.axhline(y=min_loss, color='blue', linestyle='dashed')\n",
    "    ax1.text(0, min_loss, f'{min_loss:.4f}', color='blue', verticalalignment='bottom')\n",
    "    ax1.set_title('Training Loss')\n",
    "    ax1.set_xlabel('Epoch')\n",
    "    ax1.set_ylabel('Loss')\n",
    "    ax1.legend()\n",
    "    \n",
    "    # Convert metrics to percentages\n",
    "    val_f1_scores = [x * 100 for x in val_f1_scores]\n",
    "    val_bal_accs = [x * 100 for x in val_bal_accs]\n",
    "    \n",
    "    # Plot Validation Metrics\n",
    "    ax2.plot(val_f1_scores, label='F1-Score', color='green')\n",
    "    ax2.plot(val_bal_accs, label='Balanced Accuracy', color='orange')\n",
    "    \n",
    "    max_f1 = max(val_f1_scores)\n",
    "    max_bal_acc = max(val_bal_accs)\n",
    "    \n",
    "    ax2.axhline(y=max_f1, color='green', linestyle='dashed')\n",
    "    ax2.text(0, max_f1, f'{max_f1:.2f}%', color='green', verticalalignment='bottom')\n",
    "    ax2.axhline(y=max_bal_acc, color='orange', linestyle='dashed')\n",
    "    ax2.text(0, max_bal_acc, f'{max_bal_acc:.2f}%', color='orange', verticalalignment='bottom')\n",
    "    \n",
    "    ax2.set_title('Validation Metrics')\n",
    "    ax2.set_xlabel('Epoch')\n",
    "    ax2.set_ylabel('Percentage (%)')\n",
    "    ax2.legend()\n",
    "    \n",
    "    plt.tight_layout()\n",
    "    plt.savefig('training_plots.pdf', format=\"pdf\", dpi=300)\n",
    "    \n",
    "    # Confusion Matrix\n",
    "    cm = confusion_matrix(val_true, val_preds)\n",
    "    plt.figure(figsize=(4, 4))\n",
    "    plt.imshow(cm, interpolation='nearest', cmap=plt.cm.Blues)\n",
    "    plt.title('Confusion Matrix')\n",
    "    \n",
    "    # Add labels\n",
    "    tick_marks = range(len(cm))\n",
    "    plt.xticks(tick_marks)\n",
    "    plt.yticks(tick_marks)\n",
    "    \n",
    "    # Annotate each cell with the corresponding value\n",
    "    for i in range(len(cm)):\n",
    "        for j in range(len(cm[i])):\n",
    "            plt.text(j, i, str(cm[i, j]), ha='center', va='center', \n",
    "                     color='white' if cm[i, j] > cm.max() / 2 else 'black')\n",
    "    \n",
    "    plt.ylabel('True Label')\n",
    "    plt.xlabel('Predicted Label')\n",
    "    plt.tight_layout()\n",
    "    plt.savefig('confusion_matrix.pdf', format=\"pdf\", dpi=300)\n",
    "    plt.show()"
   ]
  },
  {
   "cell_type": "code",
   "execution_count": 42,
   "id": "bd493701-4eab-4800-a4c4-35911da61ef2",
   "metadata": {},
   "outputs": [
    {
     "data": {
      "image/png": "[encoded data removed]",
      "text/plain": [
       "<Figure size 1400x500 with 2 Axes>"
      ]
     },
     "metadata": {},
     "output_type": "display_data"
    },
    {
     "data": {
      "image/png": "[encoded data removed]",
      "text/plain": [
       "<Figure size 400x400 with 1 Axes>"
      ]
     },
     "metadata": {},
     "output_type": "display_data"
    }
   ],
   "source": [
    "import numpy as np\n",
    "import matplotlib.pyplot as plt\n",
    "from matplotlib import rcParams\n",
    "\n",
    "# Use DejaVu Serif as an alternative to Times New Roman\n",
    "rcParams['font.family'] = 'DejaVu Serif'\n",
    "rcParams['font.size'] = 12\n",
    "rcParams['axes.titlesize'] = 14\n",
    "rcParams['axes.labelsize'] = 12\n",
    "rcParams['xtick.labelsize'] = 10\n",
    "rcParams['ytick.labelsize'] = 10\n",
    "rcParams['legend.fontsize'] = 10\n",
    "\n",
    "# Plot results\n",
    "# plot_training_results(train_losses, val_accuracies, val_f1_scores, val_bal_accs, val_preds, val_true)\n",
    "plot_training_results(train_losses, val_f1_scores, val_bal_accs, val_preds, val_true)\n",
    "# Close HDF5 file\n",
    "# dataset.close()"
   ]
  },
  {
   "cell_type": "code",
   "execution_count": 13,
   "id": "d2df6bd1-2bba-449c-8968-77d7136e0bf1",
   "metadata": {},
   "outputs": [],
   "source": [
    "dataset = ParticleDataset('dataset/brightfield_particles.hdf5')"
   ]
  },
  {
   "cell_type": "code",
   "execution_count": 14,
   "id": "44b83901-db74-4e9e-bd36-464ba6c04b75",
   "metadata": {},
   "outputs": [
    {
     "name": "stdout",
     "output_type": "stream",
     "text": [
      "torch.Size([16, 201])\n"
     ]
    },
    {
     "data": {
      "image/png": "[encoded data removed]",
      "text/plain": [
       "<Figure size 1000x500 with 1 Axes>"
      ]
     },
     "metadata": {},
     "output_type": "display_data"
    }
   ],
   "source": [
    "from torchvision.transforms import Resize\n",
    "import torch\n",
    "import matplotlib.pyplot as plt\n",
    "with h5py.File('dataset/brightfield_particles.hdf5', 'r') as f:\n",
    "    particle_1 = f['data'][f['labels'][:]==0,:][17]\n",
    "    particle_2 = f['data'][f['labels'][:]==1,:][18]\n",
    "img = torch.Tensor(particle_1)\n",
    "print(img.shape)\n",
    "img = Resize((16,16))(img.unsqueeze(0))\n",
    "img = img.squeeze(0)\n",
    "fig, ax = plt.subplots(1, 1, figsize=(10, 5)) \n",
    "plt.axis('off')\n",
    "plt.imshow(img,cmap='gray')\n",
    "plt.savefig('80nm.png')\n",
    "plt.show()"
   ]
  },
  {
   "cell_type": "code",
   "execution_count": 15,
   "id": "c274daeb-3f3b-40e6-8307-c5eaf209aede",
   "metadata": {},
   "outputs": [
    {
     "data": {
      "image/png": "[encoded data removed]",
      "text/plain": [
       "<Figure size 1000x500 with 1 Axes>"
      ]
     },
     "metadata": {},
     "output_type": "display_data"
    }
   ],
   "source": [
    "img = torch.Tensor(particle_2)\n",
    "img = Resize((16,16))(img.unsqueeze(0))\n",
    "img = img.squeeze(0)\n",
    "fig, ax = plt.subplots(1, 1, figsize=(10, 5)) \n",
    "plt.imshow(img, cmap='gray')\n",
    "plt.axis('off')\n",
    "plt.savefig('300nm.png')\n",
    "plt.show()"
   ]
  },
  {
   "cell_type": "code",
   "execution_count": 16,
   "id": "18a87fae-e025-41a0-a27f-052d0555c2ca",
   "metadata": {},
   "outputs": [],
   "source": [
    "import h5py\n",
    "\n",
    "def get_nd2_paths(base_path, option):\n",
    "    \"\"\"\n",
    "    Recursively collects paths to .nd2 files inside specified subfolders of Metasurface directories.\n",
    "\n",
    "    Args:\n",
    "        base_path (str): The base directory to search.\n",
    "        option (str): The folder to consider ('Brightfield' or 'Laser').\n",
    "\n",
    "    Returns:\n",
    "        list: A list of paths to .nd2 files.\n",
    "    \"\"\"\n",
    "    if option not in {'Brightfield', 'Laser'}:\n",
    "        raise ValueError(\"Option must be 'Brightfield' or 'Laser'\")\n",
    "    \n",
    "    nd2_paths = []\n",
    "    \n",
    "    for root, dirs, files in os.walk(base_path):\n",
    "        if 'Metasurface' in os.path.basename(root):\n",
    "            target_folder = os.path.join(root, option)\n",
    "            if os.path.isdir(target_folder):\n",
    "                for file in os.listdir(target_folder):\n",
    "                    if file.endswith('.nd2'):\n",
    "                        nd2_paths.append(os.path.join(target_folder, file))  \n",
    "    return nd2_paths\n",
    "data_path_1 = os.path.join('data', '2024_11_11', 'Metasurface', 'Chip_02')\n",
    "data_path_2 = os.path.join('data', '2024_11_12', 'Metasurface', 'Chip_01')\n",
    "data_path_3 = os.path.join('data', '2024_11_29', 'Metasurface', 'Chip_02')\n",
    "nd2_paths = []\n",
    "for data_path in [data_path_1, data_path_2,data_path_3]:\n",
    "    nd2_paths.extend(get_nd2_paths(data_path, 'Brightfield'))"
   ]
  },
  {
   "cell_type": "code",
   "execution_count": 17,
   "id": "ef84ee08-8b2b-4ca3-9c26-00d2fe8f0c84",
   "metadata": {},
   "outputs": [
    {
     "data": {
      "text/plain": [
       "['data/2024_11_11/Metasurface/Chip_02/Metasurface 01/Brightfield/02_01_BF.nd2',\n",
       " 'data/2024_11_11/Metasurface/Chip_02/Metasurface 05/Brightfield/02_05_BF.nd2',\n",
       " 'data/2024_11_11/Metasurface/Chip_02/Metasurface 02/Brightfield/02_02_BF.nd2',\n",
       " 'data/2024_11_11/Metasurface/Chip_02/Metasurface 04/Brightfield/02_04_BF.nd2',\n",
       " 'data/2024_11_11/Metasurface/Chip_02/Metasurface 03/Brightfield/02_03_BF.nd2',\n",
       " 'data/2024_11_12/Metasurface/Chip_01/Metasurface 01/Brightfield/01_01_BF.nd2',\n",
       " 'data/2024_11_12/Metasurface/Chip_01/Metasurface 05/Brightfield/01_05_BF001.nd2',\n",
       " 'data/2024_11_12/Metasurface/Chip_01/Metasurface 02/Brightfield/01_02_BF.nd2',\n",
       " 'data/2024_11_12/Metasurface/Chip_01/Metasurface 06/Brightfield/01_06_BF.nd2',\n",
       " 'data/2024_11_12/Metasurface/Chip_01/Metasurface 04/Brightfield/01_04_BF.nd2',\n",
       " 'data/2024_11_12/Metasurface/Chip_01/Metasurface 03/Brightfield/01_03_BF.nd2',\n",
       " 'data/2024_11_29/Metasurface/Chip_02/Metasurface 01/Brightfield/02_01_BF.nd2',\n",
       " 'data/2024_11_29/Metasurface/Chip_02/Metasurface 09/Brightfield/02_09_BF.nd2',\n",
       " 'data/2024_11_29/Metasurface/Chip_02/Metasurface 05/Brightfield/02_05_BF.nd2',\n",
       " 'data/2024_11_29/Metasurface/Chip_02/Metasurface 07/Brightfield/02_07_BF.nd2',\n",
       " 'data/2024_11_29/Metasurface/Chip_02/Metasurface 02/Brightfield/02_02_BF.nd2',\n",
       " 'data/2024_11_29/Metasurface/Chip_02/Metasurface 08/Brightfield/02_08_BF.nd2',\n",
       " 'data/2024_11_29/Metasurface/Chip_02/Metasurface 06/Brightfield/02_06_BF.nd2',\n",
       " 'data/2024_11_29/Metasurface/Chip_02/Metasurface 04/Brightfield/02_04_BF.nd2',\n",
       " 'data/2024_11_29/Metasurface/Chip_02/Metasurface 03/Brightfield/02_03_BF.nd2']"
      ]
     },
     "execution_count": 17,
     "metadata": {},
     "output_type": "execute_result"
    }
   ],
   "source": [
    "nd2_paths"
   ]
  },
  {
   "cell_type": "code",
   "execution_count": 18,
   "id": "76867b6f-fa0a-42f3-9322-bb645b447d0c",
   "metadata": {
    "scrolled": true
   },
   "outputs": [],
   "source": [
    "import os\n",
    "import pandas as pd\n",
    "import numpy as np\n",
    "\n",
    "def analyze_particles(nd2_file_paths):\n",
    "    # Mapping particle size to CSV filenames\n",
    "    rename_mapping = {\n",
    "        \"80 nm \": \"Captured FITC.csv\",\n",
    "        \"300 nm \": \"Captured TRITC.csv\",\n",
    "        \"600 nm \": \"Captured Cy5.csv\",\n",
    "    }\n",
    "    ren = {\n",
    "        \"Captured Cy5.csv\":\"600 nm\",\n",
    "        \"Captured FITC.csv\":\"80 nm\",\n",
    "        \"Captured TRITC.csv\":\"300 nm\"}\n",
    "        \n",
    "    particle_sizes = {\n",
    "        \"Captured Cy5.csv\": \"80 nm\",\n",
    "        \"Captured FITC.csv\": \"300 nm\",\n",
    "        \"Captured TRITC.csv\": \"1300 nm\",\n",
    "    }\n",
    "\n",
    "    # Prepare results dictionary\n",
    "    results = {\n",
    "        \"80 nm\": {\"count\": 0, \"min_area\": None, \"max_area\": None, \"total_area\": 0, \"areas\": []},\n",
    "        \"300 nm\": {\"count\": 0, \"min_area\": None, \"max_area\": None, \"total_area\": 0, \"areas\": []},\n",
    "        \"600 nm\": {\"count\": 0, \"min_area\": None, \"max_area\": None, \"total_area\": 0, \"areas\": []},\n",
    "        \"1300 nm\": {\"count\": 0, \"min_area\": None, \"max_area\": None, \"total_area\": 0, \"areas\": []},\n",
    "    }\n",
    "\n",
    "    # Image dimensions for density calculation\n",
    "    IMAGE_AREA = 2160 * 2560\n",
    "\n",
    "    for path in nd2_file_paths:\n",
    "        folder = os.path.dirname(path)\n",
    "\n",
    "        # Adjust mappings for \"2024_11_29\" case\n",
    "        if \"2024_11_29\" in path:\n",
    "            a = ren\n",
    "        else:\n",
    "            a = particle_sizes\n",
    "        for csv_file, size_label in a.items():\n",
    "            csv_path = os.path.join(folder, csv_file)\n",
    "\n",
    "            if os.path.exists(csv_path):\n",
    "                df = pd.read_csv(csv_path)\n",
    "\n",
    "                # Compute areas\n",
    "                areas = (df[\"xMax\"] - df[\"xMin\"]) * (df[\"yMax\"] - df[\"yMin\"])\n",
    "\n",
    "                # Update results\n",
    "                results[size_label][\"count\"] += len(areas)\n",
    "                results[size_label][\"total_area\"] += areas.sum()\n",
    "                results[size_label][\"areas\"].extend(areas)\n",
    "\n",
    "    # Final calculations for stats\n",
    "    total_particles = sum(results[size][\"count\"] for size in results)\n",
    "\n",
    "    for size, stats in results.items():\n",
    "        if stats[\"count\"] > 0:\n",
    "            stats[\"min_area\"] = np.min(stats[\"areas\"])\n",
    "            stats[\"max_area\"] = np.max(stats[\"areas\"])\n",
    "            stats[\"avg_area\"] = np.mean(stats[\"areas\"])\n",
    "            stats[\"std_area\"] = np.std(stats[\"areas\"])\n",
    "            stats[\"density\"] = stats[\"count\"] / IMAGE_AREA  # Particles per unit area\n",
    "            stats[\"percentage\"] = (stats[\"count\"] / total_particles) * 100\n",
    "\n",
    "        # Remove 'areas' list to save memory\n",
    "        del stats[\"areas\"]\n",
    "\n",
    "    return results"
   ]
  },
  {
   "cell_type": "code",
   "execution_count": 19,
   "id": "cd4a7df7-98ae-48c6-90e6-43d7e1104c56",
   "metadata": {},
   "outputs": [
    {
     "data": {
      "text/plain": [
       "{'80 nm': {'count': 32462,\n",
       "  'min_area': 16.0,\n",
       "  'max_area': 156.0,\n",
       "  'total_area': 1093005.0,\n",
       "  'avg_area': 33.670291417657566,\n",
       "  'std_area': 14.66897608056359,\n",
       "  'density': 0.005870587384259259,\n",
       "  'percentage': 78.50544135429263},\n",
       " '300 nm': {'count': 8659,\n",
       "  'min_area': 16.0,\n",
       "  'max_area': 132.0,\n",
       "  'total_area': 303874.0,\n",
       "  'avg_area': 35.09342880240212,\n",
       "  'std_area': 11.802183555531926,\n",
       "  'density': 0.0015659360532407408,\n",
       "  'percentage': 20.94074969770254},\n",
       " '600 nm': {'count': 169,\n",
       "  'min_area': 16.0,\n",
       "  'max_area': 110.0,\n",
       "  'total_area': 8644.0,\n",
       "  'avg_area': 51.14792899408284,\n",
       "  'std_area': 27.478803210628538,\n",
       "  'density': 3.056278935185185e-05,\n",
       "  'percentage': 0.40870616686819833},\n",
       " '1300 nm': {'count': 60,\n",
       "  'min_area': 16.0,\n",
       "  'max_area': 324.0,\n",
       "  'total_area': 3239.0,\n",
       "  'avg_area': 53.983333333333334,\n",
       "  'std_area': 61.818953853616414,\n",
       "  'density': 1.0850694444444445e-05,\n",
       "  'percentage': 0.14510278113663846}}"
      ]
     },
     "execution_count": 19,
     "metadata": {},
     "output_type": "execute_result"
    }
   ],
   "source": [
    "out = analyze_particles(nd2_paths)\n",
    "out"
   ]
  },
  {
   "cell_type": "code",
   "execution_count": 20,
   "id": "0e5e535a-e20c-4f12-8cd3-f9488af7e3dd",
   "metadata": {},
   "outputs": [
    {
     "name": "stdout",
     "output_type": "stream",
     "text": [
      "torch.Size([32, 1, 16, 16])\n"
     ]
    }
   ],
   "source": [
    "import torch\n",
    "from monai.networks.utils import one_hot\n",
    "a=torch.rand((32,1,16,16))\n",
    "print(a.shape)"
   ]
  },
  {
   "cell_type": "code",
   "execution_count": 21,
   "id": "d2723be5-8ce3-4fac-8459-bcde54113afd",
   "metadata": {},
   "outputs": [
    {
     "name": "stdout",
     "output_type": "stream",
     "text": [
      "tensor([[[0.6812, 0.6047, 0.5005, 0.6588, 0.6748, 0.7113, 0.6817, 0.5629,\n",
      "          0.6477, 0.7106, 0.6542, 0.5535, 0.5418, 0.6852, 0.6893, 0.5809],\n",
      "         [0.6347, 0.5914, 0.5993, 0.6734, 0.6184, 0.5047, 0.5570, 0.7236,\n",
      "          0.7194, 0.5556, 0.5614, 0.5643, 0.7004, 0.6274, 0.5733, 0.5561],\n",
      "         [0.6060, 0.5606, 0.6600, 0.7007, 0.5259, 0.6986, 0.5183, 0.6056,\n",
      "          0.5773, 0.6898, 0.5804, 0.6993, 0.6215, 0.5363, 0.6390, 0.6126],\n",
      "         [0.5312, 0.5389, 0.5688, 0.6570, 0.5370, 0.5039, 0.5104, 0.7283,\n",
      "          0.5206, 0.6064, 0.6139, 0.5600, 0.5690, 0.6544, 0.6127, 0.7098],\n",
      "         [0.6813, 0.6323, 0.5072, 0.5305, 0.6084, 0.6372, 0.6587, 0.5698,\n",
      "          0.6352, 0.5668, 0.5725, 0.5875, 0.6172, 0.6263, 0.7107, 0.5210],\n",
      "         [0.5995, 0.5220, 0.5038, 0.6762, 0.7201, 0.5449, 0.5247, 0.6436,\n",
      "          0.5919, 0.5745, 0.5463, 0.6523, 0.5256, 0.6771, 0.6244, 0.6121],\n",
      "         [0.6607, 0.6727, 0.6110, 0.6449, 0.5371, 0.6439, 0.5601, 0.6637,\n",
      "          0.5250, 0.6563, 0.6262, 0.7077, 0.5732, 0.7078, 0.5284, 0.5037],\n",
      "         [0.5986, 0.5990, 0.6825, 0.6302, 0.6979, 0.5964, 0.5418, 0.5619,\n",
      "          0.5165, 0.5606, 0.5694, 0.5962, 0.6462, 0.5215, 0.5275, 0.7008],\n",
      "         [0.5249, 0.5181, 0.5228, 0.6681, 0.5721, 0.6647, 0.6636, 0.5886,\n",
      "          0.6551, 0.6357, 0.5771, 0.6461, 0.5884, 0.6986, 0.5096, 0.5871],\n",
      "         [0.6887, 0.5452, 0.6013, 0.5666, 0.5944, 0.6511, 0.6956, 0.6321,\n",
      "          0.5433, 0.5095, 0.6179, 0.5027, 0.7248, 0.5749, 0.5858, 0.6745],\n",
      "         [0.6760, 0.5895, 0.6365, 0.6298, 0.6982, 0.5792, 0.7109, 0.5614,\n",
      "          0.6221, 0.5125, 0.5791, 0.5198, 0.6980, 0.5786, 0.6671, 0.6819],\n",
      "         [0.5335, 0.5512, 0.5126, 0.5959, 0.5296, 0.5286, 0.6592, 0.6795,\n",
      "          0.5120, 0.5845, 0.6205, 0.6726, 0.5303, 0.6863, 0.5160, 0.7225],\n",
      "         [0.5670, 0.6088, 0.5336, 0.5272, 0.6081, 0.6453, 0.5177, 0.6939,\n",
      "          0.5560, 0.7017, 0.6027, 0.5914, 0.6520, 0.6675, 0.6996, 0.6947],\n",
      "         [0.5919, 0.6211, 0.6406, 0.6247, 0.6588, 0.7192, 0.7294, 0.6227,\n",
      "          0.6024, 0.5510, 0.6244, 0.6241, 0.5645, 0.6385, 0.6115, 0.5440],\n",
      "         [0.6578, 0.7104, 0.5302, 0.6161, 0.6427, 0.5145, 0.5674, 0.6684,\n",
      "          0.6509, 0.6309, 0.6684, 0.5464, 0.5832, 0.5788, 0.5872, 0.5569],\n",
      "         [0.7274, 0.6013, 0.5866, 0.5102, 0.5687, 0.5818, 0.7037, 0.6132,\n",
      "          0.6556, 0.5700, 0.6766, 0.6799, 0.6526, 0.6929, 0.7271, 0.6138]]])\n"
     ]
    }
   ],
   "source": [
    "print(torch.sigmoid(a[0]))"
   ]
  }
 ],
 "metadata": {
  "kernelspec": {
   "display_name": "iscat",
   "language": "python",
   "name": "iscat"
  },
  "language_info": {
   "codemirror_mode": {
    "name": "ipython",
    "version": 3
   },
   "file_extension": ".py",
   "mimetype": "text/x-python",
   "name": "python",
   "nbconvert_exporter": "python",
   "pygments_lexer": "ipython3",
   "version": "3.11.11"
  }
 },
 "nbformat": 4,
 "nbformat_minor": 5
}
