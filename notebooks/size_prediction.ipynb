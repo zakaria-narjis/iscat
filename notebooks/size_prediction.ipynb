{
 "cells": [
  {
   "cell_type": "code",
   "execution_count": 1,
   "id": "304c408e-95ce-4060-b991-b680dbc05be3",
   "metadata": {},
   "outputs": [
    {
     "name": "stdout",
     "output_type": "stream",
     "text": [
      "Current Directory: /workspace/iscat\n"
     ]
    }
   ],
   "source": [
    "import os\n",
    "os.chdir(\"..\")\n",
    "print(\"Current Directory:\", os.getcwd())"
   ]
  },
  {
   "cell_type": "code",
   "execution_count": 2,
   "id": "393fd44e-e38b-48b8-8d3a-f5c2ce4b18e6",
   "metadata": {},
   "outputs": [
    {
     "name": "stdout",
     "output_type": "stream",
     "text": [
      "(27282, 16, 201)\n",
      "(array([0, 1, 2]), array([22076,  5146,    60]))\n"
     ]
    }
   ],
   "source": [
    "import h5py\n",
    "import numpy as np\n",
    "particle_data_path ='dataset/brightfield_particles.hdf5'\n",
    "with h5py.File(particle_data_path , 'r') as f:\n",
    "    print(f['data'].shape)\n",
    "    print(np.unique(f['labels'],return_counts=True))"
   ]
  },
  {
   "cell_type": "code",
   "execution_count": 3,
   "id": "2ca1abc1-24c3-49d5-9039-c2086ff68d98",
   "metadata": {},
   "outputs": [],
   "source": [
    "weights = 1/np.array([22076,  5146])"
   ]
  },
  {
   "cell_type": "code",
   "execution_count": 4,
   "id": "2a691a19-8abd-42e4-b8b7-cfdb6e49d290",
   "metadata": {},
   "outputs": [],
   "source": [
    "import torch\n",
    "import torch.nn as nn\n",
    "import torch.optim as optim\n",
    "from torch.utils.data import Dataset, DataLoader\n",
    "import h5py\n",
    "import numpy as np\n",
    "# from torchvision.models import vit_b_16\n",
    "import matplotlib.pyplot as plt\n",
    "from sklearn.metrics import confusion_matrix\n",
    "from tqdm import tqdm\n",
    "from torchvision.models.vision_transformer import VisionTransformer\n",
    "import torch\n",
    "import torch.nn as nn\n",
    "import torch.optim as optim\n",
    "from torch.utils.data import DataLoader\n",
    "from sklearn.metrics import confusion_matrix, f1_score, balanced_accuracy_score\n",
    "import matplotlib.pyplot as plt\n",
    "\n",
    "def compute_normalization_stats(h5_path, classes=None):\n",
    "    \"\"\"\n",
    "    Compute mean and standard deviation for z-score normalization.\n",
    "    \n",
    "    Args:\n",
    "        h5_path (str): Path to HDF5 file\n",
    "        classes (list, optional): List of classes to include in computation\n",
    "        \n",
    "    Returns:\n",
    "        tuple: (mean, std) computed across all data points\n",
    "    \"\"\"\n",
    "    with h5py.File(h5_path, 'r') as h5_file:\n",
    "        data = h5_file['data'][:]\n",
    "        labels = h5_file['labels'][:]\n",
    "        \n",
    "        if classes is not None:\n",
    "            # Filter data for selected classes\n",
    "            mask = np.isin(labels, classes)\n",
    "            data = data[mask]\n",
    "        \n",
    "        # Compute statistics across all dimensions\n",
    "        mean = np.mean(data)\n",
    "        std = np.std(data)\n",
    "        \n",
    "        print(f\"Computed statistics: mean = {mean:.4f}, std = {std:.4f}\")\n",
    "        \n",
    "        return mean, std\n",
    "        \n",
    "class ParticleDataset(Dataset):\n",
    "    \"\"\"Custom Dataset for particle data with flexible class selection and normalization.\"\"\"\n",
    "    def __init__(self, h5_path, classes=[0, 1], transform=None, mean=None, std=None):\n",
    "        self.h5_file = h5py.File(h5_path, 'r')\n",
    "        data = self.h5_file['data'][:]\n",
    "        labels = self.h5_file['labels'][:]\n",
    "        \n",
    "        # Filter data for selected classes\n",
    "        mask = np.isin(labels, classes)\n",
    "        self.data = data[mask]\n",
    "        self.labels = labels[mask]\n",
    "        \n",
    "        # Create class mapping to handle non-consecutive class indices\n",
    "        self.class_to_idx = {c: i for i, c in enumerate(classes)}\n",
    "        self.num_classes = len(classes)\n",
    "        \n",
    "        # Map original labels to new consecutive indices\n",
    "        self.labels = np.array([self.class_to_idx[label] for label in self.labels])\n",
    "        \n",
    "        self.transform = transform\n",
    "        self.mean = mean\n",
    "        self.std = std\n",
    "        \n",
    "    def __len__(self):\n",
    "        return len(self.labels)\n",
    "    \n",
    "    def __getitem__(self, idx):\n",
    "        # Get particle data\n",
    "        particle = self.data[idx]  # Shape: (16, 201)\n",
    "        \n",
    "        # Apply normalization if mean and std are provided\n",
    "        if self.mean is not None and self.std is not None:\n",
    "            particle = (particle - self.mean) / self.std\n",
    "        \n",
    "        # First resize to (16, 192) using cubic interpolation\n",
    "        # Convert to torch tensor for better interpolation\n",
    "        particle_tensor = torch.FloatTensor(particle).unsqueeze(0)  # Add channel dim\n",
    "        resized = torch.nn.functional.interpolate(\n",
    "            particle_tensor.unsqueeze(0),  # Add batch dim\n",
    "            size=(16, 192),\n",
    "            mode='bicubic',\n",
    "            align_corners=True\n",
    "        ).squeeze(0).squeeze(0)  # Remove batch and channel dims\n",
    "        \n",
    "        # Create square tensor with symmetric padding\n",
    "        target_size = 192\n",
    "        current_height = resized.shape[0]  # 16\n",
    "        padding_height = target_size - current_height\n",
    "        padding_top = padding_height // 2\n",
    "        padding_bottom = padding_height - padding_top\n",
    "        \n",
    "        # Use torch's pad function for symmetric padding\n",
    "        padded = torch.nn.functional.pad(\n",
    "            resized,\n",
    "            (0, 0,                # No padding in width dimension\n",
    "             padding_top, padding_bottom),  # Padding in height dimension\n",
    "            mode='constant',\n",
    "            value=0\n",
    "        )\n",
    "        \n",
    "        # Add single channel dimension\n",
    "        final_tensor = padded.unsqueeze(0)\n",
    "        \n",
    "        if self.transform:\n",
    "            final_tensor = self.transform(final_tensor)\n",
    "        \n",
    "        # Create one-hot encoded label\n",
    "        label_idx = self.labels[idx]\n",
    "        label_onehot = torch.zeros(self.num_classes)\n",
    "        label_onehot[label_idx] = 1\n",
    "        \n",
    "        return final_tensor, label_onehot\n",
    "\n",
    "    def close(self):\n",
    "        self.h5_file.close()\n",
    "        \n",
    "class ModifiedViT(nn.Module):\n",
    "    def __init__(self, num_classes=2,patch_size=16,num_layers=12,num_heads=12,hidden_dim =768,mlp_dim=3072):\n",
    "        super().__init__()\n",
    "        # Load pretrained ViT\n",
    "        self.vit = VisionTransformer(image_size=192,\n",
    "        patch_size=16,\n",
    "        num_classes = num_classes,\n",
    "        num_layers=12,\n",
    "        num_heads=12,\n",
    "        hidden_dim=768,\n",
    "        mlp_dim=3072,\n",
    "    )\n",
    "        \n",
    "        self.vit.conv_proj = nn.Conv2d(\n",
    "                    in_channels=1, out_channels=hidden_dim, kernel_size=patch_size, stride=patch_size\n",
    "                ) \n",
    "    def forward(self, x):\n",
    "        return self.vit(x)\n",
    "        \n",
    "def train_model(model, train_loader, val_loader, device, num_epochs=50, weights=None, patience=20):\n",
    "    criterion = nn.CrossEntropyLoss(weight=torch.Tensor(weights).to(device)) if weights is not None else nn.CrossEntropyLoss()\n",
    "    optimizer = optim.AdamW(model.parameters(), lr=1e-4, weight_decay=0.05)\n",
    "    scheduler = optim.lr_scheduler.CosineAnnealingLR(optimizer, T_max=num_epochs)\n",
    "    \n",
    "    best_val_acc = 0.0\n",
    "    best_val_loss = float('inf')\n",
    "    train_losses = []\n",
    "    val_losses = []\n",
    "    val_accuracies = []\n",
    "    val_f1_scores = []\n",
    "    val_bal_accs = []\n",
    "    \n",
    "    early_stopping_counter = 0\n",
    "    \n",
    "    for epoch in range(num_epochs):\n",
    "        # Training Phase\n",
    "        model.train()\n",
    "        total_train_loss = 0\n",
    "        \n",
    "        for inputs, labels in tqdm(train_loader, desc=f'Epoch {epoch+1}/{num_epochs} Training'):\n",
    "            inputs, labels = inputs.to(device), labels.to(device)\n",
    "            optimizer.zero_grad()\n",
    "            outputs = model(inputs)\n",
    "            loss = criterion(outputs, labels)\n",
    "            loss.backward()\n",
    "            optimizer.step()\n",
    "            total_train_loss += loss.item()\n",
    "        \n",
    "        avg_train_loss = total_train_loss / len(train_loader)\n",
    "        train_losses.append(avg_train_loss)\n",
    "        \n",
    "        # Validation Phase\n",
    "        model.eval()\n",
    "        val_preds = []\n",
    "        val_true = []\n",
    "        total_val_loss = 0\n",
    "        \n",
    "        with torch.no_grad():\n",
    "            for inputs, labels in val_loader:\n",
    "                inputs, labels = inputs.to(device), labels.to(device)\n",
    "                outputs = model(inputs)\n",
    "                val_loss = criterion(outputs, labels)\n",
    "                total_val_loss += val_loss.item()\n",
    "                \n",
    "                predicted = torch.argmax(outputs, 1)\n",
    "                labels = torch.argmax(labels, 1)\n",
    "                val_preds.extend(predicted.cpu().numpy())\n",
    "                val_true.extend(labels.cpu().numpy())\n",
    "        \n",
    "        avg_val_loss = total_val_loss / len(val_loader)\n",
    "        val_losses.append(avg_val_loss)\n",
    "        \n",
    "        # Calculate metrics\n",
    "        val_acc = 100 * (sum([p == t for p, t in zip(val_preds, val_true)]) / len(val_true))\n",
    "        f1 = f1_score(val_true, val_preds, average='weighted')\n",
    "        bal_acc = balanced_accuracy_score(val_true, val_preds)\n",
    "        \n",
    "        # Confusion matrix metrics for class 0\n",
    "        tp = sum((np.array(val_preds) == 0) & (np.array(val_true) == 0))\n",
    "        tn = sum((np.array(val_preds) == 1) & (np.array(val_true) == 1))\n",
    "        fp = sum((np.array(val_preds) == 0) & (np.array(val_true) == 1))\n",
    "        fn = sum((np.array(val_preds) == 1) & (np.array(val_true) == 0))\n",
    "        \n",
    "        val_accuracies.append(val_acc)\n",
    "        val_f1_scores.append(f1)\n",
    "        val_bal_accs.append(bal_acc)\n",
    "        \n",
    "        # Print epoch details\n",
    "        print(f'Epoch {epoch+1}:')\n",
    "        print(f'  Train Loss = {avg_train_loss:.4f}, Val Loss = {avg_val_loss:.4f}')\n",
    "        print(f'  Val Accuracy = {val_acc:.2f}%, F1-Score = {f1:.4f}, Balanced Acc = {bal_acc:.4f}')\n",
    "        print(f'  Class 0 Metrics:')\n",
    "        print(f'    True Positives: {tp}')\n",
    "        print(f'    True Negatives: {tn}')\n",
    "        print(f'    False Positives: {fp}')\n",
    "        print(f'    False Negatives: {fn}')\n",
    "        print(f'    Precision: {tp/(tp+fp) if (tp+fp) > 0 else 0:.4f}')\n",
    "        print(f'    Recall: {tp/(tp+fn) if (tp+fn) > 0 else 0:.4f}')\n",
    "        \n",
    "        # Early Stopping and Model Saving\n",
    "        if val_acc > best_val_acc:\n",
    "            best_val_acc = val_acc\n",
    "            early_stopping_counter = 0\n",
    "            torch.save(model.state_dict(), 'best_particle_vit.pth')\n",
    "        \n",
    "        # Check for improvement in validation loss\n",
    "        if avg_val_loss < best_val_loss:\n",
    "            best_val_loss = avg_val_loss\n",
    "            early_stopping_counter = 0\n",
    "        else:\n",
    "            early_stopping_counter += 1\n",
    "        \n",
    "        # Early stopping\n",
    "        if early_stopping_counter >= patience:\n",
    "            print(f'Early stopping triggered after {epoch+1} epochs')\n",
    "            break\n",
    "        \n",
    "        scheduler.step()\n",
    "    \n",
    "    return (train_losses, val_losses, val_accuracies, \n",
    "            val_f1_scores, val_bal_accs, val_preds, val_true)\n",
    "\n",
    "def plot_training_results(train_losses, val_accuracies, val_f1_scores, val_bal_accs, val_preds, val_true):\n",
    "    fig, (ax1, ax2, ax3) = plt.subplots(1, 3, figsize=(18, 5))\n",
    "    \n",
    "    ax1.plot(train_losses, label='Loss')\n",
    "    ax1.set_title('Training Loss')\n",
    "    ax1.set_xlabel('Epoch')\n",
    "    ax1.set_ylabel('Loss')\n",
    "    ax1.legend()\n",
    "    \n",
    "    ax2.plot(val_accuracies, label='Accuracy')\n",
    "    ax2.set_title('Validation Accuracy')\n",
    "    ax2.set_xlabel('Epoch')\n",
    "    ax2.set_ylabel('Accuracy (%)')\n",
    "    ax2.legend()\n",
    "    \n",
    "    ax3.plot(val_f1_scores, label='F1-Score')\n",
    "    ax3.plot(val_bal_accs, label='Balanced Accuracy')\n",
    "    ax3.set_title('Validation Metrics')\n",
    "    ax3.set_xlabel('Epoch')\n",
    "    ax3.legend()\n",
    "    \n",
    "    plt.tight_layout()\n",
    "    plt.savefig('training_plots.png')\n",
    "    \n",
    "    cm = confusion_matrix(val_true, val_preds)\n",
    "    plt.figure(figsize=(8, 6))\n",
    "    sns.heatmap(cm, annot=True, fmt='d', cmap='Blues')\n",
    "    plt.title('Confusion Matrix')\n",
    "    plt.ylabel('True Label')\n",
    "    plt.xlabel('Predicted Label')\n",
    "    plt.savefig('confusion_matrix.png')\n"
   ]
  },
  {
   "cell_type": "code",
   "execution_count": 5,
   "id": "ca7c0ccc-ecbb-4835-9d3b-9e5266dba96e",
   "metadata": {},
   "outputs": [
    {
     "name": "stdout",
     "output_type": "stream",
     "text": [
      "Using device: cuda:7\n",
      "Computed statistics: mean = 7077.7081, std = 1176.7393\n",
      "0.1875832300133168\n",
      "0.1948576675849403\n"
     ]
    },
    {
     "name": "stderr",
     "output_type": "stream",
     "text": [
      "Epoch 1/50 Training: 100%|██████████████████████████████████████████████████████████████████████████████████████████████████████████████████| 681/681 [02:40<00:00,  4.23it/s]\n"
     ]
    },
    {
     "name": "stdout",
     "output_type": "stream",
     "text": [
      "Epoch 1:\n",
      "  Train Loss = 0.4275, Val Loss = 0.3457\n",
      "  Val Accuracy = 83.49%, F1-Score = 0.7893, Balanced Acc = 0.5892\n",
      "  Class 0 Metrics:\n",
      "    True Positives: 4348\n",
      "    True Negatives: 198\n",
      "    False Positives: 863\n",
      "    False Negatives: 36\n",
      "    Precision: 0.8344\n",
      "    Recall: 0.9918\n"
     ]
    },
    {
     "name": "stderr",
     "output_type": "stream",
     "text": [
      "Epoch 2/50 Training: 100%|██████████████████████████████████████████████████████████████████████████████████████████████████████████████████| 681/681 [02:39<00:00,  4.26it/s]\n"
     ]
    },
    {
     "name": "stdout",
     "output_type": "stream",
     "text": [
      "Epoch 2:\n",
      "  Train Loss = 0.3168, Val Loss = 0.2742\n",
      "  Val Accuracy = 85.75%, F1-Score = 0.8667, Balanced Acc = 0.8618\n",
      "  Class 0 Metrics:\n",
      "    True Positives: 3747\n",
      "    True Negatives: 922\n",
      "    False Positives: 139\n",
      "    False Negatives: 637\n",
      "    Precision: 0.9642\n",
      "    Recall: 0.8547\n"
     ]
    },
    {
     "name": "stderr",
     "output_type": "stream",
     "text": [
      "Epoch 3/50 Training: 100%|██████████████████████████████████████████████████████████████████████████████████████████████████████████████████| 681/681 [02:40<00:00,  4.25it/s]\n"
     ]
    },
    {
     "name": "stdout",
     "output_type": "stream",
     "text": [
      "Epoch 3:\n",
      "  Train Loss = 0.2209, Val Loss = 0.1614\n",
      "  Val Accuracy = 94.14%, F1-Score = 0.9419, Balanced Acc = 0.9154\n",
      "  Class 0 Metrics:\n",
      "    True Positives: 4200\n",
      "    True Negatives: 926\n",
      "    False Positives: 135\n",
      "    False Negatives: 184\n",
      "    Precision: 0.9689\n",
      "    Recall: 0.9580\n"
     ]
    },
    {
     "name": "stderr",
     "output_type": "stream",
     "text": [
      "Epoch 4/50 Training: 100%|██████████████████████████████████████████████████████████████████████████████████████████████████████████████████| 681/681 [02:40<00:00,  4.25it/s]\n"
     ]
    },
    {
     "name": "stdout",
     "output_type": "stream",
     "text": [
      "Epoch 4:\n",
      "  Train Loss = 0.1377, Val Loss = 0.1370\n",
      "  Val Accuracy = 94.88%, F1-Score = 0.9472, Balanced Acc = 0.8910\n",
      "  Class 0 Metrics:\n",
      "    True Positives: 4321\n",
      "    True Negatives: 845\n",
      "    False Positives: 216\n",
      "    False Negatives: 63\n",
      "    Precision: 0.9524\n",
      "    Recall: 0.9856\n"
     ]
    },
    {
     "name": "stderr",
     "output_type": "stream",
     "text": [
      "Epoch 5/50 Training: 100%|██████████████████████████████████████████████████████████████████████████████████████████████████████████████████| 681/681 [02:40<00:00,  4.25it/s]\n"
     ]
    },
    {
     "name": "stdout",
     "output_type": "stream",
     "text": [
      "Epoch 5:\n",
      "  Train Loss = 0.1261, Val Loss = 0.1314\n",
      "  Val Accuracy = 94.93%, F1-Score = 0.9479, Balanced Acc = 0.8946\n",
      "  Class 0 Metrics:\n",
      "    True Positives: 4315\n",
      "    True Negatives: 854\n",
      "    False Positives: 207\n",
      "    False Negatives: 69\n",
      "    Precision: 0.9542\n",
      "    Recall: 0.9843\n"
     ]
    },
    {
     "name": "stderr",
     "output_type": "stream",
     "text": [
      "Epoch 6/50 Training: 100%|██████████████████████████████████████████████████████████████████████████████████████████████████████████████████| 681/681 [02:40<00:00,  4.25it/s]\n"
     ]
    },
    {
     "name": "stdout",
     "output_type": "stream",
     "text": [
      "Epoch 6:\n",
      "  Train Loss = 0.1323, Val Loss = 0.1218\n",
      "  Val Accuracy = 95.96%, F1-Score = 0.9596, Balanced Acc = 0.9356\n",
      "  Class 0 Metrics:\n",
      "    True Positives: 4274\n",
      "    True Negatives: 951\n",
      "    False Positives: 110\n",
      "    False Negatives: 110\n",
      "    Precision: 0.9749\n",
      "    Recall: 0.9749\n"
     ]
    },
    {
     "name": "stderr",
     "output_type": "stream",
     "text": [
      "Epoch 7/50 Training: 100%|██████████████████████████████████████████████████████████████████████████████████████████████████████████████████| 681/681 [02:40<00:00,  4.24it/s]\n"
     ]
    },
    {
     "name": "stdout",
     "output_type": "stream",
     "text": [
      "Epoch 7:\n",
      "  Train Loss = 0.1386, Val Loss = 0.1318\n",
      "  Val Accuracy = 95.28%, F1-Score = 0.9529, Balanced Acc = 0.9271\n",
      "  Class 0 Metrics:\n",
      "    True Positives: 4249\n",
      "    True Negatives: 939\n",
      "    False Positives: 122\n",
      "    False Negatives: 135\n",
      "    Precision: 0.9721\n",
      "    Recall: 0.9692\n"
     ]
    },
    {
     "name": "stderr",
     "output_type": "stream",
     "text": [
      "Epoch 8/50 Training: 100%|██████████████████████████████████████████████████████████████████████████████████████████████████████████████████| 681/681 [02:40<00:00,  4.24it/s]\n"
     ]
    },
    {
     "name": "stdout",
     "output_type": "stream",
     "text": [
      "Epoch 8:\n",
      "  Train Loss = 0.1172, Val Loss = 0.1219\n",
      "  Val Accuracy = 95.67%, F1-Score = 0.9572, Balanced Acc = 0.9452\n",
      "  Class 0 Metrics:\n",
      "    True Positives: 4226\n",
      "    True Negatives: 983\n",
      "    False Positives: 78\n",
      "    False Negatives: 158\n",
      "    Precision: 0.9819\n",
      "    Recall: 0.9640\n"
     ]
    },
    {
     "name": "stderr",
     "output_type": "stream",
     "text": [
      "Epoch 9/50 Training: 100%|██████████████████████████████████████████████████████████████████████████████████████████████████████████████████| 681/681 [02:40<00:00,  4.24it/s]\n"
     ]
    },
    {
     "name": "stdout",
     "output_type": "stream",
     "text": [
      "Epoch 9:\n",
      "  Train Loss = 0.1154, Val Loss = 0.1184\n",
      "  Val Accuracy = 95.85%, F1-Score = 0.9580, Balanced Acc = 0.9228\n",
      "  Class 0 Metrics:\n",
      "    True Positives: 4302\n",
      "    True Negatives: 917\n",
      "    False Positives: 144\n",
      "    False Negatives: 82\n",
      "    Precision: 0.9676\n",
      "    Recall: 0.9813\n"
     ]
    },
    {
     "name": "stderr",
     "output_type": "stream",
     "text": [
      "Epoch 10/50 Training: 100%|█████████████████████████████████████████████████████████████████████████████████████████████████████████████████| 681/681 [02:40<00:00,  4.24it/s]\n"
     ]
    },
    {
     "name": "stdout",
     "output_type": "stream",
     "text": [
      "Epoch 10:\n",
      "  Train Loss = 0.1126, Val Loss = 0.1251\n",
      "  Val Accuracy = 95.50%, F1-Score = 0.9544, Balanced Acc = 0.9153\n",
      "  Class 0 Metrics:\n",
      "    True Positives: 4298\n",
      "    True Negatives: 902\n",
      "    False Positives: 159\n",
      "    False Negatives: 86\n",
      "    Precision: 0.9643\n",
      "    Recall: 0.9804\n"
     ]
    },
    {
     "name": "stderr",
     "output_type": "stream",
     "text": [
      "Epoch 11/50 Training: 100%|█████████████████████████████████████████████████████████████████████████████████████████████████████████████████| 681/681 [02:40<00:00,  4.24it/s]\n"
     ]
    },
    {
     "name": "stdout",
     "output_type": "stream",
     "text": [
      "Epoch 11:\n",
      "  Train Loss = 0.1206, Val Loss = 0.1179\n",
      "  Val Accuracy = 95.48%, F1-Score = 0.9556, Balanced Acc = 0.9477\n",
      "  Class 0 Metrics:\n",
      "    True Positives: 4206\n",
      "    True Negatives: 993\n",
      "    False Positives: 68\n",
      "    False Negatives: 178\n",
      "    Precision: 0.9841\n",
      "    Recall: 0.9594\n"
     ]
    },
    {
     "name": "stderr",
     "output_type": "stream",
     "text": [
      "Epoch 12/50 Training: 100%|█████████████████████████████████████████████████████████████████████████████████████████████████████████████████| 681/681 [02:40<00:00,  4.24it/s]\n"
     ]
    },
    {
     "name": "stdout",
     "output_type": "stream",
     "text": [
      "Epoch 12:\n",
      "  Train Loss = 0.1033, Val Loss = 0.1161\n",
      "  Val Accuracy = 95.52%, F1-Score = 0.9539, Balanced Acc = 0.9029\n",
      "  Class 0 Metrics:\n",
      "    True Positives: 4334\n",
      "    True Negatives: 867\n",
      "    False Positives: 194\n",
      "    False Negatives: 50\n",
      "    Precision: 0.9572\n",
      "    Recall: 0.9886\n"
     ]
    },
    {
     "name": "stderr",
     "output_type": "stream",
     "text": [
      "Epoch 13/50 Training: 100%|█████████████████████████████████████████████████████████████████████████████████████████████████████████████████| 681/681 [02:40<00:00,  4.24it/s]\n"
     ]
    },
    {
     "name": "stdout",
     "output_type": "stream",
     "text": [
      "Epoch 13:\n",
      "  Train Loss = 0.1004, Val Loss = 0.1784\n",
      "  Val Accuracy = 93.92%, F1-Score = 0.9357, Balanced Acc = 0.8547\n",
      "  Class 0 Metrics:\n",
      "    True Positives: 4354\n",
      "    True Negatives: 760\n",
      "    False Positives: 301\n",
      "    False Negatives: 30\n",
      "    Precision: 0.9353\n",
      "    Recall: 0.9932\n"
     ]
    },
    {
     "name": "stderr",
     "output_type": "stream",
     "text": [
      "Epoch 14/50 Training: 100%|█████████████████████████████████████████████████████████████████████████████████████████████████████████████████| 681/681 [02:40<00:00,  4.24it/s]\n"
     ]
    },
    {
     "name": "stdout",
     "output_type": "stream",
     "text": [
      "Epoch 14:\n",
      "  Train Loss = 0.0950, Val Loss = 0.1192\n",
      "  Val Accuracy = 95.48%, F1-Score = 0.9536, Balanced Acc = 0.9030\n",
      "  Class 0 Metrics:\n",
      "    True Positives: 4331\n",
      "    True Negatives: 868\n",
      "    False Positives: 193\n",
      "    False Negatives: 53\n",
      "    Precision: 0.9573\n",
      "    Recall: 0.9879\n"
     ]
    },
    {
     "name": "stderr",
     "output_type": "stream",
     "text": [
      "Epoch 15/50 Training: 100%|█████████████████████████████████████████████████████████████████████████████████████████████████████████████████| 681/681 [02:41<00:00,  4.23it/s]\n"
     ]
    },
    {
     "name": "stdout",
     "output_type": "stream",
     "text": [
      "Epoch 15:\n",
      "  Train Loss = 0.0954, Val Loss = 0.0934\n",
      "  Val Accuracy = 96.82%, F1-Score = 0.9680, Balanced Acc = 0.9413\n",
      "  Class 0 Metrics:\n",
      "    True Positives: 4320\n",
      "    True Negatives: 952\n",
      "    False Positives: 109\n",
      "    False Negatives: 64\n",
      "    Precision: 0.9754\n",
      "    Recall: 0.9854\n"
     ]
    },
    {
     "name": "stderr",
     "output_type": "stream",
     "text": [
      "Epoch 16/50 Training: 100%|█████████████████████████████████████████████████████████████████████████████████████████████████████████████████| 681/681 [02:41<00:00,  4.23it/s]\n"
     ]
    },
    {
     "name": "stdout",
     "output_type": "stream",
     "text": [
      "Epoch 16:\n",
      "  Train Loss = 0.1086, Val Loss = 0.0989\n",
      "  Val Accuracy = 96.73%, F1-Score = 0.9671, Balanced Acc = 0.9418\n",
      "  Class 0 Metrics:\n",
      "    True Positives: 4312\n",
      "    True Negatives: 955\n",
      "    False Positives: 106\n",
      "    False Negatives: 72\n",
      "    Precision: 0.9760\n",
      "    Recall: 0.9836\n"
     ]
    },
    {
     "name": "stderr",
     "output_type": "stream",
     "text": [
      "Epoch 17/50 Training: 100%|█████████████████████████████████████████████████████████████████████████████████████████████████████████████████| 681/681 [02:40<00:00,  4.24it/s]\n"
     ]
    },
    {
     "name": "stdout",
     "output_type": "stream",
     "text": [
      "Epoch 17:\n",
      "  Train Loss = 0.1063, Val Loss = 0.1153\n",
      "  Val Accuracy = 95.85%, F1-Score = 0.9577, Balanced Acc = 0.9156\n",
      "  Class 0 Metrics:\n",
      "    True Positives: 4322\n",
      "    True Negatives: 897\n",
      "    False Positives: 164\n",
      "    False Negatives: 62\n",
      "    Precision: 0.9634\n",
      "    Recall: 0.9859\n"
     ]
    },
    {
     "name": "stderr",
     "output_type": "stream",
     "text": [
      "Epoch 18/50 Training: 100%|█████████████████████████████████████████████████████████████████████████████████████████████████████████████████| 681/681 [02:40<00:00,  4.24it/s]\n"
     ]
    },
    {
     "name": "stdout",
     "output_type": "stream",
     "text": [
      "Epoch 18:\n",
      "  Train Loss = 0.1055, Val Loss = 0.1090\n",
      "  Val Accuracy = 96.07%, F1-Score = 0.9609, Balanced Acc = 0.9427\n",
      "  Class 0 Metrics:\n",
      "    True Positives: 4262\n",
      "    True Negatives: 969\n",
      "    False Positives: 92\n",
      "    False Negatives: 122\n",
      "    Precision: 0.9789\n",
      "    Recall: 0.9722\n"
     ]
    },
    {
     "name": "stderr",
     "output_type": "stream",
     "text": [
      "Epoch 19/50 Training: 100%|█████████████████████████████████████████████████████████████████████████████████████████████████████████████████| 681/681 [02:40<00:00,  4.24it/s]\n"
     ]
    },
    {
     "name": "stdout",
     "output_type": "stream",
     "text": [
      "Epoch 19:\n",
      "  Train Loss = 0.0907, Val Loss = 0.1024\n",
      "  Val Accuracy = 96.40%, F1-Score = 0.9643, Balanced Acc = 0.9523\n",
      "  Class 0 Metrics:\n",
      "    True Positives: 4259\n",
      "    True Negatives: 990\n",
      "    False Positives: 71\n",
      "    False Negatives: 125\n",
      "    Precision: 0.9836\n",
      "    Recall: 0.9715\n"
     ]
    },
    {
     "name": "stderr",
     "output_type": "stream",
     "text": [
      "Epoch 20/50 Training: 100%|█████████████████████████████████████████████████████████████████████████████████████████████████████████████████| 681/681 [02:40<00:00,  4.24it/s]\n"
     ]
    },
    {
     "name": "stdout",
     "output_type": "stream",
     "text": [
      "Epoch 20:\n",
      "  Train Loss = 0.0869, Val Loss = 0.0921\n",
      "  Val Accuracy = 96.71%, F1-Score = 0.9669, Balanced Acc = 0.9399\n",
      "  Class 0 Metrics:\n",
      "    True Positives: 4316\n",
      "    True Negatives: 950\n",
      "    False Positives: 111\n",
      "    False Negatives: 68\n",
      "    Precision: 0.9749\n",
      "    Recall: 0.9845\n"
     ]
    },
    {
     "name": "stderr",
     "output_type": "stream",
     "text": [
      "Epoch 21/50 Training: 100%|█████████████████████████████████████████████████████████████████████████████████████████████████████████████████| 681/681 [02:40<00:00,  4.24it/s]\n"
     ]
    },
    {
     "name": "stdout",
     "output_type": "stream",
     "text": [
      "Epoch 21:\n",
      "  Train Loss = 0.0792, Val Loss = 0.0912\n",
      "  Val Accuracy = 96.88%, F1-Score = 0.9684, Balanced Acc = 0.9395\n",
      "  Class 0 Metrics:\n",
      "    True Positives: 4329\n",
      "    True Negatives: 946\n",
      "    False Positives: 115\n",
      "    False Negatives: 55\n",
      "    Precision: 0.9741\n",
      "    Recall: 0.9875\n"
     ]
    },
    {
     "name": "stderr",
     "output_type": "stream",
     "text": [
      "Epoch 22/50 Training: 100%|█████████████████████████████████████████████████████████████████████████████████████████████████████████████████| 681/681 [02:40<00:00,  4.24it/s]\n"
     ]
    },
    {
     "name": "stdout",
     "output_type": "stream",
     "text": [
      "Epoch 22:\n",
      "  Train Loss = 0.0764, Val Loss = 0.0927\n",
      "  Val Accuracy = 96.55%, F1-Score = 0.9659, Balanced Acc = 0.9578\n",
      "  Class 0 Metrics:\n",
      "    True Positives: 4254\n",
      "    True Negatives: 1003\n",
      "    False Positives: 58\n",
      "    False Negatives: 130\n",
      "    Precision: 0.9865\n",
      "    Recall: 0.9703\n"
     ]
    },
    {
     "name": "stderr",
     "output_type": "stream",
     "text": [
      "Epoch 23/50 Training: 100%|█████████████████████████████████████████████████████████████████████████████████████████████████████████████████| 681/681 [02:41<00:00,  4.22it/s]\n"
     ]
    },
    {
     "name": "stdout",
     "output_type": "stream",
     "text": [
      "Epoch 23:\n",
      "  Train Loss = 0.0732, Val Loss = 0.0891\n",
      "  Val Accuracy = 96.95%, F1-Score = 0.9697, Balanced Acc = 0.9578\n",
      "  Class 0 Metrics:\n",
      "    True Positives: 4283\n",
      "    True Negatives: 996\n",
      "    False Positives: 65\n",
      "    False Negatives: 101\n",
      "    Precision: 0.9851\n",
      "    Recall: 0.9770\n"
     ]
    },
    {
     "name": "stderr",
     "output_type": "stream",
     "text": [
      "Epoch 24/50 Training: 100%|█████████████████████████████████████████████████████████████████████████████████████████████████████████████████| 681/681 [02:41<00:00,  4.22it/s]\n"
     ]
    },
    {
     "name": "stdout",
     "output_type": "stream",
     "text": [
      "Epoch 24:\n",
      "  Train Loss = 0.0729, Val Loss = 0.0900\n",
      "  Val Accuracy = 97.08%, F1-Score = 0.9706, Balanced Acc = 0.9458\n",
      "  Class 0 Metrics:\n",
      "    True Positives: 4326\n",
      "    True Negatives: 960\n",
      "    False Positives: 101\n",
      "    False Negatives: 58\n",
      "    Precision: 0.9772\n",
      "    Recall: 0.9868\n"
     ]
    },
    {
     "name": "stderr",
     "output_type": "stream",
     "text": [
      "Epoch 25/50 Training: 100%|█████████████████████████████████████████████████████████████████████████████████████████████████████████████████| 681/681 [02:41<00:00,  4.23it/s]\n"
     ]
    },
    {
     "name": "stdout",
     "output_type": "stream",
     "text": [
      "Epoch 25:\n",
      "  Train Loss = 0.0690, Val Loss = 0.0827\n",
      "  Val Accuracy = 97.21%, F1-Score = 0.9719, Balanced Acc = 0.9491\n",
      "  Class 0 Metrics:\n",
      "    True Positives: 4326\n",
      "    True Negatives: 967\n",
      "    False Positives: 94\n",
      "    False Negatives: 58\n",
      "    Precision: 0.9787\n",
      "    Recall: 0.9868\n"
     ]
    },
    {
     "name": "stderr",
     "output_type": "stream",
     "text": [
      "Epoch 26/50 Training: 100%|█████████████████████████████████████████████████████████████████████████████████████████████████████████████████| 681/681 [02:40<00:00,  4.24it/s]\n"
     ]
    },
    {
     "name": "stdout",
     "output_type": "stream",
     "text": [
      "Epoch 26:\n",
      "  Train Loss = 0.0663, Val Loss = 0.0867\n",
      "  Val Accuracy = 97.19%, F1-Score = 0.9715, Balanced Acc = 0.9411\n",
      "  Class 0 Metrics:\n",
      "    True Positives: 4347\n",
      "    True Negatives: 945\n",
      "    False Positives: 116\n",
      "    False Negatives: 37\n",
      "    Precision: 0.9740\n",
      "    Recall: 0.9916\n"
     ]
    },
    {
     "name": "stderr",
     "output_type": "stream",
     "text": [
      "Epoch 27/50 Training: 100%|█████████████████████████████████████████████████████████████████████████████████████████████████████████████████| 681/681 [02:40<00:00,  4.24it/s]\n"
     ]
    },
    {
     "name": "stdout",
     "output_type": "stream",
     "text": [
      "Epoch 27:\n",
      "  Train Loss = 0.0664, Val Loss = 0.0821\n",
      "  Val Accuracy = 97.21%, F1-Score = 0.9720, Balanced Acc = 0.9509\n",
      "  Class 0 Metrics:\n",
      "    True Positives: 4321\n",
      "    True Negatives: 972\n",
      "    False Positives: 89\n",
      "    False Negatives: 63\n",
      "    Precision: 0.9798\n",
      "    Recall: 0.9856\n"
     ]
    },
    {
     "name": "stderr",
     "output_type": "stream",
     "text": [
      "Epoch 28/50 Training: 100%|█████████████████████████████████████████████████████████████████████████████████████████████████████████████████| 681/681 [02:41<00:00,  4.23it/s]\n"
     ]
    },
    {
     "name": "stdout",
     "output_type": "stream",
     "text": [
      "Epoch 28:\n",
      "  Train Loss = 0.0628, Val Loss = 0.0804\n",
      "  Val Accuracy = 97.39%, F1-Score = 0.9738, Balanced Acc = 0.9549\n",
      "  Class 0 Metrics:\n",
      "    True Positives: 4323\n",
      "    True Negatives: 980\n",
      "    False Positives: 81\n",
      "    False Negatives: 61\n",
      "    Precision: 0.9816\n",
      "    Recall: 0.9861\n"
     ]
    },
    {
     "name": "stderr",
     "output_type": "stream",
     "text": [
      "Epoch 29/50 Training: 100%|█████████████████████████████████████████████████████████████████████████████████████████████████████████████████| 681/681 [02:40<00:00,  4.23it/s]\n"
     ]
    },
    {
     "name": "stdout",
     "output_type": "stream",
     "text": [
      "Epoch 29:\n",
      "  Train Loss = 0.0602, Val Loss = 0.0778\n",
      "  Val Accuracy = 97.34%, F1-Score = 0.9736, Balanced Acc = 0.9652\n",
      "  Class 0 Metrics:\n",
      "    True Positives: 4290\n",
      "    True Negatives: 1010\n",
      "    False Positives: 51\n",
      "    False Negatives: 94\n",
      "    Precision: 0.9883\n",
      "    Recall: 0.9786\n"
     ]
    },
    {
     "name": "stderr",
     "output_type": "stream",
     "text": [
      "Epoch 30/50 Training: 100%|█████████████████████████████████████████████████████████████████████████████████████████████████████████████████| 681/681 [02:40<00:00,  4.24it/s]\n"
     ]
    },
    {
     "name": "stdout",
     "output_type": "stream",
     "text": [
      "Epoch 30:\n",
      "  Train Loss = 0.0570, Val Loss = 0.0787\n",
      "  Val Accuracy = 97.17%, F1-Score = 0.9718, Balanced Acc = 0.9589\n",
      "  Class 0 Metrics:\n",
      "    True Positives: 4296\n",
      "    True Negatives: 995\n",
      "    False Positives: 66\n",
      "    False Negatives: 88\n",
      "    Precision: 0.9849\n",
      "    Recall: 0.9799\n"
     ]
    },
    {
     "name": "stderr",
     "output_type": "stream",
     "text": [
      "Epoch 31/50 Training: 100%|█████████████████████████████████████████████████████████████████████████████████████████████████████████████████| 681/681 [02:40<00:00,  4.24it/s]\n"
     ]
    },
    {
     "name": "stdout",
     "output_type": "stream",
     "text": [
      "Epoch 31:\n",
      "  Train Loss = 0.0554, Val Loss = 0.0796\n",
      "  Val Accuracy = 97.30%, F1-Score = 0.9727, Balanced Acc = 0.9472\n",
      "  Class 0 Metrics:\n",
      "    True Positives: 4338\n",
      "    True Negatives: 960\n",
      "    False Positives: 101\n",
      "    False Negatives: 46\n",
      "    Precision: 0.9772\n",
      "    Recall: 0.9895\n"
     ]
    },
    {
     "name": "stderr",
     "output_type": "stream",
     "text": [
      "Epoch 32/50 Training: 100%|█████████████████████████████████████████████████████████████████████████████████████████████████████████████████| 681/681 [02:40<00:00,  4.25it/s]\n"
     ]
    },
    {
     "name": "stdout",
     "output_type": "stream",
     "text": [
      "Epoch 32:\n",
      "  Train Loss = 0.0522, Val Loss = 0.0728\n",
      "  Val Accuracy = 97.69%, F1-Score = 0.9768, Balanced Acc = 0.9610\n",
      "  Class 0 Metrics:\n",
      "    True Positives: 4327\n",
      "    True Negatives: 992\n",
      "    False Positives: 69\n",
      "    False Negatives: 57\n",
      "    Precision: 0.9843\n",
      "    Recall: 0.9870\n"
     ]
    },
    {
     "name": "stderr",
     "output_type": "stream",
     "text": [
      "Epoch 33/50 Training: 100%|█████████████████████████████████████████████████████████████████████████████████████████████████████████████████| 681/681 [02:40<00:00,  4.24it/s]\n"
     ]
    },
    {
     "name": "stdout",
     "output_type": "stream",
     "text": [
      "Epoch 33:\n",
      "  Train Loss = 0.0515, Val Loss = 0.0786\n",
      "  Val Accuracy = 97.37%, F1-Score = 0.9739, Balanced Acc = 0.9662\n",
      "  Class 0 Metrics:\n",
      "    True Positives: 4290\n",
      "    True Negatives: 1012\n",
      "    False Positives: 49\n",
      "    False Negatives: 94\n",
      "    Precision: 0.9887\n",
      "    Recall: 0.9786\n"
     ]
    },
    {
     "name": "stderr",
     "output_type": "stream",
     "text": [
      "Epoch 34/50 Training: 100%|█████████████████████████████████████████████████████████████████████████████████████████████████████████████████| 681/681 [02:40<00:00,  4.24it/s]\n"
     ]
    },
    {
     "name": "stdout",
     "output_type": "stream",
     "text": [
      "Epoch 34:\n",
      "  Train Loss = 0.0471, Val Loss = 0.0739\n",
      "  Val Accuracy = 97.63%, F1-Score = 0.9763, Balanced Acc = 0.9621\n",
      "  Class 0 Metrics:\n",
      "    True Positives: 4320\n",
      "    True Negatives: 996\n",
      "    False Positives: 65\n",
      "    False Negatives: 64\n",
      "    Precision: 0.9852\n",
      "    Recall: 0.9854\n"
     ]
    },
    {
     "name": "stderr",
     "output_type": "stream",
     "text": [
      "Epoch 35/50 Training: 100%|█████████████████████████████████████████████████████████████████████████████████████████████████████████████████| 681/681 [02:40<00:00,  4.25it/s]\n"
     ]
    },
    {
     "name": "stdout",
     "output_type": "stream",
     "text": [
      "Epoch 35:\n",
      "  Train Loss = 0.0459, Val Loss = 0.0752\n",
      "  Val Accuracy = 97.67%, F1-Score = 0.9764, Balanced Acc = 0.9534\n",
      "  Class 0 Metrics:\n",
      "    True Positives: 4347\n",
      "    True Negatives: 971\n",
      "    False Positives: 90\n",
      "    False Negatives: 37\n",
      "    Precision: 0.9797\n",
      "    Recall: 0.9916\n"
     ]
    },
    {
     "name": "stderr",
     "output_type": "stream",
     "text": [
      "Epoch 36/50 Training: 100%|█████████████████████████████████████████████████████████████████████████████████████████████████████████████████| 681/681 [02:40<00:00,  4.25it/s]\n"
     ]
    },
    {
     "name": "stdout",
     "output_type": "stream",
     "text": [
      "Epoch 36:\n",
      "  Train Loss = 0.0427, Val Loss = 0.0707\n",
      "  Val Accuracy = 97.74%, F1-Score = 0.9774, Balanced Acc = 0.9631\n",
      "  Class 0 Metrics:\n",
      "    True Positives: 4325\n",
      "    True Negatives: 997\n",
      "    False Positives: 64\n",
      "    False Negatives: 59\n",
      "    Precision: 0.9854\n",
      "    Recall: 0.9865\n"
     ]
    },
    {
     "name": "stderr",
     "output_type": "stream",
     "text": [
      "Epoch 37/50 Training: 100%|█████████████████████████████████████████████████████████████████████████████████████████████████████████████████| 681/681 [02:40<00:00,  4.25it/s]\n"
     ]
    },
    {
     "name": "stdout",
     "output_type": "stream",
     "text": [
      "Epoch 37:\n",
      "  Train Loss = 0.0403, Val Loss = 0.0705\n",
      "  Val Accuracy = 97.70%, F1-Score = 0.9770, Balanced Acc = 0.9607\n",
      "  Class 0 Metrics:\n",
      "    True Positives: 4329\n",
      "    True Negatives: 991\n",
      "    False Positives: 70\n",
      "    False Negatives: 55\n",
      "    Precision: 0.9841\n",
      "    Recall: 0.9875\n"
     ]
    },
    {
     "name": "stderr",
     "output_type": "stream",
     "text": [
      "Epoch 38/50 Training: 100%|█████████████████████████████████████████████████████████████████████████████████████████████████████████████████| 681/681 [02:40<00:00,  4.23it/s]\n"
     ]
    },
    {
     "name": "stdout",
     "output_type": "stream",
     "text": [
      "Epoch 38:\n",
      "  Train Loss = 0.0388, Val Loss = 0.0799\n",
      "  Val Accuracy = 97.61%, F1-Score = 0.9759, Balanced Acc = 0.9541\n",
      "  Class 0 Metrics:\n",
      "    True Positives: 4341\n",
      "    True Negatives: 974\n",
      "    False Positives: 87\n",
      "    False Negatives: 43\n",
      "    Precision: 0.9804\n",
      "    Recall: 0.9902\n"
     ]
    },
    {
     "name": "stderr",
     "output_type": "stream",
     "text": [
      "Epoch 39/50 Training: 100%|█████████████████████████████████████████████████████████████████████████████████████████████████████████████████| 681/681 [02:40<00:00,  4.24it/s]\n"
     ]
    },
    {
     "name": "stdout",
     "output_type": "stream",
     "text": [
      "Epoch 39:\n",
      "  Train Loss = 0.0367, Val Loss = 0.0791\n",
      "  Val Accuracy = 97.74%, F1-Score = 0.9773, Balanced Acc = 0.9599\n",
      "  Class 0 Metrics:\n",
      "    True Positives: 4334\n",
      "    True Negatives: 988\n",
      "    False Positives: 73\n",
      "    False Negatives: 50\n",
      "    Precision: 0.9834\n",
      "    Recall: 0.9886\n"
     ]
    },
    {
     "name": "stderr",
     "output_type": "stream",
     "text": [
      "Epoch 40/50 Training: 100%|█████████████████████████████████████████████████████████████████████████████████████████████████████████████████| 681/681 [02:40<00:00,  4.25it/s]\n"
     ]
    },
    {
     "name": "stdout",
     "output_type": "stream",
     "text": [
      "Epoch 40:\n",
      "  Train Loss = 0.0348, Val Loss = 0.0769\n",
      "  Val Accuracy = 97.78%, F1-Score = 0.9777, Balanced Acc = 0.9619\n",
      "  Class 0 Metrics:\n",
      "    True Positives: 4331\n",
      "    True Negatives: 993\n",
      "    False Positives: 68\n",
      "    False Negatives: 53\n",
      "    Precision: 0.9845\n",
      "    Recall: 0.9879\n"
     ]
    },
    {
     "name": "stderr",
     "output_type": "stream",
     "text": [
      "Epoch 41/50 Training: 100%|█████████████████████████████████████████████████████████████████████████████████████████████████████████████████| 681/681 [02:40<00:00,  4.25it/s]\n"
     ]
    },
    {
     "name": "stdout",
     "output_type": "stream",
     "text": [
      "Epoch 41:\n",
      "  Train Loss = 0.0329, Val Loss = 0.0797\n",
      "  Val Accuracy = 97.74%, F1-Score = 0.9772, Balanced Acc = 0.9556\n",
      "  Class 0 Metrics:\n",
      "    True Positives: 4346\n",
      "    True Negatives: 976\n",
      "    False Positives: 85\n",
      "    False Negatives: 38\n",
      "    Precision: 0.9808\n",
      "    Recall: 0.9913\n"
     ]
    },
    {
     "name": "stderr",
     "output_type": "stream",
     "text": [
      "Epoch 42/50 Training: 100%|█████████████████████████████████████████████████████████████████████████████████████████████████████████████████| 681/681 [02:40<00:00,  4.25it/s]\n"
     ]
    },
    {
     "name": "stdout",
     "output_type": "stream",
     "text": [
      "Epoch 42:\n",
      "  Train Loss = 0.0308, Val Loss = 0.0809\n",
      "  Val Accuracy = 97.67%, F1-Score = 0.9765, Balanced Acc = 0.9544\n",
      "  Class 0 Metrics:\n",
      "    True Positives: 4344\n",
      "    True Negatives: 974\n",
      "    False Positives: 87\n",
      "    False Negatives: 40\n",
      "    Precision: 0.9804\n",
      "    Recall: 0.9909\n"
     ]
    },
    {
     "name": "stderr",
     "output_type": "stream",
     "text": [
      "Epoch 43/50 Training: 100%|█████████████████████████████████████████████████████████████████████████████████████████████████████████████████| 681/681 [02:40<00:00,  4.25it/s]\n"
     ]
    },
    {
     "name": "stdout",
     "output_type": "stream",
     "text": [
      "Epoch 43:\n",
      "  Train Loss = 0.0296, Val Loss = 0.0771\n",
      "  Val Accuracy = 97.87%, F1-Score = 0.9786, Balanced Acc = 0.9625\n",
      "  Class 0 Metrics:\n",
      "    True Positives: 4336\n",
      "    True Negatives: 993\n",
      "    False Positives: 68\n",
      "    False Negatives: 48\n",
      "    Precision: 0.9846\n",
      "    Recall: 0.9891\n"
     ]
    },
    {
     "name": "stderr",
     "output_type": "stream",
     "text": [
      "Epoch 44/50 Training: 100%|█████████████████████████████████████████████████████████████████████████████████████████████████████████████████| 681/681 [02:40<00:00,  4.25it/s]\n"
     ]
    },
    {
     "name": "stdout",
     "output_type": "stream",
     "text": [
      "Epoch 44:\n",
      "  Train Loss = 0.0280, Val Loss = 0.0832\n",
      "  Val Accuracy = 97.76%, F1-Score = 0.9775, Balanced Acc = 0.9611\n",
      "  Class 0 Metrics:\n",
      "    True Positives: 4332\n",
      "    True Negatives: 991\n",
      "    False Positives: 70\n",
      "    False Negatives: 52\n",
      "    Precision: 0.9841\n",
      "    Recall: 0.9881\n"
     ]
    },
    {
     "name": "stderr",
     "output_type": "stream",
     "text": [
      "Epoch 45/50 Training: 100%|█████████████████████████████████████████████████████████████████████████████████████████████████████████████████| 681/681 [02:40<00:00,  4.25it/s]\n"
     ]
    },
    {
     "name": "stdout",
     "output_type": "stream",
     "text": [
      "Epoch 45:\n",
      "  Train Loss = 0.0277, Val Loss = 0.0806\n",
      "  Val Accuracy = 97.81%, F1-Score = 0.9781, Balanced Acc = 0.9654\n",
      "  Class 0 Metrics:\n",
      "    True Positives: 4324\n",
      "    True Negatives: 1002\n",
      "    False Positives: 59\n",
      "    False Negatives: 60\n",
      "    Precision: 0.9865\n",
      "    Recall: 0.9863\n"
     ]
    },
    {
     "name": "stderr",
     "output_type": "stream",
     "text": [
      "Epoch 46/50 Training: 100%|█████████████████████████████████████████████████████████████████████████████████████████████████████████████████| 681/681 [02:40<00:00,  4.24it/s]\n"
     ]
    },
    {
     "name": "stdout",
     "output_type": "stream",
     "text": [
      "Epoch 46:\n",
      "  Train Loss = 0.0264, Val Loss = 0.0796\n",
      "  Val Accuracy = 97.87%, F1-Score = 0.9787, Balanced Acc = 0.9650\n",
      "  Class 0 Metrics:\n",
      "    True Positives: 4329\n",
      "    True Negatives: 1000\n",
      "    False Positives: 61\n",
      "    False Negatives: 55\n",
      "    Precision: 0.9861\n",
      "    Recall: 0.9875\n"
     ]
    },
    {
     "name": "stderr",
     "output_type": "stream",
     "text": [
      "Epoch 47/50 Training: 100%|█████████████████████████████████████████████████████████████████████████████████████████████████████████████████| 681/681 [02:40<00:00,  4.24it/s]\n"
     ]
    },
    {
     "name": "stdout",
     "output_type": "stream",
     "text": [
      "Epoch 47:\n",
      "  Train Loss = 0.0253, Val Loss = 0.0809\n",
      "  Val Accuracy = 97.85%, F1-Score = 0.9785, Balanced Acc = 0.9634\n",
      "  Class 0 Metrics:\n",
      "    True Positives: 4332\n",
      "    True Negatives: 996\n",
      "    False Positives: 65\n",
      "    False Negatives: 52\n",
      "    Precision: 0.9852\n",
      "    Recall: 0.9881\n"
     ]
    },
    {
     "name": "stderr",
     "output_type": "stream",
     "text": [
      "Epoch 48/50 Training: 100%|█████████████████████████████████████████████████████████████████████████████████████████████████████████████████| 681/681 [02:40<00:00,  4.25it/s]\n"
     ]
    },
    {
     "name": "stdout",
     "output_type": "stream",
     "text": [
      "Epoch 48:\n",
      "  Train Loss = 0.0247, Val Loss = 0.0807\n",
      "  Val Accuracy = 97.85%, F1-Score = 0.9785, Balanced Acc = 0.9649\n",
      "  Class 0 Metrics:\n",
      "    True Positives: 4328\n",
      "    True Negatives: 1000\n",
      "    False Positives: 61\n",
      "    False Negatives: 56\n",
      "    Precision: 0.9861\n",
      "    Recall: 0.9872\n"
     ]
    },
    {
     "name": "stderr",
     "output_type": "stream",
     "text": [
      "Epoch 49/50 Training: 100%|█████████████████████████████████████████████████████████████████████████████████████████████████████████████████| 681/681 [02:40<00:00,  4.24it/s]\n"
     ]
    },
    {
     "name": "stdout",
     "output_type": "stream",
     "text": [
      "Epoch 49:\n",
      "  Train Loss = 0.0244, Val Loss = 0.0808\n",
      "  Val Accuracy = 97.89%, F1-Score = 0.9789, Balanced Acc = 0.9651\n",
      "  Class 0 Metrics:\n",
      "    True Positives: 4330\n",
      "    True Negatives: 1000\n",
      "    False Positives: 61\n",
      "    False Negatives: 54\n",
      "    Precision: 0.9861\n",
      "    Recall: 0.9877\n"
     ]
    },
    {
     "name": "stderr",
     "output_type": "stream",
     "text": [
      "Epoch 50/50 Training: 100%|█████████████████████████████████████████████████████████████████████████████████████████████████████████████████| 681/681 [02:40<00:00,  4.24it/s]\n"
     ]
    },
    {
     "name": "stdout",
     "output_type": "stream",
     "text": [
      "Epoch 50:\n",
      "  Train Loss = 0.0241, Val Loss = 0.0809\n",
      "  Val Accuracy = 97.89%, F1-Score = 0.9789, Balanced Acc = 0.9651\n",
      "  Class 0 Metrics:\n",
      "    True Positives: 4330\n",
      "    True Negatives: 1000\n",
      "    False Positives: 61\n",
      "    False Negatives: 54\n",
      "    Precision: 0.9861\n",
      "    Recall: 0.9877\n"
     ]
    },
    {
     "ename": "ValueError",
     "evalue": "too many values to unpack (expected 4)",
     "output_type": "error",
     "traceback": [
      "\u001b[0;31m---------------------------------------------------------------------------\u001b[0m",
      "\u001b[0;31mValueError\u001b[0m                                Traceback (most recent call last)",
      "Cell \u001b[0;32mIn[5], line 46\u001b[0m\n\u001b[1;32m     43\u001b[0m model \u001b[38;5;241m=\u001b[39m model\u001b[38;5;241m.\u001b[39mto(device)\n\u001b[1;32m     45\u001b[0m \u001b[38;5;66;03m# Train model\u001b[39;00m\n\u001b[0;32m---> 46\u001b[0m train_losses, val_accuracies, val_preds, val_true \u001b[38;5;241m=\u001b[39m train_model(\n\u001b[1;32m     47\u001b[0m     model, train_loader, val_loader, device\n\u001b[1;32m     48\u001b[0m )\n",
      "\u001b[0;31mValueError\u001b[0m: too many values to unpack (expected 4)"
     ]
    }
   ],
   "source": [
    "# Set random seed for reproducibility\n",
    "torch.manual_seed(42)\n",
    "DEVICE = \"cuda:7\"\n",
    "# Device configuration\n",
    "device = torch.device(DEVICE if torch.cuda.is_available() else 'cpu')\n",
    "print(f\"Using device: {device}\")\n",
    "classes = [0, 1]\n",
    "mean, std = compute_normalization_stats('dataset/brightfield_particles.hdf5', classes=classes)\n",
    "# Load and split dataset\n",
    "dataset = ParticleDataset(h5_path='dataset/brightfield_particles.hdf5',\n",
    "                          classes=classes,\n",
    "                          mean=mean,\n",
    "                          std=std\n",
    "                         )\n",
    "train_size = int(0.8 * len(dataset))\n",
    "val_size = len(dataset) - train_size\n",
    "train_dataset, val_dataset = torch.utils.data.random_split(\n",
    "    dataset, [train_size, val_size]\n",
    ")\n",
    "_,c=np.unique(dataset.labels[train_dataset.indices],return_counts=True)\n",
    "print(c[1]/(c[0]+c[1]))\n",
    "_,c=np.unique(dataset.labels[val_dataset.indices],return_counts=True)\n",
    "print(c[1]/(c[0]+c[1]))\n",
    "# Create data loaders\n",
    "train_loader = DataLoader(\n",
    "    train_dataset, \n",
    "    batch_size=32,\n",
    "    shuffle=True,\n",
    "    num_workers=6,\n",
    "    pin_memory=True\n",
    ")\n",
    "\n",
    "val_loader = DataLoader(\n",
    "    val_dataset,\n",
    "    batch_size=32,\n",
    "    shuffle=False,\n",
    "    num_workers=6,\n",
    "    pin_memory=True\n",
    ")\n",
    "\n",
    "# Initialize model\n",
    "model = ModifiedViT(num_classes=len(classes))\n",
    "model = model.to(device)\n",
    "\n",
    "# Train model\n",
    "train_losses, val_accuracies, val_preds, val_true = train_model(\n",
    "    model, train_loader, val_loader, device\n",
    ")\n"
   ]
  },
  {
   "cell_type": "code",
   "execution_count": 6,
   "id": "8e8fd466-a9f6-461f-8520-680b2df9ef94",
   "metadata": {},
   "outputs": [
    {
     "ename": "NameError",
     "evalue": "name 'train_losses' is not defined",
     "output_type": "error",
     "traceback": [
      "\u001b[0;31m---------------------------------------------------------------------------\u001b[0m",
      "\u001b[0;31mNameError\u001b[0m                                 Traceback (most recent call last)",
      "Cell \u001b[0;32mIn[6], line 1\u001b[0m\n\u001b[0;32m----> 1\u001b[0m train_losses, val_accuracies, val_preds, val_true\n",
      "\u001b[0;31mNameError\u001b[0m: name 'train_losses' is not defined"
     ]
    }
   ],
   "source": [
    "train_losses, val_accuracies, val_preds, val_true"
   ]
  },
  {
   "cell_type": "code",
   "execution_count": null,
   "id": "bd493701-4eab-4800-a4c4-35911da61ef2",
   "metadata": {},
   "outputs": [],
   "source": [
    "# Plot results\n",
    "plot_training_results(train_losses, val_accuracies, val_preds, val_true)\n",
    "\n",
    "# Close HDF5 file\n",
    "dataset.close()"
   ]
  },
  {
   "cell_type": "code",
   "execution_count": null,
   "id": "d2df6bd1-2bba-449c-8968-77d7136e0bf1",
   "metadata": {},
   "outputs": [],
   "source": [
    "dataset = ParticleDataset('dataset/brightfield_particles.hdf5')"
   ]
  },
  {
   "cell_type": "code",
   "execution_count": null,
   "id": "44b83901-db74-4e9e-bd36-464ba6c04b75",
   "metadata": {},
   "outputs": [],
   "source": [
    "from torchvision.transforms import Resize\n",
    "import torch\n",
    "import matplotlib.pyplot as plt\n",
    "with h5py.File('dataset/brightfield_particles.hdf5', 'r') as f:\n",
    "    particle_1 = f['data'][f['labels'][:]==0,:][4]\n",
    "    particle_2 = f['data'][f['labels'][:]==1,:][20]\n",
    "img = torch.Tensor(particle_1)\n",
    "print(img.shape)\n",
    "img = Resize((16,192))(img.unsqueeze(0))\n",
    "img = img.squeeze(0)\n",
    "fig, ax = plt.subplots(1, 1, figsize=(30, 5), dpi=300) \n",
    "plt.axis('off')\n",
    "plt.imshow(img,cmap='gray')\n",
    "plt.show()"
   ]
  },
  {
   "cell_type": "code",
   "execution_count": null,
   "id": "c274daeb-3f3b-40e6-8307-c5eaf209aede",
   "metadata": {},
   "outputs": [],
   "source": [
    "img = torch.Tensor(particle_2)\n",
    "img = Resize((16,192))(img.unsqueeze(0))\n",
    "img = img.squeeze(0)\n",
    "fig, ax = plt.subplots(1, 1, figsize=(30, 5), dpi=300) \n",
    "plt.imshow(img, cmap='gray')\n",
    "plt.axis('off')\n",
    "plt.show()"
   ]
  }
 ],
 "metadata": {
  "kernelspec": {
   "display_name": "iscat",
   "language": "python",
   "name": "iscat"
  },
  "language_info": {
   "codemirror_mode": {
    "name": "ipython",
    "version": 3
   },
   "file_extension": ".py",
   "mimetype": "text/x-python",
   "name": "python",
   "nbconvert_exporter": "python",
   "pygments_lexer": "ipython3",
   "version": "3.11.11"
  }
 },
 "nbformat": 4,
 "nbformat_minor": 5
}
