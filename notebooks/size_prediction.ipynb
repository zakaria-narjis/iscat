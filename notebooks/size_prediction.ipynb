{
 "cells": [
  {
   "cell_type": "code",
   "execution_count": 1,
   "id": "304c408e-95ce-4060-b991-b680dbc05be3",
   "metadata": {},
   "outputs": [
    {
     "name": "stdout",
     "output_type": "stream",
     "text": [
      "Current Directory: /workspace/iscat\n"
     ]
    }
   ],
   "source": [
    "import os\n",
    "os.chdir(\"..\")\n",
    "print(\"Current Directory:\", os.getcwd())"
   ]
  },
  {
   "cell_type": "code",
   "execution_count": 2,
   "id": "393fd44e-e38b-48b8-8d3a-f5c2ce4b18e6",
   "metadata": {},
   "outputs": [
    {
     "name": "stdout",
     "output_type": "stream",
     "text": [
      "(41350, 16, 201)\n",
      "(array([0, 1, 2, 3]), array([32462,  8659,    60,   169]))\n"
     ]
    }
   ],
   "source": [
    "import h5py\n",
    "import numpy as np\n",
    "particle_data_path ='dataset/brightfield_particles.hdf5'\n",
    "with h5py.File(particle_data_path , 'r') as f:\n",
    "    print(f['data'].shape)\n",
    "    print(np.unique(f['labels'],return_counts=True))"
   ]
  },
  {
   "cell_type": "code",
   "execution_count": 3,
   "id": "2ca1abc1-24c3-49d5-9039-c2086ff68d98",
   "metadata": {},
   "outputs": [],
   "source": [
    "import numpy as np\n",
    "import matplotlib.pyplot as plt\n",
    "from matplotlib import rcParams\n",
    "\n",
    "# Use DejaVu Serif as an alternative to Times New Roman\n",
    "rcParams['font.family'] = 'DejaVu Serif'\n",
    "rcParams['font.size'] = 12\n",
    "rcParams['axes.titlesize'] = 14\n",
    "rcParams['axes.labelsize'] = 12\n",
    "rcParams['xtick.labelsize'] = 10\n",
    "rcParams['ytick.labelsize'] = 10\n",
    "rcParams['legend.fontsize'] = 10"
   ]
  },
  {
   "cell_type": "code",
   "execution_count": 4,
   "id": "2a691a19-8abd-42e4-b8b7-cfdb6e49d290",
   "metadata": {},
   "outputs": [],
   "source": [
    "import torch\n",
    "import torch.nn as nn\n",
    "import torch.optim as optim\n",
    "from torch.utils.data import Dataset, DataLoader\n",
    "import h5py\n",
    "import numpy as np\n",
    "# from torchvision.models import vit_b_16\n",
    "import matplotlib.pyplot as plt\n",
    "from sklearn.metrics import confusion_matrix\n",
    "from tqdm import tqdm\n",
    "from torchvision.models.vision_transformer import VisionTransformer\n",
    "import torch\n",
    "import torch.nn as nn\n",
    "import torch.optim as optim\n",
    "from torch.utils.data import DataLoader\n",
    "from sklearn.metrics import confusion_matrix, f1_score, balanced_accuracy_score\n",
    "import matplotlib.pyplot as plt\n",
    "\n",
    "def compute_normalization_stats(h5_path, classes=None):\n",
    "    \"\"\"\n",
    "    Compute mean and standard deviation for z-score normalization.\n",
    "    \n",
    "    Args:\n",
    "        h5_path (str): Path to HDF5 file\n",
    "        classes (list, optional): List of classes to include in computation\n",
    "        \n",
    "    Returns:\n",
    "        tuple: (mean, std) computed across all data points\n",
    "    \"\"\"\n",
    "    with h5py.File(h5_path, 'r') as h5_file:\n",
    "        data = h5_file['data'][:]\n",
    "        labels = h5_file['labels'][:]\n",
    "        \n",
    "        if classes is not None:\n",
    "            # Filter data for selected classes\n",
    "            mask = np.isin(labels, classes)\n",
    "            data = data[mask]\n",
    "        \n",
    "        # Compute statistics across all dimensions\n",
    "        mean = np.mean(data)\n",
    "        std = np.std(data)\n",
    "        \n",
    "        print(f\"Computed statistics: mean = {mean:.4f}, std = {std:.4f}\")\n",
    "        \n",
    "        return mean, std\n",
    "        \n",
    "class ParticleDataset(Dataset):\n",
    "    \"\"\"Custom Dataset for particle data with flexible class selection and normalization.\"\"\"\n",
    "    def __init__(self, h5_path, classes=[0, 1], transform=None, mean=None, std=None,padding=False):\n",
    "        self.h5_file = h5py.File(h5_path, 'r')\n",
    "        data = self.h5_file['data'][:]\n",
    "        labels = self.h5_file['labels'][:]\n",
    "        self.padding = padding\n",
    "        # Filter data for selected classes\n",
    "        mask = np.isin(labels, classes)\n",
    "        self.data = data[mask]\n",
    "        self.labels = labels[mask]\n",
    "        \n",
    "        # Create class mapping to handle non-consecutive class indices\n",
    "        self.class_to_idx = {c: i for i, c in enumerate(classes)}\n",
    "        self.num_classes = len(classes)\n",
    "        \n",
    "        # Map original labels to new consecutive indices\n",
    "        self.labels = np.array([self.class_to_idx[label] for label in self.labels])\n",
    "        \n",
    "        self.transform = transform\n",
    "        self.mean = mean\n",
    "        self.std = std\n",
    "        \n",
    "    def __len__(self):\n",
    "        return len(self.labels)\n",
    "    \n",
    "    # def __getitem__(self, idx):\n",
    "    #     # Get particle data\n",
    "    #     particle = self.data[idx]  # Shape: (16, 201)\n",
    "        \n",
    "    #     # Apply normalization if mean and std are provided\n",
    "    #     if self.mean is not None and self.std is not None:\n",
    "    #         particle = (particle - self.mean) / self.std\n",
    "        \n",
    "    #     # First resize to (16, 192) using cubic interpolation\n",
    "    #     # Convert to torch tensor for better interpolation\n",
    "    #     particle_tensor = torch.FloatTensor(particle).unsqueeze(0)  # Add channel dim\n",
    "    #     resized = torch.nn.functional.interpolate(\n",
    "    #         particle_tensor.unsqueeze(0),  # Add batch dim\n",
    "    #         size=(16, 192),\n",
    "    #         mode='bicubic',\n",
    "    #         align_corners=True\n",
    "    #     ).squeeze(0).squeeze(0)  # Remove batch and channel dims\n",
    "    #     if self.padding:\n",
    "    #         # Create square tensor with symmetric padding\n",
    "    #         target_size = 224\n",
    "    #         current_height = resized.shape[0]\n",
    "    #         current_width = resized.shape[1]\n",
    "        \n",
    "    #         # Calculate padding for height and width\n",
    "    #         padding_height = target_size - current_height\n",
    "    #         padding_width = target_size - current_width\n",
    "        \n",
    "    #         # Calculate symmetric padding for height\n",
    "    #         padding_top = padding_height // 2\n",
    "    #         padding_bottom = padding_height - padding_top\n",
    "        \n",
    "    #         # Calculate symmetric padding for width\n",
    "    #         padding_left = padding_width // 2\n",
    "    #         padding_right = padding_width - padding_left\n",
    "        \n",
    "    #         # Use torch's pad function for symmetric padding\n",
    "    #         padded = torch.nn.functional.pad(\n",
    "    #             resized,\n",
    "    #             (padding_left, padding_right,  # Padding in width dimension\n",
    "    #              padding_top, padding_bottom),  # Padding in height dimension\n",
    "    #             mode='constant',\n",
    "    #             value=0\n",
    "    #         )\n",
    "    #         # Add single channel dimension\n",
    "    #         final_tensor = padded.unsqueeze(0)\n",
    "    #     else:\n",
    "    #         final_tensor = resized.unsqueeze(0)\n",
    "    #     final_tensor = final_tensor.repeat(3, 1, 1)\n",
    "    #     if self.transform:\n",
    "    #         final_tensor = self.transform(final_tensor)\n",
    "        \n",
    "    #     # Create one-hot encoded label\n",
    "    #     label_idx = self.labels[idx]\n",
    "    #     label_onehot = torch.zeros(self.num_classes)\n",
    "    #     label_onehot[label_idx] = 1\n",
    "        \n",
    "    #     return final_tensor, label_onehot\n",
    "    def __getitem__(self, idx):\n",
    "        # Get particle data\n",
    "        particle = self.data[idx]  # Shape: (16, 201)\n",
    "        \n",
    "        # Apply normalization if mean and std are provided\n",
    "        if self.mean is not None and self.std is not None:\n",
    "            particle = (particle - self.mean) / self.std\n",
    "        \n",
    "        # Convert to torch tensor for better interpolation\n",
    "        particle_tensor = torch.FloatTensor(particle).unsqueeze(0)  # Add channel dim\n",
    "        \n",
    "        # Resize to (16, 16) using bicubic interpolation\n",
    "        resized = torch.nn.functional.interpolate(\n",
    "            particle_tensor.unsqueeze(0),  # Add batch dim\n",
    "            size=(16, 16),\n",
    "            mode='bicubic',\n",
    "            align_corners=True\n",
    "        ).squeeze(0).squeeze(0)  # Remove batch and channel dims\n",
    "        \n",
    "        final_tensor = resized.unsqueeze(0).repeat(3, 1, 1)  # Repeat across 3 channels\n",
    "        \n",
    "        if self.transform:\n",
    "            final_tensor = self.transform(final_tensor)\n",
    "        \n",
    "        # Create one-hot encoded label\n",
    "        label_idx = self.labels[idx]\n",
    "        label_onehot = torch.zeros(self.num_classes)\n",
    "        label_onehot[label_idx] = 1\n",
    "        \n",
    "        return final_tensor, label_onehot\n",
    "\n",
    "    def close(self):\n",
    "        self.h5_file.close()\n",
    "        \n",
    "class ModifiedViT(nn.Module):\n",
    "    def __init__(self, num_classes=2,patch_size=16,num_layers=12,num_heads=12,hidden_dim =768,mlp_dim=3072):\n",
    "        super().__init__()\n",
    "        # Load pretrained ViT\n",
    "        self.vit = VisionTransformer(image_size=192,\n",
    "        patch_size=16,\n",
    "        num_classes = num_classes,\n",
    "        num_layers=12,\n",
    "        num_heads=12,\n",
    "        hidden_dim=768,\n",
    "        mlp_dim=3072,\n",
    "    )\n",
    "        \n",
    "        self.vit.conv_proj = nn.Conv2d(\n",
    "                    in_channels=1, out_channels=hidden_dim, kernel_size=patch_size, stride=patch_size\n",
    "                ) \n",
    "    def forward(self, x):\n",
    "        return self.vit(x)\n",
    "        \n",
    "def train_model(model, train_loader, val_loader, device, num_epochs=50, weights=None, patience=20):\n",
    "    criterion = nn.CrossEntropyLoss(weight=torch.Tensor(weights).to(device)) if weights is not None else nn.CrossEntropyLoss()\n",
    "    optimizer = optim.AdamW(model.parameters(), lr=1e-4, weight_decay=0.05)\n",
    "    scheduler = optim.lr_scheduler.CosineAnnealingLR(optimizer, T_max=num_epochs)\n",
    "    \n",
    "    best_val_acc = 0.0\n",
    "    best_val_loss = float('inf')\n",
    "    train_losses = []\n",
    "    val_losses = []\n",
    "    val_accuracies = []\n",
    "    val_f1_scores = []\n",
    "    val_bal_accs = []\n",
    "    \n",
    "    early_stopping_counter = 0\n",
    "    \n",
    "    for epoch in range(num_epochs):\n",
    "        # Training Phase\n",
    "        model.train()\n",
    "        total_train_loss = 0\n",
    "        \n",
    "        for inputs, labels in tqdm(train_loader, desc=f'Epoch {epoch+1}/{num_epochs} Training'):\n",
    "            inputs, labels = inputs.to(device), labels.to(device)\n",
    "            optimizer.zero_grad()\n",
    "            outputs = model(inputs)\n",
    "            loss = criterion(outputs, labels)\n",
    "            loss.backward()\n",
    "            optimizer.step()\n",
    "            total_train_loss += loss.item()\n",
    "        \n",
    "        avg_train_loss = total_train_loss / len(train_loader)\n",
    "        train_losses.append(avg_train_loss)\n",
    "        \n",
    "        # Validation Phase\n",
    "        model.eval()\n",
    "        val_preds = []\n",
    "        val_true = []\n",
    "        total_val_loss = 0\n",
    "        \n",
    "        with torch.no_grad():\n",
    "            for inputs, labels in val_loader:\n",
    "                inputs, labels = inputs.to(device), labels.to(device)\n",
    "                outputs = model(inputs)\n",
    "                val_loss = criterion(outputs, labels)\n",
    "                total_val_loss += val_loss.item()\n",
    "                \n",
    "                predicted = torch.argmax(outputs, 1)\n",
    "                labels = torch.argmax(labels, 1)\n",
    "                val_preds.extend(predicted.cpu().numpy())\n",
    "                val_true.extend(labels.cpu().numpy())\n",
    "        \n",
    "        avg_val_loss = total_val_loss / len(val_loader)\n",
    "        val_losses.append(avg_val_loss)\n",
    "        \n",
    "        # Calculate metrics\n",
    "        val_acc = 100 * (sum([p == t for p, t in zip(val_preds, val_true)]) / len(val_true))\n",
    "        f1 = f1_score(val_true, val_preds, average='weighted')\n",
    "        bal_acc = balanced_accuracy_score(val_true, val_preds)\n",
    "        \n",
    "        # Confusion matrix metrics for class 0\n",
    "        tp = sum((np.array(val_preds) == 0) & (np.array(val_true) == 0))\n",
    "        tn = sum((np.array(val_preds) == 1) & (np.array(val_true) == 1))\n",
    "        fp = sum((np.array(val_preds) == 0) & (np.array(val_true) == 1))\n",
    "        fn = sum((np.array(val_preds) == 1) & (np.array(val_true) == 0))\n",
    "        \n",
    "        val_accuracies.append(val_acc)\n",
    "        val_f1_scores.append(f1)\n",
    "        val_bal_accs.append(bal_acc)\n",
    "        \n",
    "        # Print epoch details\n",
    "        print(f'Epoch {epoch+1}:')\n",
    "        print(f'  Train Loss = {avg_train_loss:.4f}, Val Loss = {avg_val_loss:.4f}')\n",
    "        print(f'  Val Accuracy = {val_acc:.2f}%, F1-Score = {f1:.4f}, Balanced Acc = {bal_acc:.4f}')\n",
    "        print(f'  Class 0 Metrics:')\n",
    "        print(f'    True Positives: {tp}')\n",
    "        print(f'    True Negatives: {tn}')\n",
    "        print(f'    False Positives: {fp}')\n",
    "        print(f'    False Negatives: {fn}')\n",
    "        print(f'    Precision: {tp/(tp+fp) if (tp+fp) > 0 else 0:.4f}')\n",
    "        print(f'    Recall: {tp/(tp+fn) if (tp+fn) > 0 else 0:.4f}')\n",
    "        \n",
    "        # Early Stopping and Model Saving\n",
    "        if val_acc > best_val_acc:\n",
    "            best_val_acc = val_acc\n",
    "            early_stopping_counter = 0\n",
    "            torch.save(model.state_dict(), 'best_particle_vit.pth')\n",
    "        \n",
    "        # Check for improvement in validation loss\n",
    "        if avg_val_loss < best_val_loss:\n",
    "            best_val_loss = avg_val_loss\n",
    "            early_stopping_counter = 0\n",
    "        else:\n",
    "            early_stopping_counter += 1\n",
    "        \n",
    "        # Early stopping\n",
    "        if early_stopping_counter >= patience:\n",
    "            print(f'Early stopping triggered after {epoch+1} epochs')\n",
    "            break\n",
    "        \n",
    "        scheduler.step()\n",
    "    \n",
    "    return (train_losses, val_losses, val_accuracies, \n",
    "            val_f1_scores, val_bal_accs, val_preds, val_true)\n",
    "\n",
    "import matplotlib.pyplot as plt\n",
    "import numpy as np\n",
    "from sklearn.metrics import confusion_matrix\n",
    "\n",
    "def plot_training_results(train_losses, val_accuracies, val_f1_scores, val_bal_accs, val_preds, val_true):\n",
    "    fig, (ax1, ax2, ax3) = plt.subplots(1, 3, figsize=(18, 5))\n",
    "    \n",
    "    # Plot Training Loss\n",
    "    ax1.plot(train_losses, label='Loss', color='blue')\n",
    "    min_loss = min(train_losses)\n",
    "    ax1.axhline(y=min_loss, color='blue', linestyle='dashed')\n",
    "    ax1.text(0, min_loss, f'{min_loss:.4f}', color='blue', verticalalignment='bottom')\n",
    "    ax1.set_title('Training Loss')\n",
    "    ax1.set_xlabel('Epoch')\n",
    "    ax1.set_ylabel('Loss')\n",
    "    ax1.legend()\n",
    "    \n",
    "    # Plot Validation Accuracy\n",
    "    ax2.plot(val_accuracies, label='Accuracy', color='red')\n",
    "    max_acc = max(val_accuracies)\n",
    "    ax2.axhline(y=max_acc, color='red', linestyle='dashed')\n",
    "    ax2.text(0, max_acc, f'{max_acc:.2f}%', color='red', verticalalignment='bottom')\n",
    "    ax2.set_title('Validation Accuracy')\n",
    "    ax2.set_xlabel('Epoch')\n",
    "    ax2.set_ylabel('Accuracy (%)')\n",
    "    ax2.legend()\n",
    "    \n",
    "    # Plot Validation Metrics\n",
    "    ax3.plot(val_f1_scores, label='F1-Score', color='green')\n",
    "    ax3.plot(val_bal_accs, label='Balanced Accuracy', color='orange')\n",
    "    max_f1 = max(val_f1_scores)\n",
    "    max_bal_acc = max(val_bal_accs)\n",
    "    ax3.axhline(y=max_f1, color='green', linestyle='dashed')\n",
    "    ax3.text(0, max_f1, f'{max_f1:.2f}', color='green', verticalalignment='bottom')\n",
    "    ax3.axhline(y=max_bal_acc, color='orange', linestyle='dashed')\n",
    "    ax3.text(0, max_bal_acc, f'{max_bal_acc:.2f}', color='orange', verticalalignment='bottom')\n",
    "    ax3.set_title('Validation Metrics')\n",
    "    ax3.set_xlabel('Epoch')\n",
    "    ax3.legend()\n",
    "    \n",
    "    plt.tight_layout()\n",
    "    plt.savefig('training_plots.pdf', format=\"pdf\", dpi=300)\n",
    "    \n",
    "    # Confusion Matrix\n",
    "    cm = confusion_matrix(val_true, val_preds)\n",
    "    plt.figure(figsize=(8, 6))\n",
    "    plt.imshow(cm, interpolation='nearest', cmap=plt.cm.Blues)\n",
    "    plt.title('Confusion Matrix')\n",
    "    plt.colorbar()\n",
    "    \n",
    "    # Add labels\n",
    "    tick_marks = range(len(cm))\n",
    "    plt.xticks(tick_marks)\n",
    "    plt.yticks(tick_marks)\n",
    "    \n",
    "    # Annotate each cell with the corresponding value\n",
    "    for i in range(len(cm)):\n",
    "        for j in range(len(cm[i])):\n",
    "            plt.text(j, i, str(cm[i, j]), ha='center', va='center', \n",
    "                     color='white' if cm[i, j] > cm.max() / 2 else 'black')\n",
    "    \n",
    "    plt.ylabel('True Label')\n",
    "    plt.xlabel('Predicted Label')\n",
    "    plt.tight_layout()\n",
    "    plt.savefig('confusion_matrix.pdf', format=\"pdf\", dpi=300)\n",
    "    plt.show()"
   ]
  },
  {
   "cell_type": "code",
   "execution_count": 5,
   "id": "72570529-4229-4e7d-a3bb-8e9e577e34eb",
   "metadata": {},
   "outputs": [],
   "source": [
    "import torch\n",
    "import torch.nn as nn\n",
    "import math\n",
    "from typing import Optional, Callable, List, OrderedDict\n",
    "from functools import partial\n",
    "from torchvision.models.vision_transformer import Encoder, ConvStemConfig\n",
    "\n",
    "class ModifiedVisionTransformer(nn.Module):\n",
    "    \"\"\"Modified Vision Transformer to support rectangular images and single-channel inputs.\"\"\"\n",
    "\n",
    "    def __init__(\n",
    "        self,\n",
    "        image_height: int,\n",
    "        image_width: int,\n",
    "        patch_height: int,\n",
    "        patch_width: int,\n",
    "        num_layers: int,\n",
    "        num_heads: int,\n",
    "        hidden_dim: int,\n",
    "        mlp_dim: int,\n",
    "        in_channels: int = 1,  # Support single-channel by default\n",
    "        dropout: float = 0.0,\n",
    "        attention_dropout: float = 0.0,\n",
    "        num_classes: int = 1000,\n",
    "        representation_size: Optional[int] = None,\n",
    "        norm_layer: Callable[..., torch.nn.Module] = partial(nn.LayerNorm, eps=1e-6),\n",
    "        conv_stem_configs: Optional[List[ConvStemConfig]] = None,\n",
    "    ):\n",
    "        super().__init__()\n",
    "        \n",
    "        # Remove square image assertion\n",
    "        self.image_height = image_height\n",
    "        self.image_width = image_width\n",
    "        self.patch_height = patch_height\n",
    "        self.patch_width = patch_width\n",
    "        self.hidden_dim = hidden_dim\n",
    "        self.mlp_dim = mlp_dim\n",
    "        self.attention_dropout = attention_dropout\n",
    "        self.dropout = dropout\n",
    "        self.num_classes = num_classes\n",
    "        self.representation_size = representation_size\n",
    "        self.norm_layer = norm_layer\n",
    "\n",
    "        # Modify conv_proj to handle single channel and rectangular images\n",
    "        if conv_stem_configs is not None:\n",
    "            seq_proj = nn.Sequential()\n",
    "            prev_channels = in_channels\n",
    "            for i, conv_stem_layer_config in enumerate(conv_stem_configs):\n",
    "                seq_proj.add_module(\n",
    "                    f\"conv_bn_relu_{i}\",\n",
    "                    Conv2dNormActivation(\n",
    "                        in_channels=prev_channels,\n",
    "                        out_channels=conv_stem_layer_config.out_channels,\n",
    "                        kernel_size=conv_stem_layer_config.kernel_size,\n",
    "                        stride=conv_stem_layer_config.stride,\n",
    "                        norm_layer=conv_stem_layer_config.norm_layer,\n",
    "                        activation_layer=conv_stem_layer_config.activation_layer,\n",
    "                    ),\n",
    "                )\n",
    "                prev_channels = conv_stem_layer_config.out_channels\n",
    "            seq_proj.add_module(\n",
    "                \"conv_last\", nn.Conv2d(in_channels=prev_channels, out_channels=hidden_dim, kernel_size=1)\n",
    "            )\n",
    "            self.conv_proj: nn.Module = seq_proj\n",
    "        else:\n",
    "            self.conv_proj = nn.Conv2d(\n",
    "                in_channels=in_channels, \n",
    "                out_channels=hidden_dim, \n",
    "                kernel_size=(patch_height, patch_width), \n",
    "                stride=(patch_height, patch_width)\n",
    "            )\n",
    "\n",
    "        # Calculate sequence length for rectangular images\n",
    "        seq_length = (image_height // patch_height) * (image_width // patch_width)\n",
    "\n",
    "        # Add a class token\n",
    "        self.class_token = nn.Parameter(torch.zeros(1, 1, hidden_dim))\n",
    "        seq_length += 1\n",
    "\n",
    "        self.encoder = Encoder(\n",
    "            seq_length,\n",
    "            num_layers,\n",
    "            num_heads,\n",
    "            hidden_dim,\n",
    "            mlp_dim,\n",
    "            dropout,\n",
    "            attention_dropout,\n",
    "            norm_layer,\n",
    "        )\n",
    "        self.seq_length = seq_length\n",
    "\n",
    "        # Rest of the initialization remains the same as the original implementation\n",
    "        heads_layers: OrderedDict[str, nn.Module] = OrderedDict()\n",
    "        if representation_size is None:\n",
    "            heads_layers[\"head\"] = nn.Linear(hidden_dim, num_classes)\n",
    "        else:\n",
    "            heads_layers[\"pre_logits\"] = nn.Linear(hidden_dim, representation_size)\n",
    "            heads_layers[\"act\"] = nn.Tanh()\n",
    "            heads_layers[\"head\"] = nn.Linear(representation_size, num_classes)\n",
    "\n",
    "        self.heads = nn.Sequential(heads_layers)\n",
    "\n",
    "        # Weight initialization (similar to original)\n",
    "        if isinstance(self.conv_proj, nn.Conv2d):\n",
    "            fan_in = self.conv_proj.in_channels * self.conv_proj.kernel_size[0] * self.conv_proj.kernel_size[1]\n",
    "            nn.init.trunc_normal_(self.conv_proj.weight, std=math.sqrt(1 / fan_in))\n",
    "            if self.conv_proj.bias is not None:\n",
    "                nn.init.zeros_(self.conv_proj.bias)\n",
    "\n",
    "        # Other initializations remain the same...\n",
    "\n",
    "    def _process_input(self, x: torch.Tensor) -> torch.Tensor:\n",
    "        n, c, h, w = x.shape\n",
    "        \n",
    "        # Remove assertions for square images\n",
    "        n_h = h // self.patch_height\n",
    "        n_w = w // self.patch_width\n",
    "\n",
    "        # (n, c, h, w) -> (n, hidden_dim, n_h, n_w)\n",
    "        x = self.conv_proj(x)\n",
    "        # (n, hidden_dim, n_h, n_w) -> (n, hidden_dim, (n_h * n_w))\n",
    "        x = x.reshape(n, self.hidden_dim, n_h * n_w)\n",
    "\n",
    "        # Permute to self-attention expected format\n",
    "        x = x.permute(0, 2, 1)\n",
    "\n",
    "        return x\n",
    "    def forward(self, x: torch.Tensor):\n",
    "        # Reshape and permute the input tensor\n",
    "        x = self._process_input(x)\n",
    "        n = x.shape[0]\n",
    "\n",
    "        # Expand the class token to the full batch\n",
    "        batch_class_token = self.class_token.expand(n, -1, -1)\n",
    "        x = torch.cat([batch_class_token, x], dim=1)\n",
    "\n",
    "        x = self.encoder(x)\n",
    "\n",
    "        # Classifier \"token\" as used by standard language architectures\n",
    "        x = x[:, 0]\n",
    "\n",
    "        x = self.heads(x)\n",
    "\n",
    "        return x"
   ]
  },
  {
   "cell_type": "code",
   "execution_count": 6,
   "id": "3c414325-5837-4117-b88c-84a77ea45615",
   "metadata": {},
   "outputs": [
    {
     "name": "stderr",
     "output_type": "stream",
     "text": [
      "Using cache found in /root/.cache/torch/hub/pytorch_vision_v0.10.0\n",
      "/root/miniconda3/envs/iscat/lib/python3.11/site-packages/torchvision/models/_utils.py:208: UserWarning: The parameter 'pretrained' is deprecated since 0.13 and may be removed in the future, please use 'weights' instead.\n",
      "  warnings.warn(\n",
      "/root/miniconda3/envs/iscat/lib/python3.11/site-packages/torchvision/models/_utils.py:223: UserWarning: Arguments other than a weight enum or `None` for 'weights' are deprecated since 0.13 and may be removed in the future. The current behavior is equivalent to passing `weights=None`.\n",
      "  warnings.warn(msg)\n"
     ]
    }
   ],
   "source": [
    "resnet = torch.hub.load('pytorch/vision:v0.10.0', 'resnet18', pretrained=False)\n",
    "\n",
    "# Modify the final fully connected layer (classifier head)\n",
    "resnet .fc = nn.Linear(resnet.fc.in_features, 2)"
   ]
  },
  {
   "cell_type": "code",
   "execution_count": 7,
   "id": "ca7c0ccc-ecbb-4835-9d3b-9e5266dba96e",
   "metadata": {
    "scrolled": true
   },
   "outputs": [
    {
     "name": "stdout",
     "output_type": "stream",
     "text": [
      "Using device: cuda:11\n",
      "Computed statistics: mean = 7537.6143, std = 1312.3260\n",
      "0.2105727140077821\n",
      "0.21057750759878419\n"
     ]
    },
    {
     "name": "stderr",
     "output_type": "stream",
     "text": [
      "Epoch 1/50 Training: 100%|█████████████████████████████████████████████████████████████████████████████████████████████████████████████████| 1028/1028 [00:13<00:00, 74.60it/s]\n"
     ]
    },
    {
     "name": "stdout",
     "output_type": "stream",
     "text": [
      "Epoch 1:\n",
      "  Train Loss = 0.1906, Val Loss = 0.1557\n",
      "  Val Accuracy = 94.54%, F1-Score = 0.9462, Balanced Acc = 0.9326\n",
      "  Class 0 Metrics:\n",
      "    True Positives: 6199\n",
      "    True Negatives: 1577\n",
      "    False Positives: 155\n",
      "    False Negatives: 294\n",
      "    Precision: 0.9756\n",
      "    Recall: 0.9547\n"
     ]
    },
    {
     "name": "stderr",
     "output_type": "stream",
     "text": [
      "Epoch 2/50 Training: 100%|█████████████████████████████████████████████████████████████████████████████████████████████████████████████████| 1028/1028 [00:13<00:00, 76.25it/s]\n"
     ]
    },
    {
     "name": "stdout",
     "output_type": "stream",
     "text": [
      "Epoch 2:\n",
      "  Train Loss = 0.1431, Val Loss = 0.1108\n",
      "  Val Accuracy = 96.46%, F1-Score = 0.9644, Balanced Acc = 0.9408\n",
      "  Class 0 Metrics:\n",
      "    True Positives: 6376\n",
      "    True Negatives: 1558\n",
      "    False Positives: 174\n",
      "    False Negatives: 117\n",
      "    Precision: 0.9734\n",
      "    Recall: 0.9820\n"
     ]
    },
    {
     "name": "stderr",
     "output_type": "stream",
     "text": [
      "Epoch 3/50 Training: 100%|█████████████████████████████████████████████████████████████████████████████████████████████████████████████████| 1028/1028 [00:13<00:00, 73.95it/s]\n"
     ]
    },
    {
     "name": "stdout",
     "output_type": "stream",
     "text": [
      "Epoch 3:\n",
      "  Train Loss = 0.1250, Val Loss = 0.1142\n",
      "  Val Accuracy = 96.13%, F1-Score = 0.9613, Balanced Acc = 0.9421\n",
      "  Class 0 Metrics:\n",
      "    True Positives: 6333\n",
      "    True Negatives: 1574\n",
      "    False Positives: 158\n",
      "    False Negatives: 160\n",
      "    Precision: 0.9757\n",
      "    Recall: 0.9754\n"
     ]
    },
    {
     "name": "stderr",
     "output_type": "stream",
     "text": [
      "Epoch 4/50 Training: 100%|█████████████████████████████████████████████████████████████████████████████████████████████████████████████████| 1028/1028 [00:13<00:00, 73.60it/s]\n"
     ]
    },
    {
     "name": "stdout",
     "output_type": "stream",
     "text": [
      "Epoch 4:\n",
      "  Train Loss = 0.1134, Val Loss = 0.1059\n",
      "  Val Accuracy = 96.46%, F1-Score = 0.9644, Balanced Acc = 0.9408\n",
      "  Class 0 Metrics:\n",
      "    True Positives: 6376\n",
      "    True Negatives: 1558\n",
      "    False Positives: 174\n",
      "    False Negatives: 117\n",
      "    Precision: 0.9734\n",
      "    Recall: 0.9820\n"
     ]
    },
    {
     "name": "stderr",
     "output_type": "stream",
     "text": [
      "Epoch 5/50 Training: 100%|█████████████████████████████████████████████████████████████████████████████████████████████████████████████████| 1028/1028 [00:14<00:00, 72.38it/s]\n"
     ]
    },
    {
     "name": "stdout",
     "output_type": "stream",
     "text": [
      "Epoch 5:\n",
      "  Train Loss = 0.1036, Val Loss = 0.1039\n",
      "  Val Accuracy = 96.97%, F1-Score = 0.9695, Balanced Acc = 0.9474\n",
      "  Class 0 Metrics:\n",
      "    True Positives: 6402\n",
      "    True Negatives: 1574\n",
      "    False Positives: 158\n",
      "    False Negatives: 91\n",
      "    Precision: 0.9759\n",
      "    Recall: 0.9860\n"
     ]
    },
    {
     "name": "stderr",
     "output_type": "stream",
     "text": [
      "Epoch 6/50 Training: 100%|█████████████████████████████████████████████████████████████████████████████████████████████████████████████████| 1028/1028 [00:13<00:00, 76.95it/s]\n"
     ]
    },
    {
     "name": "stdout",
     "output_type": "stream",
     "text": [
      "Epoch 6:\n",
      "  Train Loss = 0.0978, Val Loss = 0.1850\n",
      "  Val Accuracy = 91.93%, F1-Score = 0.9226, Balanced Acc = 0.9283\n",
      "  Class 0 Metrics:\n",
      "    True Positives: 5926\n",
      "    True Negatives: 1635\n",
      "    False Positives: 97\n",
      "    False Negatives: 567\n",
      "    Precision: 0.9839\n",
      "    Recall: 0.9127\n"
     ]
    },
    {
     "name": "stderr",
     "output_type": "stream",
     "text": [
      "Epoch 7/50 Training: 100%|█████████████████████████████████████████████████████████████████████████████████████████████████████████████████| 1028/1028 [00:13<00:00, 74.50it/s]\n"
     ]
    },
    {
     "name": "stdout",
     "output_type": "stream",
     "text": [
      "Epoch 7:\n",
      "  Train Loss = 0.0920, Val Loss = 0.1757\n",
      "  Val Accuracy = 92.81%, F1-Score = 0.9308, Balanced Acc = 0.9352\n",
      "  Class 0 Metrics:\n",
      "    True Positives: 5993\n",
      "    True Negatives: 1641\n",
      "    False Positives: 91\n",
      "    False Negatives: 500\n",
      "    Precision: 0.9850\n",
      "    Recall: 0.9230\n"
     ]
    },
    {
     "name": "stderr",
     "output_type": "stream",
     "text": [
      "Epoch 8/50 Training: 100%|█████████████████████████████████████████████████████████████████████████████████████████████████████████████████| 1028/1028 [00:13<00:00, 73.67it/s]\n"
     ]
    },
    {
     "name": "stdout",
     "output_type": "stream",
     "text": [
      "Epoch 8:\n",
      "  Train Loss = 0.0880, Val Loss = 0.1305\n",
      "  Val Accuracy = 96.12%, F1-Score = 0.9602, Balanced Acc = 0.9179\n",
      "  Class 0 Metrics:\n",
      "    True Positives: 6446\n",
      "    True Negatives: 1460\n",
      "    False Positives: 272\n",
      "    False Negatives: 47\n",
      "    Precision: 0.9595\n",
      "    Recall: 0.9928\n"
     ]
    },
    {
     "name": "stderr",
     "output_type": "stream",
     "text": [
      "Epoch 9/50 Training: 100%|█████████████████████████████████████████████████████████████████████████████████████████████████████████████████| 1028/1028 [00:13<00:00, 75.60it/s]\n"
     ]
    },
    {
     "name": "stdout",
     "output_type": "stream",
     "text": [
      "Epoch 9:\n",
      "  Train Loss = 0.0843, Val Loss = 0.0765\n",
      "  Val Accuracy = 97.36%, F1-Score = 0.9736, Balanced Acc = 0.9587\n",
      "  Class 0 Metrics:\n",
      "    True Positives: 6392\n",
      "    True Negatives: 1616\n",
      "    False Positives: 116\n",
      "    False Negatives: 101\n",
      "    Precision: 0.9822\n",
      "    Recall: 0.9844\n"
     ]
    },
    {
     "name": "stderr",
     "output_type": "stream",
     "text": [
      "Epoch 10/50 Training: 100%|████████████████████████████████████████████████████████████████████████████████████████████████████████████████| 1028/1028 [00:13<00:00, 75.02it/s]\n"
     ]
    },
    {
     "name": "stdout",
     "output_type": "stream",
     "text": [
      "Epoch 10:\n",
      "  Train Loss = 0.0813, Val Loss = 0.0932\n",
      "  Val Accuracy = 96.90%, F1-Score = 0.9687, Balanced Acc = 0.9456\n",
      "  Class 0 Metrics:\n",
      "    True Positives: 6402\n",
      "    True Negatives: 1568\n",
      "    False Positives: 164\n",
      "    False Negatives: 91\n",
      "    Precision: 0.9750\n",
      "    Recall: 0.9860\n"
     ]
    },
    {
     "name": "stderr",
     "output_type": "stream",
     "text": [
      "Epoch 11/50 Training: 100%|████████████████████████████████████████████████████████████████████████████████████████████████████████████████| 1028/1028 [00:13<00:00, 75.50it/s]\n"
     ]
    },
    {
     "name": "stdout",
     "output_type": "stream",
     "text": [
      "Epoch 11:\n",
      "  Train Loss = 0.0779, Val Loss = 0.1199\n",
      "  Val Accuracy = 95.94%, F1-Score = 0.9601, Balanced Acc = 0.9580\n",
      "  Class 0 Metrics:\n",
      "    True Positives: 6236\n",
      "    True Negatives: 1655\n",
      "    False Positives: 77\n",
      "    False Negatives: 257\n",
      "    Precision: 0.9878\n",
      "    Recall: 0.9604\n"
     ]
    },
    {
     "name": "stderr",
     "output_type": "stream",
     "text": [
      "Epoch 12/50 Training: 100%|████████████████████████████████████████████████████████████████████████████████████████████████████████████████| 1028/1028 [00:13<00:00, 75.52it/s]\n"
     ]
    },
    {
     "name": "stdout",
     "output_type": "stream",
     "text": [
      "Epoch 12:\n",
      "  Train Loss = 0.0737, Val Loss = 0.5524\n",
      "  Val Accuracy = 78.30%, F1-Score = 0.8023, Balanced Acc = 0.8522\n",
      "  Class 0 Metrics:\n",
      "    True Positives: 4757\n",
      "    True Negatives: 1683\n",
      "    False Positives: 49\n",
      "    False Negatives: 1736\n",
      "    Precision: 0.9898\n",
      "    Recall: 0.7326\n"
     ]
    },
    {
     "name": "stderr",
     "output_type": "stream",
     "text": [
      "Epoch 13/50 Training: 100%|████████████████████████████████████████████████████████████████████████████████████████████████████████████████| 1028/1028 [00:13<00:00, 78.02it/s]\n"
     ]
    },
    {
     "name": "stdout",
     "output_type": "stream",
     "text": [
      "Epoch 13:\n",
      "  Train Loss = 0.0689, Val Loss = 0.0944\n",
      "  Val Accuracy = 96.75%, F1-Score = 0.9676, Balanced Acc = 0.9540\n",
      "  Class 0 Metrics:\n",
      "    True Positives: 6346\n",
      "    True Negatives: 1612\n",
      "    False Positives: 120\n",
      "    False Negatives: 147\n",
      "    Precision: 0.9814\n",
      "    Recall: 0.9774\n"
     ]
    },
    {
     "name": "stderr",
     "output_type": "stream",
     "text": [
      "Epoch 14/50 Training: 100%|████████████████████████████████████████████████████████████████████████████████████████████████████████████████| 1028/1028 [00:13<00:00, 75.25it/s]\n"
     ]
    },
    {
     "name": "stdout",
     "output_type": "stream",
     "text": [
      "Epoch 14:\n",
      "  Train Loss = 0.0679, Val Loss = 0.0723\n",
      "  Val Accuracy = 97.57%, F1-Score = 0.9755, Balanced Acc = 0.9562\n",
      "  Class 0 Metrics:\n",
      "    True Positives: 6427\n",
      "    True Negatives: 1598\n",
      "    False Positives: 134\n",
      "    False Negatives: 66\n",
      "    Precision: 0.9796\n",
      "    Recall: 0.9898\n"
     ]
    },
    {
     "name": "stderr",
     "output_type": "stream",
     "text": [
      "Epoch 15/50 Training: 100%|████████████████████████████████████████████████████████████████████████████████████████████████████████████████| 1028/1028 [00:13<00:00, 75.61it/s]\n"
     ]
    },
    {
     "name": "stdout",
     "output_type": "stream",
     "text": [
      "Epoch 15:\n",
      "  Train Loss = 0.0659, Val Loss = 0.0946\n",
      "  Val Accuracy = 96.81%, F1-Score = 0.9678, Balanced Acc = 0.9415\n",
      "  Class 0 Metrics:\n",
      "    True Positives: 6412\n",
      "    True Negatives: 1551\n",
      "    False Positives: 181\n",
      "    False Negatives: 81\n",
      "    Precision: 0.9725\n",
      "    Recall: 0.9875\n"
     ]
    },
    {
     "name": "stderr",
     "output_type": "stream",
     "text": [
      "Epoch 16/50 Training: 100%|████████████████████████████████████████████████████████████████████████████████████████████████████████████████| 1028/1028 [00:13<00:00, 77.68it/s]\n"
     ]
    },
    {
     "name": "stdout",
     "output_type": "stream",
     "text": [
      "Epoch 16:\n",
      "  Train Loss = 0.0623, Val Loss = 0.0743\n",
      "  Val Accuracy = 97.63%, F1-Score = 0.9763, Balanced Acc = 0.9649\n",
      "  Class 0 Metrics:\n",
      "    True Positives: 6393\n",
      "    True Negatives: 1637\n",
      "    False Positives: 95\n",
      "    False Negatives: 100\n",
      "    Precision: 0.9854\n",
      "    Recall: 0.9846\n"
     ]
    },
    {
     "name": "stderr",
     "output_type": "stream",
     "text": [
      "Epoch 17/50 Training: 100%|████████████████████████████████████████████████████████████████████████████████████████████████████████████████| 1028/1028 [00:13<00:00, 74.43it/s]\n"
     ]
    },
    {
     "name": "stdout",
     "output_type": "stream",
     "text": [
      "Epoch 17:\n",
      "  Train Loss = 0.0599, Val Loss = 0.1342\n",
      "  Val Accuracy = 95.76%, F1-Score = 0.9565, Balanced Acc = 0.9141\n",
      "  Class 0 Metrics:\n",
      "    True Positives: 6423\n",
      "    True Negatives: 1453\n",
      "    False Positives: 279\n",
      "    False Negatives: 70\n",
      "    Precision: 0.9584\n",
      "    Recall: 0.9892\n"
     ]
    },
    {
     "name": "stderr",
     "output_type": "stream",
     "text": [
      "Epoch 18/50 Training: 100%|████████████████████████████████████████████████████████████████████████████████████████████████████████████████| 1028/1028 [00:12<00:00, 79.55it/s]\n"
     ]
    },
    {
     "name": "stdout",
     "output_type": "stream",
     "text": [
      "Epoch 18:\n",
      "  Train Loss = 0.0602, Val Loss = 0.1037\n",
      "  Val Accuracy = 96.28%, F1-Score = 0.9634, Balanced Acc = 0.9614\n",
      "  Class 0 Metrics:\n",
      "    True Positives: 6258\n",
      "    True Negatives: 1661\n",
      "    False Positives: 71\n",
      "    False Negatives: 235\n",
      "    Precision: 0.9888\n",
      "    Recall: 0.9638\n"
     ]
    },
    {
     "name": "stderr",
     "output_type": "stream",
     "text": [
      "Epoch 19/50 Training: 100%|████████████████████████████████████████████████████████████████████████████████████████████████████████████████| 1028/1028 [00:13<00:00, 75.33it/s]\n"
     ]
    },
    {
     "name": "stdout",
     "output_type": "stream",
     "text": [
      "Epoch 19:\n",
      "  Train Loss = 0.0560, Val Loss = 0.0924\n",
      "  Val Accuracy = 96.63%, F1-Score = 0.9667, Balanced Acc = 0.9617\n",
      "  Class 0 Metrics:\n",
      "    True Positives: 6296\n",
      "    True Negatives: 1652\n",
      "    False Positives: 80\n",
      "    False Negatives: 197\n",
      "    Precision: 0.9875\n",
      "    Recall: 0.9697\n"
     ]
    },
    {
     "name": "stderr",
     "output_type": "stream",
     "text": [
      "Epoch 20/50 Training: 100%|████████████████████████████████████████████████████████████████████████████████████████████████████████████████| 1028/1028 [00:13<00:00, 77.67it/s]\n"
     ]
    },
    {
     "name": "stdout",
     "output_type": "stream",
     "text": [
      "Epoch 20:\n",
      "  Train Loss = 0.0553, Val Loss = 0.0792\n",
      "  Val Accuracy = 97.63%, F1-Score = 0.9763, Balanced Acc = 0.9638\n",
      "  Class 0 Metrics:\n",
      "    True Positives: 6398\n",
      "    True Negatives: 1632\n",
      "    False Positives: 100\n",
      "    False Negatives: 95\n",
      "    Precision: 0.9846\n",
      "    Recall: 0.9854\n"
     ]
    },
    {
     "name": "stderr",
     "output_type": "stream",
     "text": [
      "Epoch 21/50 Training: 100%|████████████████████████████████████████████████████████████████████████████████████████████████████████████████| 1028/1028 [00:13<00:00, 75.30it/s]\n"
     ]
    },
    {
     "name": "stdout",
     "output_type": "stream",
     "text": [
      "Epoch 21:\n",
      "  Train Loss = 0.0527, Val Loss = 0.0888\n",
      "  Val Accuracy = 96.80%, F1-Score = 0.9683, Balanced Acc = 0.9609\n",
      "  Class 0 Metrics:\n",
      "    True Positives: 6319\n",
      "    True Negatives: 1643\n",
      "    False Positives: 89\n",
      "    False Negatives: 174\n",
      "    Precision: 0.9861\n",
      "    Recall: 0.9732\n"
     ]
    },
    {
     "name": "stderr",
     "output_type": "stream",
     "text": [
      "Epoch 22/50 Training: 100%|████████████████████████████████████████████████████████████████████████████████████████████████████████████████| 1028/1028 [00:12<00:00, 79.56it/s]\n"
     ]
    },
    {
     "name": "stdout",
     "output_type": "stream",
     "text": [
      "Epoch 22:\n",
      "  Train Loss = 0.0511, Val Loss = 0.0600\n",
      "  Val Accuracy = 98.15%, F1-Score = 0.9815, Balanced Acc = 0.9695\n",
      "  Class 0 Metrics:\n",
      "    True Positives: 6430\n",
      "    True Negatives: 1643\n",
      "    False Positives: 89\n",
      "    False Negatives: 63\n",
      "    Precision: 0.9863\n",
      "    Recall: 0.9903\n"
     ]
    },
    {
     "name": "stderr",
     "output_type": "stream",
     "text": [
      "Epoch 23/50 Training: 100%|████████████████████████████████████████████████████████████████████████████████████████████████████████████████| 1028/1028 [00:13<00:00, 78.54it/s]\n"
     ]
    },
    {
     "name": "stdout",
     "output_type": "stream",
     "text": [
      "Epoch 23:\n",
      "  Train Loss = 0.0499, Val Loss = 0.0768\n",
      "  Val Accuracy = 97.52%, F1-Score = 0.9752, Balanced Acc = 0.9648\n",
      "  Class 0 Metrics:\n",
      "    True Positives: 6381\n",
      "    True Negatives: 1640\n",
      "    False Positives: 92\n",
      "    False Negatives: 112\n",
      "    Precision: 0.9858\n",
      "    Recall: 0.9828\n"
     ]
    },
    {
     "name": "stderr",
     "output_type": "stream",
     "text": [
      "Epoch 24/50 Training: 100%|████████████████████████████████████████████████████████████████████████████████████████████████████████████████| 1028/1028 [00:13<00:00, 77.67it/s]\n"
     ]
    },
    {
     "name": "stdout",
     "output_type": "stream",
     "text": [
      "Epoch 24:\n",
      "  Train Loss = 0.0482, Val Loss = 0.0696\n",
      "  Val Accuracy = 97.75%, F1-Score = 0.9774, Balanced Acc = 0.9604\n",
      "  Class 0 Metrics:\n",
      "    True Positives: 6428\n",
      "    True Negatives: 1612\n",
      "    False Positives: 120\n",
      "    False Negatives: 65\n",
      "    Precision: 0.9817\n",
      "    Recall: 0.9900\n"
     ]
    },
    {
     "name": "stderr",
     "output_type": "stream",
     "text": [
      "Epoch 25/50 Training: 100%|████████████████████████████████████████████████████████████████████████████████████████████████████████████████| 1028/1028 [00:13<00:00, 78.41it/s]\n"
     ]
    },
    {
     "name": "stdout",
     "output_type": "stream",
     "text": [
      "Epoch 25:\n",
      "  Train Loss = 0.0452, Val Loss = 0.0803\n",
      "  Val Accuracy = 97.34%, F1-Score = 0.9736, Balanced Acc = 0.9700\n",
      "  Class 0 Metrics:\n",
      "    True Positives: 6336\n",
      "    True Negatives: 1670\n",
      "    False Positives: 62\n",
      "    False Negatives: 157\n",
      "    Precision: 0.9903\n",
      "    Recall: 0.9758\n"
     ]
    },
    {
     "name": "stderr",
     "output_type": "stream",
     "text": [
      "Epoch 26/50 Training: 100%|████████████████████████████████████████████████████████████████████████████████████████████████████████████████| 1028/1028 [00:13<00:00, 76.56it/s]\n"
     ]
    },
    {
     "name": "stdout",
     "output_type": "stream",
     "text": [
      "Epoch 26:\n",
      "  Train Loss = 0.0439, Val Loss = 0.0778\n",
      "  Val Accuracy = 97.46%, F1-Score = 0.9746, Balanced Acc = 0.9606\n",
      "  Class 0 Metrics:\n",
      "    True Positives: 6394\n",
      "    True Negatives: 1622\n",
      "    False Positives: 110\n",
      "    False Negatives: 99\n",
      "    Precision: 0.9831\n",
      "    Recall: 0.9848\n"
     ]
    },
    {
     "name": "stderr",
     "output_type": "stream",
     "text": [
      "Epoch 27/50 Training: 100%|████████████████████████████████████████████████████████████████████████████████████████████████████████████████| 1028/1028 [00:12<00:00, 80.13it/s]\n"
     ]
    },
    {
     "name": "stdout",
     "output_type": "stream",
     "text": [
      "Epoch 27:\n",
      "  Train Loss = 0.0410, Val Loss = 0.0602\n",
      "  Val Accuracy = 98.10%, F1-Score = 0.9810, Balanced Acc = 0.9700\n",
      "  Class 0 Metrics:\n",
      "    True Positives: 6422\n",
      "    True Negatives: 1647\n",
      "    False Positives: 85\n",
      "    False Negatives: 71\n",
      "    Precision: 0.9869\n",
      "    Recall: 0.9891\n"
     ]
    },
    {
     "name": "stderr",
     "output_type": "stream",
     "text": [
      "Epoch 28/50 Training: 100%|████████████████████████████████████████████████████████████████████████████████████████████████████████████████| 1028/1028 [00:13<00:00, 78.06it/s]\n"
     ]
    },
    {
     "name": "stdout",
     "output_type": "stream",
     "text": [
      "Epoch 28:\n",
      "  Train Loss = 0.0407, Val Loss = 0.0621\n",
      "  Val Accuracy = 98.02%, F1-Score = 0.9801, Balanced Acc = 0.9642\n",
      "  Class 0 Metrics:\n",
      "    True Positives: 6440\n",
      "    True Negatives: 1622\n",
      "    False Positives: 110\n",
      "    False Negatives: 53\n",
      "    Precision: 0.9832\n",
      "    Recall: 0.9918\n"
     ]
    },
    {
     "name": "stderr",
     "output_type": "stream",
     "text": [
      "Epoch 29/50 Training: 100%|████████████████████████████████████████████████████████████████████████████████████████████████████████████████| 1028/1028 [00:13<00:00, 77.75it/s]\n"
     ]
    },
    {
     "name": "stdout",
     "output_type": "stream",
     "text": [
      "Epoch 29:\n",
      "  Train Loss = 0.0381, Val Loss = 0.0712\n",
      "  Val Accuracy = 98.08%, F1-Score = 0.9808, Balanced Acc = 0.9692\n",
      "  Class 0 Metrics:\n",
      "    True Positives: 6423\n",
      "    True Negatives: 1644\n",
      "    False Positives: 88\n",
      "    False Negatives: 70\n",
      "    Precision: 0.9865\n",
      "    Recall: 0.9892\n"
     ]
    },
    {
     "name": "stderr",
     "output_type": "stream",
     "text": [
      "Epoch 30/50 Training: 100%|████████████████████████████████████████████████████████████████████████████████████████████████████████████████| 1028/1028 [00:12<00:00, 79.11it/s]\n"
     ]
    },
    {
     "name": "stdout",
     "output_type": "stream",
     "text": [
      "Epoch 30:\n",
      "  Train Loss = 0.0366, Val Loss = 0.0664\n",
      "  Val Accuracy = 97.99%, F1-Score = 0.9798, Balanced Acc = 0.9636\n",
      "  Class 0 Metrics:\n",
      "    True Positives: 6440\n",
      "    True Negatives: 1620\n",
      "    False Positives: 112\n",
      "    False Negatives: 53\n",
      "    Precision: 0.9829\n",
      "    Recall: 0.9918\n"
     ]
    },
    {
     "name": "stderr",
     "output_type": "stream",
     "text": [
      "Epoch 31/50 Training: 100%|████████████████████████████████████████████████████████████████████████████████████████████████████████████████| 1028/1028 [00:13<00:00, 76.84it/s]\n"
     ]
    },
    {
     "name": "stdout",
     "output_type": "stream",
     "text": [
      "Epoch 31:\n",
      "  Train Loss = 0.0344, Val Loss = 0.0590\n",
      "  Val Accuracy = 98.13%, F1-Score = 0.9812, Balanced Acc = 0.9691\n",
      "  Class 0 Metrics:\n",
      "    True Positives: 6429\n",
      "    True Negatives: 1642\n",
      "    False Positives: 90\n",
      "    False Negatives: 64\n",
      "    Precision: 0.9862\n",
      "    Recall: 0.9901\n"
     ]
    },
    {
     "name": "stderr",
     "output_type": "stream",
     "text": [
      "Epoch 32/50 Training: 100%|████████████████████████████████████████████████████████████████████████████████████████████████████████████████| 1028/1028 [00:12<00:00, 80.22it/s]\n"
     ]
    },
    {
     "name": "stdout",
     "output_type": "stream",
     "text": [
      "Epoch 32:\n",
      "  Train Loss = 0.0326, Val Loss = 0.0643\n",
      "  Val Accuracy = 98.25%, F1-Score = 0.9824, Balanced Acc = 0.9696\n",
      "  Class 0 Metrics:\n",
      "    True Positives: 6440\n",
      "    True Negatives: 1641\n",
      "    False Positives: 91\n",
      "    False Negatives: 53\n",
      "    Precision: 0.9861\n",
      "    Recall: 0.9918\n"
     ]
    },
    {
     "name": "stderr",
     "output_type": "stream",
     "text": [
      "Epoch 33/50 Training: 100%|████████████████████████████████████████████████████████████████████████████████████████████████████████████████| 1028/1028 [00:13<00:00, 78.50it/s]\n"
     ]
    },
    {
     "name": "stdout",
     "output_type": "stream",
     "text": [
      "Epoch 33:\n",
      "  Train Loss = 0.0293, Val Loss = 0.0728\n",
      "  Val Accuracy = 97.85%, F1-Score = 0.9783, Balanced Acc = 0.9601\n",
      "  Class 0 Metrics:\n",
      "    True Positives: 6440\n",
      "    True Negatives: 1608\n",
      "    False Positives: 124\n",
      "    False Negatives: 53\n",
      "    Precision: 0.9811\n",
      "    Recall: 0.9918\n"
     ]
    },
    {
     "name": "stderr",
     "output_type": "stream",
     "text": [
      "Epoch 34/50 Training: 100%|████████████████████████████████████████████████████████████████████████████████████████████████████████████████| 1028/1028 [00:13<00:00, 76.68it/s]\n"
     ]
    },
    {
     "name": "stdout",
     "output_type": "stream",
     "text": [
      "Epoch 34:\n",
      "  Train Loss = 0.0279, Val Loss = 0.0707\n",
      "  Val Accuracy = 98.05%, F1-Score = 0.9806, Balanced Acc = 0.9724\n",
      "  Class 0 Metrics:\n",
      "    True Positives: 6405\n",
      "    True Negatives: 1660\n",
      "    False Positives: 72\n",
      "    False Negatives: 88\n",
      "    Precision: 0.9889\n",
      "    Recall: 0.9864\n"
     ]
    },
    {
     "name": "stderr",
     "output_type": "stream",
     "text": [
      "Epoch 35/50 Training: 100%|████████████████████████████████████████████████████████████████████████████████████████████████████████████████| 1028/1028 [00:13<00:00, 78.89it/s]\n"
     ]
    },
    {
     "name": "stdout",
     "output_type": "stream",
     "text": [
      "Epoch 35:\n",
      "  Train Loss = 0.0277, Val Loss = 0.0655\n",
      "  Val Accuracy = 98.21%, F1-Score = 0.9821, Balanced Acc = 0.9713\n",
      "  Class 0 Metrics:\n",
      "    True Positives: 6428\n",
      "    True Negatives: 1650\n",
      "    False Positives: 82\n",
      "    False Negatives: 65\n",
      "    Precision: 0.9874\n",
      "    Recall: 0.9900\n"
     ]
    },
    {
     "name": "stderr",
     "output_type": "stream",
     "text": [
      "Epoch 36/50 Training: 100%|████████████████████████████████████████████████████████████████████████████████████████████████████████████████| 1028/1028 [00:13<00:00, 77.40it/s]\n"
     ]
    },
    {
     "name": "stdout",
     "output_type": "stream",
     "text": [
      "Epoch 36:\n",
      "  Train Loss = 0.0250, Val Loss = 0.0726\n",
      "  Val Accuracy = 98.05%, F1-Score = 0.9805, Balanced Acc = 0.9674\n",
      "  Class 0 Metrics:\n",
      "    True Positives: 6429\n",
      "    True Negatives: 1636\n",
      "    False Positives: 96\n",
      "    False Negatives: 64\n",
      "    Precision: 0.9853\n",
      "    Recall: 0.9901\n"
     ]
    },
    {
     "name": "stderr",
     "output_type": "stream",
     "text": [
      "Epoch 37/50 Training: 100%|████████████████████████████████████████████████████████████████████████████████████████████████████████████████| 1028/1028 [00:12<00:00, 79.45it/s]\n"
     ]
    },
    {
     "name": "stdout",
     "output_type": "stream",
     "text": [
      "Epoch 37:\n",
      "  Train Loss = 0.0223, Val Loss = 0.0680\n",
      "  Val Accuracy = 98.12%, F1-Score = 0.9811, Balanced Acc = 0.9711\n",
      "  Class 0 Metrics:\n",
      "    True Positives: 6418\n",
      "    True Negatives: 1652\n",
      "    False Positives: 80\n",
      "    False Negatives: 75\n",
      "    Precision: 0.9877\n",
      "    Recall: 0.9884\n"
     ]
    },
    {
     "name": "stderr",
     "output_type": "stream",
     "text": [
      "Epoch 38/50 Training: 100%|████████████████████████████████████████████████████████████████████████████████████████████████████████████████| 1028/1028 [00:13<00:00, 77.30it/s]\n"
     ]
    },
    {
     "name": "stdout",
     "output_type": "stream",
     "text": [
      "Epoch 38:\n",
      "  Train Loss = 0.0217, Val Loss = 0.0719\n",
      "  Val Accuracy = 98.18%, F1-Score = 0.9818, Balanced Acc = 0.9738\n",
      "  Class 0 Metrics:\n",
      "    True Positives: 6412\n",
      "    True Negatives: 1663\n",
      "    False Positives: 69\n",
      "    False Negatives: 81\n",
      "    Precision: 0.9894\n",
      "    Recall: 0.9875\n"
     ]
    },
    {
     "name": "stderr",
     "output_type": "stream",
     "text": [
      "Epoch 39/50 Training: 100%|████████████████████████████████████████████████████████████████████████████████████████████████████████████████| 1028/1028 [00:13<00:00, 77.22it/s]\n"
     ]
    },
    {
     "name": "stdout",
     "output_type": "stream",
     "text": [
      "Epoch 39:\n",
      "  Train Loss = 0.0199, Val Loss = 0.0769\n",
      "  Val Accuracy = 98.12%, F1-Score = 0.9811, Balanced Acc = 0.9684\n",
      "  Class 0 Metrics:\n",
      "    True Positives: 6431\n",
      "    True Negatives: 1639\n",
      "    False Positives: 93\n",
      "    False Negatives: 62\n",
      "    Precision: 0.9857\n",
      "    Recall: 0.9905\n"
     ]
    },
    {
     "name": "stderr",
     "output_type": "stream",
     "text": [
      "Epoch 40/50 Training: 100%|████████████████████████████████████████████████████████████████████████████████████████████████████████████████| 1028/1028 [00:13<00:00, 78.15it/s]\n"
     ]
    },
    {
     "name": "stdout",
     "output_type": "stream",
     "text": [
      "Epoch 40:\n",
      "  Train Loss = 0.0203, Val Loss = 0.0717\n",
      "  Val Accuracy = 98.26%, F1-Score = 0.9826, Balanced Acc = 0.9727\n",
      "  Class 0 Metrics:\n",
      "    True Positives: 6427\n",
      "    True Negatives: 1655\n",
      "    False Positives: 77\n",
      "    False Negatives: 66\n",
      "    Precision: 0.9882\n",
      "    Recall: 0.9898\n"
     ]
    },
    {
     "name": "stderr",
     "output_type": "stream",
     "text": [
      "Epoch 41/50 Training: 100%|████████████████████████████████████████████████████████████████████████████████████████████████████████████████| 1028/1028 [00:13<00:00, 78.79it/s]\n"
     ]
    },
    {
     "name": "stdout",
     "output_type": "stream",
     "text": [
      "Epoch 41:\n",
      "  Train Loss = 0.0179, Val Loss = 0.0720\n",
      "  Val Accuracy = 98.29%, F1-Score = 0.9828, Balanced Acc = 0.9737\n",
      "  Class 0 Metrics:\n",
      "    True Positives: 6425\n",
      "    True Negatives: 1659\n",
      "    False Positives: 73\n",
      "    False Negatives: 68\n",
      "    Precision: 0.9888\n",
      "    Recall: 0.9895\n"
     ]
    },
    {
     "name": "stderr",
     "output_type": "stream",
     "text": [
      "Epoch 42/50 Training: 100%|████████████████████████████████████████████████████████████████████████████████████████████████████████████████| 1028/1028 [00:13<00:00, 77.25it/s]\n"
     ]
    },
    {
     "name": "stdout",
     "output_type": "stream",
     "text": [
      "Epoch 42:\n",
      "  Train Loss = 0.0166, Val Loss = 0.0751\n",
      "  Val Accuracy = 98.12%, F1-Score = 0.9812, Balanced Acc = 0.9718\n",
      "  Class 0 Metrics:\n",
      "    True Positives: 6415\n",
      "    True Negatives: 1655\n",
      "    False Positives: 77\n",
      "    False Negatives: 78\n",
      "    Precision: 0.9881\n",
      "    Recall: 0.9880\n"
     ]
    },
    {
     "name": "stderr",
     "output_type": "stream",
     "text": [
      "Epoch 43/50 Training: 100%|████████████████████████████████████████████████████████████████████████████████████████████████████████████████| 1028/1028 [00:12<00:00, 79.78it/s]\n"
     ]
    },
    {
     "name": "stdout",
     "output_type": "stream",
     "text": [
      "Epoch 43:\n",
      "  Train Loss = 0.0159, Val Loss = 0.0767\n",
      "  Val Accuracy = 98.20%, F1-Score = 0.9820, Balanced Acc = 0.9710\n",
      "  Class 0 Metrics:\n",
      "    True Positives: 6428\n",
      "    True Negatives: 1649\n",
      "    False Positives: 83\n",
      "    False Negatives: 65\n",
      "    Precision: 0.9873\n",
      "    Recall: 0.9900\n"
     ]
    },
    {
     "name": "stderr",
     "output_type": "stream",
     "text": [
      "Epoch 44/50 Training: 100%|████████████████████████████████████████████████████████████████████████████████████████████████████████████████| 1028/1028 [00:13<00:00, 77.58it/s]\n"
     ]
    },
    {
     "name": "stdout",
     "output_type": "stream",
     "text": [
      "Epoch 44:\n",
      "  Train Loss = 0.0153, Val Loss = 0.0759\n",
      "  Val Accuracy = 98.22%, F1-Score = 0.9823, Balanced Acc = 0.9735\n",
      "  Class 0 Metrics:\n",
      "    True Positives: 6419\n",
      "    True Negatives: 1660\n",
      "    False Positives: 72\n",
      "    False Negatives: 74\n",
      "    Precision: 0.9889\n",
      "    Recall: 0.9886\n"
     ]
    },
    {
     "name": "stderr",
     "output_type": "stream",
     "text": [
      "Epoch 45/50 Training: 100%|████████████████████████████████████████████████████████████████████████████████████████████████████████████████| 1028/1028 [00:13<00:00, 75.57it/s]\n"
     ]
    },
    {
     "name": "stdout",
     "output_type": "stream",
     "text": [
      "Epoch 45:\n",
      "  Train Loss = 0.0148, Val Loss = 0.0775\n",
      "  Val Accuracy = 98.16%, F1-Score = 0.9816, Balanced Acc = 0.9716\n",
      "  Class 0 Metrics:\n",
      "    True Positives: 6421\n",
      "    True Negatives: 1653\n",
      "    False Positives: 79\n",
      "    False Negatives: 72\n",
      "    Precision: 0.9878\n",
      "    Recall: 0.9889\n"
     ]
    },
    {
     "name": "stderr",
     "output_type": "stream",
     "text": [
      "Epoch 46/50 Training: 100%|████████████████████████████████████████████████████████████████████████████████████████████████████████████████| 1028/1028 [00:12<00:00, 80.28it/s]\n"
     ]
    },
    {
     "name": "stdout",
     "output_type": "stream",
     "text": [
      "Epoch 46:\n",
      "  Train Loss = 0.0135, Val Loss = 0.0788\n",
      "  Val Accuracy = 98.24%, F1-Score = 0.9823, Balanced Acc = 0.9717\n",
      "  Class 0 Metrics:\n",
      "    True Positives: 6429\n",
      "    True Negatives: 1651\n",
      "    False Positives: 81\n",
      "    False Negatives: 64\n",
      "    Precision: 0.9876\n",
      "    Recall: 0.9901\n"
     ]
    },
    {
     "name": "stderr",
     "output_type": "stream",
     "text": [
      "Epoch 47/50 Training: 100%|████████████████████████████████████████████████████████████████████████████████████████████████████████████████| 1028/1028 [00:12<00:00, 79.21it/s]\n"
     ]
    },
    {
     "name": "stdout",
     "output_type": "stream",
     "text": [
      "Epoch 47:\n",
      "  Train Loss = 0.0133, Val Loss = 0.0798\n",
      "  Val Accuracy = 98.19%, F1-Score = 0.9819, Balanced Acc = 0.9746\n",
      "  Class 0 Metrics:\n",
      "    True Positives: 6410\n",
      "    True Negatives: 1666\n",
      "    False Positives: 66\n",
      "    False Negatives: 83\n",
      "    Precision: 0.9898\n",
      "    Recall: 0.9872\n"
     ]
    },
    {
     "name": "stderr",
     "output_type": "stream",
     "text": [
      "Epoch 48/50 Training: 100%|████████████████████████████████████████████████████████████████████████████████████████████████████████████████| 1028/1028 [00:13<00:00, 77.12it/s]\n"
     ]
    },
    {
     "name": "stdout",
     "output_type": "stream",
     "text": [
      "Epoch 48:\n",
      "  Train Loss = 0.0130, Val Loss = 0.0793\n",
      "  Val Accuracy = 98.14%, F1-Score = 0.9814, Balanced Acc = 0.9719\n",
      "  Class 0 Metrics:\n",
      "    True Positives: 6417\n",
      "    True Negatives: 1655\n",
      "    False Positives: 77\n",
      "    False Negatives: 76\n",
      "    Precision: 0.9881\n",
      "    Recall: 0.9883\n"
     ]
    },
    {
     "name": "stderr",
     "output_type": "stream",
     "text": [
      "Epoch 49/50 Training: 100%|████████████████████████████████████████████████████████████████████████████████████████████████████████████████| 1028/1028 [00:12<00:00, 79.67it/s]\n"
     ]
    },
    {
     "name": "stdout",
     "output_type": "stream",
     "text": [
      "Epoch 49:\n",
      "  Train Loss = 0.0126, Val Loss = 0.0802\n",
      "  Val Accuracy = 98.16%, F1-Score = 0.9816, Balanced Acc = 0.9716\n",
      "  Class 0 Metrics:\n",
      "    True Positives: 6421\n",
      "    True Negatives: 1653\n",
      "    False Positives: 79\n",
      "    False Negatives: 72\n",
      "    Precision: 0.9878\n",
      "    Recall: 0.9889\n"
     ]
    },
    {
     "name": "stderr",
     "output_type": "stream",
     "text": [
      "Epoch 50/50 Training: 100%|████████████████████████████████████████████████████████████████████████████████████████████████████████████████| 1028/1028 [00:13<00:00, 77.42it/s]\n"
     ]
    },
    {
     "name": "stdout",
     "output_type": "stream",
     "text": [
      "Epoch 50:\n",
      "  Train Loss = 0.0124, Val Loss = 0.0788\n",
      "  Val Accuracy = 98.16%, F1-Score = 0.9816, Balanced Acc = 0.9723\n",
      "  Class 0 Metrics:\n",
      "    True Positives: 6418\n",
      "    True Negatives: 1656\n",
      "    False Positives: 76\n",
      "    False Negatives: 75\n",
      "    Precision: 0.9883\n",
      "    Recall: 0.9884\n"
     ]
    }
   ],
   "source": [
    "# Set random seed for reproducibility\n",
    "torch.manual_seed(42)\n",
    "DEVICE = \"cuda:11\"\n",
    "# Device configuration\n",
    "device = torch.device(DEVICE if torch.cuda.is_available() else 'cpu')\n",
    "print(f\"Using device: {device}\")\n",
    "classes = [0, 1]\n",
    "mean, std = compute_normalization_stats('dataset/brightfield_particles.hdf5', classes=classes)\n",
    "# Load and split dataset\n",
    "dataset = ParticleDataset(h5_path='dataset/brightfield_particles.hdf5',\n",
    "                          classes=classes,\n",
    "                          mean=mean,\n",
    "                          std=std,\n",
    "                          padding=True\n",
    "                         )\n",
    "train_size = int(0.8 * len(dataset))\n",
    "val_size = len(dataset) - train_size\n",
    "train_dataset, val_dataset = torch.utils.data.random_split(\n",
    "    dataset, [train_size, val_size]\n",
    ")\n",
    "_,c=np.unique(dataset.labels[train_dataset.indices],return_counts=True)\n",
    "print(c[1]/(c[0]+c[1]))\n",
    "_,c=np.unique(dataset.labels[val_dataset.indices],return_counts=True)\n",
    "print(c[1]/(c[0]+c[1]))\n",
    "# Create data loaders\n",
    "train_loader = DataLoader(\n",
    "    train_dataset, \n",
    "    batch_size=32,\n",
    "    shuffle=True,\n",
    "    # num_workers=6,\n",
    "    pin_memory=True\n",
    ")\n",
    "\n",
    "val_loader = DataLoader(\n",
    "    val_dataset,\n",
    "    batch_size=32,\n",
    "    shuffle=False,\n",
    "    # num_workers=6,\n",
    "    pin_memory=True\n",
    ")\n",
    "\n",
    "# Initialize model\n",
    "# model = ModifiedViT(num_classes=len(classes))\n",
    "# model = model.to(device)\n",
    "# model = ModifiedVisionTransformer(\n",
    "#     image_height=16,  # can be different from width\n",
    "#     image_width=192,   # rectangular image\n",
    "#     patch_height=16,   # patch can also be rectangular\n",
    "#     patch_width=12,\n",
    "#     num_layers=12,\n",
    "#     num_heads=12,\n",
    "#     hidden_dim=768,\n",
    "#     mlp_dim=3072,\n",
    "#     num_classes=2,\n",
    "#     in_channels=1  # for single-channel images\n",
    "# )\n",
    "model = resnet \n",
    "model = model.to(device)\n",
    "\n",
    "# Train model\n",
    "(train_losses, val_losses, val_accuracies, \n",
    "            val_f1_scores, val_bal_accs, val_preds, val_true) = train_model(\n",
    "    model, train_loader, val_loader, device\n",
    ")\n"
   ]
  },
  {
   "cell_type": "code",
   "execution_count": 8,
   "id": "4fef9ae9-d78a-4e7d-97a3-b47c4bec9310",
   "metadata": {},
   "outputs": [],
   "source": [
    "import matplotlib.pyplot as plt\n",
    "import numpy as np\n",
    "from sklearn.metrics import confusion_matrix\n",
    "\n",
    "def plot_training_results(train_losses, val_f1_scores, val_bal_accs, val_preds, val_true):\n",
    "    fig, (ax1, ax2) = plt.subplots(1, 2, figsize=(14, 5))\n",
    "    \n",
    "    # Plot Training Loss\n",
    "    ax1.plot(train_losses, label='Loss', color='blue')\n",
    "    min_loss = min(train_losses)\n",
    "    ax1.axhline(y=min_loss, color='blue', linestyle='dashed')\n",
    "    ax1.text(0, min_loss, f'{min_loss:.4f}', color='blue', verticalalignment='bottom')\n",
    "    ax1.set_title('Training Loss')\n",
    "    ax1.set_xlabel('Epoch')\n",
    "    ax1.set_ylabel('Loss')\n",
    "    ax1.legend()\n",
    "    \n",
    "    # Convert metrics to percentages\n",
    "    val_f1_scores = [x * 100 for x in val_f1_scores]\n",
    "    val_bal_accs = [x * 100 for x in val_bal_accs]\n",
    "    \n",
    "    # Plot Validation Metrics\n",
    "    ax2.plot(val_f1_scores, label='F1-Score', color='green')\n",
    "    ax2.plot(val_bal_accs, label='Balanced Accuracy', color='orange')\n",
    "    \n",
    "    max_f1 = max(val_f1_scores)\n",
    "    max_bal_acc = max(val_bal_accs)\n",
    "    \n",
    "    ax2.axhline(y=max_f1, color='green', linestyle='dashed')\n",
    "    ax2.text(0, max_f1, f'{max_f1:.2f}%', color='green', verticalalignment='bottom')\n",
    "    ax2.axhline(y=max_bal_acc, color='orange', linestyle='dashed')\n",
    "    ax2.text(0, max_bal_acc, f'{max_bal_acc:.2f}%', color='orange', verticalalignment='bottom')\n",
    "    \n",
    "    ax2.set_title('Validation Metrics')\n",
    "    ax2.set_xlabel('Epoch')\n",
    "    ax2.set_ylabel('Percentage (%)')\n",
    "    ax2.legend()\n",
    "    \n",
    "    plt.tight_layout()\n",
    "    plt.savefig('training_plots.pdf', format=\"pdf\", dpi=300)\n",
    "    \n",
    "    # Confusion Matrix\n",
    "    cm = confusion_matrix(val_true, val_preds)\n",
    "    plt.figure(figsize=(4, 4))\n",
    "    plt.imshow(cm, interpolation='nearest', cmap=plt.cm.Blues)\n",
    "    # plt.title('Confusion Matrix')\n",
    "    \n",
    "    # Add labels\n",
    "    tick_marks = range(len(cm))\n",
    "    plt.xticks(tick_marks)\n",
    "    plt.yticks(tick_marks)\n",
    "    \n",
    "    # Annotate each cell with the corresponding value\n",
    "    for i in range(len(cm)):\n",
    "        for j in range(len(cm[i])):\n",
    "            plt.text(j, i, str(cm[i, j]), ha='center', va='center', \n",
    "                     color='white' if cm[i, j] > cm.max() / 2 else 'black')\n",
    "    \n",
    "    plt.ylabel('True Label')\n",
    "    plt.xlabel('Predicted Label')\n",
    "    plt.tight_layout()\n",
    "    plt.savefig('confusion_matrix.pdf', format=\"pdf\", dpi=300)\n",
    "    plt.show()"
   ]
  },
  {
   "cell_type": "code",
   "execution_count": 9,
   "id": "bd493701-4eab-4800-a4c4-35911da61ef2",
   "metadata": {},
   "outputs": [
    {
     "data": {
      "image/png": "[encoded data removed]",
      "text/plain": [
       "<Figure size 1400x500 with 2 Axes>"
      ]
     },
     "metadata": {},
     "output_type": "display_data"
    },
    {
     "data": {
      "image/png": "[encoded data removed]",
      "text/plain": [
       "<Figure size 400x400 with 1 Axes>"
      ]
     },
     "metadata": {},
     "output_type": "display_data"
    }
   ],
   "source": [
    "import numpy as np\n",
    "import matplotlib.pyplot as plt\n",
    "from matplotlib import rcParams\n",
    "\n",
    "# Use DejaVu Serif as an alternative to Times New Roman\n",
    "rcParams['font.family'] = 'DejaVu Serif'\n",
    "rcParams['font.size'] = 12\n",
    "rcParams['axes.titlesize'] = 14\n",
    "rcParams['axes.labelsize'] = 12\n",
    "rcParams['xtick.labelsize'] = 10\n",
    "rcParams['ytick.labelsize'] = 10\n",
    "rcParams['legend.fontsize'] = 10\n",
    "\n",
    "# Plot results\n",
    "# plot_training_results(train_losses, val_accuracies, val_f1_scores, val_bal_accs, val_preds, val_true)\n",
    "plot_training_results(train_losses, val_f1_scores, val_bal_accs, val_preds, val_true)\n",
    "# Close HDF5 file\n",
    "# dataset.close()"
   ]
  },
  {
   "cell_type": "code",
   "execution_count": 10,
   "id": "d2df6bd1-2bba-449c-8968-77d7136e0bf1",
   "metadata": {},
   "outputs": [],
   "source": [
    "dataset = ParticleDataset('dataset/brightfield_particles.hdf5')"
   ]
  },
  {
   "cell_type": "code",
   "execution_count": 11,
   "id": "44b83901-db74-4e9e-bd36-464ba6c04b75",
   "metadata": {},
   "outputs": [
    {
     "name": "stdout",
     "output_type": "stream",
     "text": [
      "torch.Size([16, 201])\n"
     ]
    },
    {
     "data": {
      "image/png": "[encoded data removed]",
      "text/plain": [
       "<Figure size 1000x500 with 1 Axes>"
      ]
     },
     "metadata": {},
     "output_type": "display_data"
    }
   ],
   "source": [
    "from torchvision.transforms import Resize\n",
    "import torch\n",
    "import matplotlib.pyplot as plt\n",
    "with h5py.File('dataset/brightfield_particles.hdf5', 'r') as f:\n",
    "    particle_1 = f['data'][f['labels'][:]==0,:][17]\n",
    "    particle_2 = f['data'][f['labels'][:]==1,:][18]\n",
    "img = torch.Tensor(particle_1)\n",
    "print(img.shape)\n",
    "img = Resize((16,16))(img.unsqueeze(0))\n",
    "img = img.squeeze(0)\n",
    "fig, ax = plt.subplots(1, 1, figsize=(10, 5)) \n",
    "plt.axis('off')\n",
    "plt.imshow(img,cmap='gray')\n",
    "plt.savefig('80nm.png')\n",
    "plt.show()"
   ]
  },
  {
   "cell_type": "code",
   "execution_count": 12,
   "id": "c274daeb-3f3b-40e6-8307-c5eaf209aede",
   "metadata": {},
   "outputs": [
    {
     "data": {
      "image/png": "[encoded data removed]",
      "text/plain": [
       "<Figure size 1000x500 with 1 Axes>"
      ]
     },
     "metadata": {},
     "output_type": "display_data"
    }
   ],
   "source": [
    "img = torch.Tensor(particle_2)\n",
    "img = Resize((16,16))(img.unsqueeze(0))\n",
    "img = img.squeeze(0)\n",
    "fig, ax = plt.subplots(1, 1, figsize=(10, 5)) \n",
    "plt.imshow(img, cmap='gray')\n",
    "plt.axis('off')\n",
    "plt.savefig('300nm.png')\n",
    "plt.show()"
   ]
  },
  {
   "cell_type": "code",
   "execution_count": 13,
   "id": "18a87fae-e025-41a0-a27f-052d0555c2ca",
   "metadata": {},
   "outputs": [],
   "source": [
    "import h5py\n",
    "\n",
    "def get_nd2_paths(base_path, option):\n",
    "    \"\"\"\n",
    "    Recursively collects paths to .nd2 files inside specified subfolders of Metasurface directories.\n",
    "\n",
    "    Args:\n",
    "        base_path (str): The base directory to search.\n",
    "        option (str): The folder to consider ('Brightfield' or 'Laser').\n",
    "\n",
    "    Returns:\n",
    "        list: A list of paths to .nd2 files.\n",
    "    \"\"\"\n",
    "    if option not in {'Brightfield', 'Laser'}:\n",
    "        raise ValueError(\"Option must be 'Brightfield' or 'Laser'\")\n",
    "    \n",
    "    nd2_paths = []\n",
    "    \n",
    "    for root, dirs, files in os.walk(base_path):\n",
    "        if 'Metasurface' in os.path.basename(root):\n",
    "            target_folder = os.path.join(root, option)\n",
    "            if os.path.isdir(target_folder):\n",
    "                for file in os.listdir(target_folder):\n",
    "                    if file.endswith('.nd2'):\n",
    "                        nd2_paths.append(os.path.join(target_folder, file))  \n",
    "    return nd2_paths\n",
    "data_path_1 = os.path.join('data', '2024_11_11', 'Metasurface', 'Chip_02')\n",
    "data_path_2 = os.path.join('data', '2024_11_12', 'Metasurface', 'Chip_01')\n",
    "data_path_3 = os.path.join('data', '2024_11_29', 'Metasurface', 'Chip_02')\n",
    "nd2_paths = []\n",
    "for data_path in [data_path_1, data_path_2,data_path_3]:\n",
    "    nd2_paths.extend(get_nd2_paths(data_path, 'Brightfield'))"
   ]
  },
  {
   "cell_type": "code",
   "execution_count": 14,
   "id": "ef84ee08-8b2b-4ca3-9c26-00d2fe8f0c84",
   "metadata": {},
   "outputs": [
    {
     "data": {
      "text/plain": [
       "['data/2024_11_11/Metasurface/Chip_02/Metasurface 01/Brightfield/02_01_BF.nd2',\n",
       " 'data/2024_11_11/Metasurface/Chip_02/Metasurface 05/Brightfield/02_05_BF.nd2',\n",
       " 'data/2024_11_11/Metasurface/Chip_02/Metasurface 02/Brightfield/02_02_BF.nd2',\n",
       " 'data/2024_11_11/Metasurface/Chip_02/Metasurface 04/Brightfield/02_04_BF.nd2',\n",
       " 'data/2024_11_11/Metasurface/Chip_02/Metasurface 03/Brightfield/02_03_BF.nd2',\n",
       " 'data/2024_11_12/Metasurface/Chip_01/Metasurface 01/Brightfield/01_01_BF.nd2',\n",
       " 'data/2024_11_12/Metasurface/Chip_01/Metasurface 05/Brightfield/01_05_BF001.nd2',\n",
       " 'data/2024_11_12/Metasurface/Chip_01/Metasurface 02/Brightfield/01_02_BF.nd2',\n",
       " 'data/2024_11_12/Metasurface/Chip_01/Metasurface 06/Brightfield/01_06_BF.nd2',\n",
       " 'data/2024_11_12/Metasurface/Chip_01/Metasurface 04/Brightfield/01_04_BF.nd2',\n",
       " 'data/2024_11_12/Metasurface/Chip_01/Metasurface 03/Brightfield/01_03_BF.nd2',\n",
       " 'data/2024_11_29/Metasurface/Chip_02/Metasurface 01/Brightfield/02_01_BF.nd2',\n",
       " 'data/2024_11_29/Metasurface/Chip_02/Metasurface 09/Brightfield/02_09_BF.nd2',\n",
       " 'data/2024_11_29/Metasurface/Chip_02/Metasurface 05/Brightfield/02_05_BF.nd2',\n",
       " 'data/2024_11_29/Metasurface/Chip_02/Metasurface 07/Brightfield/02_07_BF.nd2',\n",
       " 'data/2024_11_29/Metasurface/Chip_02/Metasurface 02/Brightfield/02_02_BF.nd2',\n",
       " 'data/2024_11_29/Metasurface/Chip_02/Metasurface 08/Brightfield/02_08_BF.nd2',\n",
       " 'data/2024_11_29/Metasurface/Chip_02/Metasurface 06/Brightfield/02_06_BF.nd2',\n",
       " 'data/2024_11_29/Metasurface/Chip_02/Metasurface 04/Brightfield/02_04_BF.nd2',\n",
       " 'data/2024_11_29/Metasurface/Chip_02/Metasurface 03/Brightfield/02_03_BF.nd2']"
      ]
     },
     "execution_count": 14,
     "metadata": {},
     "output_type": "execute_result"
    }
   ],
   "source": [
    "nd2_paths"
   ]
  },
  {
   "cell_type": "code",
   "execution_count": 15,
   "id": "76867b6f-fa0a-42f3-9322-bb645b447d0c",
   "metadata": {
    "scrolled": true
   },
   "outputs": [],
   "source": [
    "import os\n",
    "import pandas as pd\n",
    "import numpy as np\n",
    "\n",
    "def analyze_particles(nd2_file_paths):\n",
    "    # Mapping particle size to CSV filenames\n",
    "    rename_mapping = {\n",
    "        \"80 nm \": \"Captured FITC.csv\",\n",
    "        \"300 nm \": \"Captured TRITC.csv\",\n",
    "        \"600 nm \": \"Captured Cy5.csv\",\n",
    "    }\n",
    "    ren = {\n",
    "        \"Captured Cy5.csv\":\"600 nm\",\n",
    "        \"Captured FITC.csv\":\"80 nm\",\n",
    "        \"Captured TRITC.csv\":\"300 nm\"}\n",
    "        \n",
    "    particle_sizes = {\n",
    "        \"Captured Cy5.csv\": \"80 nm\",\n",
    "        \"Captured FITC.csv\": \"300 nm\",\n",
    "        \"Captured TRITC.csv\": \"1300 nm\",\n",
    "    }\n",
    "\n",
    "    # Prepare results dictionary\n",
    "    results = {\n",
    "        \"80 nm\": {\"count\": 0, \"min_area\": None, \"max_area\": None, \"total_area\": 0, \"areas\": []},\n",
    "        \"300 nm\": {\"count\": 0, \"min_area\": None, \"max_area\": None, \"total_area\": 0, \"areas\": []},\n",
    "        \"600 nm\": {\"count\": 0, \"min_area\": None, \"max_area\": None, \"total_area\": 0, \"areas\": []},\n",
    "        \"1300 nm\": {\"count\": 0, \"min_area\": None, \"max_area\": None, \"total_area\": 0, \"areas\": []},\n",
    "    }\n",
    "\n",
    "    # Image dimensions for density calculation\n",
    "    IMAGE_AREA = 2160 * 2560\n",
    "\n",
    "    for path in nd2_file_paths:\n",
    "        folder = os.path.dirname(path)\n",
    "\n",
    "        # Adjust mappings for \"2024_11_29\" case\n",
    "        if \"2024_11_29\" in path:\n",
    "            a = ren\n",
    "        else:\n",
    "            a = particle_sizes\n",
    "        for csv_file, size_label in a.items():\n",
    "            csv_path = os.path.join(folder, csv_file)\n",
    "\n",
    "            if os.path.exists(csv_path):\n",
    "                df = pd.read_csv(csv_path)\n",
    "\n",
    "                # Compute areas\n",
    "                areas = (df[\"xMax\"] - df[\"xMin\"]) * (df[\"yMax\"] - df[\"yMin\"])\n",
    "\n",
    "                # Update results\n",
    "                results[size_label][\"count\"] += len(areas)\n",
    "                results[size_label][\"total_area\"] += areas.sum()\n",
    "                results[size_label][\"areas\"].extend(areas)\n",
    "\n",
    "    # Final calculations for stats\n",
    "    total_particles = sum(results[size][\"count\"] for size in results)\n",
    "\n",
    "    for size, stats in results.items():\n",
    "        if stats[\"count\"] > 0:\n",
    "            stats[\"min_area\"] = np.min(stats[\"areas\"])\n",
    "            stats[\"max_area\"] = np.max(stats[\"areas\"])\n",
    "            stats[\"avg_area\"] = np.mean(stats[\"areas\"])\n",
    "            stats[\"std_area\"] = np.std(stats[\"areas\"])\n",
    "            stats[\"density\"] = stats[\"count\"] / IMAGE_AREA  # Particles per unit area\n",
    "            stats[\"percentage\"] = (stats[\"count\"] / total_particles) * 100\n",
    "\n",
    "        # Remove 'areas' list to save memory\n",
    "        del stats[\"areas\"]\n",
    "\n",
    "    return results"
   ]
  },
  {
   "cell_type": "code",
   "execution_count": 16,
   "id": "cd4a7df7-98ae-48c6-90e6-43d7e1104c56",
   "metadata": {},
   "outputs": [
    {
     "data": {
      "text/plain": [
       "{'80 nm': {'count': 32462,\n",
       "  'min_area': 16.0,\n",
       "  'max_area': 156.0,\n",
       "  'total_area': 1093005.0,\n",
       "  'avg_area': 33.670291417657566,\n",
       "  'std_area': 14.66897608056359,\n",
       "  'density': 0.005870587384259259,\n",
       "  'percentage': 78.50544135429263},\n",
       " '300 nm': {'count': 8659,\n",
       "  'min_area': 16.0,\n",
       "  'max_area': 132.0,\n",
       "  'total_area': 303874.0,\n",
       "  'avg_area': 35.09342880240212,\n",
       "  'std_area': 11.802183555531926,\n",
       "  'density': 0.0015659360532407408,\n",
       "  'percentage': 20.94074969770254},\n",
       " '600 nm': {'count': 169,\n",
       "  'min_area': 16.0,\n",
       "  'max_area': 110.0,\n",
       "  'total_area': 8644.0,\n",
       "  'avg_area': 51.14792899408284,\n",
       "  'std_area': 27.478803210628538,\n",
       "  'density': 3.056278935185185e-05,\n",
       "  'percentage': 0.40870616686819833},\n",
       " '1300 nm': {'count': 60,\n",
       "  'min_area': 16.0,\n",
       "  'max_area': 324.0,\n",
       "  'total_area': 3239.0,\n",
       "  'avg_area': 53.983333333333334,\n",
       "  'std_area': 61.818953853616414,\n",
       "  'density': 1.0850694444444445e-05,\n",
       "  'percentage': 0.14510278113663846}}"
      ]
     },
     "execution_count": 16,
     "metadata": {},
     "output_type": "execute_result"
    }
   ],
   "source": [
    "out = analyze_particles(nd2_paths)\n",
    "out"
   ]
  },
  {
   "cell_type": "code",
   "execution_count": 17,
   "id": "0e5e535a-e20c-4f12-8cd3-f9488af7e3dd",
   "metadata": {},
   "outputs": [
    {
     "name": "stdout",
     "output_type": "stream",
     "text": [
      "torch.Size([32, 1, 16, 16])\n"
     ]
    }
   ],
   "source": [
    "import torch\n",
    "from monai.networks.utils import one_hot\n",
    "a=torch.rand((32,1,16,16))\n",
    "print(a.shape)"
   ]
  },
  {
   "cell_type": "code",
   "execution_count": 18,
   "id": "d2723be5-8ce3-4fac-8459-bcde54113afd",
   "metadata": {},
   "outputs": [
    {
     "name": "stdout",
     "output_type": "stream",
     "text": [
      "tensor([[[0.5552, 0.7089, 0.5943, 0.5410, 0.6268, 0.6665, 0.5441, 0.5177,\n",
      "          0.6814, 0.6928, 0.5995, 0.5531, 0.7300, 0.6430, 0.6590, 0.7152],\n",
      "         [0.7278, 0.5865, 0.6677, 0.6602, 0.6355, 0.5802, 0.6275, 0.6801,\n",
      "          0.5386, 0.6195, 0.6511, 0.5457, 0.6890, 0.6699, 0.5845, 0.6105],\n",
      "         [0.6374, 0.6803, 0.5958, 0.5596, 0.5234, 0.5744, 0.6419, 0.5279,\n",
      "          0.6160, 0.5499, 0.5714, 0.5423, 0.6900, 0.7251, 0.7270, 0.5671],\n",
      "         [0.6744, 0.6984, 0.6519, 0.6448, 0.7014, 0.6838, 0.6004, 0.6517,\n",
      "          0.6618, 0.5599, 0.6363, 0.7074, 0.5159, 0.6985, 0.5771, 0.7240],\n",
      "         [0.6231, 0.6261, 0.7206, 0.6803, 0.7056, 0.6736, 0.6337, 0.6106,\n",
      "          0.6924, 0.5781, 0.6647, 0.6933, 0.5615, 0.6601, 0.6282, 0.5005],\n",
      "         [0.5529, 0.5458, 0.5853, 0.7238, 0.6896, 0.5259, 0.5286, 0.6071,\n",
      "          0.6208, 0.5688, 0.6238, 0.6791, 0.6606, 0.5302, 0.5786, 0.6732],\n",
      "         [0.6707, 0.6055, 0.5556, 0.6185, 0.6303, 0.6600, 0.5662, 0.5354,\n",
      "          0.5573, 0.6195, 0.6300, 0.6151, 0.5573, 0.7094, 0.5682, 0.6298],\n",
      "         [0.6066, 0.6014, 0.5789, 0.6167, 0.5983, 0.7210, 0.5041, 0.5521,\n",
      "          0.5241, 0.6379, 0.6045, 0.7052, 0.6839, 0.6237, 0.6420, 0.7106],\n",
      "         [0.6710, 0.6639, 0.5496, 0.5231, 0.6868, 0.5452, 0.5348, 0.5597,\n",
      "          0.5466, 0.5796, 0.7132, 0.5344, 0.7085, 0.7017, 0.6778, 0.7270],\n",
      "         [0.5701, 0.5638, 0.5441, 0.6618, 0.5882, 0.6256, 0.5260, 0.7254,\n",
      "          0.6291, 0.6018, 0.7086, 0.7305, 0.5020, 0.6268, 0.5124, 0.5291],\n",
      "         [0.6366, 0.6718, 0.5602, 0.6625, 0.6569, 0.7005, 0.6662, 0.6917,\n",
      "          0.6362, 0.5009, 0.5709, 0.6145, 0.5195, 0.5371, 0.5375, 0.6451],\n",
      "         [0.6503, 0.5843, 0.5670, 0.6844, 0.6113, 0.6966, 0.7204, 0.6281,\n",
      "          0.6923, 0.5311, 0.5549, 0.5734, 0.6898, 0.5522, 0.6554, 0.6478],\n",
      "         [0.6020, 0.5301, 0.6866, 0.6405, 0.5837, 0.5179, 0.6373, 0.6177,\n",
      "          0.6051, 0.6189, 0.5038, 0.6012, 0.6691, 0.6188, 0.6501, 0.6322],\n",
      "         [0.6296, 0.7212, 0.6365, 0.7166, 0.6527, 0.6513, 0.5622, 0.6648,\n",
      "          0.6825, 0.7115, 0.6604, 0.5303, 0.6947, 0.7227, 0.6936, 0.6181],\n",
      "         [0.6334, 0.7281, 0.7126, 0.5138, 0.6107, 0.5300, 0.6147, 0.5273,\n",
      "          0.6165, 0.5055, 0.5384, 0.6224, 0.6798, 0.6017, 0.5780, 0.7071],\n",
      "         [0.6365, 0.5612, 0.5745, 0.6869, 0.6309, 0.6192, 0.6343, 0.5825,\n",
      "          0.6052, 0.7161, 0.6969, 0.6517, 0.6526, 0.6170, 0.5169, 0.5507]]])\n"
     ]
    }
   ],
   "source": [
    "print(torch.sigmoid(a[0]))"
   ]
  }
 ],
 "metadata": {
  "kernelspec": {
   "display_name": "iscat",
   "language": "python",
   "name": "iscat"
  },
  "language_info": {
   "codemirror_mode": {
    "name": "ipython",
    "version": 3
   },
   "file_extension": ".py",
   "mimetype": "text/x-python",
   "name": "python",
   "nbconvert_exporter": "python",
   "pygments_lexer": "ipython3",
   "version": "3.11.11"
  }
 },
 "nbformat": 4,
 "nbformat_minor": 5
}
