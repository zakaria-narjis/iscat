{
 "cells": [
  {
   "cell_type": "code",
   "execution_count": 1,
   "metadata": {},
   "outputs": [
    {
     "name": "stdout",
     "output_type": "stream",
     "text": [
      "Current Directory: d:\\workspace\\iscat\n"
     ]
    }
   ],
   "source": [
    "import os\n",
    "os.chdir(\"..\")\n",
    "print(\"Current Directory:\", os.getcwd())"
   ]
  },
  {
   "cell_type": "code",
   "execution_count": 2,
   "metadata": {},
   "outputs": [],
   "source": [
    "def get_fluo_paths(root_path:str, mode:str=\"Brightfield\"):\n",
    "    \"\"\"\n",
    "    Extract paths to .nd2 files and corresponding TIFF files from the specified mode folder.\n",
    "\n",
    "    Args:\n",
    "        root_path (str): The root directory to search.\n",
    "        mode (str): The folder name to focus on (default is 'Brightfield').\n",
    "\n",
    "    Returns:\n",
    "        tuple: Two lists - list of .nd2 file paths and list of tuples with corresponding TIFF file paths.\n",
    "    \"\"\"\n",
    "\n",
    "    target_files = []\n",
    "\n",
    "    for dirpath, dirnames, filenames in os.walk(root_path):\n",
    "        if os.path.basename(dirpath) == mode:\n",
    "\n",
    "            # Generate TIFF file paths dynamically based on the prefix\n",
    "            cy5_path = os.path.join(dirpath, f'Captured Cy5.tif')\n",
    "            fitc_path = os.path.join(dirpath, f'Captured FITC.tif')\n",
    "            tritc_path = os.path.join(dirpath, f'Captured TRITC.tif')\n",
    "            target_files.append((cy5_path, fitc_path, tritc_path))\n",
    "            \n",
    "            # Ensure all three TIFF files exist\n",
    "            assert all(os.path.exists(path) for path in [cy5_path, fitc_path, tritc_path])\n",
    "        \n",
    "            \n",
    "    return target_files"
   ]
  },
  {
   "cell_type": "code",
   "execution_count": 14,
   "metadata": {},
   "outputs": [],
   "source": [
    "base_path = os.path.join(\"dataset\", \"2024_11_29\",\"Metasurface\",\"Chip_02\")\n",
    "assert os.path.exists(base_path)\n",
    "traget_files = get_fluo_paths(base_path, 'Laser')"
   ]
  },
  {
   "cell_type": "code",
   "execution_count": 15,
   "metadata": {},
   "outputs": [
    {
     "name": "stdout",
     "output_type": "stream",
     "text": [
      "ImageJ2 version: 2.14.0/1.54f\n"
     ]
    },
    {
     "name": "stderr",
     "output_type": "stream",
     "text": [
      "Creating Masks with ComDet:   0%|          | 0/8 [00:00<?, ?it/s]Operating in headless mode - the original ImageJ will have limited functionality.\n",
      "Operating in headless mode - the IJ class will not be fully functional.\n",
      "Operating in headless mode - the ResultsTable class will not be fully functional.\n",
      "Creating Masks with ComDet: 100%|██████████| 8/8 [02:36<00:00, 19.58s/it]\n"
     ]
    }
   ],
   "source": [
    "from src.data_processing.utils import Utils\n",
    "Utils.generate_np_masks(traget_files,seg_args=None,seg_method=\"comdet\")"
   ]
  }
 ],
 "metadata": {
  "kernelspec": {
   "display_name": "iscat",
   "language": "python",
   "name": "python3"
  },
  "language_info": {
   "codemirror_mode": {
    "name": "ipython",
    "version": 3
   },
   "file_extension": ".py",
   "mimetype": "text/x-python",
   "name": "python",
   "nbconvert_exporter": "python",
   "pygments_lexer": "ipython3",
   "version": "3.11.10"
  }
 },
 "nbformat": 4,
 "nbformat_minor": 2
}
