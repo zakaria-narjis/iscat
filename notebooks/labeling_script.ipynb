{
 "cells": [
  {
   "cell_type": "code",
   "execution_count": 1,
   "metadata": {},
   "outputs": [
    {
     "name": "stdout",
     "output_type": "stream",
     "text": [
      "Current Directory: /workspace/iscat\n"
     ]
    }
   ],
   "source": [
    "import os\n",
    "os.chdir(\"..\")\n",
    "print(\"Current Directory:\", os.getcwd())"
   ]
  },
  {
   "cell_type": "code",
   "execution_count": 2,
   "metadata": {},
   "outputs": [],
   "source": [
    "def get_fluo_paths(root_path:str, mode:str=\"Brightfield\"):\n",
    "    \"\"\"\n",
    "    Extract paths to .nd2 files and corresponding TIFF files from the specified mode folder.\n",
    "\n",
    "    Args:\n",
    "        root_path (str): The root directory to search.\n",
    "        mode (str): The folder name to focus on (default is 'Brightfield').\n",
    "\n",
    "    Returns:\n",
    "        tuple: Two lists - list of .nd2 file paths and list of tuples with corresponding TIFF file paths.\n",
    "    \"\"\"\n",
    "\n",
    "    target_files = []\n",
    "\n",
    "    for dirpath, dirnames, filenames in os.walk(root_path):\n",
    "        if os.path.basename(dirpath) == mode:\n",
    "\n",
    "            # Generate TIFF file paths dynamically based on the prefix\n",
    "            cy5_path = os.path.join(dirpath, f'Captured Cy5.tif')\n",
    "            fitc_path = os.path.join(dirpath, f'Captured FITC.tif')\n",
    "            tritc_path = os.path.join(dirpath, f'Captured TRITC.tif')\n",
    "            target_files.append((cy5_path, fitc_path, tritc_path))\n",
    "            \n",
    "            # Ensure all three TIFF files exist\n",
    "            assert all(os.path.exists(path) for path in [cy5_path, fitc_path, tritc_path])\n",
    "        \n",
    "            \n",
    "    return target_files"
   ]
  },
  {
   "cell_type": "code",
   "execution_count": 3,
   "metadata": {},
   "outputs": [],
   "source": [
    "base_path = os.path.join(\"data\", \"2024_11_29\",\"Metasurface\",\"Chip_02\")\n",
    "target_files= get_fluo_paths(base_path, 'Brightfield')"
   ]
  },
  {
   "cell_type": "code",
   "execution_count": 4,
   "metadata": {},
   "outputs": [
    {
     "data": {
      "text/plain": [
       "[('data/2024_11_29/Metasurface/Chip_02/Metasurface 01/Brightfield/Captured Cy5.tif',\n",
       "  'data/2024_11_29/Metasurface/Chip_02/Metasurface 01/Brightfield/Captured FITC.tif',\n",
       "  'data/2024_11_29/Metasurface/Chip_02/Metasurface 01/Brightfield/Captured TRITC.tif'),\n",
       " ('data/2024_11_29/Metasurface/Chip_02/Metasurface 09/Brightfield/Captured Cy5.tif',\n",
       "  'data/2024_11_29/Metasurface/Chip_02/Metasurface 09/Brightfield/Captured FITC.tif',\n",
       "  'data/2024_11_29/Metasurface/Chip_02/Metasurface 09/Brightfield/Captured TRITC.tif'),\n",
       " ('data/2024_11_29/Metasurface/Chip_02/Metasurface 05/Brightfield/Captured Cy5.tif',\n",
       "  'data/2024_11_29/Metasurface/Chip_02/Metasurface 05/Brightfield/Captured FITC.tif',\n",
       "  'data/2024_11_29/Metasurface/Chip_02/Metasurface 05/Brightfield/Captured TRITC.tif'),\n",
       " ('data/2024_11_29/Metasurface/Chip_02/Metasurface 07/Brightfield/Captured Cy5.tif',\n",
       "  'data/2024_11_29/Metasurface/Chip_02/Metasurface 07/Brightfield/Captured FITC.tif',\n",
       "  'data/2024_11_29/Metasurface/Chip_02/Metasurface 07/Brightfield/Captured TRITC.tif'),\n",
       " ('data/2024_11_29/Metasurface/Chip_02/Metasurface 02/Brightfield/Captured Cy5.tif',\n",
       "  'data/2024_11_29/Metasurface/Chip_02/Metasurface 02/Brightfield/Captured FITC.tif',\n",
       "  'data/2024_11_29/Metasurface/Chip_02/Metasurface 02/Brightfield/Captured TRITC.tif'),\n",
       " ('data/2024_11_29/Metasurface/Chip_02/Metasurface 08/Brightfield/Captured Cy5.tif',\n",
       "  'data/2024_11_29/Metasurface/Chip_02/Metasurface 08/Brightfield/Captured FITC.tif',\n",
       "  'data/2024_11_29/Metasurface/Chip_02/Metasurface 08/Brightfield/Captured TRITC.tif'),\n",
       " ('data/2024_11_29/Metasurface/Chip_02/Metasurface 06/Brightfield/Captured Cy5.tif',\n",
       "  'data/2024_11_29/Metasurface/Chip_02/Metasurface 06/Brightfield/Captured FITC.tif',\n",
       "  'data/2024_11_29/Metasurface/Chip_02/Metasurface 06/Brightfield/Captured TRITC.tif'),\n",
       " ('data/2024_11_29/Metasurface/Chip_02/Metasurface 04/Brightfield/Captured Cy5.tif',\n",
       "  'data/2024_11_29/Metasurface/Chip_02/Metasurface 04/Brightfield/Captured FITC.tif',\n",
       "  'data/2024_11_29/Metasurface/Chip_02/Metasurface 04/Brightfield/Captured TRITC.tif'),\n",
       " ('data/2024_11_29/Metasurface/Chip_02/Metasurface 03/Brightfield/Captured Cy5.tif',\n",
       "  'data/2024_11_29/Metasurface/Chip_02/Metasurface 03/Brightfield/Captured FITC.tif',\n",
       "  'data/2024_11_29/Metasurface/Chip_02/Metasurface 03/Brightfield/Captured TRITC.tif')]"
      ]
     },
     "execution_count": 4,
     "metadata": {},
     "output_type": "execute_result"
    }
   ],
   "source": [
    "target_files"
   ]
  },
  {
   "cell_type": "code",
   "execution_count": 5,
   "metadata": {},
   "outputs": [
    {
     "name": "stderr",
     "output_type": "stream",
     "text": [
      "Creating Masks with ComDet: 100%|███████████████████████████████████████████████████████████████████████████████████████████████████████████████| 9/9 [06:42<00:00, 44.76s/it]\n"
     ]
    }
   ],
   "source": [
    "from src.data_processing.utils import Utils\n",
    "Utils.generate_np_masks(target_files,seg_args=None,seg_method=\"comdet\")"
   ]
  }
 ],
 "metadata": {
  "kernelspec": {
   "display_name": "iscat",
   "language": "python",
   "name": "iscat"
  },
  "language_info": {
   "codemirror_mode": {
    "name": "ipython",
    "version": 3
   },
   "file_extension": ".py",
   "mimetype": "text/x-python",
   "name": "python",
   "nbconvert_exporter": "python",
   "pygments_lexer": "ipython3",
   "version": "3.11.11"
  }
 },
 "nbformat": 4,
 "nbformat_minor": 4
}
