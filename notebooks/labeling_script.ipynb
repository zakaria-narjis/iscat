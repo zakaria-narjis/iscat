{
 "cells": [
  {
   "cell_type": "code",
   "execution_count": null,
   "metadata": {
    "vscode": {
     "languageId": "plaintext"
    }
   },
   "outputs": [],
   "source": [
    "import os\n",
    "os.chdir(\"..\")\n",
    "print(\"Current Directory:\", os.getcwd())"
   ]
  },
  {
   "cell_type": "code",
   "execution_count": null,
   "metadata": {
    "vscode": {
     "languageId": "plaintext"
    }
   },
   "outputs": [],
   "source": [
    "def get_fluo_paths(root_path:str, mode:str=\"Brightfield\"):\n",
    "    \"\"\"\n",
    "    Extract paths to .nd2 files and corresponding TIFF files from the specified mode folder.\n",
    "\n",
    "    Args:\n",
    "        root_path (str): The root directory to search.\n",
    "        mode (str): The folder name to focus on (default is 'Brightfield').\n",
    "\n",
    "    Returns:\n",
    "        tuple: Two lists - list of .nd2 file paths and list of tuples with corresponding TIFF file paths.\n",
    "    \"\"\"\n",
    "\n",
    "    target_files = []\n",
    "\n",
    "    for dirpath, dirnames, filenames in os.walk(root_path):\n",
    "        if os.path.basename(dirpath) == mode:\n",
    "\n",
    "            # Generate TIFF file paths dynamically based on the prefix\n",
    "            cy5_path = os.path.join(dirpath, f'Captured Cy5.tif')\n",
    "            fitc_path = os.path.join(dirpath, f'Captured FITC.tif')\n",
    "            tritc_path = os.path.join(dirpath, f'Captured TRITC.tif')\n",
    "            target_files.append((cy5_path, fitc_path, tritc_path))\n",
    "            \n",
    "            # Ensure all three TIFF files exist\n",
    "            assert all(os.path.exists(path) for path in [cy5_path, fitc_path, tritc_path])\n",
    "        \n",
    "            \n",
    "    return target_files"
   ]
  },
  {
   "cell_type": "code",
   "execution_count": null,
   "metadata": {
    "vscode": {
     "languageId": "plaintext"
    }
   },
   "outputs": [],
   "source": [
    "base_path = os.path.join(\"dataset\", \"2024_11_29\",\"chip_02\")\n",
    "out = get_fluo_paths(base_path, 'Brightfield')"
   ]
  },
  {
   "cell_type": "code",
   "execution_count": null,
   "metadata": {
    "vscode": {
     "languageId": "plaintext"
    }
   },
   "outputs": [],
   "source": [
    "from src.data_processing.utils import Utils\n",
    "Utils.generate_np_masks(out,seg_args=None,seg_method=\"comdet\")"
   ]
  }
 ],
 "metadata": {
  "language_info": {
   "name": "python"
  }
 },
 "nbformat": 4,
 "nbformat_minor": 2
}
