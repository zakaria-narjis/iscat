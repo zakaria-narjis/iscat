{
 "cells": [
  {
   "cell_type": "code",
   "execution_count": 1,
   "id": "c2aa144f-7228-4f44-8232-293eb0d040bd",
   "metadata": {},
   "outputs": [
    {
     "name": "stdout",
     "output_type": "stream",
     "text": [
      "Current Directory: /workspace/iscat\n"
     ]
    }
   ],
   "source": [
    "import os\n",
    "os.chdir(\"..\")\n",
    "print(\"Current Directory:\", os.getcwd())"
   ]
  },
  {
   "cell_type": "code",
   "execution_count": 2,
   "id": "92eee321-4fcf-4e3f-87b8-7d218bdfee5c",
   "metadata": {},
   "outputs": [],
   "source": [
    "from src.data_processing.dataset import iScatDataset\n",
    "from src.data_processing.utils import Utils\n",
    "import torch\n",
    "import numpy as np\n",
    "import matplotlib.pyplot as plt\n",
    "DEVICE= 'cuda:12' if torch.cuda.is_available() else 'cpu'\n",
    "data_path_1 = os.path.join('dataset', '2024_11_11', 'Metasurface', 'Chip_02')\n",
    "data_path_2 = os.path.join('dataset', '2024_11_12', 'Metasurface', 'Chip_01')\n",
    "image_paths= []\n",
    "target_paths=[]\n",
    "image_indicies = 12\n",
    "for data_path in [data_path_1,data_path_2]:\n",
    "    i,t = Utils.get_data_paths(data_path,'Brightfield',image_indicies )\n",
    "    image_paths.extend(i)\n",
    "    target_paths.extend(t)"
   ]
  },
  {
   "cell_type": "code",
   "execution_count": 79,
   "id": "bf37601a-1f9f-4cd8-b80c-abacef19b6f7",
   "metadata": {},
   "outputs": [
    {
     "name": "stderr",
     "output_type": "stream",
     "text": [
      "Loading images to Memory: 100%|█████████████████████████████████████████████████████████████████████████████████████████████████████████████████| 9/9 [00:01<00:00,  6.75it/s]\n",
      "Loading images to Memory: 100%|█████████████████████████████████████████████████████████████████████████████████████████████████████████████████| 2/2 [00:00<00:00,  7.32it/s]\n"
     ]
    }
   ],
   "source": [
    "image_size=256\n",
    "fluo_masks_indices=[0]\n",
    "seg_method = \"comdet\"\n",
    "normalize=False\n",
    "train_dataset = iScatDataset(image_paths[:-2], target_paths[:-2], preload_image=True,image_size = (image_size,image_size),apply_augmentation=True,normalize=normalize,device=DEVICE,fluo_masks_indices=fluo_masks_indices,seg_method=seg_method)\n",
    "valid_dataset = iScatDataset(image_paths[-2:],target_paths[-2:],preload_image=True,image_size = (image_size,image_size),apply_augmentation=False,normalize=normalize,device=DEVICE,fluo_masks_indices=fluo_masks_indices,seg_method=seg_method)\n",
    "MEAN = train_dataset.images.mean(dim=(0,2,3),keepdim=True)\n",
    "STD = train_dataset.images.std(dim=(0,2,3),keepdim=True)"
   ]
  },
  {
   "cell_type": "code",
   "execution_count": 102,
   "id": "aa6ccf6f-6a94-469d-8301-4d245942d312",
   "metadata": {},
   "outputs": [],
   "source": [
    "from torch.utils.data import DataLoader, Dataset\n",
    "from torchvision.transforms.v2 import Normalize\n",
    "batch_size=128\n",
    "def create_dataloaders(test_dataset, batch_size=4):\n",
    "    val_loader = DataLoader(test_dataset, batch_size=batch_size, shuffle=False)\n",
    "    return val_loader\n",
    "val_loader = create_dataloaders(valid_dataset, batch_size=batch_size)"
   ]
  },
  {
   "cell_type": "code",
   "execution_count": 103,
   "id": "33fd3002-e9eb-4eb8-a110-b2d9d2019c9f",
   "metadata": {},
   "outputs": [],
   "source": [
    "n_samples = 10\n",
    "samples = [valid_dataset[i] for i in range(n_samples)]\n",
    "test_batch = next(iter(val_loader))"
   ]
  },
  {
   "cell_type": "code",
   "execution_count": 61,
   "id": "9fe0a7db-e816-451b-8e68-d2b86aaf2ae7",
   "metadata": {},
   "outputs": [],
   "source": [
    "experiments_paths = (\n",
    "    'experiments/runs/UNet_Brightfield_2025-01-12_18-05-44',\n",
    "    'experiments/runs/UNet_Brightfield_2025-01-12_19-09-15',\n",
    "    'experiments/runs/UNet_Brightfield_2025-01-12_20-27-14')"
   ]
  },
  {
   "cell_type": "code",
   "execution_count": 104,
   "id": "7c2cbefc-1eb8-4396-95c6-54c8974b85e7",
   "metadata": {},
   "outputs": [],
   "source": [
    "from src.models.Unet import UNet\n",
    "def load_model(path, num_classes=2,device=DEVICE):\n",
    "    model = UNet(in_channels=12, num_classes=num_classes, init_features=64)\n",
    "    checkpoint = torch.load(path, weights_only=False)\n",
    "    model.load_state_dict(checkpoint['model_state_dict'])\n",
    "    model.to(device)\n",
    "    model.eval()  \n",
    "    return model\n",
    "    \n",
    "def predict(model, image, mean, std, device):\n",
    "    model.eval()\n",
    "    input_image = image.to(device) # torch.Size([1, 3, 224, 224])\n",
    "    input_image = Utils.z_score_normalize(input_image, mean, std)\n",
    "    with torch.no_grad():\n",
    "        output = model(input_image)  # Shape: [1, num_classes, 224, 224]\n",
    "    predicted_mask = torch.argmax(output, dim=1).cpu().numpy()  # Shape: (224, 224)\n",
    "\n",
    "    return predicted_mask"
   ]
  },
  {
   "cell_type": "code",
   "execution_count": 105,
   "id": "382afcf2-794c-42fb-a7ce-b2dd2c18bff4",
   "metadata": {},
   "outputs": [
    {
     "name": "stderr",
     "output_type": "stream",
     "text": [
      "Using cache found in /root/.cache/torch/hub/mateuszbuda_brain-segmentation-pytorch_master\n"
     ]
    }
   ],
   "source": [
    "images = test_batch[0].clone()\n",
    "gt_masks = test_batch[1].clone().cpu().numpy()\n",
    "path = experiments_paths[0]\n",
    "model_path = path+'/best_model.pth'\n",
    "model = load_model(model_path,num_classes=2)\n",
    "pred_masks = predict(model, images, MEAN, STD, DEVICE)"
   ]
  },
  {
   "cell_type": "code",
   "execution_count": 106,
   "id": "f6d3a433-3f02-4da0-969a-4bbd1aa10da1",
   "metadata": {},
   "outputs": [
    {
     "data": {
      "text/plain": [
       "(128, 256, 256)"
      ]
     },
     "execution_count": 106,
     "metadata": {},
     "output_type": "execute_result"
    }
   ],
   "source": [
    "pred_masks.shape"
   ]
  },
  {
   "cell_type": "code",
   "execution_count": 108,
   "id": "1c4a99e2-2f26-454a-b070-e4dcf105d89d",
   "metadata": {},
   "outputs": [],
   "source": [
    "import numpy as np\n",
    "from scipy.ndimage import label\n",
    "from typing import Tuple\n",
    "def count_matching_particles(pred_mask: np.ndarray, \n",
    "                           gt_mask: np.ndarray) -> Tuple[int, int, int]:\n",
    "    \"\"\"\n",
    "    Count matching particles between prediction and ground truth masks.\n",
    "    \n",
    "    Args:\n",
    "        pred_mask: Binary prediction mask (0 and 1)\n",
    "        gt_mask: Binary ground truth mask (0 and 1)\n",
    "        \n",
    "    Returns:\n",
    "        Tuple of (true_positives, false_positives, false_negatives)\n",
    "    \"\"\"\n",
    "    # Label connected components in both masks\n",
    "    pred_labeled, num_pred = label(pred_mask)\n",
    "    gt_labeled, num_gt = label(gt_mask)   \n",
    "    # Initialize counters\n",
    "    tp = 0\n",
    "    matched_pred_labels = set()\n",
    "    matched_gt_labels = set()\n",
    "    # For each predicted particle\n",
    "    for pred_label in range(1, num_pred + 1):\n",
    "        pred_particle = pred_labeled == pred_label    \n",
    "        # Find any overlap with GT particles\n",
    "        overlapping_gt_labels = set(gt_labeled[pred_particle]) - {0}     \n",
    "        if overlapping_gt_labels:\n",
    "            # If there's any overlap, count as TP\n",
    "            tp += 1\n",
    "            matched_pred_labels.add(pred_label)\n",
    "            matched_gt_labels.update(overlapping_gt_labels)   \n",
    "    # Count unmatched predictions as FP and unmatched GT as FN\n",
    "    fp = num_pred - len(matched_pred_labels)\n",
    "    fn = num_gt - len(matched_gt_labels)    \n",
    "    return tp, fp, fn\n",
    "\n",
    "def evaluate_batch(pred_masks: np.ndarray, \n",
    "                  gt_masks: np.ndarray) -> Tuple[int, int, int]:\n",
    "    \"\"\"\n",
    "    Evaluate batch of masks.\n",
    "    \n",
    "    Args:\n",
    "        pred_masks: Binary prediction masks of shape (batch_size, height, width)\n",
    "        gt_masks: Binary ground truth masks of shape (batch_size, height, width)\n",
    "        \n",
    "    Returns:\n",
    "        Tuple of total (true_positives, false_positives, false_negatives)\n",
    "    \"\"\"\n",
    "    total_tp = total_fp = total_fn = 0 \n",
    "    precision = 0\n",
    "    recall = 0\n",
    "    for pred, gt in zip(pred_masks, gt_masks):\n",
    "        tp, fp, fn = count_matching_particles(pred, gt)\n",
    "        precision += (tp/(fp+tp))\n",
    "        recall += (tp/(fn+tp))\n",
    "        total_tp += tp\n",
    "        total_fp += fp\n",
    "        total_fn += fn\n",
    "        \n",
    "    precision/=pred_masks.shape[0]\n",
    "    recall/=pred_masks.shape[0]\n",
    "    total_precision = (total_tp/(total_tp+total_fp))\n",
    "    total_recall = (total_tp/(total_tp+total_fn))\n",
    "    return precision,recall,total_precision,total_recall"
   ]
  },
  {
   "cell_type": "code",
   "execution_count": 109,
   "id": "fe3f8807-ead1-4b8c-baaf-7c5e586afc9e",
   "metadata": {},
   "outputs": [
    {
     "data": {
      "text/plain": [
       "(0.5130321424227431, 0.4988754155078959, 0.52, 0.46923076923076923)"
      ]
     },
     "execution_count": 109,
     "metadata": {},
     "output_type": "execute_result"
    }
   ],
   "source": [
    "evaluate_batch(pred_masks,gt_masks)"
   ]
  },
  {
   "cell_type": "code",
   "execution_count": 89,
   "id": "fc71e945-4a6c-4bdc-80f7-79b94a124d7d",
   "metadata": {},
   "outputs": [
    {
     "data": {
      "text/plain": [
       "<matplotlib.image.AxesImage at 0x7fd2cc4f0b90>"
      ]
     },
     "execution_count": 89,
     "metadata": {},
     "output_type": "execute_result"
    },
    {
     "data": {
      "image/png": "[encoded data removed]",
      "text/plain": [
       "<Figure size 640x480 with 1 Axes>"
      ]
     },
     "metadata": {},
     "output_type": "display_data"
    }
   ],
   "source": [
    "plt.imshow(gt_masks[0])"
   ]
  },
  {
   "cell_type": "code",
   "execution_count": 90,
   "id": "bd29a8f5-8158-4027-b93e-7b8188b4e377",
   "metadata": {},
   "outputs": [
    {
     "data": {
      "text/plain": [
       "<matplotlib.image.AxesImage at 0x7fd2cc359590>"
      ]
     },
     "execution_count": 90,
     "metadata": {},
     "output_type": "execute_result"
    },
    {
     "data": {
      "image/png": "[encoded data removed]",
      "text/plain": [
       "<Figure size 640x480 with 1 Axes>"
      ]
     },
     "metadata": {},
     "output_type": "display_data"
    }
   ],
   "source": [
    "plt.imshow(pred_masks[0])"
   ]
  }
 ],
 "metadata": {
  "kernelspec": {
   "display_name": "iscat",
   "language": "python",
   "name": "python3"
  },
  "language_info": {
   "codemirror_mode": {
    "name": "ipython",
    "version": 3
   },
   "file_extension": ".py",
   "mimetype": "text/x-python",
   "name": "python",
   "nbconvert_exporter": "python",
   "pygments_lexer": "ipython3",
   "version": "3.11.10"
  }
 },
 "nbformat": 4,
 "nbformat_minor": 5
}
