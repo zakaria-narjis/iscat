{
 "cells": [
  {
   "cell_type": "code",
   "execution_count": 1,
   "metadata": {},
   "outputs": [
    {
     "name": "stdout",
     "output_type": "stream",
     "text": [
      "Current Directory: d:\\workspace\\iscat\n"
     ]
    }
   ],
   "source": [
    "import os\n",
    "os.chdir(\"..\")\n",
    "print(\"Current Directory:\", os.getcwd())"
   ]
  },
  {
   "cell_type": "code",
   "execution_count": 7,
   "metadata": {},
   "outputs": [
    {
     "data": {
      "text/plain": [
       "'Brightfield.png'"
      ]
     },
     "execution_count": 7,
     "metadata": {},
     "output_type": "execute_result"
    }
   ],
   "source": [
    "os.path.basename( \"data\\iScat\\Data\\2024_11_11\\Metasurface\\Chip_02\\Metasurface 02\\zd\\Brightfield.png\")"
   ]
  },
  {
   "cell_type": "code",
   "execution_count": 8,
   "metadata": {},
   "outputs": [
    {
     "name": "stdout",
     "output_type": "stream",
     "text": [
      "Current Path: data\\iScat\\Data\\2024_11_11\\Metasurface\\Chip_02\\Metasurface 01\\Brightfield\n",
      "Directories: []\n",
      "Files: ['02_01_BF.nd2', '02_01_BF_frame_000.tiff', '02_01_BF_frame_100.tiff', '02_01_BF_frame_200.tiff', 'Captured Cy5.csv', 'Captured Cy5.tif', 'Captured FITC.csv', 'Captured FITC.tif', 'Captured TRITC.csv', 'Captured TRITC.tif', 'Cy5.csv', 'FITC.csv', 'mask.npy', 'TRITC.csv']\n",
      "data\\iScat\\Data\\2024_11_11\\Metasurface\\Chip_02\\Metasurface 01\\Brightfield\\02_01_BF.nd2\n",
      "Current Path: data\\iScat\\Data\\2024_11_11\\Metasurface\\Chip_02\\Metasurface 02\\Brightfield\n",
      "Directories: []\n",
      "Files: ['02_02_BF.nd2', '02_02_BF_frame_000.tiff', '02_02_BF_frame_100.tiff', '02_02_BF_frame_200.tiff', 'Captured Cy5.csv', 'Captured Cy5.tif', 'Captured FITC.csv', 'Captured FITC.tif', 'Captured TRITC.csv', 'Captured TRITC.tif', 'Cy5.csv', 'FITC.csv', 'mask.npy', 'TRITC.csv']\n",
      "data\\iScat\\Data\\2024_11_11\\Metasurface\\Chip_02\\Metasurface 02\\Brightfield\\02_02_BF.nd2\n",
      "Current Path: data\\iScat\\Data\\2024_11_11\\Metasurface\\Chip_02\\Metasurface 03\\Brightfield\n",
      "Directories: []\n",
      "Files: ['02_03_BF.nd2', '02_03_BF_frame_000.tiff', '02_03_BF_frame_100.tiff', '02_03_BF_frame_200.tiff', 'Captured Cy5.csv', 'Captured Cy5.tif', 'Captured FITC.csv', 'Captured FITC.tif', 'Captured TRITC.csv', 'Captured TRITC.tif', 'mask.npy']\n",
      "data\\iScat\\Data\\2024_11_11\\Metasurface\\Chip_02\\Metasurface 03\\Brightfield\\02_03_BF.nd2\n",
      "Current Path: data\\iScat\\Data\\2024_11_11\\Metasurface\\Chip_02\\Metasurface 04\\Brightfield\n",
      "Directories: []\n",
      "Files: ['02_04_BF.nd2', '02_04_BF_frame_000.tiff', '02_04_BF_frame_100.tiff', '02_04_BF_frame_200.tiff', 'Captured Cy5.csv', 'Captured Cy5.tif', 'Captured FITC.csv', 'Captured FITC.tif', 'Captured TRITC.csv', 'Captured TRITC.tif', 'mask.npy']\n",
      "data\\iScat\\Data\\2024_11_11\\Metasurface\\Chip_02\\Metasurface 04\\Brightfield\\02_04_BF.nd2\n",
      "Current Path: data\\iScat\\Data\\2024_11_11\\Metasurface\\Chip_02\\Metasurface 05\\Brightfield\n",
      "Directories: []\n",
      "Files: ['02_05_BF.nd2', '02_05_BF_frame_000.tiff', '02_05_BF_frame_100.tiff', '02_05_BF_frame_200.tiff', 'Captured Cy5.csv', 'Captured Cy5.tif', 'Captured FITC.csv', 'Captured FITC.tif', 'Captured TRITC.csv', 'Captured TRITC.tif', 'mask.npy']\n",
      "data\\iScat\\Data\\2024_11_11\\Metasurface\\Chip_02\\Metasurface 05\\Brightfield\\02_05_BF.nd2\n"
     ]
    }
   ],
   "source": [
    "for dirpath, dirnames, filenames in os.walk(data_path):\n",
    "    if os.path.basename(dirpath) == 'Brightfield': \n",
    "        print(\"Current Path:\", dirpath)\n",
    "        print(\"Directories:\", dirnames)\n",
    "        print(\"Files:\", filenames)\n",
    "        for file in filenames:\n",
    "            if file.endswith('.nd2'): \n",
    "                print(os.path.join(dirpath, file))"
   ]
  },
  {
   "cell_type": "code",
   "execution_count": 2,
   "metadata": {},
   "outputs": [
    {
     "name": "stdout",
     "output_type": "stream",
     "text": [
      "Saved: data\\iScat\\Data\\2024_11_11\\Metasurface\\Chip_02\\Metasurface 01\\Brightfield\\frame_0.tiff\n",
      "Saved: data\\iScat\\Data\\2024_11_11\\Metasurface\\Chip_02\\Metasurface 01\\Brightfield\\frame_100.tiff\n",
      "Saved: data\\iScat\\Data\\2024_11_11\\Metasurface\\Chip_02\\Metasurface 01\\Brightfield\\frame_200.tiff\n",
      "Saved: data\\iScat\\Data\\2024_11_11\\Metasurface\\Chip_02\\Metasurface 02\\Brightfield\\frame_0.tiff\n",
      "Saved: data\\iScat\\Data\\2024_11_11\\Metasurface\\Chip_02\\Metasurface 02\\Brightfield\\frame_100.tiff\n",
      "Saved: data\\iScat\\Data\\2024_11_11\\Metasurface\\Chip_02\\Metasurface 02\\Brightfield\\frame_200.tiff\n",
      "Saved: data\\iScat\\Data\\2024_11_11\\Metasurface\\Chip_02\\Metasurface 03\\Brightfield\\frame_0.tiff\n",
      "Saved: data\\iScat\\Data\\2024_11_11\\Metasurface\\Chip_02\\Metasurface 03\\Brightfield\\frame_100.tiff\n",
      "Saved: data\\iScat\\Data\\2024_11_11\\Metasurface\\Chip_02\\Metasurface 03\\Brightfield\\frame_200.tiff\n",
      "Saved: data\\iScat\\Data\\2024_11_11\\Metasurface\\Chip_02\\Metasurface 04\\Brightfield\\frame_0.tiff\n",
      "Saved: data\\iScat\\Data\\2024_11_11\\Metasurface\\Chip_02\\Metasurface 04\\Brightfield\\frame_100.tiff\n",
      "Saved: data\\iScat\\Data\\2024_11_11\\Metasurface\\Chip_02\\Metasurface 04\\Brightfield\\frame_200.tiff\n",
      "Saved: data\\iScat\\Data\\2024_11_11\\Metasurface\\Chip_02\\Metasurface 05\\Brightfield\\frame_0.tiff\n",
      "Saved: data\\iScat\\Data\\2024_11_11\\Metasurface\\Chip_02\\Metasurface 05\\Brightfield\\frame_100.tiff\n",
      "Saved: data\\iScat\\Data\\2024_11_11\\Metasurface\\Chip_02\\Metasurface 05\\Brightfield\\frame_200.tiff\n"
     ]
    }
   ],
   "source": [
    "from src.data_processing.utils import Utils\n",
    "data_path = os.path.join('data', 'iScat', 'Data', '2024_11_11', 'Metasurface', 'Chip_02')\n",
    "image_paths,target_paths = Utils.get_data_paths(data_path)"
   ]
  },
  {
   "cell_type": "code",
   "execution_count": 8,
   "metadata": {},
   "outputs": [
    {
     "ename": "IndentationError",
     "evalue": "unindent does not match any outer indentation level (<tokenize>, line 26)",
     "output_type": "error",
     "traceback": [
      "\u001b[1;36m  File \u001b[1;32m<tokenize>:26\u001b[1;36m\u001b[0m\n\u001b[1;33m    cy5_path = os.path.join(dirpath, f'Captured Cy5.tif')\u001b[0m\n\u001b[1;37m    ^\u001b[0m\n\u001b[1;31mIndentationError\u001b[0m\u001b[1;31m:\u001b[0m unindent does not match any outer indentation level\n"
     ]
    }
   ],
   "source": [
    "class Us:\n",
    "    @staticmethod\n",
    "    def get_data_paths(root_path, mode=\"Brightfield\", image_indices=[0,100,200]):\n",
    "        \"\"\"\n",
    "        Extract paths to .nd2 files and corresponding TIFF files from the specified mode folder.\n",
    "\n",
    "        Args:\n",
    "            root_path (str): The root directory to search.\n",
    "            mode (str): The folder name to focus on (default is 'Brightfield').\n",
    "\n",
    "        Returns:\n",
    "            tuple: Two lists - list of .nd2 file paths and list of tuples with corresponding TIFF file paths.\n",
    "        \"\"\"\n",
    "        zimages_files = []\n",
    "        target_files = []\n",
    "        \n",
    "        for dirpath, dirnames, filenames in os.walk(root_path):\n",
    "            if os.path.basename(dirpath) == mode:  # Focus on the specified mode folder\n",
    "                for indices in image_indices:\n",
    "                    base_path = os.path.join(dirpath, f\"frame_{indices}.tiff\")\n",
    "                    zimages_files.append(base_path)\n",
    "                if  not all(os.path.exists(path) for path in zimages_files):  \n",
    "                    Us.process_nd2_file(dirpath,image_indices)\n",
    "\n",
    "                # Generate TIFF file paths dynamically based on the prefix\n",
    "                cy5_path = os.path.join(dirpath, f'Captured Cy5.tif')\n",
    "                fitc_path = os.path.join(dirpath, f'Captured FITC.tif')\n",
    "                tritc_path = os.path.join(dirpath, f'Captured TRITC.tif')\n",
    "                target_files.append((cy5_path, fitc_path, tritc_path))\n",
    "                \n",
    "                # Ensure all three TIFF files exist\n",
    "                assert all(os.path.exists(path) for path in [cy5_path, fitc_path, tritc_path])\n",
    "                assert all(os.path.exists(path) for path in zimages_files)                 \n",
    "                \n",
    "        \n",
    "        return zimages_files, target_files\n",
    "    @staticmethod\n",
    "    def process_nd2_file(file_path,indices):\n",
    "    # Open the .nd2 file\n",
    "        with nd2.ND2File(file_path) as f:\n",
    "            array = f.asarray()  # Load the entire stack as a NumPy array\n",
    "            num_frames = array.shape[0]  # Number of frames\n",
    "            # Save each specified frame as a 16-bit TIFF\n",
    "            for idx in indices:\n",
    "                assert 0 <= idx < num_frames\n",
    "                frame = array[idx]\n",
    "                # Generate the output path\n",
    "                output_path = os.path.join(\n",
    "                    os.path.dirname(file_path), \n",
    "                    f\"{os.path.splitext(os.path.basename(file_path))[0]}_frame_{idx:03d}.tiff\"\n",
    "                )\n",
    "                # Save the frame as a 16-bit TIFF\n",
    "                imwrite(output_path, frame, dtype='uint16')\n",
    "                print(f\"Saved: {output_path}\")\n",
    " "
   ]
  },
  {
   "cell_type": "code",
   "execution_count": 9,
   "metadata": {},
   "outputs": [],
   "source": []
  },
  {
   "cell_type": "code",
   "execution_count": 6,
   "metadata": {},
   "outputs": [
    {
     "data": {
      "text/plain": [
       "[('data\\\\iScat\\\\Data\\\\2024_11_11\\\\Metasurface\\\\Chip_02\\\\Metasurface 01\\\\Brightfield\\\\Captured Cy5.tif',\n",
       "  'data\\\\iScat\\\\Data\\\\2024_11_11\\\\Metasurface\\\\Chip_02\\\\Metasurface 01\\\\Brightfield\\\\Captured FITC.tif',\n",
       "  'data\\\\iScat\\\\Data\\\\2024_11_11\\\\Metasurface\\\\Chip_02\\\\Metasurface 01\\\\Brightfield\\\\Captured TRITC.tif'),\n",
       " ('data\\\\iScat\\\\Data\\\\2024_11_11\\\\Metasurface\\\\Chip_02\\\\Metasurface 02\\\\Brightfield\\\\Captured Cy5.tif',\n",
       "  'data\\\\iScat\\\\Data\\\\2024_11_11\\\\Metasurface\\\\Chip_02\\\\Metasurface 02\\\\Brightfield\\\\Captured FITC.tif',\n",
       "  'data\\\\iScat\\\\Data\\\\2024_11_11\\\\Metasurface\\\\Chip_02\\\\Metasurface 02\\\\Brightfield\\\\Captured TRITC.tif'),\n",
       " ('data\\\\iScat\\\\Data\\\\2024_11_11\\\\Metasurface\\\\Chip_02\\\\Metasurface 03\\\\Brightfield\\\\Captured Cy5.tif',\n",
       "  'data\\\\iScat\\\\Data\\\\2024_11_11\\\\Metasurface\\\\Chip_02\\\\Metasurface 03\\\\Brightfield\\\\Captured FITC.tif',\n",
       "  'data\\\\iScat\\\\Data\\\\2024_11_11\\\\Metasurface\\\\Chip_02\\\\Metasurface 03\\\\Brightfield\\\\Captured TRITC.tif'),\n",
       " ('data\\\\iScat\\\\Data\\\\2024_11_11\\\\Metasurface\\\\Chip_02\\\\Metasurface 04\\\\Brightfield\\\\Captured Cy5.tif',\n",
       "  'data\\\\iScat\\\\Data\\\\2024_11_11\\\\Metasurface\\\\Chip_02\\\\Metasurface 04\\\\Brightfield\\\\Captured FITC.tif',\n",
       "  'data\\\\iScat\\\\Data\\\\2024_11_11\\\\Metasurface\\\\Chip_02\\\\Metasurface 04\\\\Brightfield\\\\Captured TRITC.tif'),\n",
       " ('data\\\\iScat\\\\Data\\\\2024_11_11\\\\Metasurface\\\\Chip_02\\\\Metasurface 05\\\\Brightfield\\\\Captured Cy5.tif',\n",
       "  'data\\\\iScat\\\\Data\\\\2024_11_11\\\\Metasurface\\\\Chip_02\\\\Metasurface 05\\\\Brightfield\\\\Captured FITC.tif',\n",
       "  'data\\\\iScat\\\\Data\\\\2024_11_11\\\\Metasurface\\\\Chip_02\\\\Metasurface 05\\\\Brightfield\\\\Captured TRITC.tif')]"
      ]
     },
     "execution_count": 6,
     "metadata": {},
     "output_type": "execute_result"
    }
   ],
   "source": [
    "target_paths"
   ]
  },
  {
   "cell_type": "code",
   "execution_count": 3,
   "metadata": {},
   "outputs": [
    {
     "data": {
      "text/plain": [
       "['data\\\\iScat\\\\Data\\\\2024_11_11\\\\Metasurface\\\\Chip_02\\\\Metasurface 01\\\\Brightfield\\\\02_01_BF.nd2',\n",
       " 'data\\\\iScat\\\\Data\\\\2024_11_11\\\\Metasurface\\\\Chip_02\\\\Metasurface 02\\\\Brightfield\\\\02_02_BF.nd2',\n",
       " 'data\\\\iScat\\\\Data\\\\2024_11_11\\\\Metasurface\\\\Chip_02\\\\Metasurface 03\\\\Brightfield\\\\02_03_BF.nd2',\n",
       " 'data\\\\iScat\\\\Data\\\\2024_11_11\\\\Metasurface\\\\Chip_02\\\\Metasurface 04\\\\Brightfield\\\\02_04_BF.nd2',\n",
       " 'data\\\\iScat\\\\Data\\\\2024_11_11\\\\Metasurface\\\\Chip_02\\\\Metasurface 05\\\\Brightfield\\\\02_05_BF.nd2']"
      ]
     },
     "execution_count": 3,
     "metadata": {},
     "output_type": "execute_result"
    }
   ],
   "source": [
    "image_paths"
   ]
  },
  {
   "cell_type": "code",
   "execution_count": 4,
   "metadata": {},
   "outputs": [],
   "source": [
    "import os\n",
    "import nd2  # Install via `pip install nd2reader`\n",
    "from tifffile import imwrite  # Install via `pip install tifffile`\n",
    "indices = [0,100,200]\n",
    "def process_nd2_file(file_path,indices):\n",
    "    # Open the .nd2 file\n",
    "    with nd2.ND2File(file_path) as f:\n",
    "        array = f.asarray()  # Load the entire stack as a NumPy array\n",
    "        num_frames = array.shape[0]  # Number of frames\n",
    "        # Save each specified frame as a 16-bit TIFF\n",
    "        for idx in indices:\n",
    "            assert 0 <= idx < num_frames\n",
    "            frame = array[idx]\n",
    "            # Generate the output path\n",
    "            output_path = os.path.join(\n",
    "                os.path.dirname(file_path), \n",
    "                f\"{os.path.splitext(os.path.basename(file_path))[0]}_frame_{idx:03d}.tiff\"\n",
    "            )\n",
    "            # Save the frame as a 16-bit TIFF\n",
    "            imwrite(output_path, frame, dtype='uint16')\n",
    "            print(f\"Saved: {output_path}\")\n",
    " "
   ]
  },
  {
   "cell_type": "code",
   "execution_count": 7,
   "metadata": {},
   "outputs": [],
   "source": [
    "with nd2.ND2File(image_paths[0]) as f:\n",
    "    array = f.asarray() "
   ]
  },
  {
   "cell_type": "code",
   "execution_count": 10,
   "metadata": {},
   "outputs": [
    {
     "data": {
      "text/plain": [
       "(201, 2160, 2560)"
      ]
     },
     "execution_count": 10,
     "metadata": {},
     "output_type": "execute_result"
    }
   ],
   "source": [
    "array.shape"
   ]
  },
  {
   "cell_type": "code",
   "execution_count": 11,
   "metadata": {},
   "outputs": [
    {
     "name": "stdout",
     "output_type": "stream",
     "text": [
      "Saved: data\\iScat\\Data\\2024_11_11\\Metasurface\\Chip_02\\Metasurface 01\\Brightfield\\02_01_BF_frame_000.tiff\n",
      "Saved: data\\iScat\\Data\\2024_11_11\\Metasurface\\Chip_02\\Metasurface 01\\Brightfield\\02_01_BF_frame_100.tiff\n",
      "Saved: data\\iScat\\Data\\2024_11_11\\Metasurface\\Chip_02\\Metasurface 01\\Brightfield\\02_01_BF_frame_200.tiff\n",
      "Saved: data\\iScat\\Data\\2024_11_11\\Metasurface\\Chip_02\\Metasurface 02\\Brightfield\\02_02_BF_frame_000.tiff\n",
      "Saved: data\\iScat\\Data\\2024_11_11\\Metasurface\\Chip_02\\Metasurface 02\\Brightfield\\02_02_BF_frame_100.tiff\n",
      "Saved: data\\iScat\\Data\\2024_11_11\\Metasurface\\Chip_02\\Metasurface 02\\Brightfield\\02_02_BF_frame_200.tiff\n",
      "Saved: data\\iScat\\Data\\2024_11_11\\Metasurface\\Chip_02\\Metasurface 03\\Brightfield\\02_03_BF_frame_000.tiff\n",
      "Saved: data\\iScat\\Data\\2024_11_11\\Metasurface\\Chip_02\\Metasurface 03\\Brightfield\\02_03_BF_frame_100.tiff\n",
      "Saved: data\\iScat\\Data\\2024_11_11\\Metasurface\\Chip_02\\Metasurface 03\\Brightfield\\02_03_BF_frame_200.tiff\n",
      "Saved: data\\iScat\\Data\\2024_11_11\\Metasurface\\Chip_02\\Metasurface 04\\Brightfield\\02_04_BF_frame_000.tiff\n",
      "Saved: data\\iScat\\Data\\2024_11_11\\Metasurface\\Chip_02\\Metasurface 04\\Brightfield\\02_04_BF_frame_100.tiff\n",
      "Saved: data\\iScat\\Data\\2024_11_11\\Metasurface\\Chip_02\\Metasurface 04\\Brightfield\\02_04_BF_frame_200.tiff\n",
      "Saved: data\\iScat\\Data\\2024_11_11\\Metasurface\\Chip_02\\Metasurface 05\\Brightfield\\02_05_BF_frame_000.tiff\n",
      "Saved: data\\iScat\\Data\\2024_11_11\\Metasurface\\Chip_02\\Metasurface 05\\Brightfield\\02_05_BF_frame_100.tiff\n",
      "Saved: data\\iScat\\Data\\2024_11_11\\Metasurface\\Chip_02\\Metasurface 05\\Brightfield\\02_05_BF_frame_200.tiff\n"
     ]
    }
   ],
   "source": [
    "for file in image_paths:\n",
    "    process_nd2_file(file)"
   ]
  }
 ],
 "metadata": {
  "kernelspec": {
   "display_name": "iscat",
   "language": "python",
   "name": "python3"
  },
  "language_info": {
   "codemirror_mode": {
    "name": "ipython",
    "version": 3
   },
   "file_extension": ".py",
   "mimetype": "text/x-python",
   "name": "python",
   "nbconvert_exporter": "python",
   "pygments_lexer": "ipython3",
   "version": "3.11.10"
  }
 },
 "nbformat": 4,
 "nbformat_minor": 2
}
