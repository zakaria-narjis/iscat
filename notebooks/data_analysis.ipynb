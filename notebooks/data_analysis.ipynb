{
 "cells": [
  {
   "cell_type": "code",
   "execution_count": 1,
   "metadata": {},
   "outputs": [
    {
     "name": "stdout",
     "output_type": "stream",
     "text": [
      "Current Directory: /workspace/iscat\n"
     ]
    }
   ],
   "source": [
    "import os\n",
    "os.chdir(\"..\")\n",
    "print(\"Current Directory:\", os.getcwd())"
   ]
  },
  {
   "cell_type": "code",
   "execution_count": 2,
   "metadata": {},
   "outputs": [],
   "source": [
    "import matplotlib.pyplot as plt\n",
    "from PIL import Image\n",
    "import nd2\n",
    "import numpy as np\n",
    "import os\n",
    "import pandas as pd"
   ]
  },
  {
   "cell_type": "code",
   "execution_count": 4,
   "metadata": {},
   "outputs": [
    {
     "name": "stderr",
     "output_type": "stream",
     "text": [
      "Loading images to Memory: 100%|█████████████████████████████████████████████████████████████████████████████████████████████████████████████████| 9/9 [00:01<00:00,  7.31it/s]\n"
     ]
    }
   ],
   "source": [
    "from src.data_processing.dataset import iScatDataset\n",
    "from src.data_processing.utils import Utils\n",
    "import torch\n",
    "DEVICE= 'cuda:10' if torch.cuda.is_available() else 'cpu'\n",
    "data_path_1 = os.path.join('dataset', '2024_11_11', 'Metasurface', 'Chip_02')\n",
    "data_path_2 = os.path.join('dataset', '2024_11_12', 'Metasurface', 'Chip_01')\n",
    "image_paths= []\n",
    "target_paths=[]\n",
    "image_indicies = 12\n",
    "for data_path in [data_path_1,data_path_2]:\n",
    "    i,t = Utils.get_data_paths(data_path,'Brightfield',image_indicies )\n",
    "    image_paths.extend(i)\n",
    "    target_paths.extend(t)\n",
    "image_size=256\n",
    "fluo_masks_indices=[1]\n",
    "seg_method = \"comdet\"\n",
    "normalize=False\n",
    "train_dataset = iScatDataset(image_paths[:-2], target_paths[:-2], preload_image=True,image_size = (image_size,image_size),apply_augmentation=True,normalize=normalize,device=DEVICE,fluo_masks_indices=fluo_masks_indices,seg_method=seg_method)"
   ]
  },
  {
   "cell_type": "code",
   "execution_count": 5,
   "metadata": {},
   "outputs": [],
   "source": [
    "MEAN = train_dataset.images.mean(dim=(0,1,2,3),keepdim=True).cpu().numpy().item()\n",
    "STD = train_dataset.images.std(dim=(0,1,2,3),keepdim=True).cpu().numpy().item()"
   ]
  },
  {
   "cell_type": "code",
   "execution_count": 6,
   "metadata": {},
   "outputs": [
    {
     "ename": "FileNotFoundError",
     "evalue": "[Errno 2] No such file or directory: '/workspace/iscat/dataset\\\\2024_11_11\\\\Metasurface\\\\Chip_02\\\\Metasurface 02\\\\Brightfield\\\\02_02_BF.nd2'",
     "output_type": "error",
     "traceback": [
      "\u001b[0;31m---------------------------------------------------------------------------\u001b[0m",
      "\u001b[0;31mFileNotFoundError\u001b[0m                         Traceback (most recent call last)",
      "Cell \u001b[0;32mIn[6], line 10\u001b[0m\n\u001b[1;32m      8\u001b[0m f2_results \u001b[38;5;241m=\u001b[39m path\u001b[38;5;241m+\u001b[39m\u001b[38;5;124m\"\u001b[39m\u001b[38;5;130;01m\\\\\u001b[39;00m\u001b[38;5;124mFITC.csv\u001b[39m\u001b[38;5;124m\"\u001b[39m\n\u001b[1;32m      9\u001b[0m f3_results \u001b[38;5;241m=\u001b[39m path\u001b[38;5;241m+\u001b[39m\u001b[38;5;124m\"\u001b[39m\u001b[38;5;130;01m\\\\\u001b[39;00m\u001b[38;5;124mTRITC.csv\u001b[39m\u001b[38;5;124m\"\u001b[39m\n\u001b[0;32m---> 10\u001b[0m z_stack_image \u001b[38;5;241m=\u001b[39m nd2\u001b[38;5;241m.\u001b[39mimread(z_stack_path)\n\u001b[1;32m     11\u001b[0m f1_img \u001b[38;5;241m=\u001b[39m  Image\u001b[38;5;241m.\u001b[39mopen(f1_path)\n\u001b[1;32m     12\u001b[0m f2_img \u001b[38;5;241m=\u001b[39m  Image\u001b[38;5;241m.\u001b[39mopen(f2_path)\n",
      "File \u001b[0;32m~/miniconda3/envs/iscat/lib/python3.11/site-packages/nd2/nd2file.py:1306\u001b[0m, in \u001b[0;36mimread\u001b[0;34m(file, dask, xarray, validate_frames)\u001b[0m\n\u001b[1;32m   1272\u001b[0m \u001b[38;5;28;01mdef\u001b[39;00m \u001b[38;5;21mimread\u001b[39m(\n\u001b[1;32m   1273\u001b[0m     file: Path \u001b[38;5;241m|\u001b[39m \u001b[38;5;28mstr\u001b[39m,\n\u001b[1;32m   1274\u001b[0m     \u001b[38;5;241m*\u001b[39m,\n\u001b[0;32m   (...)\u001b[0m\n\u001b[1;32m   1277\u001b[0m     validate_frames: \u001b[38;5;28mbool\u001b[39m \u001b[38;5;241m=\u001b[39m \u001b[38;5;28;01mFalse\u001b[39;00m,\n\u001b[1;32m   1278\u001b[0m ) \u001b[38;5;241m-\u001b[39m\u001b[38;5;241m>\u001b[39m np\u001b[38;5;241m.\u001b[39mndarray \u001b[38;5;241m|\u001b[39m xr\u001b[38;5;241m.\u001b[39mDataArray \u001b[38;5;241m|\u001b[39m dask\u001b[38;5;241m.\u001b[39marray\u001b[38;5;241m.\u001b[39mcore\u001b[38;5;241m.\u001b[39mArray:\n\u001b[1;32m   1279\u001b[0m \u001b[38;5;250m    \u001b[39m\u001b[38;5;124;03m\"\"\"Open `file`, return requested array type, and close `file`.\u001b[39;00m\n\u001b[1;32m   1280\u001b[0m \n\u001b[1;32m   1281\u001b[0m \u001b[38;5;124;03m    Parameters\u001b[39;00m\n\u001b[0;32m   (...)\u001b[0m\n\u001b[1;32m   1304\u001b[0m \u001b[38;5;124;03m        Array subclass, depending on arguments used.\u001b[39;00m\n\u001b[1;32m   1305\u001b[0m \u001b[38;5;124;03m    \"\"\"\u001b[39;00m\n\u001b[0;32m-> 1306\u001b[0m     \u001b[38;5;28;01mwith\u001b[39;00m ND2File(file, validate_frames\u001b[38;5;241m=\u001b[39mvalidate_frames) \u001b[38;5;28;01mas\u001b[39;00m nd2:\n\u001b[1;32m   1307\u001b[0m         \u001b[38;5;28;01mif\u001b[39;00m xarray:\n\u001b[1;32m   1308\u001b[0m             \u001b[38;5;28;01mreturn\u001b[39;00m nd2\u001b[38;5;241m.\u001b[39mto_xarray(delayed\u001b[38;5;241m=\u001b[39mdask)\n",
      "File \u001b[0;32m~/miniconda3/envs/iscat/lib/python3.11/site-packages/nd2/nd2file.py:102\u001b[0m, in \u001b[0;36mND2File.__init__\u001b[0;34m(self, path, validate_frames, search_window)\u001b[0m\n\u001b[1;32m     92\u001b[0m \u001b[38;5;28;01mdef\u001b[39;00m \u001b[38;5;21m__init__\u001b[39m(\n\u001b[1;32m     93\u001b[0m     \u001b[38;5;28mself\u001b[39m,\n\u001b[1;32m     94\u001b[0m     path: FileOrBinaryIO,\n\u001b[0;32m   (...)\u001b[0m\n\u001b[1;32m     97\u001b[0m     search_window: \u001b[38;5;28mint\u001b[39m \u001b[38;5;241m=\u001b[39m \u001b[38;5;241m100\u001b[39m,\n\u001b[1;32m     98\u001b[0m ) \u001b[38;5;241m-\u001b[39m\u001b[38;5;241m>\u001b[39m \u001b[38;5;28;01mNone\u001b[39;00m:\n\u001b[1;32m     99\u001b[0m     \u001b[38;5;28mself\u001b[39m\u001b[38;5;241m.\u001b[39m_error_radius: \u001b[38;5;28mint\u001b[39m \u001b[38;5;241m|\u001b[39m \u001b[38;5;28;01mNone\u001b[39;00m \u001b[38;5;241m=\u001b[39m (\n\u001b[1;32m    100\u001b[0m         search_window \u001b[38;5;241m*\u001b[39m \u001b[38;5;241m1000\u001b[39m \u001b[38;5;28;01mif\u001b[39;00m validate_frames \u001b[38;5;28;01melse\u001b[39;00m \u001b[38;5;28;01mNone\u001b[39;00m\n\u001b[1;32m    101\u001b[0m     )\n\u001b[0;32m--> 102\u001b[0m     \u001b[38;5;28mself\u001b[39m\u001b[38;5;241m.\u001b[39m_rdr \u001b[38;5;241m=\u001b[39m ND2Reader\u001b[38;5;241m.\u001b[39mcreate(path, \u001b[38;5;28mself\u001b[39m\u001b[38;5;241m.\u001b[39m_error_radius)\n\u001b[1;32m    103\u001b[0m     \u001b[38;5;28mself\u001b[39m\u001b[38;5;241m.\u001b[39m_path \u001b[38;5;241m=\u001b[39m \u001b[38;5;28mself\u001b[39m\u001b[38;5;241m.\u001b[39m_rdr\u001b[38;5;241m.\u001b[39m_path\n\u001b[1;32m    104\u001b[0m     \u001b[38;5;28mself\u001b[39m\u001b[38;5;241m.\u001b[39m_lock \u001b[38;5;241m=\u001b[39m threading\u001b[38;5;241m.\u001b[39mRLock()\n",
      "File \u001b[0;32m~/miniconda3/envs/iscat/lib/python3.11/site-packages/nd2/readers/protocol.py:64\u001b[0m, in \u001b[0;36mND2Reader.create\u001b[0;34m(cls, path, error_radius)\u001b[0m\n\u001b[1;32m     62\u001b[0m \u001b[38;5;28;01melse\u001b[39;00m:\n\u001b[1;32m     63\u001b[0m     path \u001b[38;5;241m=\u001b[39m Path(path)\u001b[38;5;241m.\u001b[39mexpanduser()\u001b[38;5;241m.\u001b[39mresolve()\n\u001b[0;32m---> 64\u001b[0m     ctx \u001b[38;5;241m=\u001b[39m \u001b[38;5;28mopen\u001b[39m(path, \u001b[38;5;124m\"\u001b[39m\u001b[38;5;124mrb\u001b[39m\u001b[38;5;124m\"\u001b[39m)\n\u001b[1;32m     66\u001b[0m \u001b[38;5;28;01mwith\u001b[39;00m ctx \u001b[38;5;28;01mas\u001b[39;00m fh:\n\u001b[1;32m     67\u001b[0m     fname \u001b[38;5;241m=\u001b[39m fh\u001b[38;5;241m.\u001b[39mname\n",
      "\u001b[0;31mFileNotFoundError\u001b[0m: [Errno 2] No such file or directory: '/workspace/iscat/dataset\\\\2024_11_11\\\\Metasurface\\\\Chip_02\\\\Metasurface 02\\\\Brightfield\\\\02_02_BF.nd2'"
     ]
    }
   ],
   "source": [
    "num='02'\n",
    "path = f'dataset\\\\2024_11_11\\\\Metasurface\\\\Chip_02\\\\Metasurface {num}\\\\Brightfield'\n",
    "z_stack_path = path+f'\\\\02_{num}_BF.nd2'\n",
    "f1_path = path+'\\\\Captured Cy5.tif'\n",
    "f2_path = path+'\\\\Captured FITC.tif'\n",
    "f3_path = path+'\\\\Captured TRITC.tif'\n",
    "f1_results = path+\"\\\\Cy5.csv\"\n",
    "f2_results = path+\"\\\\FITC.csv\"\n",
    "f3_results = path+\"\\\\TRITC.csv\"\n",
    "z_stack_image = nd2.imread(z_stack_path)\n",
    "f1_img =  Image.open(f1_path)\n",
    "f2_img =  Image.open(f2_path)\n",
    "f3_img =  Image.open(f3_path)"
   ]
  },
  {
   "cell_type": "code",
   "execution_count": null,
   "metadata": {},
   "outputs": [],
   "source": [
    "z_stack_image.shape"
   ]
  },
  {
   "cell_type": "code",
   "execution_count": null,
   "metadata": {},
   "outputs": [],
   "source": [
    "import numpy as np\n",
    "import matplotlib.pyplot as plt\n",
    "\n",
    "def display_mean_projections(image):\n",
    "    \"\"\"\n",
    "    Compute and display the mean projections of a 3D image along specified axes.\n",
    "    \n",
    "    Parameters:\n",
    "    - image: numpy array of shape (201, 2160, 2560)\n",
    "    \n",
    "    Returns:\n",
    "    - mean_y: numpy array of shape (201, 2160) (mean along y-axis)\n",
    "    - mean_x: numpy array of shape (201, 2560) (mean along x-axis)\n",
    "    \"\"\"\n",
    "    # Compute mean over y-axis (axis=2)\n",
    "    mean_y = np.mean(image, axis=2)\n",
    "    \n",
    "    # Compute mean over x-axis (axis=1)\n",
    "    mean_x = np.mean(image, axis=1)      \n",
    "    return mean_y, mean_x\n",
    "\n",
    "# Example usage\n",
    "# image = np.random.rand(201, 2160, 2560)  # Replace with your actual image array\n",
    "# normalized_image = (z_stack_image.astype(np.float32)-MEAN)/STD\n",
    "mean_y, mean_x = display_mean_projections(z_stack_image)\n"
   ]
  },
  {
   "cell_type": "code",
   "execution_count": null,
   "metadata": {},
   "outputs": [],
   "source": [
    "z_stack_image.shape"
   ]
  },
  {
   "cell_type": "code",
   "execution_count": null,
   "metadata": {},
   "outputs": [],
   "source": [
    "# Display the mean projections\n",
    "plt.figure(figsize=(20, 10))\n",
    "\n",
    "# Mean over y-axis\n",
    "plt.subplot(2, 1, 1)\n",
    "plt.imshow(mean_y.T[200:210,:], aspect='auto', cmap='coolwarm')\n",
    "plt.colorbar()\n",
    "plt.title(\"Mean over Y-axis (height)\")\n",
    "plt.xlabel(\"Z-axis\")\n",
    "plt.ylabel(\"Index\")\n",
    "\n",
    "# Mean over x-axis\n",
    "plt.subplot(2, 1, 2)\n",
    "plt.imshow(mean_x.T[200:210,:], aspect='auto', cmap='coolwarm')\n",
    "plt.colorbar()\n",
    "plt.title(\"Mean over X-axis (width)\")\n",
    "plt.xlabel(\"Z-axis\")\n",
    "plt.ylabel(\"Index\")\n",
    "\n",
    "plt.tight_layout()\n",
    "plt.show()"
   ]
  },
  {
   "cell_type": "code",
   "execution_count": null,
   "metadata": {},
   "outputs": [],
   "source": [
    "plt.figure(figsize=(20, 10))\n",
    "plt.imshow(z_stack_image[0][200:1200,200:1200],cmap='gray')\n",
    "plt.colorbar()\n",
    "plt.show()"
   ]
  },
  {
   "cell_type": "code",
   "execution_count": null,
   "metadata": {},
   "outputs": [],
   "source": [
    "def new_func(frame=0):\n",
    "    chunk_1_path = path+f'\\\\frame_{frame}_12_mean.tiff'\n",
    "    chunk_1_image = Image.open(chunk_1_path)\n",
    "    chunk_1_image = np.array(chunk_1_image)\n",
    "    return chunk_1_image\n",
    "\n",
    "chunk_1_image = new_func()\n",
    "plt.figure(figsize=(20, 10))\n",
    "plt.imshow(chunk_1_image[200:1200,200:1200],cmap='gray')\n",
    "plt.colorbar()\n",
    "plt.show()"
   ]
  },
  {
   "cell_type": "code",
   "execution_count": null,
   "metadata": {},
   "outputs": [],
   "source": [
    "plt.figure(figsize=(20, 10))\n",
    "plt.subplot(1,2,1)\n",
    "plt.title(\"image 0 out of 201\")\n",
    "plt.imshow(z_stack_image[0][200:1200,200:1200],cmap='gray')\n",
    "\n",
    "plt.subplot(1,2,2)\n",
    "plt.title(\"Mean of images (0-16)\")\n",
    "plt.imshow(chunk_1_image[200:1200,200:1200],cmap='gray')\n",
    "plt.show()"
   ]
  },
  {
   "cell_type": "code",
   "execution_count": null,
   "metadata": {},
   "outputs": [],
   "source": [
    "diff = abs(z_stack_image[0][200:1200,200:1200]-chunk_1_image[200:1200,200:1200])\n",
    "diff[diff<400]=0\n",
    "diff[diff>65000]=0\n",
    "plt.figure(figsize=(20, 10))\n",
    "plt.imshow(diff,cmap='gray')\n",
    "plt.colorbar()\n",
    "plt.show()"
   ]
  },
  {
   "cell_type": "code",
   "execution_count": null,
   "metadata": {},
   "outputs": [],
   "source": [
    "import numpy as np\n",
    "import matplotlib.pyplot as plt\n",
    "\n",
    "def plot_image_histograms(image1, image2, bins=256):\n",
    "    \"\"\"\n",
    "    Plot histograms of two images side by side in one figure with subplots.\n",
    "    \n",
    "    Parameters:\n",
    "    - image1: numpy array, the first image (grayscale or color)\n",
    "    - image2: numpy array, the second image (grayscale or color)\n",
    "    - bins: int, number of bins for the histograms (default is 256)\n",
    "    \n",
    "    Returns:\n",
    "    None\n",
    "    \"\"\"\n",
    "    # Flatten the images to compute the histograms\n",
    "    image1_flat = image1.ravel()\n",
    "    image2_flat = image2.ravel()\n",
    "    \n",
    "    # Create the figure and subplots\n",
    "    plt.figure(figsize=(12, 6))\n",
    "    \n",
    "    # Plot histogram for image1\n",
    "    plt.subplot(1, 2, 1)\n",
    "    plt.hist(image1_flat, bins=bins, color='blue', alpha=0.7)\n",
    "    plt.title(\"image 0 out of 201\")\n",
    "    plt.xlabel(\"Pixel Intensity\")\n",
    "    plt.ylabel(\"Frequency\")\n",
    "    \n",
    "    # Plot histogram for image2\n",
    "    plt.subplot(1, 2, 2)\n",
    "    plt.hist(image2_flat, bins=bins, color='green', alpha=0.7)\n",
    "    plt.title(\"Mean of images (0-16)\")\n",
    "    plt.xlabel(\"Pixel Intensity\")\n",
    "    plt.ylabel(\"Frequency\")\n",
    "    \n",
    "    # Adjust layout\n",
    "    plt.tight_layout()\n",
    "    plt.show()\n",
    "plot_image_histograms(z_stack_image[0], chunk_1_image,bins=1024*4)"
   ]
  },
  {
   "cell_type": "code",
   "execution_count": null,
   "metadata": {},
   "outputs": [],
   "source": [
    "for i in train_dataset.image_paths[0]:\n",
    "    print(i)"
   ]
  },
  {
   "cell_type": "code",
   "execution_count": null,
   "metadata": {},
   "outputs": [],
   "source": [
    "plot_image_histograms(z_stack_image[2], new_func(frame=0),bins=1024*4)"
   ]
  }
 ],
 "metadata": {
  "kernelspec": {
   "display_name": "iscat",
   "language": "python",
   "name": "iscat"
  },
  "language_info": {
   "codemirror_mode": {
    "name": "ipython",
    "version": 3
   },
   "file_extension": ".py",
   "mimetype": "text/x-python",
   "name": "python",
   "nbconvert_exporter": "python",
   "pygments_lexer": "ipython3",
   "version": "3.11.11"
  }
 },
 "nbformat": 4,
 "nbformat_minor": 4
}
