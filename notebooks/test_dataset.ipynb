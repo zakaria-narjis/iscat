{
 "cells": [
  {
   "cell_type": "code",
   "execution_count": 7,
   "metadata": {},
   "outputs": [
    {
     "data": {
      "text/plain": [
       "array([[2, 3],\n",
       "       [2, 3],\n",
       "       [2, 3],\n",
       "       [2, 3]])"
      ]
     },
     "execution_count": 7,
     "metadata": {},
     "output_type": "execute_result"
    }
   ],
   "source": [
    "import numpy as np\n",
    "np.repeat(np.array([[2,3]]), 4,axis=0)"
   ]
  },
  {
   "cell_type": "code",
   "execution_count": null,
   "metadata": {},
   "outputs": [],
   "source": [
    "path = '..\\data\\iScat\\Data\\\\2024_11_11\\\\Metasurface\\\\Chip_02\\\\Metasurface 01\\\\Brightfield'\n",
    "z_stack_path = path+'\\\\02_01_BF.nd2'\n",
    "f1_path = path+'\\\\Captured Cy5.tif'\n",
    "f2_path = path+'\\\\Captured FITC.tif'\n",
    "f3_path = path+'\\\\Captured TRITC.tif'\n",
    "f1_results = path+\"\\\\Cy5.csv\"\n",
    "f2_results = path+\"\\\\FITC.csv\"\n",
    "f3_results = path+\"\\\\TRITC.csv\""
   ]
  },
  {
   "cell_type": "code",
   "execution_count": 9,
   "metadata": {},
   "outputs": [],
   "source": [
    "import os\n",
    "a=os.path.join('data', 'iScat','Data','2024_11_11','Metasurface','Chip_02')"
   ]
  },
  {
   "cell_type": "code",
   "execution_count": null,
   "metadata": {},
   "outputs": [],
   "source": [
    "import os\n",
    "\n",
    "def get_data_paths(root_path,mode=\"Brightfield\"):\n",
    "    nd2_files = []\n",
    "    tiff_files = []\n",
    "    \n",
    "    for dirpath, dirnames, filenames in os.walk(root_path):\n",
    "        # Focus only on directories named 'Brightfield'\n",
    "        if os.path.basename(dirpath) == mode:\n",
    "            for file in filenames:\n",
    "                if file.endswith('.nd2'):  # Check for .nd2 files\n",
    "                    nd2_path = os.path.join(dirpath, file)\n",
    "                    # Paths for the TIFF files\n",
    "                    cy5_path = os.path.join(dirpath, 'Captured Cy5.tif')\n",
    "                    fitc_path = os.path.join(dirpath, 'Captured FITC.tif')\n",
    "                    tritc_path = os.path.join(dirpath, 'Captured TRITC.tif')\n",
    "                    \n",
    "                    # Ensure all three TIFF files exist\n",
    "                    if all(os.path.exists(path) for path in [cy5_path, fitc_path, tritc_path]):\n",
    "                        nd2_files.append(nd2_path)\n",
    "                        tiff_files.append((cy5_path, fitc_path, tritc_path))\n",
    "    \n",
    "    return nd2_files, tiff_files\n",
    "\n",
    "# Example usage\n",
    "root_path = os.path.join('..','data', 'iScat', 'Data', '2024_11_11', 'Metasurface', 'Chip_02')\n",
    "nd2_list, tiff_tuples = get_data_paths(root_path)"
   ]
  }
 ],
 "metadata": {
  "kernelspec": {
   "display_name": "iscat",
   "language": "python",
   "name": "python3"
  },
  "language_info": {
   "codemirror_mode": {
    "name": "ipython",
    "version": 3
   },
   "file_extension": ".py",
   "mimetype": "text/x-python",
   "name": "python",
   "nbconvert_exporter": "python",
   "pygments_lexer": "ipython3",
   "version": "3.11.10"
  }
 },
 "nbformat": 4,
 "nbformat_minor": 2
}
